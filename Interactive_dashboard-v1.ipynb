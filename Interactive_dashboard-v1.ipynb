{
 "cells": [
  {
   "cell_type": "code",
   "execution_count": 273,
   "id": "fdc9dea9-977d-47ec-a607-c4302a010733",
   "metadata": {},
   "outputs": [],
   "source": [
    "import pandas as pd\n",
    "import numpy as np\n",
    "import panel as pn\n",
    "import folium as fm\n",
    "import param\n",
    "from branca.element import Template, MacroElement\n",
    "pn.extension('tabulator')\n",
    "pn.extension()\n",
    "pn.extension(sizing_mode=\"stretch_width\")\n",
    "import hvplot.pandas\n",
    "import plotly.express as px"
   ]
  },
  {
   "cell_type": "markdown",
   "id": "50a73686",
   "metadata": {},
   "source": [
    "## (1) Define Panel Widgets"
   ]
  },
  {
   "cell_type": "code",
   "execution_count": 274,
   "id": "bb7efce2",
   "metadata": {},
   "outputs": [],
   "source": [
    "# Define Panel widgets\n",
    "week_slider = pn.widgets.IntSlider(name='Week slider', start=1, end=52, step=1, value=9)\n",
    "#week_slider"
   ]
  },
  {
   "cell_type": "code",
   "execution_count": 275,
   "id": "74b212d7",
   "metadata": {},
   "outputs": [
    {
     "data": {},
     "metadata": {},
     "output_type": "display_data"
    },
    {
     "data": {
      "application/vnd.holoviews_exec.v0+json": "",
      "text/html": [
       "<div id='1216'>\n",
       "  <div class=\"bk-root\" id=\"11e2b7ee-6c7b-494c-a0ec-b1c9e5fbce77\" data-root-id=\"1216\"></div>\n",
       "</div>\n",
       "<script type=\"application/javascript\">(function(root) {\n",
       "  function embed_document(root) {\n",
       "    var docs_json = {\"65089b06-ca29-42fd-9ec4-1b6294987161\":{\"defs\":[{\"extends\":null,\"module\":null,\"name\":\"ReactiveHTML1\",\"overrides\":[],\"properties\":[]},{\"extends\":null,\"module\":null,\"name\":\"FlexBox1\",\"overrides\":[],\"properties\":[{\"default\":\"flex-start\",\"kind\":null,\"name\":\"align_content\"},{\"default\":\"flex-start\",\"kind\":null,\"name\":\"align_items\"},{\"default\":\"row\",\"kind\":null,\"name\":\"flex_direction\"},{\"default\":\"wrap\",\"kind\":null,\"name\":\"flex_wrap\"},{\"default\":\"flex-start\",\"kind\":null,\"name\":\"justify_content\"}]},{\"extends\":null,\"module\":null,\"name\":\"GridStack1\",\"overrides\":[],\"properties\":[{\"default\":\"warn\",\"kind\":null,\"name\":\"mode\"},{\"default\":null,\"kind\":null,\"name\":\"ncols\"},{\"default\":null,\"kind\":null,\"name\":\"nrows\"},{\"default\":true,\"kind\":null,\"name\":\"allow_resize\"},{\"default\":true,\"kind\":null,\"name\":\"allow_drag\"},{\"default\":[],\"kind\":null,\"name\":\"state\"}]},{\"extends\":null,\"module\":null,\"name\":\"click1\",\"overrides\":[],\"properties\":[{\"default\":\"\",\"kind\":null,\"name\":\"terminal_output\"},{\"default\":\"\",\"kind\":null,\"name\":\"debug_name\"},{\"default\":0,\"kind\":null,\"name\":\"clears\"}]},{\"extends\":null,\"module\":null,\"name\":\"NotificationAreaBase1\",\"overrides\":[],\"properties\":[{\"default\":\"bottom-right\",\"kind\":null,\"name\":\"position\"},{\"default\":0,\"kind\":null,\"name\":\"_clear\"}]},{\"extends\":null,\"module\":null,\"name\":\"NotificationArea1\",\"overrides\":[],\"properties\":[{\"default\":[],\"kind\":null,\"name\":\"notifications\"},{\"default\":\"bottom-right\",\"kind\":null,\"name\":\"position\"},{\"default\":0,\"kind\":null,\"name\":\"_clear\"},{\"default\":[{\"background\":\"#ffc107\",\"icon\":{\"className\":\"fas fa-exclamation-triangle\",\"color\":\"white\",\"tagName\":\"i\"},\"type\":\"warning\"},{\"background\":\"#007bff\",\"icon\":{\"className\":\"fas fa-info-circle\",\"color\":\"white\",\"tagName\":\"i\"},\"type\":\"info\"}],\"kind\":null,\"name\":\"types\"}]},{\"extends\":null,\"module\":null,\"name\":\"Notification\",\"overrides\":[],\"properties\":[{\"default\":null,\"kind\":null,\"name\":\"background\"},{\"default\":3000,\"kind\":null,\"name\":\"duration\"},{\"default\":null,\"kind\":null,\"name\":\"icon\"},{\"default\":\"\",\"kind\":null,\"name\":\"message\"},{\"default\":null,\"kind\":null,\"name\":\"notification_type\"},{\"default\":false,\"kind\":null,\"name\":\"_destroyed\"}]},{\"extends\":null,\"module\":null,\"name\":\"TemplateActions1\",\"overrides\":[],\"properties\":[{\"default\":0,\"kind\":null,\"name\":\"open_modal\"},{\"default\":0,\"kind\":null,\"name\":\"close_modal\"}]},{\"extends\":null,\"module\":null,\"name\":\"MaterialTemplateActions1\",\"overrides\":[],\"properties\":[{\"default\":0,\"kind\":null,\"name\":\"open_modal\"},{\"default\":0,\"kind\":null,\"name\":\"close_modal\"}]}],\"roots\":{\"references\":[{\"attributes\":{\"client_comm_id\":\"1225b82118684fa69b658498243baf52\",\"comm_id\":\"283a9d82e427455c850c7d3f82de9786\",\"plot_id\":\"1216\"},\"id\":\"1217\",\"type\":\"panel.models.comm_manager.CommManager\"},{\"attributes\":{\"end\":100,\"margin\":[5,10,5,10],\"sizing_mode\":\"stretch_width\",\"start\":50,\"title\":\"Confidence slider\",\"value\":75},\"id\":\"1216\",\"type\":\"Slider\"}],\"root_ids\":[\"1216\",\"1217\"]},\"title\":\"Bokeh Application\",\"version\":\"2.4.3\"}};\n",
       "    var render_items = [{\"docid\":\"65089b06-ca29-42fd-9ec4-1b6294987161\",\"root_ids\":[\"1216\"],\"roots\":{\"1216\":\"11e2b7ee-6c7b-494c-a0ec-b1c9e5fbce77\"}}];\n",
       "    root.Bokeh.embed.embed_items_notebook(docs_json, render_items);\n",
       "    for (const render_item of render_items) {\n",
       "      for (const root_id of render_item.root_ids) {\n",
       "\tconst id_el = document.getElementById(root_id)\n",
       "\tif (id_el.children.length && (id_el.children[0].className === 'bk-root')) {\n",
       "\t  const root_el = id_el.children[0]\n",
       "\t  root_el.id = root_el.id + '-rendered'\n",
       "\t}\n",
       "      }\n",
       "    }\n",
       "  }\n",
       "  if (root.Bokeh !== undefined && root.Bokeh.Panel !== undefined && ( root['Tabulator'] !== undefined) && ( root['Tabulator'] !== undefined) && ( root['Tabulator'] !== undefined) && ( root['Tabulator'] !== undefined) && ( root['Tabulator'] !== undefined) && ( root['Tabulator'] !== undefined)) {\n",
       "    embed_document(root);\n",
       "  } else {\n",
       "    var attempts = 0;\n",
       "    var timer = setInterval(function(root) {\n",
       "      if (root.Bokeh !== undefined && root.Bokeh.Panel !== undefined && (root['Tabulator'] !== undefined) && (root['Tabulator'] !== undefined) && (root['Tabulator'] !== undefined) && (root['Tabulator'] !== undefined) && (root['Tabulator'] !== undefined) && (root['Tabulator'] !== undefined)) {\n",
       "        clearInterval(timer);\n",
       "        embed_document(root);\n",
       "      } else if (document.readyState == \"complete\") {\n",
       "        attempts++;\n",
       "        if (attempts > 200) {\n",
       "          clearInterval(timer);\n",
       "          console.log(\"Bokeh: ERROR: Unable to run BokehJS code because BokehJS library is missing\");\n",
       "        }\n",
       "      }\n",
       "    }, 25, root)\n",
       "  }\n",
       "})(window);</script>"
      ],
      "text/plain": [
       "IntSlider(end=100, name='Confidence slider', sizing_mode='stretch_width', start=50, value=75)"
      ]
     },
     "execution_count": 275,
     "metadata": {
      "application/vnd.holoviews_exec.v0+json": {
       "id": "1216"
      }
     },
     "output_type": "execute_result"
    }
   ],
   "source": [
    "# Define Panel widgets\n",
    "confidence_slider = pn.widgets.IntSlider(name='Confidence slider', start=50, end=100, step=1, value=75)\n",
    "confidence_slider"
   ]
  },
  {
   "cell_type": "code",
   "execution_count": 276,
   "id": "ab4d26e0",
   "metadata": {},
   "outputs": [
    {
     "data": {},
     "metadata": {},
     "output_type": "display_data"
    },
    {
     "data": {
      "application/vnd.holoviews_exec.v0+json": "",
      "text/html": [
       "<div id='1218'>\n",
       "  <div class=\"bk-root\" id=\"238901c6-c0db-4d12-8e30-264aa57fa297\" data-root-id=\"1218\"></div>\n",
       "</div>\n",
       "<script type=\"application/javascript\">(function(root) {\n",
       "  function embed_document(root) {\n",
       "    var docs_json = {\"0c614c77-9e8b-40ff-83a2-af19eb0ec771\":{\"defs\":[{\"extends\":null,\"module\":null,\"name\":\"ReactiveHTML1\",\"overrides\":[],\"properties\":[]},{\"extends\":null,\"module\":null,\"name\":\"FlexBox1\",\"overrides\":[],\"properties\":[{\"default\":\"flex-start\",\"kind\":null,\"name\":\"align_content\"},{\"default\":\"flex-start\",\"kind\":null,\"name\":\"align_items\"},{\"default\":\"row\",\"kind\":null,\"name\":\"flex_direction\"},{\"default\":\"wrap\",\"kind\":null,\"name\":\"flex_wrap\"},{\"default\":\"flex-start\",\"kind\":null,\"name\":\"justify_content\"}]},{\"extends\":null,\"module\":null,\"name\":\"GridStack1\",\"overrides\":[],\"properties\":[{\"default\":\"warn\",\"kind\":null,\"name\":\"mode\"},{\"default\":null,\"kind\":null,\"name\":\"ncols\"},{\"default\":null,\"kind\":null,\"name\":\"nrows\"},{\"default\":true,\"kind\":null,\"name\":\"allow_resize\"},{\"default\":true,\"kind\":null,\"name\":\"allow_drag\"},{\"default\":[],\"kind\":null,\"name\":\"state\"}]},{\"extends\":null,\"module\":null,\"name\":\"click1\",\"overrides\":[],\"properties\":[{\"default\":\"\",\"kind\":null,\"name\":\"terminal_output\"},{\"default\":\"\",\"kind\":null,\"name\":\"debug_name\"},{\"default\":0,\"kind\":null,\"name\":\"clears\"}]},{\"extends\":null,\"module\":null,\"name\":\"NotificationAreaBase1\",\"overrides\":[],\"properties\":[{\"default\":\"bottom-right\",\"kind\":null,\"name\":\"position\"},{\"default\":0,\"kind\":null,\"name\":\"_clear\"}]},{\"extends\":null,\"module\":null,\"name\":\"NotificationArea1\",\"overrides\":[],\"properties\":[{\"default\":[],\"kind\":null,\"name\":\"notifications\"},{\"default\":\"bottom-right\",\"kind\":null,\"name\":\"position\"},{\"default\":0,\"kind\":null,\"name\":\"_clear\"},{\"default\":[{\"background\":\"#ffc107\",\"icon\":{\"className\":\"fas fa-exclamation-triangle\",\"color\":\"white\",\"tagName\":\"i\"},\"type\":\"warning\"},{\"background\":\"#007bff\",\"icon\":{\"className\":\"fas fa-info-circle\",\"color\":\"white\",\"tagName\":\"i\"},\"type\":\"info\"}],\"kind\":null,\"name\":\"types\"}]},{\"extends\":null,\"module\":null,\"name\":\"Notification\",\"overrides\":[],\"properties\":[{\"default\":null,\"kind\":null,\"name\":\"background\"},{\"default\":3000,\"kind\":null,\"name\":\"duration\"},{\"default\":null,\"kind\":null,\"name\":\"icon\"},{\"default\":\"\",\"kind\":null,\"name\":\"message\"},{\"default\":null,\"kind\":null,\"name\":\"notification_type\"},{\"default\":false,\"kind\":null,\"name\":\"_destroyed\"}]},{\"extends\":null,\"module\":null,\"name\":\"TemplateActions1\",\"overrides\":[],\"properties\":[{\"default\":0,\"kind\":null,\"name\":\"open_modal\"},{\"default\":0,\"kind\":null,\"name\":\"close_modal\"}]},{\"extends\":null,\"module\":null,\"name\":\"MaterialTemplateActions1\",\"overrides\":[],\"properties\":[{\"default\":0,\"kind\":null,\"name\":\"open_modal\"},{\"default\":0,\"kind\":null,\"name\":\"close_modal\"}]}],\"roots\":{\"references\":[{\"attributes\":{\"client_comm_id\":\"ee4dbc005e804ecf8f2eeb8a26ca3c65\",\"comm_id\":\"3c4866ec3fa8414480c2da855c543a4d\",\"plot_id\":\"1218\"},\"id\":\"1219\",\"type\":\"panel.models.comm_manager.CommManager\"},{\"attributes\":{\"end\":100,\"margin\":[5,10,5,10],\"sizing_mode\":\"stretch_width\",\"start\":50,\"title\":\"Confidence\",\"value\":[50,100]},\"id\":\"1218\",\"type\":\"RangeSlider\"}],\"root_ids\":[\"1218\",\"1219\"]},\"title\":\"Bokeh Application\",\"version\":\"2.4.3\"}};\n",
       "    var render_items = [{\"docid\":\"0c614c77-9e8b-40ff-83a2-af19eb0ec771\",\"root_ids\":[\"1218\"],\"roots\":{\"1218\":\"238901c6-c0db-4d12-8e30-264aa57fa297\"}}];\n",
       "    root.Bokeh.embed.embed_items_notebook(docs_json, render_items);\n",
       "    for (const render_item of render_items) {\n",
       "      for (const root_id of render_item.root_ids) {\n",
       "\tconst id_el = document.getElementById(root_id)\n",
       "\tif (id_el.children.length && (id_el.children[0].className === 'bk-root')) {\n",
       "\t  const root_el = id_el.children[0]\n",
       "\t  root_el.id = root_el.id + '-rendered'\n",
       "\t}\n",
       "      }\n",
       "    }\n",
       "  }\n",
       "  if (root.Bokeh !== undefined && root.Bokeh.Panel !== undefined && ( root['Tabulator'] !== undefined) && ( root['Tabulator'] !== undefined) && ( root['Tabulator'] !== undefined) && ( root['Tabulator'] !== undefined) && ( root['Tabulator'] !== undefined) && ( root['Tabulator'] !== undefined)) {\n",
       "    embed_document(root);\n",
       "  } else {\n",
       "    var attempts = 0;\n",
       "    var timer = setInterval(function(root) {\n",
       "      if (root.Bokeh !== undefined && root.Bokeh.Panel !== undefined && (root['Tabulator'] !== undefined) && (root['Tabulator'] !== undefined) && (root['Tabulator'] !== undefined) && (root['Tabulator'] !== undefined) && (root['Tabulator'] !== undefined) && (root['Tabulator'] !== undefined)) {\n",
       "        clearInterval(timer);\n",
       "        embed_document(root);\n",
       "      } else if (document.readyState == \"complete\") {\n",
       "        attempts++;\n",
       "        if (attempts > 200) {\n",
       "          clearInterval(timer);\n",
       "          console.log(\"Bokeh: ERROR: Unable to run BokehJS code because BokehJS library is missing\");\n",
       "        }\n",
       "      }\n",
       "    }, 25, root)\n",
       "  }\n",
       "})(window);</script>"
      ],
      "text/plain": [
       "IntRangeSlider(end=100, name='Confidence', sizing_mode='stretch_width', start=50, value=(50, 100), value_end=100, value_start=50)"
      ]
     },
     "execution_count": 276,
     "metadata": {
      "application/vnd.holoviews_exec.v0+json": {
       "id": "1218"
      }
     },
     "output_type": "execute_result"
    }
   ],
   "source": [
    "confidence_range_slider = pn.widgets.IntRangeSlider(name='Confidence',start=50, end=100, value=(50, 100), step=1)\n",
    "\n",
    "confidence_range_slider"
   ]
  },
  {
   "cell_type": "code",
   "execution_count": 277,
   "id": "a5a47906",
   "metadata": {},
   "outputs": [
    {
     "data": {
      "text/plain": [
       "50"
      ]
     },
     "execution_count": 277,
     "metadata": {},
     "output_type": "execute_result"
    }
   ],
   "source": [
    "confidence_range_slider.value[0]"
   ]
  },
  {
   "cell_type": "code",
   "execution_count": 278,
   "id": "b04d8383",
   "metadata": {},
   "outputs": [
    {
     "data": {},
     "metadata": {},
     "output_type": "display_data"
    },
    {
     "data": {
      "application/vnd.holoviews_exec.v0+json": "",
      "text/html": [
       "<div id='1220'>\n",
       "  <div class=\"bk-root\" id=\"d6953d22-6682-4fbd-b576-6dfc1f4eefdc\" data-root-id=\"1220\"></div>\n",
       "</div>\n",
       "<script type=\"application/javascript\">(function(root) {\n",
       "  function embed_document(root) {\n",
       "    var docs_json = {\"4d7ded33-e61e-4cf7-984d-1bbc549077d9\":{\"defs\":[{\"extends\":null,\"module\":null,\"name\":\"ReactiveHTML1\",\"overrides\":[],\"properties\":[]},{\"extends\":null,\"module\":null,\"name\":\"FlexBox1\",\"overrides\":[],\"properties\":[{\"default\":\"flex-start\",\"kind\":null,\"name\":\"align_content\"},{\"default\":\"flex-start\",\"kind\":null,\"name\":\"align_items\"},{\"default\":\"row\",\"kind\":null,\"name\":\"flex_direction\"},{\"default\":\"wrap\",\"kind\":null,\"name\":\"flex_wrap\"},{\"default\":\"flex-start\",\"kind\":null,\"name\":\"justify_content\"}]},{\"extends\":null,\"module\":null,\"name\":\"GridStack1\",\"overrides\":[],\"properties\":[{\"default\":\"warn\",\"kind\":null,\"name\":\"mode\"},{\"default\":null,\"kind\":null,\"name\":\"ncols\"},{\"default\":null,\"kind\":null,\"name\":\"nrows\"},{\"default\":true,\"kind\":null,\"name\":\"allow_resize\"},{\"default\":true,\"kind\":null,\"name\":\"allow_drag\"},{\"default\":[],\"kind\":null,\"name\":\"state\"}]},{\"extends\":null,\"module\":null,\"name\":\"click1\",\"overrides\":[],\"properties\":[{\"default\":\"\",\"kind\":null,\"name\":\"terminal_output\"},{\"default\":\"\",\"kind\":null,\"name\":\"debug_name\"},{\"default\":0,\"kind\":null,\"name\":\"clears\"}]},{\"extends\":null,\"module\":null,\"name\":\"NotificationAreaBase1\",\"overrides\":[],\"properties\":[{\"default\":\"bottom-right\",\"kind\":null,\"name\":\"position\"},{\"default\":0,\"kind\":null,\"name\":\"_clear\"}]},{\"extends\":null,\"module\":null,\"name\":\"NotificationArea1\",\"overrides\":[],\"properties\":[{\"default\":[],\"kind\":null,\"name\":\"notifications\"},{\"default\":\"bottom-right\",\"kind\":null,\"name\":\"position\"},{\"default\":0,\"kind\":null,\"name\":\"_clear\"},{\"default\":[{\"background\":\"#ffc107\",\"icon\":{\"className\":\"fas fa-exclamation-triangle\",\"color\":\"white\",\"tagName\":\"i\"},\"type\":\"warning\"},{\"background\":\"#007bff\",\"icon\":{\"className\":\"fas fa-info-circle\",\"color\":\"white\",\"tagName\":\"i\"},\"type\":\"info\"}],\"kind\":null,\"name\":\"types\"}]},{\"extends\":null,\"module\":null,\"name\":\"Notification\",\"overrides\":[],\"properties\":[{\"default\":null,\"kind\":null,\"name\":\"background\"},{\"default\":3000,\"kind\":null,\"name\":\"duration\"},{\"default\":null,\"kind\":null,\"name\":\"icon\"},{\"default\":\"\",\"kind\":null,\"name\":\"message\"},{\"default\":null,\"kind\":null,\"name\":\"notification_type\"},{\"default\":false,\"kind\":null,\"name\":\"_destroyed\"}]},{\"extends\":null,\"module\":null,\"name\":\"TemplateActions1\",\"overrides\":[],\"properties\":[{\"default\":0,\"kind\":null,\"name\":\"open_modal\"},{\"default\":0,\"kind\":null,\"name\":\"close_modal\"}]},{\"extends\":null,\"module\":null,\"name\":\"MaterialTemplateActions1\",\"overrides\":[],\"properties\":[{\"default\":0,\"kind\":null,\"name\":\"open_modal\"},{\"default\":0,\"kind\":null,\"name\":\"close_modal\"}]}],\"roots\":{\"references\":[{\"attributes\":{\"client_comm_id\":\"5c67128725f144d1b0c731766cc45624\",\"comm_id\":\"5095c934a0984a5bb3be5987731b86b2\",\"plot_id\":\"1220\"},\"id\":\"1221\",\"type\":\"panel.models.comm_manager.CommManager\"},{\"attributes\":{\"end\":52,\"margin\":[5,10,5,10],\"sizing_mode\":\"stretch_width\",\"start\":9,\"title\":\"Week\",\"value\":[12,15]},\"id\":\"1220\",\"type\":\"RangeSlider\"}],\"root_ids\":[\"1220\",\"1221\"]},\"title\":\"Bokeh Application\",\"version\":\"2.4.3\"}};\n",
       "    var render_items = [{\"docid\":\"4d7ded33-e61e-4cf7-984d-1bbc549077d9\",\"root_ids\":[\"1220\"],\"roots\":{\"1220\":\"d6953d22-6682-4fbd-b576-6dfc1f4eefdc\"}}];\n",
       "    root.Bokeh.embed.embed_items_notebook(docs_json, render_items);\n",
       "    for (const render_item of render_items) {\n",
       "      for (const root_id of render_item.root_ids) {\n",
       "\tconst id_el = document.getElementById(root_id)\n",
       "\tif (id_el.children.length && (id_el.children[0].className === 'bk-root')) {\n",
       "\t  const root_el = id_el.children[0]\n",
       "\t  root_el.id = root_el.id + '-rendered'\n",
       "\t}\n",
       "      }\n",
       "    }\n",
       "  }\n",
       "  if (root.Bokeh !== undefined && root.Bokeh.Panel !== undefined && ( root['Tabulator'] !== undefined) && ( root['Tabulator'] !== undefined) && ( root['Tabulator'] !== undefined) && ( root['Tabulator'] !== undefined) && ( root['Tabulator'] !== undefined) && ( root['Tabulator'] !== undefined)) {\n",
       "    embed_document(root);\n",
       "  } else {\n",
       "    var attempts = 0;\n",
       "    var timer = setInterval(function(root) {\n",
       "      if (root.Bokeh !== undefined && root.Bokeh.Panel !== undefined && (root['Tabulator'] !== undefined) && (root['Tabulator'] !== undefined) && (root['Tabulator'] !== undefined) && (root['Tabulator'] !== undefined) && (root['Tabulator'] !== undefined) && (root['Tabulator'] !== undefined)) {\n",
       "        clearInterval(timer);\n",
       "        embed_document(root);\n",
       "      } else if (document.readyState == \"complete\") {\n",
       "        attempts++;\n",
       "        if (attempts > 200) {\n",
       "          clearInterval(timer);\n",
       "          console.log(\"Bokeh: ERROR: Unable to run BokehJS code because BokehJS library is missing\");\n",
       "        }\n",
       "      }\n",
       "    }, 25, root)\n",
       "  }\n",
       "})(window);</script>"
      ],
      "text/plain": [
       "IntRangeSlider(end=52, name='Week', sizing_mode='stretch_width', start=9, value=(12, 15), value_end=15, value_start=12)"
      ]
     },
     "execution_count": 278,
     "metadata": {
      "application/vnd.holoviews_exec.v0+json": {
       "id": "1220"
      }
     },
     "output_type": "execute_result"
    }
   ],
   "source": [
    "week_range_slider = pn.widgets.IntRangeSlider(name='Week',start=9, end=52, value=(12, 15), step=1)\n",
    "\n",
    "week_range_slider"
   ]
  },
  {
   "cell_type": "code",
   "execution_count": 279,
   "id": "db25ccf0",
   "metadata": {},
   "outputs": [
    {
     "data": {
      "text/plain": [
       "15"
      ]
     },
     "execution_count": 279,
     "metadata": {},
     "output_type": "execute_result"
    }
   ],
   "source": [
    "week_range_slider.value[1]"
   ]
  },
  {
   "cell_type": "markdown",
   "id": "92e261f2",
   "metadata": {},
   "source": [
    "## (2) Reading Data"
   ]
  },
  {
   "cell_type": "code",
   "execution_count": 280,
   "id": "db0c46f8",
   "metadata": {},
   "outputs": [],
   "source": [
    "#dfm = pd.read_csv('wildfire-data/active-data/ts_active_fire_shape_24h.csv')"
   ]
  },
  {
   "cell_type": "code",
   "execution_count": 281,
   "id": "4514dd00",
   "metadata": {},
   "outputs": [],
   "source": [
    "#dfm = pd.read_csv('https://raw.githubusercontent.com/oneon/firedataset/main/ts_active_fire_shape.csv')"
   ]
  },
  {
   "cell_type": "code",
   "execution_count": 282,
   "id": "d252321f",
   "metadata": {},
   "outputs": [],
   "source": [
    "# cache data to improve dashboard performance\n",
    "if 'datamap' not in pn.state.cache.keys():\n",
    "\n",
    "    dfm = pd.read_csv('https://raw.githubusercontent.com/oneon/firedataset/main/ts_active_fire_shape.csv')\n",
    "\n",
    "    pn.state.cache['datamap'] = dfm.copy()\n",
    "\n",
    "else: \n",
    "\n",
    "    dfm = pn.state.cache['datamap']"
   ]
  },
  {
   "cell_type": "code",
   "execution_count": 283,
   "id": "8cb46bf6",
   "metadata": {},
   "outputs": [],
   "source": [
    "# cache data to improve dashboard performance\n",
    "if 'datapre' not in pn.state.cache.keys():\n",
    "\n",
    "    dfp = pd.read_csv('https://raw.githubusercontent.com/oneon/firedataset/main/ts_predict_fire_shape.csv')\n",
    "\n",
    "    pn.state.cache['datapre'] = dfp.copy()\n",
    "\n",
    "else: \n",
    "\n",
    "    dfp = pn.state.cache['datapre']"
   ]
  },
  {
   "cell_type": "code",
   "execution_count": 284,
   "id": "deec6d5b",
   "metadata": {},
   "outputs": [],
   "source": [
    "# cache data to improve dashboard performance\n",
    "if 'datahis' not in pn.state.cache.keys():\n",
    "\n",
    "    dfh = pd.read_csv('https://raw.githubusercontent.com/oneon/firedataset/main/ts_yearly_fire.csv')\n",
    "\n",
    "    pn.state.cache['datahis'] = dfh.copy()\n",
    "\n",
    "else: \n",
    "\n",
    "    dfh = pn.state.cache['datahis']"
   ]
  },
  {
   "cell_type": "code",
   "execution_count": 285,
   "id": "f294c759",
   "metadata": {},
   "outputs": [],
   "source": [
    "dfm = dfm[dfm['Dist_Name'].str.contains('Nalgonda') | dfm['Dist_Name'].str.contains('Nagarkurnool')]"
   ]
  },
  {
   "cell_type": "code",
   "execution_count": 286,
   "id": "7a2026db",
   "metadata": {},
   "outputs": [],
   "source": [
    "dfp = dfp[dfp['Dist_Name'].str.contains('Nalgonda') | dfp['Dist_Name'].str.contains('Nagarkurnool')]"
   ]
  },
  {
   "cell_type": "code",
   "execution_count": 287,
   "id": "9f01e22a",
   "metadata": {},
   "outputs": [],
   "source": [
    "#dfp"
   ]
  },
  {
   "cell_type": "code",
   "execution_count": 288,
   "id": "9ddaca9f",
   "metadata": {},
   "outputs": [
    {
     "data": {
      "text/plain": [
       "((482, 13), (373, 14))"
      ]
     },
     "execution_count": 288,
     "metadata": {},
     "output_type": "execute_result"
    }
   ],
   "source": [
    "dfm.shape, dfp.shape"
   ]
  },
  {
   "cell_type": "code",
   "execution_count": 289,
   "id": "e1bbfad7",
   "metadata": {
    "tags": []
   },
   "outputs": [],
   "source": [
    "# Make DataFrame Pipeline Interactive\n",
    "idfm = dfm.interactive()"
   ]
  },
  {
   "cell_type": "code",
   "execution_count": 290,
   "id": "0030b4fa",
   "metadata": {},
   "outputs": [
    {
     "data": {},
     "metadata": {},
     "output_type": "display_data"
    },
    {
     "data": {
      "application/vnd.holoviews_exec.v0+json": "",
      "text/html": [
       "<div id='1222'>\n",
       "  <div class=\"bk-root\" id=\"3eb230df-8b20-400d-b472-bcbb07606b31\" data-root-id=\"1222\"></div>\n",
       "</div>\n",
       "<script type=\"application/javascript\">(function(root) {\n",
       "  function embed_document(root) {\n",
       "    var docs_json = {\"bc49b335-72cc-479a-b3a7-be5263bc5279\":{\"defs\":[{\"extends\":null,\"module\":null,\"name\":\"ReactiveHTML1\",\"overrides\":[],\"properties\":[]},{\"extends\":null,\"module\":null,\"name\":\"FlexBox1\",\"overrides\":[],\"properties\":[{\"default\":\"flex-start\",\"kind\":null,\"name\":\"align_content\"},{\"default\":\"flex-start\",\"kind\":null,\"name\":\"align_items\"},{\"default\":\"row\",\"kind\":null,\"name\":\"flex_direction\"},{\"default\":\"wrap\",\"kind\":null,\"name\":\"flex_wrap\"},{\"default\":\"flex-start\",\"kind\":null,\"name\":\"justify_content\"}]},{\"extends\":null,\"module\":null,\"name\":\"GridStack1\",\"overrides\":[],\"properties\":[{\"default\":\"warn\",\"kind\":null,\"name\":\"mode\"},{\"default\":null,\"kind\":null,\"name\":\"ncols\"},{\"default\":null,\"kind\":null,\"name\":\"nrows\"},{\"default\":true,\"kind\":null,\"name\":\"allow_resize\"},{\"default\":true,\"kind\":null,\"name\":\"allow_drag\"},{\"default\":[],\"kind\":null,\"name\":\"state\"}]},{\"extends\":null,\"module\":null,\"name\":\"click1\",\"overrides\":[],\"properties\":[{\"default\":\"\",\"kind\":null,\"name\":\"terminal_output\"},{\"default\":\"\",\"kind\":null,\"name\":\"debug_name\"},{\"default\":0,\"kind\":null,\"name\":\"clears\"}]},{\"extends\":null,\"module\":null,\"name\":\"NotificationAreaBase1\",\"overrides\":[],\"properties\":[{\"default\":\"bottom-right\",\"kind\":null,\"name\":\"position\"},{\"default\":0,\"kind\":null,\"name\":\"_clear\"}]},{\"extends\":null,\"module\":null,\"name\":\"NotificationArea1\",\"overrides\":[],\"properties\":[{\"default\":[],\"kind\":null,\"name\":\"notifications\"},{\"default\":\"bottom-right\",\"kind\":null,\"name\":\"position\"},{\"default\":0,\"kind\":null,\"name\":\"_clear\"},{\"default\":[{\"background\":\"#ffc107\",\"icon\":{\"className\":\"fas fa-exclamation-triangle\",\"color\":\"white\",\"tagName\":\"i\"},\"type\":\"warning\"},{\"background\":\"#007bff\",\"icon\":{\"className\":\"fas fa-info-circle\",\"color\":\"white\",\"tagName\":\"i\"},\"type\":\"info\"}],\"kind\":null,\"name\":\"types\"}]},{\"extends\":null,\"module\":null,\"name\":\"Notification\",\"overrides\":[],\"properties\":[{\"default\":null,\"kind\":null,\"name\":\"background\"},{\"default\":3000,\"kind\":null,\"name\":\"duration\"},{\"default\":null,\"kind\":null,\"name\":\"icon\"},{\"default\":\"\",\"kind\":null,\"name\":\"message\"},{\"default\":null,\"kind\":null,\"name\":\"notification_type\"},{\"default\":false,\"kind\":null,\"name\":\"_destroyed\"}]},{\"extends\":null,\"module\":null,\"name\":\"TemplateActions1\",\"overrides\":[],\"properties\":[{\"default\":0,\"kind\":null,\"name\":\"open_modal\"},{\"default\":0,\"kind\":null,\"name\":\"close_modal\"}]},{\"extends\":null,\"module\":null,\"name\":\"MaterialTemplateActions1\",\"overrides\":[],\"properties\":[{\"default\":0,\"kind\":null,\"name\":\"open_modal\"},{\"default\":0,\"kind\":null,\"name\":\"close_modal\"}]}],\"roots\":{\"references\":[{\"attributes\":{\"children\":[{\"id\":\"1224\"},{\"id\":\"1227\"}],\"margin\":[0,0,0,0],\"name\":\"Column13896\",\"sizing_mode\":\"stretch_width\"},\"id\":\"1223\",\"type\":\"Column\"},{\"attributes\":{\"margin\":[5,5,5,5],\"name\":\"HSpacer13894\",\"sizing_mode\":\"stretch_width\"},\"id\":\"1226\",\"type\":\"Spacer\"},{\"attributes\":{\"client_comm_id\":\"8f6900553555423c835fd0dc40b0e111\",\"comm_id\":\"8be4e486b3fb44278b2166a500063b1a\",\"plot_id\":\"1222\"},\"id\":\"1231\",\"type\":\"panel.models.comm_manager.CommManager\"},{\"attributes\":{\"children\":[{\"id\":\"1230\"}],\"margin\":[0,0,0,0],\"name\":\"Row13892\",\"sizing_mode\":\"stretch_width\"},\"id\":\"1229\",\"type\":\"Row\"},{\"attributes\":{\"margin\":[0,0,0,0],\"name\":\"Column13893\",\"sizing_mode\":\"stretch_width\"},\"id\":\"1228\",\"type\":\"Column\"},{\"attributes\":{\"margin\":[5,5,5,5],\"name\":\"interactive13868\",\"sizing_mode\":\"stretch_width\",\"text\":\"&lt;pre&gt;(482, 13)&lt;/pre&gt;\"},\"id\":\"1230\",\"type\":\"panel.models.markup.HTML\"},{\"attributes\":{\"children\":[{\"id\":\"1225\"},{\"id\":\"1226\"}],\"margin\":[0,0,0,0],\"name\":\"Row13895\",\"sizing_mode\":\"stretch_width\"},\"id\":\"1224\",\"type\":\"Row\"},{\"attributes\":{\"children\":[{\"id\":\"1223\"}],\"margin\":[0,0,0,0],\"name\":\"Row13897\",\"sizing_mode\":\"stretch_width\"},\"id\":\"1222\",\"type\":\"Row\"},{\"attributes\":{\"children\":[{\"id\":\"1228\"},{\"id\":\"1229\"}],\"margin\":[0,0,0,0],\"name\":\"Column13869\",\"sizing_mode\":\"stretch_width\"},\"id\":\"1227\",\"type\":\"Column\"},{\"attributes\":{\"margin\":[0,0,0,0],\"name\":\"Column13867\",\"sizing_mode\":\"stretch_width\"},\"id\":\"1225\",\"type\":\"Column\"}],\"root_ids\":[\"1222\",\"1231\"]},\"title\":\"Bokeh Application\",\"version\":\"2.4.3\"}};\n",
       "    var render_items = [{\"docid\":\"bc49b335-72cc-479a-b3a7-be5263bc5279\",\"root_ids\":[\"1222\"],\"roots\":{\"1222\":\"3eb230df-8b20-400d-b472-bcbb07606b31\"}}];\n",
       "    root.Bokeh.embed.embed_items_notebook(docs_json, render_items);\n",
       "    for (const render_item of render_items) {\n",
       "      for (const root_id of render_item.root_ids) {\n",
       "\tconst id_el = document.getElementById(root_id)\n",
       "\tif (id_el.children.length && (id_el.children[0].className === 'bk-root')) {\n",
       "\t  const root_el = id_el.children[0]\n",
       "\t  root_el.id = root_el.id + '-rendered'\n",
       "\t}\n",
       "      }\n",
       "    }\n",
       "  }\n",
       "  if (root.Bokeh !== undefined && root.Bokeh.Panel !== undefined && ( root['Tabulator'] !== undefined) && ( root['Tabulator'] !== undefined) && ( root['Tabulator'] !== undefined) && ( root['Tabulator'] !== undefined) && ( root['Tabulator'] !== undefined) && ( root['Tabulator'] !== undefined)) {\n",
       "    embed_document(root);\n",
       "  } else {\n",
       "    var attempts = 0;\n",
       "    var timer = setInterval(function(root) {\n",
       "      if (root.Bokeh !== undefined && root.Bokeh.Panel !== undefined && (root['Tabulator'] !== undefined) && (root['Tabulator'] !== undefined) && (root['Tabulator'] !== undefined) && (root['Tabulator'] !== undefined) && (root['Tabulator'] !== undefined) && (root['Tabulator'] !== undefined)) {\n",
       "        clearInterval(timer);\n",
       "        embed_document(root);\n",
       "      } else if (document.readyState == \"complete\") {\n",
       "        attempts++;\n",
       "        if (attempts > 200) {\n",
       "          clearInterval(timer);\n",
       "          console.log(\"Bokeh: ERROR: Unable to run BokehJS code because BokehJS library is missing\");\n",
       "        }\n",
       "      }\n",
       "    }, 25, root)\n",
       "  }\n",
       "})(window);</script>"
      ],
      "text/plain": [
       "<hvplot.interactive.Interactive at 0xffff47e5cbb0>"
      ]
     },
     "execution_count": 290,
     "metadata": {
      "application/vnd.holoviews_exec.v0+json": {
       "id": "1222"
      }
     },
     "output_type": "execute_result"
    }
   ],
   "source": [
    "idfm.shape"
   ]
  },
  {
   "cell_type": "code",
   "execution_count": 291,
   "id": "fbe21468",
   "metadata": {},
   "outputs": [],
   "source": [
    "yaxis_duration = pn.widgets.RadioButtonGroup(\n",
    "    name='Y axis', \n",
    "    options=['24h', '48h', '7d'], \n",
    "    button_type='success'\n",
    ")\n",
    "yaxis_duration\n",
    "\n",
    "map_data_pipeline = (\n",
    "    idfm[\n",
    "        (idfm.duration == yaxis_duration)\n",
    "    ]\n",
    "    .groupby(['latitude', 'longitude', 'acq_date', 'acq_time', 'Mandal_Nam', 'Dist_Name', 'duration', 'instrument', 'week']).confidence.max()\n",
    "    .to_frame()\n",
    "    .reset_index()  \n",
    "    .reset_index(drop=True)\n",
    ")"
   ]
  },
  {
   "cell_type": "code",
   "execution_count": 292,
   "id": "0072979b",
   "metadata": {},
   "outputs": [],
   "source": [
    "#map_data_pipeline.columns"
   ]
  },
  {
   "cell_type": "code",
   "execution_count": 293,
   "id": "4afd141e",
   "metadata": {},
   "outputs": [
    {
     "data": {
      "text/plain": [
       "'24h'"
      ]
     },
     "execution_count": 293,
     "metadata": {},
     "output_type": "execute_result"
    }
   ],
   "source": [
    "yaxis_duration.value"
   ]
  },
  {
   "cell_type": "markdown",
   "id": "23ea7809",
   "metadata": {},
   "source": [
    "## (3) Table - Firedata "
   ]
  },
  {
   "cell_type": "code",
   "execution_count": 294,
   "id": "6778d360",
   "metadata": {
    "tags": []
   },
   "outputs": [],
   "source": [
    "active_fire_table = map_data_pipeline.pipe(pn.widgets.Tabulator, pagination='remote', page_size = 20, sizing_mode='stretch_width') \n",
    "#active_fire_table"
   ]
  },
  {
   "cell_type": "code",
   "execution_count": 295,
   "id": "0c42cbcf",
   "metadata": {},
   "outputs": [],
   "source": [
    "#map_data_pipeline.sample(10)"
   ]
  },
  {
   "cell_type": "code",
   "execution_count": 296,
   "id": "5cc4cc1f",
   "metadata": {},
   "outputs": [],
   "source": [
    "def get_map(lat=16.385318, long=78.9740939, zoom_start=9):\n",
    "    return fm.Map(location=[lat,long], zoom_start=zoom_start)\n",
    "\n",
    "map = get_map()\n",
    "\n",
    "#pn.panel(map, height=400)"
   ]
  },
  {
   "cell_type": "markdown",
   "id": "021d6603",
   "metadata": {},
   "source": [
    "## (4) Data Active - Firedata "
   ]
  },
  {
   "cell_type": "code",
   "execution_count": 297,
   "id": "b9555274",
   "metadata": {},
   "outputs": [],
   "source": [
    "def get_df_aqi(confidence=50):\n",
    "    aqi = dfm[dfm['duration'] == yaxis_duration.value]\n",
    "    aqi = aqi[aqi['confidence'] >= confidence]\n",
    "    return pd.DataFrame(aqi)\n",
    "    #return aqi\n",
    "\n",
    "df_aqi = get_df_aqi()"
   ]
  },
  {
   "cell_type": "markdown",
   "id": "1e6a9983",
   "metadata": {},
   "source": [
    "## (5) Data Forecast - Firedata "
   ]
  },
  {
   "cell_type": "code",
   "execution_count": 298,
   "id": "1443d941",
   "metadata": {},
   "outputs": [],
   "source": [
    "def get_dfp_aqi(confidence=50):\n",
    "    aqi = dfp[dfp['week'] >= week_range_slider.value[0]] \n",
    "    aqi = aqi[aqi['week'] <= week_range_slider.value[1]]\n",
    "    aqi = aqi[aqi['confidence'] >= confidence]\n",
    "    return pd.DataFrame(aqi)\n",
    "    #return aqi\n",
    "\n",
    "df_aqii = get_dfp_aqi()"
   ]
  },
  {
   "cell_type": "code",
   "execution_count": 299,
   "id": "b1c5b6f8",
   "metadata": {},
   "outputs": [
    {
     "data": {
      "text/plain": [
       "((12, 13), (11, 14))"
      ]
     },
     "execution_count": 299,
     "metadata": {},
     "output_type": "execute_result"
    }
   ],
   "source": [
    "df_aqi.shape, df_aqii.shape"
   ]
  },
  {
   "cell_type": "code",
   "execution_count": 300,
   "id": "00a0a218",
   "metadata": {},
   "outputs": [],
   "source": [
    "def add_aqi_circles(map, df_aqi):\n",
    "    yellow_p1  = fm.map.FeatureGroup()\n",
    "    orange_p1 = fm.map.FeatureGroup()\n",
    "    red_p1    = fm.map.FeatureGroup()\n",
    "    \n",
    "    for _, row in df_aqi.iterrows():\n",
    "          \n",
    "    \n",
    "        html=f\"\"\"\n",
    "            <h4> {row.Dist_Name}</h4>\n",
    "            <p>Mandal {row.Mandal_Nam}</p>\n",
    "            <ul>\n",
    "                <li>Date {row.acq_date}</li>\n",
    "                <li>Time {row.acq_time}</li>\n",
    "                <li>Lat {row.latitude}</li>\n",
    "                <li>Long {row.longitude}</li>\n",
    "                <li>Confidence {row.confidence}</li>\n",
    "            </ul>\n",
    "            </p>\n",
    "            \"\"\"\n",
    "        iframe = fm.IFrame(html=html, width=200, height=200)\n",
    "        popup = fm.Popup(iframe, max_width=2650)\n",
    "    \n",
    "    \n",
    "        if (row.confidence >= 50) and (row.confidence < 60):\n",
    "            feature_group = yellow_p1\n",
    "            customicon = 'fire-flame-yellow.png'\n",
    "        elif (row.confidence >= 60) and (row.confidence < 80):\n",
    "            feature_group = orange_p1\n",
    "            customicon = 'fire-flame-orange.png'\n",
    "        elif (row.confidence >= 80) and (row.confidence <= 100):\n",
    "            feature_group = red_p1\n",
    "            customicon = 'fire-flame-red.png'\n",
    "        else:\n",
    "            feature_group = yellow_p1\n",
    "            customicon = 'fire-flame-yellow.png'\n",
    "            \n",
    "            \n",
    "        pushpin = fm.features.CustomIcon(customicon, icon_size=(30,30))\n",
    "        feature_group.add_child(\n",
    "            fm.Marker(\n",
    "                [row.latitude, row.longitude],\n",
    "                icon=pushpin,\n",
    "                popup=popup\n",
    "            )\n",
    "        )\n",
    "\n",
    "    map.add_child(yellow_p1)\n",
    "    map.add_child(orange_p1)\n",
    "    map.add_child(red_p1)\n",
    "\n",
    "    template = \"\"\"\n",
    "    {% macro html(this, kwargs) %}\n",
    "\n",
    "    <!doctype html>\n",
    "    <html lang=\"en\">\n",
    "    <head>\n",
    "      <meta charset=\"utf-8\">\n",
    "      <meta name=\"viewport\" content=\"width=device-width, initial-scale=1\">\n",
    "      <title>jQuery UI Draggable - Default functionality</title>\n",
    "      <link rel=\"stylesheet\" href=\"//code.jquery.com/ui/1.12.1/themes/base/jquery-ui.css\">\n",
    "\n",
    "      <script src=\"https://code.jquery.com/jquery-1.12.4.js\"></script>\n",
    "      <script src=\"https://code.jquery.com/ui/1.12.1/jquery-ui.js\"></script>\n",
    "\n",
    "      <script>\n",
    "      $( function() {\n",
    "        $( \"#maplegend\" ).draggable({\n",
    "                        start: function (event, ui) {\n",
    "                            $(this).css({\n",
    "                                right: \"auto\",\n",
    "                                top: \"auto\",\n",
    "                                bottom: \"auto\"\n",
    "                            });\n",
    "                        }\n",
    "                    });\n",
    "    });\n",
    "\n",
    "      </script>\n",
    "    </head>\n",
    "    <body>\n",
    "\n",
    "\n",
    "    <div id='maplegend' class='maplegend' \n",
    "        style='position: absolute; z-index:9999; border:2px solid grey; background-color:rgba(255, 255, 255, 0.8);\n",
    "         border-radius:6px; padding: 10px; font-size:14px; right: 20px; bottom: 20px;'>\n",
    "\n",
    "    <div class='legend-title'>Legend Confidence</div>\n",
    "    <div class='legend-scale'>\n",
    "      <ul class='legend-labels'>\n",
    "        <li><span style='background:yellow;opacity:0.7;'></span>50 to 60</li>\n",
    "        <li><span style='background:orange;opacity:0.7;'></span>60 to 80</li>\n",
    "        <li><span style='background:red;opacity:0.7;'></span>80 to 100</li>\n",
    "\n",
    "      </ul>\n",
    "    </div>\n",
    "    </div>\n",
    "\n",
    "    </body>\n",
    "    </html>\n",
    "\n",
    "    <style type='text/css'>\n",
    "      .maplegend .legend-title {\n",
    "        text-align: left;\n",
    "        margin-bottom: 5px;\n",
    "        font-weight: bold;\n",
    "        font-size: 90%;\n",
    "        }\n",
    "      .maplegend .legend-scale ul {\n",
    "        margin: 0;\n",
    "        margin-bottom: 5px;\n",
    "        padding: 0;\n",
    "        float: left;\n",
    "        list-style: none;\n",
    "        }\n",
    "      .maplegend .legend-scale ul li {\n",
    "        font-size: 80%;\n",
    "        list-style: none;\n",
    "        margin-left: 0;\n",
    "        line-height: 18px;\n",
    "        margin-bottom: 2px;\n",
    "        }\n",
    "      .maplegend ul.legend-labels li span {\n",
    "        display: block;\n",
    "        float: left;\n",
    "        height: 16px;\n",
    "        width: 30px;\n",
    "        margin-right: 5px;\n",
    "        margin-left: 0;\n",
    "        border: 1px solid #999;\n",
    "        }\n",
    "      .maplegend .legend-source {\n",
    "        font-size: 80%;\n",
    "        color: #777;\n",
    "        clear: both;\n",
    "        }\n",
    "      .maplegend a {\n",
    "        color: #777;\n",
    "        }\n",
    "    </style>\n",
    "    {% endmacro %}\"\"\"\n",
    "\n",
    "    macro = MacroElement()\n",
    "    macro._template = Template(template)\n",
    "\n",
    "    map.add_child(macro)\n",
    "    \n",
    "#add_aqi_circles(map, df_aqi)\n",
    "#.panel(map, height=400)"
   ]
  },
  {
   "cell_type": "code",
   "execution_count": 301,
   "id": "04f4e6bf",
   "metadata": {},
   "outputs": [],
   "source": [
    "def add_aqi_predict_circles(map, df_aqi):\n",
    "    orange_p1  = fm.map.FeatureGroup()\n",
    "    red_p1 = fm.map.FeatureGroup()\n",
    "    yellow_p1 = fm.map.FeatureGroup()\n",
    "    week = \"\"\n",
    "\n",
    "    for _, row in df_aqi.iterrows():\n",
    "        if (row.weekname != \"1\"):\n",
    "            week = row.weekname\n",
    "        if (row.weekname == \"1\"):\n",
    "            week = row.week\n",
    "    \n",
    "        html=f\"\"\"\n",
    "            <h4> {row.Dist_Name}</h4>\n",
    "            <p>Mandal {row.Mandal_Nam}</p>\n",
    "            <ul>\n",
    "                <li>Week {week}</li>\n",
    "                <li>Lat {row.latitude}</li>\n",
    "                <li>Long {row.longitude}</li>\n",
    "                <li>Confidence {row.confidence}</li>\n",
    "            </ul>\n",
    "            </p>\n",
    "            \"\"\"\n",
    "        iframe = fm.IFrame(html=html, width=200, height=200)\n",
    "        popup = fm.Popup(iframe, max_width=2650)\n",
    "        \n",
    "        if (row.confidence >= 50) and (row.confidence < 60):\n",
    "            feature_group = yellow_p1\n",
    "            customicon = 'fire-flame-yellow.png'\n",
    "        elif (row.confidence >= 60) and (row.confidence < 80):\n",
    "            feature_group = orange_p1\n",
    "            customicon = 'fire-flame-orange.png'\n",
    "        elif (row.confidence >= 80) and (row.confidence <= 100):\n",
    "            feature_group = red_p1\n",
    "            customicon = 'fire-flame-red.png'\n",
    "        else:\n",
    "            feature_group = yellow_p1\n",
    "            customicon = 'fire-flame-yellow.png'\n",
    "    \n",
    "        pushpin = fm.features.CustomIcon(customicon, icon_size=(30,30))\n",
    "        feature_group.add_child(\n",
    "            fm.Marker(\n",
    "                [row.latitude, row.longitude],\n",
    "                icon=pushpin,\n",
    "                popup=popup\n",
    "            )\n",
    "        )\n",
    "\n",
    "    map.add_child(orange_p1)\n",
    "    map.add_child(red_p1)\n",
    "    map.add_child(yellow_p1)\n",
    "    \n",
    "    template = \"\"\"\n",
    "    {% macro html(this, kwargs) %}\n",
    "\n",
    "    <!doctype html>\n",
    "    <html lang=\"en\">\n",
    "    <head>\n",
    "      <meta charset=\"utf-8\">\n",
    "      <meta name=\"viewport\" content=\"width=device-width, initial-scale=1\">\n",
    "      <title>jQuery UI Draggable - Default functionality</title>\n",
    "      <link rel=\"stylesheet\" href=\"//code.jquery.com/ui/1.12.1/themes/base/jquery-ui.css\">\n",
    "\n",
    "      <script src=\"https://code.jquery.com/jquery-1.12.4.js\"></script>\n",
    "      <script src=\"https://code.jquery.com/ui/1.12.1/jquery-ui.js\"></script>\n",
    "\n",
    "      <script>\n",
    "      $( function() {\n",
    "        $( \"#maplegend\" ).draggable({\n",
    "                        start: function (event, ui) {\n",
    "                            $(this).css({\n",
    "                                right: \"auto\",\n",
    "                                top: \"auto\",\n",
    "                                bottom: \"auto\"\n",
    "                            });\n",
    "                        }\n",
    "                    });\n",
    "    });\n",
    "\n",
    "      </script>\n",
    "    </head>\n",
    "    <body>\n",
    "\n",
    "\n",
    "    <div id='maplegend' class='maplegend' \n",
    "        style='position: absolute; z-index:9999; border:2px solid grey; background-color:rgba(255, 255, 255, 0.8);\n",
    "         border-radius:6px; padding: 10px; font-size:14px; right: 20px; bottom: 20px;'>\n",
    "\n",
    "    <div class='legend-title'>Legend Confidence</div>\n",
    "    <div class='legend-scale'>\n",
    "      <ul class='legend-labels'>\n",
    "        <li><span style='background:yellow;opacity:0.7;'></span>50 to 60</li>\n",
    "        <li><span style='background:orange;opacity:0.7;'></span>60 to 80</li>\n",
    "        <li><span style='background:red;opacity:0.7;'></span>80 to 100</li>\n",
    "\n",
    "      </ul>\n",
    "    </div>\n",
    "    </div>\n",
    "\n",
    "    </body>\n",
    "    </html>\n",
    "\n",
    "    <style type='text/css'>\n",
    "      .maplegend .legend-title {\n",
    "        text-align: left;\n",
    "        margin-bottom: 5px;\n",
    "        font-weight: bold;\n",
    "        font-size: 90%;\n",
    "        }\n",
    "      .maplegend .legend-scale ul {\n",
    "        margin: 0;\n",
    "        margin-bottom: 5px;\n",
    "        padding: 0;\n",
    "        float: left;\n",
    "        list-style: none;\n",
    "        }\n",
    "      .maplegend .legend-scale ul li {\n",
    "        font-size: 80%;\n",
    "        list-style: none;\n",
    "        margin-left: 0;\n",
    "        line-height: 18px;\n",
    "        margin-bottom: 2px;\n",
    "        }\n",
    "      .maplegend ul.legend-labels li span {\n",
    "        display: block;\n",
    "        float: left;\n",
    "        height: 16px;\n",
    "        width: 30px;\n",
    "        margin-right: 5px;\n",
    "        margin-left: 0;\n",
    "        border: 1px solid #999;\n",
    "        }\n",
    "      .maplegend .legend-source {\n",
    "        font-size: 80%;\n",
    "        color: #777;\n",
    "        clear: both;\n",
    "        }\n",
    "      .maplegend a {\n",
    "        color: #777;\n",
    "        }\n",
    "    </style>\n",
    "    {% endmacro %}\"\"\"\n",
    "\n",
    "    macro = MacroElement()\n",
    "    macro._template = Template(template)\n",
    "\n",
    "    map.add_child(macro)\n",
    "    \n",
    "#add_aqi_predict_circles(map, df_aqii)\n",
    "#pn.panel(map, height=400)"
   ]
  },
  {
   "cell_type": "markdown",
   "id": "a7aebb41",
   "metadata": {},
   "source": [
    "## (6) Create Map Active Fire "
   ]
  },
  {
   "cell_type": "code",
   "execution_count": 302,
   "id": "233b4933",
   "metadata": {},
   "outputs": [],
   "source": [
    "class PanelFoliumMap(param.Parameterized):\n",
    "    Confidence = param.Integer(50, bounds=(50,100))\n",
    "        \n",
    "    def __init__(self, **params):\n",
    "        super().__init__(**params)\n",
    "        self.map = get_map()\n",
    "        self.folium_pane = pn.pane.plot.Folium(sizing_mode=\"stretch_both\", min_height=500, margin=0)    \n",
    "        self.view = pn.Column(\n",
    "            self.param.Confidence,\n",
    "            self.folium_pane,\n",
    "            sizing_mode=\"stretch_both\", height=500\n",
    "        )\n",
    "        self._update_map()\n",
    "\n",
    "    @param.depends(\"Confidence\", watch=True)\n",
    "    def _update_map(self):\n",
    "        self.map = get_map()\n",
    "        df_aqi = get_df_aqi(confidence=self.Confidence)\n",
    "        add_aqi_circles(self.map, df_aqi)\n",
    "        self.folium_pane.object = self.map\n",
    "\n",
    "        \n",
    "#app = PanelFoliumMap()\n",
    "#app.view"
   ]
  },
  {
   "cell_type": "markdown",
   "id": "a82a3ac3",
   "metadata": {},
   "source": [
    "## (7) Bar chart with Forecast data"
   ]
  },
  {
   "cell_type": "code",
   "execution_count": 303,
   "id": "348ea95d",
   "metadata": {},
   "outputs": [],
   "source": [
    "#dfp"
   ]
  },
  {
   "cell_type": "code",
   "execution_count": 304,
   "id": "2cb38474",
   "metadata": {
    "tags": []
   },
   "outputs": [],
   "source": [
    "# Make DataFrame Pipeline Interactive\n",
    "idfp = dfp.interactive()"
   ]
  },
  {
   "cell_type": "code",
   "execution_count": 305,
   "id": "d28382de",
   "metadata": {},
   "outputs": [],
   "source": [
    "#dfp"
   ]
  },
  {
   "cell_type": "code",
   "execution_count": 306,
   "id": "4dd3c59e",
   "metadata": {},
   "outputs": [],
   "source": [
    "# Radio buttons for District Name\n",
    "yaxis_district = pn.widgets.RadioButtonGroup(\n",
    "    name='Y axis', \n",
    "    options=['Nagarkurnool', 'Nalgonda',],\n",
    "    button_type='success'\n",
    ")\n",
    "week_predict_bar_pipeline = (\n",
    "    idfp[\n",
    "        (idfp.Dist_Name == yaxis_district)       \n",
    "    ]\n",
    "    .groupby(['week']).size()\n",
    "    .to_frame()\n",
    "    .reset_index()\n",
    "    .reset_index(drop=True)\n",
    ")"
   ]
  },
  {
   "cell_type": "code",
   "execution_count": 307,
   "id": "9cca8371",
   "metadata": {
    "scrolled": false
   },
   "outputs": [],
   "source": [
    "#week_predict_bar_pipeline"
   ]
  },
  {
   "cell_type": "code",
   "execution_count": 308,
   "id": "714e9319",
   "metadata": {},
   "outputs": [],
   "source": [
    "week_predict_bar_pipeline.columns = ['week', 'Dist_Name', 'fire_count']"
   ]
  },
  {
   "cell_type": "code",
   "execution_count": 309,
   "id": "bdb8d555",
   "metadata": {},
   "outputs": [],
   "source": [
    "#week_predict_bar_pipeline"
   ]
  },
  {
   "cell_type": "code",
   "execution_count": 310,
   "id": "a48bb629",
   "metadata": {},
   "outputs": [],
   "source": [
    "week_predict_bar_plot = week_predict_bar_pipeline.hvplot(kind='bar', \n",
    "                                                     x='week', \n",
    "                                                     y='0', \n",
    "                                                     title='Weekly fire count forecast')\n",
    "#week_predict_bar_plot"
   ]
  },
  {
   "cell_type": "markdown",
   "id": "60dbcde2",
   "metadata": {},
   "source": [
    "## (8) Week vs Confidence scatterplot"
   ]
  },
  {
   "cell_type": "code",
   "execution_count": 311,
   "id": "95365eb7",
   "metadata": {},
   "outputs": [],
   "source": [
    "week_vs_conf_scatterplot_pipeline = (\n",
    "    idfp\n",
    "    .groupby(['latitude', 'longitude', 'week', 'Dist_Name'])['confidence'].mean()\n",
    "    .to_frame()\n",
    "    .reset_index()\n",
    "    .reset_index(drop=True)\n",
    ")"
   ]
  },
  {
   "cell_type": "code",
   "execution_count": 312,
   "id": "7d55c804",
   "metadata": {},
   "outputs": [],
   "source": [
    "week_vs_conf_scatterplot = week_vs_conf_scatterplot_pipeline.hvplot(x='week', \n",
    "                                                                y='confidence', \n",
    "                                                                by='Dist_Name', \n",
    "                                                                size=80, kind=\"scatter\", \n",
    "                                                                alpha=0.7,\n",
    "                                                                legend=False, \n",
    "                                                                height=500, \n",
    "                                                                width=500)\n",
    "#week_vs_conf_scatterplot"
   ]
  },
  {
   "cell_type": "markdown",
   "id": "21ede071",
   "metadata": {},
   "source": [
    "## (9) Table - Firedata Forecast "
   ]
  },
  {
   "cell_type": "code",
   "execution_count": 313,
   "id": "bcfbc6bc",
   "metadata": {},
   "outputs": [],
   "source": [
    "week_predict_pipeline = (\n",
    "    idfp[\n",
    "        (idfp.week == week_slider)\n",
    "    ].groupby(['latitude', 'longitude', 'week', 'Dist_Name'])['confidence'].mean()\n",
    "    .reset_index()\n",
    "    .reset_index(drop=True)\n",
    ")"
   ]
  },
  {
   "cell_type": "code",
   "execution_count": 314,
   "id": "3a7b264d",
   "metadata": {},
   "outputs": [],
   "source": [
    "#week_predict_pipeline"
   ]
  },
  {
   "cell_type": "code",
   "execution_count": 315,
   "id": "91a9d5cc",
   "metadata": {
    "tags": []
   },
   "outputs": [],
   "source": [
    "predict_table = week_predict_pipeline.pipe(pn.widgets.Tabulator, pagination='remote', page_size = 20, sizing_mode='stretch_width') \n",
    "#predict_table"
   ]
  },
  {
   "cell_type": "markdown",
   "id": "e0086749",
   "metadata": {},
   "source": [
    "## (10) Create Map Forecast "
   ]
  },
  {
   "cell_type": "code",
   "execution_count": 316,
   "id": "6e0f21fd",
   "metadata": {},
   "outputs": [],
   "source": [
    "class PanelFoliumMapForecast(param.Parameterized):\n",
    "    Confidence = param.Integer(50, bounds=(50,100))\n",
    "        \n",
    "    def __init__(self, **params):\n",
    "        super().__init__(**params)\n",
    "        self.map = get_map()\n",
    "        self.folium_pane = pn.pane.plot.Folium(sizing_mode=\"stretch_both\", min_height=500, margin=0)    \n",
    "        self.view = pn.Column(\n",
    "            self.param.Confidence,\n",
    "            self.folium_pane,\n",
    "            sizing_mode=\"stretch_both\", height=500\n",
    "        )\n",
    "        self._update_map()\n",
    "\n",
    "    @param.depends(\"Confidence\", watch=True)\n",
    "    def _update_map(self):\n",
    "        self.map = get_map()\n",
    "        df_aqi = get_dfp_aqi(confidence=self.Confidence)\n",
    "        add_aqi_predict_circles(self.map, df_aqi)\n",
    "        self.folium_pane.object = self.map\n",
    "\n",
    "        \n",
    "#app = PanelFoliumMapForecast()\n",
    "#app.view"
   ]
  },
  {
   "cell_type": "code",
   "execution_count": 317,
   "id": "94cf1387",
   "metadata": {},
   "outputs": [
    {
     "data": {},
     "metadata": {},
     "output_type": "display_data"
    },
    {
     "data": {
      "application/vnd.holoviews_exec.v0+json": "",
      "text/html": [
       "<div id='1232'>\n",
       "  <div class=\"bk-root\" id=\"b512b7dc-f185-4363-b8bb-07f3ec7d14c3\" data-root-id=\"1232\"></div>\n",
       "</div>\n",
       "<script type=\"application/javascript\">(function(root) {\n",
       "  function embed_document(root) {\n",
       "    var docs_json = {\"bd114b46-02e8-4872-8a3a-77f3c83f305a\":{\"defs\":[{\"extends\":null,\"module\":null,\"name\":\"ReactiveHTML1\",\"overrides\":[],\"properties\":[]},{\"extends\":null,\"module\":null,\"name\":\"FlexBox1\",\"overrides\":[],\"properties\":[{\"default\":\"flex-start\",\"kind\":null,\"name\":\"align_content\"},{\"default\":\"flex-start\",\"kind\":null,\"name\":\"align_items\"},{\"default\":\"row\",\"kind\":null,\"name\":\"flex_direction\"},{\"default\":\"wrap\",\"kind\":null,\"name\":\"flex_wrap\"},{\"default\":\"flex-start\",\"kind\":null,\"name\":\"justify_content\"}]},{\"extends\":null,\"module\":null,\"name\":\"GridStack1\",\"overrides\":[],\"properties\":[{\"default\":\"warn\",\"kind\":null,\"name\":\"mode\"},{\"default\":null,\"kind\":null,\"name\":\"ncols\"},{\"default\":null,\"kind\":null,\"name\":\"nrows\"},{\"default\":true,\"kind\":null,\"name\":\"allow_resize\"},{\"default\":true,\"kind\":null,\"name\":\"allow_drag\"},{\"default\":[],\"kind\":null,\"name\":\"state\"}]},{\"extends\":null,\"module\":null,\"name\":\"click1\",\"overrides\":[],\"properties\":[{\"default\":\"\",\"kind\":null,\"name\":\"terminal_output\"},{\"default\":\"\",\"kind\":null,\"name\":\"debug_name\"},{\"default\":0,\"kind\":null,\"name\":\"clears\"}]},{\"extends\":null,\"module\":null,\"name\":\"NotificationAreaBase1\",\"overrides\":[],\"properties\":[{\"default\":\"bottom-right\",\"kind\":null,\"name\":\"position\"},{\"default\":0,\"kind\":null,\"name\":\"_clear\"}]},{\"extends\":null,\"module\":null,\"name\":\"NotificationArea1\",\"overrides\":[],\"properties\":[{\"default\":[],\"kind\":null,\"name\":\"notifications\"},{\"default\":\"bottom-right\",\"kind\":null,\"name\":\"position\"},{\"default\":0,\"kind\":null,\"name\":\"_clear\"},{\"default\":[{\"background\":\"#ffc107\",\"icon\":{\"className\":\"fas fa-exclamation-triangle\",\"color\":\"white\",\"tagName\":\"i\"},\"type\":\"warning\"},{\"background\":\"#007bff\",\"icon\":{\"className\":\"fas fa-info-circle\",\"color\":\"white\",\"tagName\":\"i\"},\"type\":\"info\"}],\"kind\":null,\"name\":\"types\"}]},{\"extends\":null,\"module\":null,\"name\":\"Notification\",\"overrides\":[],\"properties\":[{\"default\":null,\"kind\":null,\"name\":\"background\"},{\"default\":3000,\"kind\":null,\"name\":\"duration\"},{\"default\":null,\"kind\":null,\"name\":\"icon\"},{\"default\":\"\",\"kind\":null,\"name\":\"message\"},{\"default\":null,\"kind\":null,\"name\":\"notification_type\"},{\"default\":false,\"kind\":null,\"name\":\"_destroyed\"}]},{\"extends\":null,\"module\":null,\"name\":\"TemplateActions1\",\"overrides\":[],\"properties\":[{\"default\":0,\"kind\":null,\"name\":\"open_modal\"},{\"default\":0,\"kind\":null,\"name\":\"close_modal\"}]},{\"extends\":null,\"module\":null,\"name\":\"MaterialTemplateActions1\",\"overrides\":[],\"properties\":[{\"default\":0,\"kind\":null,\"name\":\"open_modal\"},{\"default\":0,\"kind\":null,\"name\":\"close_modal\"}]}],\"roots\":{\"references\":[{\"attributes\":{\"client_comm_id\":\"634f10c4fe6b4d159da7764321c083b6\",\"comm_id\":\"45c1ee678f24404f824a2562ca8ede1e\",\"plot_id\":\"1232\"},\"id\":\"1233\",\"type\":\"panel.models.comm_manager.CommManager\"},{\"attributes\":{\"active\":[0],\"labels\":[\"MODIS\"],\"margin\":[5,10,5,10],\"sizing_mode\":\"stretch_width\"},\"id\":\"1232\",\"type\":\"CheckboxGroup\"}],\"root_ids\":[\"1232\",\"1233\"]},\"title\":\"Bokeh Application\",\"version\":\"2.4.3\"}};\n",
       "    var render_items = [{\"docid\":\"bd114b46-02e8-4872-8a3a-77f3c83f305a\",\"root_ids\":[\"1232\"],\"roots\":{\"1232\":\"b512b7dc-f185-4363-b8bb-07f3ec7d14c3\"}}];\n",
       "    root.Bokeh.embed.embed_items_notebook(docs_json, render_items);\n",
       "    for (const render_item of render_items) {\n",
       "      for (const root_id of render_item.root_ids) {\n",
       "\tconst id_el = document.getElementById(root_id)\n",
       "\tif (id_el.children.length && (id_el.children[0].className === 'bk-root')) {\n",
       "\t  const root_el = id_el.children[0]\n",
       "\t  root_el.id = root_el.id + '-rendered'\n",
       "\t}\n",
       "      }\n",
       "    }\n",
       "  }\n",
       "  if (root.Bokeh !== undefined && root.Bokeh.Panel !== undefined && ( root['Tabulator'] !== undefined) && ( root['Tabulator'] !== undefined) && ( root['Tabulator'] !== undefined) && ( root['Tabulator'] !== undefined) && ( root['Tabulator'] !== undefined) && ( root['Tabulator'] !== undefined)) {\n",
       "    embed_document(root);\n",
       "  } else {\n",
       "    var attempts = 0;\n",
       "    var timer = setInterval(function(root) {\n",
       "      if (root.Bokeh !== undefined && root.Bokeh.Panel !== undefined && (root['Tabulator'] !== undefined) && (root['Tabulator'] !== undefined) && (root['Tabulator'] !== undefined) && (root['Tabulator'] !== undefined) && (root['Tabulator'] !== undefined) && (root['Tabulator'] !== undefined)) {\n",
       "        clearInterval(timer);\n",
       "        embed_document(root);\n",
       "      } else if (document.readyState == \"complete\") {\n",
       "        attempts++;\n",
       "        if (attempts > 200) {\n",
       "          clearInterval(timer);\n",
       "          console.log(\"Bokeh: ERROR: Unable to run BokehJS code because BokehJS library is missing\");\n",
       "        }\n",
       "      }\n",
       "    }, 25, root)\n",
       "  }\n",
       "})(window);</script>"
      ],
      "text/plain": [
       "Checkbox(name='MODIS', sizing_mode='stretch_width', value=True)"
      ]
     },
     "execution_count": 317,
     "metadata": {
      "application/vnd.holoviews_exec.v0+json": {
       "id": "1232"
      }
     },
     "output_type": "execute_result"
    }
   ],
   "source": [
    "checkbox = pn.widgets.Checkbox(name='MODIS', value= True, disabled = False )\n",
    "checkbox"
   ]
  },
  {
   "cell_type": "code",
   "execution_count": 318,
   "id": "939f2151",
   "metadata": {},
   "outputs": [
    {
     "data": {},
     "metadata": {},
     "output_type": "display_data"
    },
    {
     "data": {
      "application/vnd.holoviews_exec.v0+json": "",
      "text/html": [
       "<div id='1234'>\n",
       "  <div class=\"bk-root\" id=\"94c83160-4f77-47f9-86bc-80efd52a91a3\" data-root-id=\"1234\"></div>\n",
       "</div>\n",
       "<script type=\"application/javascript\">(function(root) {\n",
       "  function embed_document(root) {\n",
       "    var docs_json = {\"9b964dfc-c3bb-4f29-a0fd-12910bbc4f86\":{\"defs\":[{\"extends\":null,\"module\":null,\"name\":\"ReactiveHTML1\",\"overrides\":[],\"properties\":[]},{\"extends\":null,\"module\":null,\"name\":\"FlexBox1\",\"overrides\":[],\"properties\":[{\"default\":\"flex-start\",\"kind\":null,\"name\":\"align_content\"},{\"default\":\"flex-start\",\"kind\":null,\"name\":\"align_items\"},{\"default\":\"row\",\"kind\":null,\"name\":\"flex_direction\"},{\"default\":\"wrap\",\"kind\":null,\"name\":\"flex_wrap\"},{\"default\":\"flex-start\",\"kind\":null,\"name\":\"justify_content\"}]},{\"extends\":null,\"module\":null,\"name\":\"GridStack1\",\"overrides\":[],\"properties\":[{\"default\":\"warn\",\"kind\":null,\"name\":\"mode\"},{\"default\":null,\"kind\":null,\"name\":\"ncols\"},{\"default\":null,\"kind\":null,\"name\":\"nrows\"},{\"default\":true,\"kind\":null,\"name\":\"allow_resize\"},{\"default\":true,\"kind\":null,\"name\":\"allow_drag\"},{\"default\":[],\"kind\":null,\"name\":\"state\"}]},{\"extends\":null,\"module\":null,\"name\":\"click1\",\"overrides\":[],\"properties\":[{\"default\":\"\",\"kind\":null,\"name\":\"terminal_output\"},{\"default\":\"\",\"kind\":null,\"name\":\"debug_name\"},{\"default\":0,\"kind\":null,\"name\":\"clears\"}]},{\"extends\":null,\"module\":null,\"name\":\"NotificationAreaBase1\",\"overrides\":[],\"properties\":[{\"default\":\"bottom-right\",\"kind\":null,\"name\":\"position\"},{\"default\":0,\"kind\":null,\"name\":\"_clear\"}]},{\"extends\":null,\"module\":null,\"name\":\"NotificationArea1\",\"overrides\":[],\"properties\":[{\"default\":[],\"kind\":null,\"name\":\"notifications\"},{\"default\":\"bottom-right\",\"kind\":null,\"name\":\"position\"},{\"default\":0,\"kind\":null,\"name\":\"_clear\"},{\"default\":[{\"background\":\"#ffc107\",\"icon\":{\"className\":\"fas fa-exclamation-triangle\",\"color\":\"white\",\"tagName\":\"i\"},\"type\":\"warning\"},{\"background\":\"#007bff\",\"icon\":{\"className\":\"fas fa-info-circle\",\"color\":\"white\",\"tagName\":\"i\"},\"type\":\"info\"}],\"kind\":null,\"name\":\"types\"}]},{\"extends\":null,\"module\":null,\"name\":\"Notification\",\"overrides\":[],\"properties\":[{\"default\":null,\"kind\":null,\"name\":\"background\"},{\"default\":3000,\"kind\":null,\"name\":\"duration\"},{\"default\":null,\"kind\":null,\"name\":\"icon\"},{\"default\":\"\",\"kind\":null,\"name\":\"message\"},{\"default\":null,\"kind\":null,\"name\":\"notification_type\"},{\"default\":false,\"kind\":null,\"name\":\"_destroyed\"}]},{\"extends\":null,\"module\":null,\"name\":\"TemplateActions1\",\"overrides\":[],\"properties\":[{\"default\":0,\"kind\":null,\"name\":\"open_modal\"},{\"default\":0,\"kind\":null,\"name\":\"close_modal\"}]},{\"extends\":null,\"module\":null,\"name\":\"MaterialTemplateActions1\",\"overrides\":[],\"properties\":[{\"default\":0,\"kind\":null,\"name\":\"open_modal\"},{\"default\":0,\"kind\":null,\"name\":\"close_modal\"}]}],\"roots\":{\"references\":[{\"attributes\":{\"active\":[0],\"labels\":[\"VIIRS\"],\"margin\":[5,10,5,10],\"sizing_mode\":\"stretch_width\"},\"id\":\"1234\",\"type\":\"CheckboxGroup\"},{\"attributes\":{\"client_comm_id\":\"4910d0f081a44b89987b2ea7f8493738\",\"comm_id\":\"84548796772549088cbb569e960be704\",\"plot_id\":\"1234\"},\"id\":\"1235\",\"type\":\"panel.models.comm_manager.CommManager\"}],\"root_ids\":[\"1234\",\"1235\"]},\"title\":\"Bokeh Application\",\"version\":\"2.4.3\"}};\n",
       "    var render_items = [{\"docid\":\"9b964dfc-c3bb-4f29-a0fd-12910bbc4f86\",\"root_ids\":[\"1234\"],\"roots\":{\"1234\":\"94c83160-4f77-47f9-86bc-80efd52a91a3\"}}];\n",
       "    root.Bokeh.embed.embed_items_notebook(docs_json, render_items);\n",
       "    for (const render_item of render_items) {\n",
       "      for (const root_id of render_item.root_ids) {\n",
       "\tconst id_el = document.getElementById(root_id)\n",
       "\tif (id_el.children.length && (id_el.children[0].className === 'bk-root')) {\n",
       "\t  const root_el = id_el.children[0]\n",
       "\t  root_el.id = root_el.id + '-rendered'\n",
       "\t}\n",
       "      }\n",
       "    }\n",
       "  }\n",
       "  if (root.Bokeh !== undefined && root.Bokeh.Panel !== undefined && ( root['Tabulator'] !== undefined) && ( root['Tabulator'] !== undefined) && ( root['Tabulator'] !== undefined) && ( root['Tabulator'] !== undefined) && ( root['Tabulator'] !== undefined) && ( root['Tabulator'] !== undefined)) {\n",
       "    embed_document(root);\n",
       "  } else {\n",
       "    var attempts = 0;\n",
       "    var timer = setInterval(function(root) {\n",
       "      if (root.Bokeh !== undefined && root.Bokeh.Panel !== undefined && (root['Tabulator'] !== undefined) && (root['Tabulator'] !== undefined) && (root['Tabulator'] !== undefined) && (root['Tabulator'] !== undefined) && (root['Tabulator'] !== undefined) && (root['Tabulator'] !== undefined)) {\n",
       "        clearInterval(timer);\n",
       "        embed_document(root);\n",
       "      } else if (document.readyState == \"complete\") {\n",
       "        attempts++;\n",
       "        if (attempts > 200) {\n",
       "          clearInterval(timer);\n",
       "          console.log(\"Bokeh: ERROR: Unable to run BokehJS code because BokehJS library is missing\");\n",
       "        }\n",
       "      }\n",
       "    }, 25, root)\n",
       "  }\n",
       "})(window);</script>"
      ],
      "text/plain": [
       "Checkbox(name='VIIRS', sizing_mode='stretch_width', value=True)"
      ]
     },
     "execution_count": 318,
     "metadata": {
      "application/vnd.holoviews_exec.v0+json": {
       "id": "1234"
      }
     },
     "output_type": "execute_result"
    }
   ],
   "source": [
    "checkbox2 = pn.widgets.Checkbox(name='VIIRS', value= True, disabled = False )\n",
    "checkbox2"
   ]
  },
  {
   "cell_type": "code",
   "execution_count": 319,
   "id": "dade9cb8",
   "metadata": {},
   "outputs": [
    {
     "data": {},
     "metadata": {},
     "output_type": "display_data"
    },
    {
     "data": {
      "application/vnd.holoviews_exec.v0+json": "",
      "text/html": [
       "<div id='1236'>\n",
       "  <div class=\"bk-root\" id=\"a7916f2a-0b06-4aa3-8c08-1752199984e0\" data-root-id=\"1236\"></div>\n",
       "</div>\n",
       "<script type=\"application/javascript\">(function(root) {\n",
       "  function embed_document(root) {\n",
       "    var docs_json = {\"d5078b8b-3275-4c6d-b4d4-d05b60daadc4\":{\"defs\":[{\"extends\":null,\"module\":null,\"name\":\"ReactiveHTML1\",\"overrides\":[],\"properties\":[]},{\"extends\":null,\"module\":null,\"name\":\"FlexBox1\",\"overrides\":[],\"properties\":[{\"default\":\"flex-start\",\"kind\":null,\"name\":\"align_content\"},{\"default\":\"flex-start\",\"kind\":null,\"name\":\"align_items\"},{\"default\":\"row\",\"kind\":null,\"name\":\"flex_direction\"},{\"default\":\"wrap\",\"kind\":null,\"name\":\"flex_wrap\"},{\"default\":\"flex-start\",\"kind\":null,\"name\":\"justify_content\"}]},{\"extends\":null,\"module\":null,\"name\":\"GridStack1\",\"overrides\":[],\"properties\":[{\"default\":\"warn\",\"kind\":null,\"name\":\"mode\"},{\"default\":null,\"kind\":null,\"name\":\"ncols\"},{\"default\":null,\"kind\":null,\"name\":\"nrows\"},{\"default\":true,\"kind\":null,\"name\":\"allow_resize\"},{\"default\":true,\"kind\":null,\"name\":\"allow_drag\"},{\"default\":[],\"kind\":null,\"name\":\"state\"}]},{\"extends\":null,\"module\":null,\"name\":\"click1\",\"overrides\":[],\"properties\":[{\"default\":\"\",\"kind\":null,\"name\":\"terminal_output\"},{\"default\":\"\",\"kind\":null,\"name\":\"debug_name\"},{\"default\":0,\"kind\":null,\"name\":\"clears\"}]},{\"extends\":null,\"module\":null,\"name\":\"NotificationAreaBase1\",\"overrides\":[],\"properties\":[{\"default\":\"bottom-right\",\"kind\":null,\"name\":\"position\"},{\"default\":0,\"kind\":null,\"name\":\"_clear\"}]},{\"extends\":null,\"module\":null,\"name\":\"NotificationArea1\",\"overrides\":[],\"properties\":[{\"default\":[],\"kind\":null,\"name\":\"notifications\"},{\"default\":\"bottom-right\",\"kind\":null,\"name\":\"position\"},{\"default\":0,\"kind\":null,\"name\":\"_clear\"},{\"default\":[{\"background\":\"#ffc107\",\"icon\":{\"className\":\"fas fa-exclamation-triangle\",\"color\":\"white\",\"tagName\":\"i\"},\"type\":\"warning\"},{\"background\":\"#007bff\",\"icon\":{\"className\":\"fas fa-info-circle\",\"color\":\"white\",\"tagName\":\"i\"},\"type\":\"info\"}],\"kind\":null,\"name\":\"types\"}]},{\"extends\":null,\"module\":null,\"name\":\"Notification\",\"overrides\":[],\"properties\":[{\"default\":null,\"kind\":null,\"name\":\"background\"},{\"default\":3000,\"kind\":null,\"name\":\"duration\"},{\"default\":null,\"kind\":null,\"name\":\"icon\"},{\"default\":\"\",\"kind\":null,\"name\":\"message\"},{\"default\":null,\"kind\":null,\"name\":\"notification_type\"},{\"default\":false,\"kind\":null,\"name\":\"_destroyed\"}]},{\"extends\":null,\"module\":null,\"name\":\"TemplateActions1\",\"overrides\":[],\"properties\":[{\"default\":0,\"kind\":null,\"name\":\"open_modal\"},{\"default\":0,\"kind\":null,\"name\":\"close_modal\"}]},{\"extends\":null,\"module\":null,\"name\":\"MaterialTemplateActions1\",\"overrides\":[],\"properties\":[{\"default\":0,\"kind\":null,\"name\":\"open_modal\"},{\"default\":0,\"kind\":null,\"name\":\"close_modal\"}]}],\"roots\":{\"references\":[{\"attributes\":{\"client_comm_id\":\"2ff45e4c976c433a9590865d20ef7f77\",\"comm_id\":\"281cbf578d3749e29fe958c42d60e139\",\"plot_id\":\"1236\"},\"id\":\"1237\",\"type\":\"panel.models.comm_manager.CommManager\"},{\"attributes\":{\"active\":[0,1],\"inline\":true,\"labels\":[\"Aqua\",\"Tera\"],\"margin\":[5,10,5,10],\"sizing_mode\":\"stretch_width\"},\"id\":\"1236\",\"type\":\"CheckboxGroup\"}],\"root_ids\":[\"1236\",\"1237\"]},\"title\":\"Bokeh Application\",\"version\":\"2.4.3\"}};\n",
       "    var render_items = [{\"docid\":\"d5078b8b-3275-4c6d-b4d4-d05b60daadc4\",\"root_ids\":[\"1236\"],\"roots\":{\"1236\":\"a7916f2a-0b06-4aa3-8c08-1752199984e0\"}}];\n",
       "    root.Bokeh.embed.embed_items_notebook(docs_json, render_items);\n",
       "    for (const render_item of render_items) {\n",
       "      for (const root_id of render_item.root_ids) {\n",
       "\tconst id_el = document.getElementById(root_id)\n",
       "\tif (id_el.children.length && (id_el.children[0].className === 'bk-root')) {\n",
       "\t  const root_el = id_el.children[0]\n",
       "\t  root_el.id = root_el.id + '-rendered'\n",
       "\t}\n",
       "      }\n",
       "    }\n",
       "  }\n",
       "  if (root.Bokeh !== undefined && root.Bokeh.Panel !== undefined && ( root['Tabulator'] !== undefined) && ( root['Tabulator'] !== undefined) && ( root['Tabulator'] !== undefined) && ( root['Tabulator'] !== undefined) && ( root['Tabulator'] !== undefined) && ( root['Tabulator'] !== undefined)) {\n",
       "    embed_document(root);\n",
       "  } else {\n",
       "    var attempts = 0;\n",
       "    var timer = setInterval(function(root) {\n",
       "      if (root.Bokeh !== undefined && root.Bokeh.Panel !== undefined && (root['Tabulator'] !== undefined) && (root['Tabulator'] !== undefined) && (root['Tabulator'] !== undefined) && (root['Tabulator'] !== undefined) && (root['Tabulator'] !== undefined) && (root['Tabulator'] !== undefined)) {\n",
       "        clearInterval(timer);\n",
       "        embed_document(root);\n",
       "      } else if (document.readyState == \"complete\") {\n",
       "        attempts++;\n",
       "        if (attempts > 200) {\n",
       "          clearInterval(timer);\n",
       "          console.log(\"Bokeh: ERROR: Unable to run BokehJS code because BokehJS library is missing\");\n",
       "        }\n",
       "      }\n",
       "    }, 25, root)\n",
       "  }\n",
       "})(window);</script>"
      ],
      "text/plain": [
       "CheckBoxGroup(inline=True, name='Checkbox Group', options=['Aqua', 'Tera'], sizing_mode='stretch_width', value=['Aqua', 'Tera'])"
      ]
     },
     "execution_count": 319,
     "metadata": {
      "application/vnd.holoviews_exec.v0+json": {
       "id": "1236"
      }
     },
     "output_type": "execute_result"
    }
   ],
   "source": [
    "checkbox_group = pn.widgets.CheckBoxGroup(\n",
    "    name='Checkbox Group', value=['Aqua', 'Tera'], options=['Aqua', 'Tera'], disabled = False,\n",
    "    inline=True)\n",
    "\n",
    "checkbox_group"
   ]
  },
  {
   "cell_type": "code",
   "execution_count": 320,
   "id": "b1a99c0e",
   "metadata": {},
   "outputs": [
    {
     "data": {},
     "metadata": {},
     "output_type": "display_data"
    },
    {
     "data": {
      "application/vnd.holoviews_exec.v0+json": "",
      "text/html": [
       "<div id='1238'>\n",
       "  <div class=\"bk-root\" id=\"6fe55d9f-3ba5-4499-bb78-3bf2134a9a50\" data-root-id=\"1238\"></div>\n",
       "</div>\n",
       "<script type=\"application/javascript\">(function(root) {\n",
       "  function embed_document(root) {\n",
       "    var docs_json = {\"4eafe50d-d0e9-40ca-b764-309db8f03439\":{\"defs\":[{\"extends\":null,\"module\":null,\"name\":\"ReactiveHTML1\",\"overrides\":[],\"properties\":[]},{\"extends\":null,\"module\":null,\"name\":\"FlexBox1\",\"overrides\":[],\"properties\":[{\"default\":\"flex-start\",\"kind\":null,\"name\":\"align_content\"},{\"default\":\"flex-start\",\"kind\":null,\"name\":\"align_items\"},{\"default\":\"row\",\"kind\":null,\"name\":\"flex_direction\"},{\"default\":\"wrap\",\"kind\":null,\"name\":\"flex_wrap\"},{\"default\":\"flex-start\",\"kind\":null,\"name\":\"justify_content\"}]},{\"extends\":null,\"module\":null,\"name\":\"GridStack1\",\"overrides\":[],\"properties\":[{\"default\":\"warn\",\"kind\":null,\"name\":\"mode\"},{\"default\":null,\"kind\":null,\"name\":\"ncols\"},{\"default\":null,\"kind\":null,\"name\":\"nrows\"},{\"default\":true,\"kind\":null,\"name\":\"allow_resize\"},{\"default\":true,\"kind\":null,\"name\":\"allow_drag\"},{\"default\":[],\"kind\":null,\"name\":\"state\"}]},{\"extends\":null,\"module\":null,\"name\":\"click1\",\"overrides\":[],\"properties\":[{\"default\":\"\",\"kind\":null,\"name\":\"terminal_output\"},{\"default\":\"\",\"kind\":null,\"name\":\"debug_name\"},{\"default\":0,\"kind\":null,\"name\":\"clears\"}]},{\"extends\":null,\"module\":null,\"name\":\"NotificationAreaBase1\",\"overrides\":[],\"properties\":[{\"default\":\"bottom-right\",\"kind\":null,\"name\":\"position\"},{\"default\":0,\"kind\":null,\"name\":\"_clear\"}]},{\"extends\":null,\"module\":null,\"name\":\"NotificationArea1\",\"overrides\":[],\"properties\":[{\"default\":[],\"kind\":null,\"name\":\"notifications\"},{\"default\":\"bottom-right\",\"kind\":null,\"name\":\"position\"},{\"default\":0,\"kind\":null,\"name\":\"_clear\"},{\"default\":[{\"background\":\"#ffc107\",\"icon\":{\"className\":\"fas fa-exclamation-triangle\",\"color\":\"white\",\"tagName\":\"i\"},\"type\":\"warning\"},{\"background\":\"#007bff\",\"icon\":{\"className\":\"fas fa-info-circle\",\"color\":\"white\",\"tagName\":\"i\"},\"type\":\"info\"}],\"kind\":null,\"name\":\"types\"}]},{\"extends\":null,\"module\":null,\"name\":\"Notification\",\"overrides\":[],\"properties\":[{\"default\":null,\"kind\":null,\"name\":\"background\"},{\"default\":3000,\"kind\":null,\"name\":\"duration\"},{\"default\":null,\"kind\":null,\"name\":\"icon\"},{\"default\":\"\",\"kind\":null,\"name\":\"message\"},{\"default\":null,\"kind\":null,\"name\":\"notification_type\"},{\"default\":false,\"kind\":null,\"name\":\"_destroyed\"}]},{\"extends\":null,\"module\":null,\"name\":\"TemplateActions1\",\"overrides\":[],\"properties\":[{\"default\":0,\"kind\":null,\"name\":\"open_modal\"},{\"default\":0,\"kind\":null,\"name\":\"close_modal\"}]},{\"extends\":null,\"module\":null,\"name\":\"MaterialTemplateActions1\",\"overrides\":[],\"properties\":[{\"default\":0,\"kind\":null,\"name\":\"open_modal\"},{\"default\":0,\"kind\":null,\"name\":\"close_modal\"}]}],\"roots\":{\"references\":[{\"attributes\":{\"active\":[0,1],\"inline\":true,\"labels\":[\"S-NPP\",\"NOAA 20\"],\"margin\":[5,10,5,10],\"sizing_mode\":\"stretch_width\"},\"id\":\"1238\",\"type\":\"CheckboxGroup\"},{\"attributes\":{\"client_comm_id\":\"7a8536dc0c9f430a819634904812bc97\",\"comm_id\":\"eb594edc373b42b7b55344ba44ed2f0e\",\"plot_id\":\"1238\"},\"id\":\"1239\",\"type\":\"panel.models.comm_manager.CommManager\"}],\"root_ids\":[\"1238\",\"1239\"]},\"title\":\"Bokeh Application\",\"version\":\"2.4.3\"}};\n",
       "    var render_items = [{\"docid\":\"4eafe50d-d0e9-40ca-b764-309db8f03439\",\"root_ids\":[\"1238\"],\"roots\":{\"1238\":\"6fe55d9f-3ba5-4499-bb78-3bf2134a9a50\"}}];\n",
       "    root.Bokeh.embed.embed_items_notebook(docs_json, render_items);\n",
       "    for (const render_item of render_items) {\n",
       "      for (const root_id of render_item.root_ids) {\n",
       "\tconst id_el = document.getElementById(root_id)\n",
       "\tif (id_el.children.length && (id_el.children[0].className === 'bk-root')) {\n",
       "\t  const root_el = id_el.children[0]\n",
       "\t  root_el.id = root_el.id + '-rendered'\n",
       "\t}\n",
       "      }\n",
       "    }\n",
       "  }\n",
       "  if (root.Bokeh !== undefined && root.Bokeh.Panel !== undefined && ( root['Tabulator'] !== undefined) && ( root['Tabulator'] !== undefined) && ( root['Tabulator'] !== undefined) && ( root['Tabulator'] !== undefined) && ( root['Tabulator'] !== undefined) && ( root['Tabulator'] !== undefined)) {\n",
       "    embed_document(root);\n",
       "  } else {\n",
       "    var attempts = 0;\n",
       "    var timer = setInterval(function(root) {\n",
       "      if (root.Bokeh !== undefined && root.Bokeh.Panel !== undefined && (root['Tabulator'] !== undefined) && (root['Tabulator'] !== undefined) && (root['Tabulator'] !== undefined) && (root['Tabulator'] !== undefined) && (root['Tabulator'] !== undefined) && (root['Tabulator'] !== undefined)) {\n",
       "        clearInterval(timer);\n",
       "        embed_document(root);\n",
       "      } else if (document.readyState == \"complete\") {\n",
       "        attempts++;\n",
       "        if (attempts > 200) {\n",
       "          clearInterval(timer);\n",
       "          console.log(\"Bokeh: ERROR: Unable to run BokehJS code because BokehJS library is missing\");\n",
       "        }\n",
       "      }\n",
       "    }, 25, root)\n",
       "  }\n",
       "})(window);</script>"
      ],
      "text/plain": [
       "CheckBoxGroup(inline=True, name='Checkbox Group', options=['S-NPP', 'NOAA 20'], sizing_mode='stretch_width', value=['S-NPP', 'NOAA 20'])"
      ]
     },
     "execution_count": 320,
     "metadata": {
      "application/vnd.holoviews_exec.v0+json": {
       "id": "1238"
      }
     },
     "output_type": "execute_result"
    }
   ],
   "source": [
    "checkbox_group2 = pn.widgets.CheckBoxGroup(\n",
    "    name='Checkbox Group', value=['S-NPP', 'NOAA 20'], options=['S-NPP', 'NOAA 20'], disabled = False,\n",
    "    inline=True)\n",
    "\n",
    "checkbox_group2"
   ]
  },
  {
   "cell_type": "code",
   "execution_count": 321,
   "id": "af99e286",
   "metadata": {},
   "outputs": [],
   "source": [
    "fig = px.bar(dfh, x='week', y='fire_count', color='year',\n",
    "       title='Wildfire Hotspot trends in Telengana Nalgonda and Nagarkurnool district')\n",
    "#fig"
   ]
  },
  {
   "cell_type": "code",
   "execution_count": 322,
   "id": "6896ca65",
   "metadata": {},
   "outputs": [],
   "source": [
    "#pn.pane.Alert('## Alert\\nThis is a warning!')"
   ]
  },
  {
   "cell_type": "markdown",
   "id": "ef1d523e-0409-4024-9783-2b654b8f9d53",
   "metadata": {},
   "source": [
    "## (11) Creating Dashboard"
   ]
  },
  {
   "cell_type": "code",
   "execution_count": 323,
   "id": "1c2e45bf-37c7-48e0-a2d3-a36da8843362",
   "metadata": {},
   "outputs": [],
   "source": [
    "#Layout using Template\n",
    "template = pn.template.FastListTemplate(\n",
    "    site=\"Smart Forest\",\n",
    "    #logo=\"https://panel.holoviz.org/_images/logo_stacked.png\",\n",
    "    title='Amarabad Tiger Reserve',\n",
    "    sidebar=[pn.pane.Markdown(\"## Wildfire Prediction\"), \n",
    "             pn.pane.Markdown(\"## Wildfire Detection\"),\n",
    "             pn.pane.Markdown(\"## Wildfire Trends\"),\n",
    "             #pn.pane.Markdown(\"#### Wild fire is one of the primary reason for climate change hazard.Track wild fire realtime and forecast wildfire\"), \n",
    "             #pn.pane.PNG('fire-flame.png', sizing_mode='scale_both'),\n",
    "             pn.pane.Markdown(\"## Settings\"),\n",
    "             pn.pane.Markdown(\"#### Select Satellites & Instruments.\"),\n",
    "             pn.Row(checkbox),\n",
    "             pn.Row(checkbox_group),\n",
    "             pn.Row(checkbox2),\n",
    "             pn.Row(checkbox_group2),\n",
    "             pn.pane.Markdown(\"#### Select Week Range\"),\n",
    "             pn.Row(week_range_slider)],\n",
    "    main=[pn.pane.Alert('## Alert\\nThere is a Fire Detection Warning!', alert_type=\"danger\"),\n",
    "          pn.pane.Markdown(\"# Wildfire Prediction\"),\n",
    "          pn.Row(pn.Column(PanelFoliumMapForecast().view),\n",
    "                 pn.Column(week_slider,predict_table.panel(width=500))),\n",
    "          pn.Row(pn.Column(week_vs_conf_scatterplot.panel(width=600), margin=(0,25)), \n",
    "                 pn.Column(yaxis_district, week_predict_bar_plot.panel(width=600))),\n",
    "          pn.pane.Markdown(\"# Wildfire Detection\", align=\"center\"),\n",
    "          pn.Row(pn.Column(yaxis_duration,\n",
    "                           PanelFoliumMap().view), \n",
    "                 active_fire_table.panel(width=500)),\n",
    "          pn.pane.Markdown(\"# Wildfire Trends\", align=\"center\"),\n",
    "          pn.Row(pn.Column(fig))],\n",
    "    accent_base_color=\"#88d8b0\",\n",
    "    header_background=\"#88d8b0\",\n",
    "    main_layout=\"\",\n",
    ")\n",
    "#template.show()\n",
    "template.servable();"
   ]
  },
  {
   "cell_type": "code",
   "execution_count": null,
   "id": "112b62be",
   "metadata": {},
   "outputs": [],
   "source": []
  }
 ],
 "metadata": {
  "kernelspec": {
   "display_name": "Python 3 (ipykernel)",
   "language": "python",
   "name": "python3"
  },
  "language_info": {
   "codemirror_mode": {
    "name": "ipython",
    "version": 3
   },
   "file_extension": ".py",
   "mimetype": "text/x-python",
   "name": "python",
   "nbconvert_exporter": "python",
   "pygments_lexer": "ipython3",
   "version": "3.10.6"
  }
 },
 "nbformat": 4,
 "nbformat_minor": 5
}
