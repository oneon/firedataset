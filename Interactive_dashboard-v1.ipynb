{
 "cells": [
  {
   "cell_type": "code",
   "execution_count": 1,
   "id": "fdc9dea9-977d-47ec-a607-c4302a010733",
   "metadata": {},
   "outputs": [
    {
     "data": {
      "application/javascript": [
       "(function(root) {\n",
       "  function now() {\n",
       "    return new Date();\n",
       "  }\n",
       "\n",
       "  var force = true;\n",
       "\n",
       "  if (typeof root._bokeh_onload_callbacks === \"undefined\" || force === true) {\n",
       "    root._bokeh_onload_callbacks = [];\n",
       "    root._bokeh_is_loading = undefined;\n",
       "  }\n",
       "\n",
       "  if (typeof (root._bokeh_timeout) === \"undefined\" || force === true) {\n",
       "    root._bokeh_timeout = Date.now() + 5000;\n",
       "    root._bokeh_failed_load = false;\n",
       "  }\n",
       "\n",
       "  function run_callbacks() {\n",
       "    try {\n",
       "      root._bokeh_onload_callbacks.forEach(function(callback) {\n",
       "        if (callback != null)\n",
       "          callback();\n",
       "      });\n",
       "    } finally {\n",
       "      delete root._bokeh_onload_callbacks\n",
       "    }\n",
       "    console.debug(\"Bokeh: all callbacks have finished\");\n",
       "  }\n",
       "\n",
       "  function load_libs(css_urls, js_urls, js_modules, callback) {\n",
       "    if (css_urls == null) css_urls = [];\n",
       "    if (js_urls == null) js_urls = [];\n",
       "    if (js_modules == null) js_modules = [];\n",
       "\n",
       "    root._bokeh_onload_callbacks.push(callback);\n",
       "    if (root._bokeh_is_loading > 0) {\n",
       "      console.debug(\"Bokeh: BokehJS is being loaded, scheduling callback at\", now());\n",
       "      return null;\n",
       "    }\n",
       "    if (js_urls.length === 0 && js_modules.length === 0) {\n",
       "      run_callbacks();\n",
       "      return null;\n",
       "    }\n",
       "    console.debug(\"Bokeh: BokehJS not loaded, scheduling load and callback at\", now());\n",
       "\n",
       "    function on_load() {\n",
       "      root._bokeh_is_loading--;\n",
       "      if (root._bokeh_is_loading === 0) {\n",
       "        console.debug(\"Bokeh: all BokehJS libraries/stylesheets loaded\");\n",
       "        run_callbacks()\n",
       "      }\n",
       "    }\n",
       "\n",
       "    function on_error() {\n",
       "      console.error(\"failed to load \" + url);\n",
       "    }\n",
       "\n",
       "    for (var i = 0; i < css_urls.length; i++) {\n",
       "      var url = css_urls[i];\n",
       "      const element = document.createElement(\"link\");\n",
       "      element.onload = on_load;\n",
       "      element.onerror = on_error;\n",
       "      element.rel = \"stylesheet\";\n",
       "      element.type = \"text/css\";\n",
       "      element.href = url;\n",
       "      console.debug(\"Bokeh: injecting link tag for BokehJS stylesheet: \", url);\n",
       "      document.body.appendChild(element);\n",
       "    }\n",
       "\n",
       "    var skip = [];\n",
       "    if (window.requirejs) {\n",
       "      window.requirejs.config({'packages': {}, 'paths': {'tabulator': 'https://cdn.jsdelivr.net/npm/tabulator-tables@5.3.2/dist/js/tabulator', 'moment': 'https://cdn.jsdelivr.net/npm/luxon/build/global/luxon.min', 'gridstack': 'https://cdn.jsdelivr.net/npm/gridstack@4.2.5/dist/gridstack-h5', 'notyf': 'https://cdn.jsdelivr.net/npm/notyf@3/notyf.min'}, 'shim': {'gridstack': {'exports': 'GridStack'}}});\n",
       "      require([\"tabulator\"], function(Tabulator) {\n",
       "\twindow.Tabulator = Tabulator\n",
       "\ton_load()\n",
       "      })\n",
       "      require([\"moment\"], function(moment) {\n",
       "\twindow.moment = moment\n",
       "\ton_load()\n",
       "      })\n",
       "      require([\"gridstack\"], function(GridStack) {\n",
       "\twindow.GridStack = GridStack\n",
       "\ton_load()\n",
       "      })\n",
       "      require([\"notyf\"], function() {\n",
       "\ton_load()\n",
       "      })\n",
       "      root._bokeh_is_loading = css_urls.length + 4;\n",
       "    } else {\n",
       "      root._bokeh_is_loading = css_urls.length + js_urls.length + js_modules.length;\n",
       "    }    if (((window['Tabulator'] !== undefined) && (!(window['Tabulator'] instanceof HTMLElement))) || window.requirejs) {\n",
       "      var urls = ['https://cdn.holoviz.org/panel/0.14.3/dist/bundled/datatabulator/tabulator-tables@5.3.2/dist/js/tabulator.js'];\n",
       "      for (var i = 0; i < urls.length; i++) {\n",
       "        skip.push(urls[i])\n",
       "      }\n",
       "    }    if (((window['moment'] !== undefined) && (!(window['moment'] instanceof HTMLElement))) || window.requirejs) {\n",
       "      var urls = ['https://cdn.holoviz.org/panel/0.14.3/dist/bundled/datatabulator/luxon/build/global/luxon.min.js'];\n",
       "      for (var i = 0; i < urls.length; i++) {\n",
       "        skip.push(urls[i])\n",
       "      }\n",
       "    }    if (((window['GridStack'] !== undefined) && (!(window['GridStack'] instanceof HTMLElement))) || window.requirejs) {\n",
       "      var urls = ['https://cdn.holoviz.org/panel/0.14.3/dist/bundled/gridstack/gridstack@4.2.5/dist/gridstack-h5.js'];\n",
       "      for (var i = 0; i < urls.length; i++) {\n",
       "        skip.push(urls[i])\n",
       "      }\n",
       "    }    if (((window['Notyf'] !== undefined) && (!(window['Notyf'] instanceof HTMLElement))) || window.requirejs) {\n",
       "      var urls = ['https://cdn.holoviz.org/panel/0.14.3/dist/bundled/notificationarea/notyf@3/notyf.min.js'];\n",
       "      for (var i = 0; i < urls.length; i++) {\n",
       "        skip.push(urls[i])\n",
       "      }\n",
       "    }    for (var i = 0; i < js_urls.length; i++) {\n",
       "      var url = js_urls[i];\n",
       "      if (skip.indexOf(url) >= 0) {\n",
       "\tif (!window.requirejs) {\n",
       "\t  on_load();\n",
       "\t}\n",
       "\tcontinue;\n",
       "      }\n",
       "      var element = document.createElement('script');\n",
       "      element.onload = on_load;\n",
       "      element.onerror = on_error;\n",
       "      element.async = false;\n",
       "      element.src = url;\n",
       "      console.debug(\"Bokeh: injecting script tag for BokehJS library: \", url);\n",
       "      document.head.appendChild(element);\n",
       "    }\n",
       "    for (var i = 0; i < js_modules.length; i++) {\n",
       "      var url = js_modules[i];\n",
       "      if (skip.indexOf(url) >= 0) {\n",
       "\tif (!window.requirejs) {\n",
       "\t  on_load();\n",
       "\t}\n",
       "\tcontinue;\n",
       "      }\n",
       "      var element = document.createElement('script');\n",
       "      element.onload = on_load;\n",
       "      element.onerror = on_error;\n",
       "      element.async = false;\n",
       "      element.src = url;\n",
       "      element.type = \"module\";\n",
       "      console.debug(\"Bokeh: injecting script tag for BokehJS library: \", url);\n",
       "      document.head.appendChild(element);\n",
       "    }\n",
       "    if (!js_urls.length && !js_modules.length) {\n",
       "      on_load()\n",
       "    }\n",
       "  };\n",
       "\n",
       "  function inject_raw_css(css) {\n",
       "    const element = document.createElement(\"style\");\n",
       "    element.appendChild(document.createTextNode(css));\n",
       "    document.body.appendChild(element);\n",
       "  }\n",
       "\n",
       "  var js_urls = [\"https://cdn.holoviz.org/panel/0.14.3/dist/bundled/datatabulator/tabulator-tables@5.3.2/dist/js/tabulator.js\", \"https://cdn.holoviz.org/panel/0.14.3/dist/bundled/datatabulator/luxon/build/global/luxon.min.js\", \"https://cdn.bokeh.org/bokeh/release/bokeh-2.4.3.min.js\", \"https://cdn.bokeh.org/bokeh/release/bokeh-gl-2.4.3.min.js\", \"https://cdn.bokeh.org/bokeh/release/bokeh-widgets-2.4.3.min.js\", \"https://cdn.bokeh.org/bokeh/release/bokeh-tables-2.4.3.min.js\", \"https://cdn.bokeh.org/bokeh/release/bokeh-mathjax-2.4.3.min.js\", \"https://unpkg.com/@holoviz/panel@0.14.3/dist/panel.min.js\"];\n",
       "  var js_modules = [];\n",
       "  var css_urls = [\"https://cdn.holoviz.org/panel/0.14.3/dist/bundled/datatabulator/tabulator-tables@5.3.2/dist/css/tabulator_simple.min.css\", \"https://cdn.holoviz.org/panel/0.14.3/dist/css/widgets.css\", \"https://cdn.holoviz.org/panel/0.14.3/dist/css/alerts.css\", \"https://cdn.holoviz.org/panel/0.14.3/dist/css/json.css\", \"https://cdn.holoviz.org/panel/0.14.3/dist/css/dataframe.css\", \"https://cdn.holoviz.org/panel/0.14.3/dist/css/loading.css\", \"https://cdn.holoviz.org/panel/0.14.3/dist/css/debugger.css\", \"https://cdn.holoviz.org/panel/0.14.3/dist/css/card.css\", \"https://cdn.holoviz.org/panel/0.14.3/dist/css/markdown.css\"];\n",
       "  var inline_js = [    function(Bokeh) {\n",
       "      inject_raw_css(\"\\n    .bk.pn-loading.arc:before {\\n      background-image: url(\\\"data:image/svg+xml;base64,PHN2ZyB4bWxucz0iaHR0cDovL3d3dy53My5vcmcvMjAwMC9zdmciIHN0eWxlPSJtYXJnaW46IGF1dG87IGJhY2tncm91bmQ6IG5vbmU7IGRpc3BsYXk6IGJsb2NrOyBzaGFwZS1yZW5kZXJpbmc6IGF1dG87IiB2aWV3Qm94PSIwIDAgMTAwIDEwMCIgcHJlc2VydmVBc3BlY3RSYXRpbz0ieE1pZFlNaWQiPiAgPGNpcmNsZSBjeD0iNTAiIGN5PSI1MCIgZmlsbD0ibm9uZSIgc3Ryb2tlPSIjYzNjM2MzIiBzdHJva2Utd2lkdGg9IjEwIiByPSIzNSIgc3Ryb2tlLWRhc2hhcnJheT0iMTY0LjkzMzYxNDMxMzQ2NDE1IDU2Ljk3Nzg3MTQzNzgyMTM4Ij4gICAgPGFuaW1hdGVUcmFuc2Zvcm0gYXR0cmlidXRlTmFtZT0idHJhbnNmb3JtIiB0eXBlPSJyb3RhdGUiIHJlcGVhdENvdW50PSJpbmRlZmluaXRlIiBkdXI9IjFzIiB2YWx1ZXM9IjAgNTAgNTA7MzYwIDUwIDUwIiBrZXlUaW1lcz0iMDsxIj48L2FuaW1hdGVUcmFuc2Zvcm0+ICA8L2NpcmNsZT48L3N2Zz4=\\\");\\n      background-size: auto calc(min(50%, 400px));\\n    }\\n    \");\n",
       "    },    function(Bokeh) {\n",
       "      Bokeh.set_log_level(\"info\");\n",
       "    },\n",
       "function(Bokeh) {} // ensure no trailing comma for IE\n",
       "  ];\n",
       "\n",
       "  function run_inline_js() {\n",
       "    if ((root.Bokeh !== undefined) || (force === true)) {\n",
       "      for (var i = 0; i < inline_js.length; i++) {\n",
       "        inline_js[i].call(root, root.Bokeh);\n",
       "      }} else if (Date.now() < root._bokeh_timeout) {\n",
       "      setTimeout(run_inline_js, 100);\n",
       "    } else if (!root._bokeh_failed_load) {\n",
       "      console.log(\"Bokeh: BokehJS failed to load within specified timeout.\");\n",
       "      root._bokeh_failed_load = true;\n",
       "    }\n",
       "  }\n",
       "\n",
       "  if (root._bokeh_is_loading === 0) {\n",
       "    console.debug(\"Bokeh: BokehJS loaded, going straight to plotting\");\n",
       "    run_inline_js();\n",
       "  } else {\n",
       "    load_libs(css_urls, js_urls, js_modules, function() {\n",
       "      console.debug(\"Bokeh: BokehJS plotting callback run at\", now());\n",
       "      run_inline_js();\n",
       "    });\n",
       "  }\n",
       "}(window));"
      ],
      "application/vnd.holoviews_load.v0+json": "(function(root) {\n  function now() {\n    return new Date();\n  }\n\n  var force = true;\n\n  if (typeof root._bokeh_onload_callbacks === \"undefined\" || force === true) {\n    root._bokeh_onload_callbacks = [];\n    root._bokeh_is_loading = undefined;\n  }\n\n  if (typeof (root._bokeh_timeout) === \"undefined\" || force === true) {\n    root._bokeh_timeout = Date.now() + 5000;\n    root._bokeh_failed_load = false;\n  }\n\n  function run_callbacks() {\n    try {\n      root._bokeh_onload_callbacks.forEach(function(callback) {\n        if (callback != null)\n          callback();\n      });\n    } finally {\n      delete root._bokeh_onload_callbacks\n    }\n    console.debug(\"Bokeh: all callbacks have finished\");\n  }\n\n  function load_libs(css_urls, js_urls, js_modules, callback) {\n    if (css_urls == null) css_urls = [];\n    if (js_urls == null) js_urls = [];\n    if (js_modules == null) js_modules = [];\n\n    root._bokeh_onload_callbacks.push(callback);\n    if (root._bokeh_is_loading > 0) {\n      console.debug(\"Bokeh: BokehJS is being loaded, scheduling callback at\", now());\n      return null;\n    }\n    if (js_urls.length === 0 && js_modules.length === 0) {\n      run_callbacks();\n      return null;\n    }\n    console.debug(\"Bokeh: BokehJS not loaded, scheduling load and callback at\", now());\n\n    function on_load() {\n      root._bokeh_is_loading--;\n      if (root._bokeh_is_loading === 0) {\n        console.debug(\"Bokeh: all BokehJS libraries/stylesheets loaded\");\n        run_callbacks()\n      }\n    }\n\n    function on_error() {\n      console.error(\"failed to load \" + url);\n    }\n\n    for (var i = 0; i < css_urls.length; i++) {\n      var url = css_urls[i];\n      const element = document.createElement(\"link\");\n      element.onload = on_load;\n      element.onerror = on_error;\n      element.rel = \"stylesheet\";\n      element.type = \"text/css\";\n      element.href = url;\n      console.debug(\"Bokeh: injecting link tag for BokehJS stylesheet: \", url);\n      document.body.appendChild(element);\n    }\n\n    var skip = [];\n    if (window.requirejs) {\n      window.requirejs.config({'packages': {}, 'paths': {'tabulator': 'https://cdn.jsdelivr.net/npm/tabulator-tables@5.3.2/dist/js/tabulator', 'moment': 'https://cdn.jsdelivr.net/npm/luxon/build/global/luxon.min', 'gridstack': 'https://cdn.jsdelivr.net/npm/gridstack@4.2.5/dist/gridstack-h5', 'notyf': 'https://cdn.jsdelivr.net/npm/notyf@3/notyf.min'}, 'shim': {'gridstack': {'exports': 'GridStack'}}});\n      require([\"tabulator\"], function(Tabulator) {\n\twindow.Tabulator = Tabulator\n\ton_load()\n      })\n      require([\"moment\"], function(moment) {\n\twindow.moment = moment\n\ton_load()\n      })\n      require([\"gridstack\"], function(GridStack) {\n\twindow.GridStack = GridStack\n\ton_load()\n      })\n      require([\"notyf\"], function() {\n\ton_load()\n      })\n      root._bokeh_is_loading = css_urls.length + 4;\n    } else {\n      root._bokeh_is_loading = css_urls.length + js_urls.length + js_modules.length;\n    }    if (((window['Tabulator'] !== undefined) && (!(window['Tabulator'] instanceof HTMLElement))) || window.requirejs) {\n      var urls = ['https://cdn.holoviz.org/panel/0.14.3/dist/bundled/datatabulator/tabulator-tables@5.3.2/dist/js/tabulator.js'];\n      for (var i = 0; i < urls.length; i++) {\n        skip.push(urls[i])\n      }\n    }    if (((window['moment'] !== undefined) && (!(window['moment'] instanceof HTMLElement))) || window.requirejs) {\n      var urls = ['https://cdn.holoviz.org/panel/0.14.3/dist/bundled/datatabulator/luxon/build/global/luxon.min.js'];\n      for (var i = 0; i < urls.length; i++) {\n        skip.push(urls[i])\n      }\n    }    if (((window['GridStack'] !== undefined) && (!(window['GridStack'] instanceof HTMLElement))) || window.requirejs) {\n      var urls = ['https://cdn.holoviz.org/panel/0.14.3/dist/bundled/gridstack/gridstack@4.2.5/dist/gridstack-h5.js'];\n      for (var i = 0; i < urls.length; i++) {\n        skip.push(urls[i])\n      }\n    }    if (((window['Notyf'] !== undefined) && (!(window['Notyf'] instanceof HTMLElement))) || window.requirejs) {\n      var urls = ['https://cdn.holoviz.org/panel/0.14.3/dist/bundled/notificationarea/notyf@3/notyf.min.js'];\n      for (var i = 0; i < urls.length; i++) {\n        skip.push(urls[i])\n      }\n    }    for (var i = 0; i < js_urls.length; i++) {\n      var url = js_urls[i];\n      if (skip.indexOf(url) >= 0) {\n\tif (!window.requirejs) {\n\t  on_load();\n\t}\n\tcontinue;\n      }\n      var element = document.createElement('script');\n      element.onload = on_load;\n      element.onerror = on_error;\n      element.async = false;\n      element.src = url;\n      console.debug(\"Bokeh: injecting script tag for BokehJS library: \", url);\n      document.head.appendChild(element);\n    }\n    for (var i = 0; i < js_modules.length; i++) {\n      var url = js_modules[i];\n      if (skip.indexOf(url) >= 0) {\n\tif (!window.requirejs) {\n\t  on_load();\n\t}\n\tcontinue;\n      }\n      var element = document.createElement('script');\n      element.onload = on_load;\n      element.onerror = on_error;\n      element.async = false;\n      element.src = url;\n      element.type = \"module\";\n      console.debug(\"Bokeh: injecting script tag for BokehJS library: \", url);\n      document.head.appendChild(element);\n    }\n    if (!js_urls.length && !js_modules.length) {\n      on_load()\n    }\n  };\n\n  function inject_raw_css(css) {\n    const element = document.createElement(\"style\");\n    element.appendChild(document.createTextNode(css));\n    document.body.appendChild(element);\n  }\n\n  var js_urls = [\"https://cdn.holoviz.org/panel/0.14.3/dist/bundled/datatabulator/tabulator-tables@5.3.2/dist/js/tabulator.js\", \"https://cdn.holoviz.org/panel/0.14.3/dist/bundled/datatabulator/luxon/build/global/luxon.min.js\", \"https://cdn.bokeh.org/bokeh/release/bokeh-2.4.3.min.js\", \"https://cdn.bokeh.org/bokeh/release/bokeh-gl-2.4.3.min.js\", \"https://cdn.bokeh.org/bokeh/release/bokeh-widgets-2.4.3.min.js\", \"https://cdn.bokeh.org/bokeh/release/bokeh-tables-2.4.3.min.js\", \"https://cdn.bokeh.org/bokeh/release/bokeh-mathjax-2.4.3.min.js\", \"https://unpkg.com/@holoviz/panel@0.14.3/dist/panel.min.js\"];\n  var js_modules = [];\n  var css_urls = [\"https://cdn.holoviz.org/panel/0.14.3/dist/bundled/datatabulator/tabulator-tables@5.3.2/dist/css/tabulator_simple.min.css\", \"https://cdn.holoviz.org/panel/0.14.3/dist/css/widgets.css\", \"https://cdn.holoviz.org/panel/0.14.3/dist/css/alerts.css\", \"https://cdn.holoviz.org/panel/0.14.3/dist/css/json.css\", \"https://cdn.holoviz.org/panel/0.14.3/dist/css/dataframe.css\", \"https://cdn.holoviz.org/panel/0.14.3/dist/css/loading.css\", \"https://cdn.holoviz.org/panel/0.14.3/dist/css/debugger.css\", \"https://cdn.holoviz.org/panel/0.14.3/dist/css/card.css\", \"https://cdn.holoviz.org/panel/0.14.3/dist/css/markdown.css\"];\n  var inline_js = [    function(Bokeh) {\n      inject_raw_css(\"\\n    .bk.pn-loading.arc:before {\\n      background-image: url(\\\"data:image/svg+xml;base64,PHN2ZyB4bWxucz0iaHR0cDovL3d3dy53My5vcmcvMjAwMC9zdmciIHN0eWxlPSJtYXJnaW46IGF1dG87IGJhY2tncm91bmQ6IG5vbmU7IGRpc3BsYXk6IGJsb2NrOyBzaGFwZS1yZW5kZXJpbmc6IGF1dG87IiB2aWV3Qm94PSIwIDAgMTAwIDEwMCIgcHJlc2VydmVBc3BlY3RSYXRpbz0ieE1pZFlNaWQiPiAgPGNpcmNsZSBjeD0iNTAiIGN5PSI1MCIgZmlsbD0ibm9uZSIgc3Ryb2tlPSIjYzNjM2MzIiBzdHJva2Utd2lkdGg9IjEwIiByPSIzNSIgc3Ryb2tlLWRhc2hhcnJheT0iMTY0LjkzMzYxNDMxMzQ2NDE1IDU2Ljk3Nzg3MTQzNzgyMTM4Ij4gICAgPGFuaW1hdGVUcmFuc2Zvcm0gYXR0cmlidXRlTmFtZT0idHJhbnNmb3JtIiB0eXBlPSJyb3RhdGUiIHJlcGVhdENvdW50PSJpbmRlZmluaXRlIiBkdXI9IjFzIiB2YWx1ZXM9IjAgNTAgNTA7MzYwIDUwIDUwIiBrZXlUaW1lcz0iMDsxIj48L2FuaW1hdGVUcmFuc2Zvcm0+ICA8L2NpcmNsZT48L3N2Zz4=\\\");\\n      background-size: auto calc(min(50%, 400px));\\n    }\\n    \");\n    },    function(Bokeh) {\n      Bokeh.set_log_level(\"info\");\n    },\nfunction(Bokeh) {} // ensure no trailing comma for IE\n  ];\n\n  function run_inline_js() {\n    if ((root.Bokeh !== undefined) || (force === true)) {\n      for (var i = 0; i < inline_js.length; i++) {\n        inline_js[i].call(root, root.Bokeh);\n      }} else if (Date.now() < root._bokeh_timeout) {\n      setTimeout(run_inline_js, 100);\n    } else if (!root._bokeh_failed_load) {\n      console.log(\"Bokeh: BokehJS failed to load within specified timeout.\");\n      root._bokeh_failed_load = true;\n    }\n  }\n\n  if (root._bokeh_is_loading === 0) {\n    console.debug(\"Bokeh: BokehJS loaded, going straight to plotting\");\n    run_inline_js();\n  } else {\n    load_libs(css_urls, js_urls, js_modules, function() {\n      console.debug(\"Bokeh: BokehJS plotting callback run at\", now());\n      run_inline_js();\n    });\n  }\n}(window));"
     },
     "metadata": {},
     "output_type": "display_data"
    },
    {
     "data": {
      "application/javascript": [
       "\n",
       "if ((window.PyViz === undefined) || (window.PyViz instanceof HTMLElement)) {\n",
       "  window.PyViz = {comms: {}, comm_status:{}, kernels:{}, receivers: {}, plot_index: []}\n",
       "}\n",
       "\n",
       "\n",
       "    function JupyterCommManager() {\n",
       "    }\n",
       "\n",
       "    JupyterCommManager.prototype.register_target = function(plot_id, comm_id, msg_handler) {\n",
       "      if (window.comm_manager || ((window.Jupyter !== undefined) && (Jupyter.notebook.kernel != null))) {\n",
       "        var comm_manager = window.comm_manager || Jupyter.notebook.kernel.comm_manager;\n",
       "        comm_manager.register_target(comm_id, function(comm) {\n",
       "          comm.on_msg(msg_handler);\n",
       "        });\n",
       "      } else if ((plot_id in window.PyViz.kernels) && (window.PyViz.kernels[plot_id])) {\n",
       "        window.PyViz.kernels[plot_id].registerCommTarget(comm_id, function(comm) {\n",
       "          comm.onMsg = msg_handler;\n",
       "        });\n",
       "      } else if (typeof google != 'undefined' && google.colab.kernel != null) {\n",
       "        google.colab.kernel.comms.registerTarget(comm_id, (comm) => {\n",
       "          var messages = comm.messages[Symbol.asyncIterator]();\n",
       "          function processIteratorResult(result) {\n",
       "            var message = result.value;\n",
       "            console.log(message)\n",
       "            var content = {data: message.data, comm_id};\n",
       "            var buffers = []\n",
       "            for (var buffer of message.buffers || []) {\n",
       "              buffers.push(new DataView(buffer))\n",
       "            }\n",
       "            var metadata = message.metadata || {};\n",
       "            var msg = {content, buffers, metadata}\n",
       "            msg_handler(msg);\n",
       "            return messages.next().then(processIteratorResult);\n",
       "          }\n",
       "          return messages.next().then(processIteratorResult);\n",
       "        })\n",
       "      }\n",
       "    }\n",
       "\n",
       "    JupyterCommManager.prototype.get_client_comm = function(plot_id, comm_id, msg_handler) {\n",
       "      if (comm_id in window.PyViz.comms) {\n",
       "        return window.PyViz.comms[comm_id];\n",
       "      } else if (window.comm_manager || ((window.Jupyter !== undefined) && (Jupyter.notebook.kernel != null))) {\n",
       "        var comm_manager = window.comm_manager || Jupyter.notebook.kernel.comm_manager;\n",
       "        var comm = comm_manager.new_comm(comm_id, {}, {}, {}, comm_id);\n",
       "        if (msg_handler) {\n",
       "          comm.on_msg(msg_handler);\n",
       "        }\n",
       "      } else if ((plot_id in window.PyViz.kernels) && (window.PyViz.kernels[plot_id])) {\n",
       "        var comm = window.PyViz.kernels[plot_id].connectToComm(comm_id);\n",
       "        comm.open();\n",
       "        if (msg_handler) {\n",
       "          comm.onMsg = msg_handler;\n",
       "        }\n",
       "      } else if (typeof google != 'undefined' && google.colab.kernel != null) {\n",
       "        var comm_promise = google.colab.kernel.comms.open(comm_id)\n",
       "        comm_promise.then((comm) => {\n",
       "          window.PyViz.comms[comm_id] = comm;\n",
       "          if (msg_handler) {\n",
       "            var messages = comm.messages[Symbol.asyncIterator]();\n",
       "            function processIteratorResult(result) {\n",
       "              var message = result.value;\n",
       "              var content = {data: message.data};\n",
       "              var metadata = message.metadata || {comm_id};\n",
       "              var msg = {content, metadata}\n",
       "              msg_handler(msg);\n",
       "              return messages.next().then(processIteratorResult);\n",
       "            }\n",
       "            return messages.next().then(processIteratorResult);\n",
       "          }\n",
       "        }) \n",
       "        var sendClosure = (data, metadata, buffers, disposeOnDone) => {\n",
       "          return comm_promise.then((comm) => {\n",
       "            comm.send(data, metadata, buffers, disposeOnDone);\n",
       "          });\n",
       "        };\n",
       "        var comm = {\n",
       "          send: sendClosure\n",
       "        };\n",
       "      }\n",
       "      window.PyViz.comms[comm_id] = comm;\n",
       "      return comm;\n",
       "    }\n",
       "    window.PyViz.comm_manager = new JupyterCommManager();\n",
       "    \n",
       "\n",
       "\n",
       "var JS_MIME_TYPE = 'application/javascript';\n",
       "var HTML_MIME_TYPE = 'text/html';\n",
       "var EXEC_MIME_TYPE = 'application/vnd.holoviews_exec.v0+json';\n",
       "var CLASS_NAME = 'output';\n",
       "\n",
       "/**\n",
       " * Render data to the DOM node\n",
       " */\n",
       "function render(props, node) {\n",
       "  var div = document.createElement(\"div\");\n",
       "  var script = document.createElement(\"script\");\n",
       "  node.appendChild(div);\n",
       "  node.appendChild(script);\n",
       "}\n",
       "\n",
       "/**\n",
       " * Handle when a new output is added\n",
       " */\n",
       "function handle_add_output(event, handle) {\n",
       "  var output_area = handle.output_area;\n",
       "  var output = handle.output;\n",
       "  if ((output.data == undefined) || (!output.data.hasOwnProperty(EXEC_MIME_TYPE))) {\n",
       "    return\n",
       "  }\n",
       "  var id = output.metadata[EXEC_MIME_TYPE][\"id\"];\n",
       "  var toinsert = output_area.element.find(\".\" + CLASS_NAME.split(' ')[0]);\n",
       "  if (id !== undefined) {\n",
       "    var nchildren = toinsert.length;\n",
       "    var html_node = toinsert[nchildren-1].children[0];\n",
       "    html_node.innerHTML = output.data[HTML_MIME_TYPE];\n",
       "    var scripts = [];\n",
       "    var nodelist = html_node.querySelectorAll(\"script\");\n",
       "    for (var i in nodelist) {\n",
       "      if (nodelist.hasOwnProperty(i)) {\n",
       "        scripts.push(nodelist[i])\n",
       "      }\n",
       "    }\n",
       "\n",
       "    scripts.forEach( function (oldScript) {\n",
       "      var newScript = document.createElement(\"script\");\n",
       "      var attrs = [];\n",
       "      var nodemap = oldScript.attributes;\n",
       "      for (var j in nodemap) {\n",
       "        if (nodemap.hasOwnProperty(j)) {\n",
       "          attrs.push(nodemap[j])\n",
       "        }\n",
       "      }\n",
       "      attrs.forEach(function(attr) { newScript.setAttribute(attr.name, attr.value) });\n",
       "      newScript.appendChild(document.createTextNode(oldScript.innerHTML));\n",
       "      oldScript.parentNode.replaceChild(newScript, oldScript);\n",
       "    });\n",
       "    if (JS_MIME_TYPE in output.data) {\n",
       "      toinsert[nchildren-1].children[1].textContent = output.data[JS_MIME_TYPE];\n",
       "    }\n",
       "    output_area._hv_plot_id = id;\n",
       "    if ((window.Bokeh !== undefined) && (id in Bokeh.index)) {\n",
       "      window.PyViz.plot_index[id] = Bokeh.index[id];\n",
       "    } else {\n",
       "      window.PyViz.plot_index[id] = null;\n",
       "    }\n",
       "  } else if (output.metadata[EXEC_MIME_TYPE][\"server_id\"] !== undefined) {\n",
       "    var bk_div = document.createElement(\"div\");\n",
       "    bk_div.innerHTML = output.data[HTML_MIME_TYPE];\n",
       "    var script_attrs = bk_div.children[0].attributes;\n",
       "    for (var i = 0; i < script_attrs.length; i++) {\n",
       "      toinsert[toinsert.length - 1].childNodes[1].setAttribute(script_attrs[i].name, script_attrs[i].value);\n",
       "    }\n",
       "    // store reference to server id on output_area\n",
       "    output_area._bokeh_server_id = output.metadata[EXEC_MIME_TYPE][\"server_id\"];\n",
       "  }\n",
       "}\n",
       "\n",
       "/**\n",
       " * Handle when an output is cleared or removed\n",
       " */\n",
       "function handle_clear_output(event, handle) {\n",
       "  var id = handle.cell.output_area._hv_plot_id;\n",
       "  var server_id = handle.cell.output_area._bokeh_server_id;\n",
       "  if (((id === undefined) || !(id in PyViz.plot_index)) && (server_id !== undefined)) { return; }\n",
       "  var comm = window.PyViz.comm_manager.get_client_comm(\"hv-extension-comm\", \"hv-extension-comm\", function () {});\n",
       "  if (server_id !== null) {\n",
       "    comm.send({event_type: 'server_delete', 'id': server_id});\n",
       "    return;\n",
       "  } else if (comm !== null) {\n",
       "    comm.send({event_type: 'delete', 'id': id});\n",
       "  }\n",
       "  delete PyViz.plot_index[id];\n",
       "  if ((window.Bokeh !== undefined) & (id in window.Bokeh.index)) {\n",
       "    var doc = window.Bokeh.index[id].model.document\n",
       "    doc.clear();\n",
       "    const i = window.Bokeh.documents.indexOf(doc);\n",
       "    if (i > -1) {\n",
       "      window.Bokeh.documents.splice(i, 1);\n",
       "    }\n",
       "  }\n",
       "}\n",
       "\n",
       "/**\n",
       " * Handle kernel restart event\n",
       " */\n",
       "function handle_kernel_cleanup(event, handle) {\n",
       "  delete PyViz.comms[\"hv-extension-comm\"];\n",
       "  window.PyViz.plot_index = {}\n",
       "}\n",
       "\n",
       "/**\n",
       " * Handle update_display_data messages\n",
       " */\n",
       "function handle_update_output(event, handle) {\n",
       "  handle_clear_output(event, {cell: {output_area: handle.output_area}})\n",
       "  handle_add_output(event, handle)\n",
       "}\n",
       "\n",
       "function register_renderer(events, OutputArea) {\n",
       "  function append_mime(data, metadata, element) {\n",
       "    // create a DOM node to render to\n",
       "    var toinsert = this.create_output_subarea(\n",
       "    metadata,\n",
       "    CLASS_NAME,\n",
       "    EXEC_MIME_TYPE\n",
       "    );\n",
       "    this.keyboard_manager.register_events(toinsert);\n",
       "    // Render to node\n",
       "    var props = {data: data, metadata: metadata[EXEC_MIME_TYPE]};\n",
       "    render(props, toinsert[0]);\n",
       "    element.append(toinsert);\n",
       "    return toinsert\n",
       "  }\n",
       "\n",
       "  events.on('output_added.OutputArea', handle_add_output);\n",
       "  events.on('output_updated.OutputArea', handle_update_output);\n",
       "  events.on('clear_output.CodeCell', handle_clear_output);\n",
       "  events.on('delete.Cell', handle_clear_output);\n",
       "  events.on('kernel_ready.Kernel', handle_kernel_cleanup);\n",
       "\n",
       "  OutputArea.prototype.register_mime_type(EXEC_MIME_TYPE, append_mime, {\n",
       "    safe: true,\n",
       "    index: 0\n",
       "  });\n",
       "}\n",
       "\n",
       "if (window.Jupyter !== undefined) {\n",
       "  try {\n",
       "    var events = require('base/js/events');\n",
       "    var OutputArea = require('notebook/js/outputarea').OutputArea;\n",
       "    if (OutputArea.prototype.mime_types().indexOf(EXEC_MIME_TYPE) == -1) {\n",
       "      register_renderer(events, OutputArea);\n",
       "    }\n",
       "  } catch(err) {\n",
       "  }\n",
       "}\n"
      ],
      "application/vnd.holoviews_load.v0+json": "\nif ((window.PyViz === undefined) || (window.PyViz instanceof HTMLElement)) {\n  window.PyViz = {comms: {}, comm_status:{}, kernels:{}, receivers: {}, plot_index: []}\n}\n\n\n    function JupyterCommManager() {\n    }\n\n    JupyterCommManager.prototype.register_target = function(plot_id, comm_id, msg_handler) {\n      if (window.comm_manager || ((window.Jupyter !== undefined) && (Jupyter.notebook.kernel != null))) {\n        var comm_manager = window.comm_manager || Jupyter.notebook.kernel.comm_manager;\n        comm_manager.register_target(comm_id, function(comm) {\n          comm.on_msg(msg_handler);\n        });\n      } else if ((plot_id in window.PyViz.kernels) && (window.PyViz.kernels[plot_id])) {\n        window.PyViz.kernels[plot_id].registerCommTarget(comm_id, function(comm) {\n          comm.onMsg = msg_handler;\n        });\n      } else if (typeof google != 'undefined' && google.colab.kernel != null) {\n        google.colab.kernel.comms.registerTarget(comm_id, (comm) => {\n          var messages = comm.messages[Symbol.asyncIterator]();\n          function processIteratorResult(result) {\n            var message = result.value;\n            console.log(message)\n            var content = {data: message.data, comm_id};\n            var buffers = []\n            for (var buffer of message.buffers || []) {\n              buffers.push(new DataView(buffer))\n            }\n            var metadata = message.metadata || {};\n            var msg = {content, buffers, metadata}\n            msg_handler(msg);\n            return messages.next().then(processIteratorResult);\n          }\n          return messages.next().then(processIteratorResult);\n        })\n      }\n    }\n\n    JupyterCommManager.prototype.get_client_comm = function(plot_id, comm_id, msg_handler) {\n      if (comm_id in window.PyViz.comms) {\n        return window.PyViz.comms[comm_id];\n      } else if (window.comm_manager || ((window.Jupyter !== undefined) && (Jupyter.notebook.kernel != null))) {\n        var comm_manager = window.comm_manager || Jupyter.notebook.kernel.comm_manager;\n        var comm = comm_manager.new_comm(comm_id, {}, {}, {}, comm_id);\n        if (msg_handler) {\n          comm.on_msg(msg_handler);\n        }\n      } else if ((plot_id in window.PyViz.kernels) && (window.PyViz.kernels[plot_id])) {\n        var comm = window.PyViz.kernels[plot_id].connectToComm(comm_id);\n        comm.open();\n        if (msg_handler) {\n          comm.onMsg = msg_handler;\n        }\n      } else if (typeof google != 'undefined' && google.colab.kernel != null) {\n        var comm_promise = google.colab.kernel.comms.open(comm_id)\n        comm_promise.then((comm) => {\n          window.PyViz.comms[comm_id] = comm;\n          if (msg_handler) {\n            var messages = comm.messages[Symbol.asyncIterator]();\n            function processIteratorResult(result) {\n              var message = result.value;\n              var content = {data: message.data};\n              var metadata = message.metadata || {comm_id};\n              var msg = {content, metadata}\n              msg_handler(msg);\n              return messages.next().then(processIteratorResult);\n            }\n            return messages.next().then(processIteratorResult);\n          }\n        }) \n        var sendClosure = (data, metadata, buffers, disposeOnDone) => {\n          return comm_promise.then((comm) => {\n            comm.send(data, metadata, buffers, disposeOnDone);\n          });\n        };\n        var comm = {\n          send: sendClosure\n        };\n      }\n      window.PyViz.comms[comm_id] = comm;\n      return comm;\n    }\n    window.PyViz.comm_manager = new JupyterCommManager();\n    \n\n\nvar JS_MIME_TYPE = 'application/javascript';\nvar HTML_MIME_TYPE = 'text/html';\nvar EXEC_MIME_TYPE = 'application/vnd.holoviews_exec.v0+json';\nvar CLASS_NAME = 'output';\n\n/**\n * Render data to the DOM node\n */\nfunction render(props, node) {\n  var div = document.createElement(\"div\");\n  var script = document.createElement(\"script\");\n  node.appendChild(div);\n  node.appendChild(script);\n}\n\n/**\n * Handle when a new output is added\n */\nfunction handle_add_output(event, handle) {\n  var output_area = handle.output_area;\n  var output = handle.output;\n  if ((output.data == undefined) || (!output.data.hasOwnProperty(EXEC_MIME_TYPE))) {\n    return\n  }\n  var id = output.metadata[EXEC_MIME_TYPE][\"id\"];\n  var toinsert = output_area.element.find(\".\" + CLASS_NAME.split(' ')[0]);\n  if (id !== undefined) {\n    var nchildren = toinsert.length;\n    var html_node = toinsert[nchildren-1].children[0];\n    html_node.innerHTML = output.data[HTML_MIME_TYPE];\n    var scripts = [];\n    var nodelist = html_node.querySelectorAll(\"script\");\n    for (var i in nodelist) {\n      if (nodelist.hasOwnProperty(i)) {\n        scripts.push(nodelist[i])\n      }\n    }\n\n    scripts.forEach( function (oldScript) {\n      var newScript = document.createElement(\"script\");\n      var attrs = [];\n      var nodemap = oldScript.attributes;\n      for (var j in nodemap) {\n        if (nodemap.hasOwnProperty(j)) {\n          attrs.push(nodemap[j])\n        }\n      }\n      attrs.forEach(function(attr) { newScript.setAttribute(attr.name, attr.value) });\n      newScript.appendChild(document.createTextNode(oldScript.innerHTML));\n      oldScript.parentNode.replaceChild(newScript, oldScript);\n    });\n    if (JS_MIME_TYPE in output.data) {\n      toinsert[nchildren-1].children[1].textContent = output.data[JS_MIME_TYPE];\n    }\n    output_area._hv_plot_id = id;\n    if ((window.Bokeh !== undefined) && (id in Bokeh.index)) {\n      window.PyViz.plot_index[id] = Bokeh.index[id];\n    } else {\n      window.PyViz.plot_index[id] = null;\n    }\n  } else if (output.metadata[EXEC_MIME_TYPE][\"server_id\"] !== undefined) {\n    var bk_div = document.createElement(\"div\");\n    bk_div.innerHTML = output.data[HTML_MIME_TYPE];\n    var script_attrs = bk_div.children[0].attributes;\n    for (var i = 0; i < script_attrs.length; i++) {\n      toinsert[toinsert.length - 1].childNodes[1].setAttribute(script_attrs[i].name, script_attrs[i].value);\n    }\n    // store reference to server id on output_area\n    output_area._bokeh_server_id = output.metadata[EXEC_MIME_TYPE][\"server_id\"];\n  }\n}\n\n/**\n * Handle when an output is cleared or removed\n */\nfunction handle_clear_output(event, handle) {\n  var id = handle.cell.output_area._hv_plot_id;\n  var server_id = handle.cell.output_area._bokeh_server_id;\n  if (((id === undefined) || !(id in PyViz.plot_index)) && (server_id !== undefined)) { return; }\n  var comm = window.PyViz.comm_manager.get_client_comm(\"hv-extension-comm\", \"hv-extension-comm\", function () {});\n  if (server_id !== null) {\n    comm.send({event_type: 'server_delete', 'id': server_id});\n    return;\n  } else if (comm !== null) {\n    comm.send({event_type: 'delete', 'id': id});\n  }\n  delete PyViz.plot_index[id];\n  if ((window.Bokeh !== undefined) & (id in window.Bokeh.index)) {\n    var doc = window.Bokeh.index[id].model.document\n    doc.clear();\n    const i = window.Bokeh.documents.indexOf(doc);\n    if (i > -1) {\n      window.Bokeh.documents.splice(i, 1);\n    }\n  }\n}\n\n/**\n * Handle kernel restart event\n */\nfunction handle_kernel_cleanup(event, handle) {\n  delete PyViz.comms[\"hv-extension-comm\"];\n  window.PyViz.plot_index = {}\n}\n\n/**\n * Handle update_display_data messages\n */\nfunction handle_update_output(event, handle) {\n  handle_clear_output(event, {cell: {output_area: handle.output_area}})\n  handle_add_output(event, handle)\n}\n\nfunction register_renderer(events, OutputArea) {\n  function append_mime(data, metadata, element) {\n    // create a DOM node to render to\n    var toinsert = this.create_output_subarea(\n    metadata,\n    CLASS_NAME,\n    EXEC_MIME_TYPE\n    );\n    this.keyboard_manager.register_events(toinsert);\n    // Render to node\n    var props = {data: data, metadata: metadata[EXEC_MIME_TYPE]};\n    render(props, toinsert[0]);\n    element.append(toinsert);\n    return toinsert\n  }\n\n  events.on('output_added.OutputArea', handle_add_output);\n  events.on('output_updated.OutputArea', handle_update_output);\n  events.on('clear_output.CodeCell', handle_clear_output);\n  events.on('delete.Cell', handle_clear_output);\n  events.on('kernel_ready.Kernel', handle_kernel_cleanup);\n\n  OutputArea.prototype.register_mime_type(EXEC_MIME_TYPE, append_mime, {\n    safe: true,\n    index: 0\n  });\n}\n\nif (window.Jupyter !== undefined) {\n  try {\n    var events = require('base/js/events');\n    var OutputArea = require('notebook/js/outputarea').OutputArea;\n    if (OutputArea.prototype.mime_types().indexOf(EXEC_MIME_TYPE) == -1) {\n      register_renderer(events, OutputArea);\n    }\n  } catch(err) {\n  }\n}\n"
     },
     "metadata": {},
     "output_type": "display_data"
    },
    {
     "data": {
      "text/html": [
       "<style>.bk-root, .bk-root .bk:before, .bk-root .bk:after {\n",
       "  font-family: var(--jp-ui-font-size1);\n",
       "  font-size: var(--jp-ui-font-size1);\n",
       "  color: var(--jp-ui-font-color1);\n",
       "}\n",
       "</style>"
      ]
     },
     "metadata": {},
     "output_type": "display_data"
    }
   ],
   "source": [
    "import pandas as pd\n",
    "import numpy as np\n",
    "import panel as pn\n",
    "import folium as fm\n",
    "import param\n",
    "from branca.element import Template, MacroElement\n",
    "pn.extension('tabulator')\n",
    "pn.extension()\n",
    "pn.extension(sizing_mode=\"stretch_width\")\n",
    "import hvplot.pandas\n",
    "import plotly.express as px"
   ]
  },
  {
   "cell_type": "markdown",
   "id": "50a73686",
   "metadata": {},
   "source": [
    "## (1) Define Panel Widgets"
   ]
  },
  {
   "cell_type": "code",
   "execution_count": 2,
   "id": "bb7efce2",
   "metadata": {},
   "outputs": [],
   "source": [
    "# Define Panel widgets\n",
    "week_slider = pn.widgets.IntSlider(name='Week slider', start=1, end=52, step=1, value=9)\n",
    "#week_slider"
   ]
  },
  {
   "cell_type": "code",
   "execution_count": 3,
   "id": "74b212d7",
   "metadata": {},
   "outputs": [
    {
     "data": {},
     "metadata": {},
     "output_type": "display_data"
    },
    {
     "data": {
      "application/vnd.holoviews_exec.v0+json": "",
      "text/html": [
       "<div id='1002'>\n",
       "  <div class=\"bk-root\" id=\"1efda947-7ab7-4a67-aedc-970879e70f32\" data-root-id=\"1002\"></div>\n",
       "</div>\n",
       "<script type=\"application/javascript\">(function(root) {\n",
       "  function embed_document(root) {\n",
       "    var docs_json = {\"f5caabe5-7b53-4e76-9b6c-fc921fccc2c0\":{\"defs\":[{\"extends\":null,\"module\":null,\"name\":\"ReactiveHTML1\",\"overrides\":[],\"properties\":[]},{\"extends\":null,\"module\":null,\"name\":\"FlexBox1\",\"overrides\":[],\"properties\":[{\"default\":\"flex-start\",\"kind\":null,\"name\":\"align_content\"},{\"default\":\"flex-start\",\"kind\":null,\"name\":\"align_items\"},{\"default\":\"row\",\"kind\":null,\"name\":\"flex_direction\"},{\"default\":\"wrap\",\"kind\":null,\"name\":\"flex_wrap\"},{\"default\":\"flex-start\",\"kind\":null,\"name\":\"justify_content\"}]},{\"extends\":null,\"module\":null,\"name\":\"GridStack1\",\"overrides\":[],\"properties\":[{\"default\":\"warn\",\"kind\":null,\"name\":\"mode\"},{\"default\":null,\"kind\":null,\"name\":\"ncols\"},{\"default\":null,\"kind\":null,\"name\":\"nrows\"},{\"default\":true,\"kind\":null,\"name\":\"allow_resize\"},{\"default\":true,\"kind\":null,\"name\":\"allow_drag\"},{\"default\":[],\"kind\":null,\"name\":\"state\"}]},{\"extends\":null,\"module\":null,\"name\":\"click1\",\"overrides\":[],\"properties\":[{\"default\":\"\",\"kind\":null,\"name\":\"terminal_output\"},{\"default\":\"\",\"kind\":null,\"name\":\"debug_name\"},{\"default\":0,\"kind\":null,\"name\":\"clears\"}]},{\"extends\":null,\"module\":null,\"name\":\"NotificationAreaBase1\",\"overrides\":[],\"properties\":[{\"default\":\"bottom-right\",\"kind\":null,\"name\":\"position\"},{\"default\":0,\"kind\":null,\"name\":\"_clear\"}]},{\"extends\":null,\"module\":null,\"name\":\"NotificationArea1\",\"overrides\":[],\"properties\":[{\"default\":[],\"kind\":null,\"name\":\"notifications\"},{\"default\":\"bottom-right\",\"kind\":null,\"name\":\"position\"},{\"default\":0,\"kind\":null,\"name\":\"_clear\"},{\"default\":[{\"background\":\"#ffc107\",\"icon\":{\"className\":\"fas fa-exclamation-triangle\",\"color\":\"white\",\"tagName\":\"i\"},\"type\":\"warning\"},{\"background\":\"#007bff\",\"icon\":{\"className\":\"fas fa-info-circle\",\"color\":\"white\",\"tagName\":\"i\"},\"type\":\"info\"}],\"kind\":null,\"name\":\"types\"}]},{\"extends\":null,\"module\":null,\"name\":\"Notification\",\"overrides\":[],\"properties\":[{\"default\":null,\"kind\":null,\"name\":\"background\"},{\"default\":3000,\"kind\":null,\"name\":\"duration\"},{\"default\":null,\"kind\":null,\"name\":\"icon\"},{\"default\":\"\",\"kind\":null,\"name\":\"message\"},{\"default\":null,\"kind\":null,\"name\":\"notification_type\"},{\"default\":false,\"kind\":null,\"name\":\"_destroyed\"}]},{\"extends\":null,\"module\":null,\"name\":\"TemplateActions1\",\"overrides\":[],\"properties\":[{\"default\":0,\"kind\":null,\"name\":\"open_modal\"},{\"default\":0,\"kind\":null,\"name\":\"close_modal\"}]},{\"extends\":null,\"module\":null,\"name\":\"MaterialTemplateActions1\",\"overrides\":[],\"properties\":[{\"default\":0,\"kind\":null,\"name\":\"open_modal\"},{\"default\":0,\"kind\":null,\"name\":\"close_modal\"}]}],\"roots\":{\"references\":[{\"attributes\":{\"end\":100,\"margin\":[5,10,5,10],\"sizing_mode\":\"stretch_width\",\"start\":50,\"title\":\"Confidence slider\",\"value\":75},\"id\":\"1002\",\"type\":\"Slider\"},{\"attributes\":{\"client_comm_id\":\"7273a18cb7414af88bf7ec0d17365253\",\"comm_id\":\"2e7eaede925e48938477dbaed9fa6875\",\"plot_id\":\"1002\"},\"id\":\"1003\",\"type\":\"panel.models.comm_manager.CommManager\"},{\"attributes\":{\"reload\":false},\"id\":\"1004\",\"type\":\"panel.models.location.Location\"}],\"root_ids\":[\"1002\",\"1003\",\"1004\"]},\"title\":\"Bokeh Application\",\"version\":\"2.4.3\"}};\n",
       "    var render_items = [{\"docid\":\"f5caabe5-7b53-4e76-9b6c-fc921fccc2c0\",\"root_ids\":[\"1002\"],\"roots\":{\"1002\":\"1efda947-7ab7-4a67-aedc-970879e70f32\"}}];\n",
       "    root.Bokeh.embed.embed_items_notebook(docs_json, render_items);\n",
       "    for (const render_item of render_items) {\n",
       "      for (const root_id of render_item.root_ids) {\n",
       "\tconst id_el = document.getElementById(root_id)\n",
       "\tif (id_el.children.length && (id_el.children[0].className === 'bk-root')) {\n",
       "\t  const root_el = id_el.children[0]\n",
       "\t  root_el.id = root_el.id + '-rendered'\n",
       "\t}\n",
       "      }\n",
       "    }\n",
       "  }\n",
       "  if (root.Bokeh !== undefined && root.Bokeh.Panel !== undefined && ( root['Tabulator'] !== undefined)) {\n",
       "    embed_document(root);\n",
       "  } else {\n",
       "    var attempts = 0;\n",
       "    var timer = setInterval(function(root) {\n",
       "      if (root.Bokeh !== undefined && root.Bokeh.Panel !== undefined && (root['Tabulator'] !== undefined)) {\n",
       "        clearInterval(timer);\n",
       "        embed_document(root);\n",
       "      } else if (document.readyState == \"complete\") {\n",
       "        attempts++;\n",
       "        if (attempts > 200) {\n",
       "          clearInterval(timer);\n",
       "          console.log(\"Bokeh: ERROR: Unable to run BokehJS code because BokehJS library is missing\");\n",
       "        }\n",
       "      }\n",
       "    }, 25, root)\n",
       "  }\n",
       "})(window);</script>"
      ],
      "text/plain": [
       "IntSlider(end=100, name='Confidence slider', sizing_mode='stretch_width', start=50, value=75)"
      ]
     },
     "execution_count": 3,
     "metadata": {
      "application/vnd.holoviews_exec.v0+json": {
       "id": "1002"
      }
     },
     "output_type": "execute_result"
    }
   ],
   "source": [
    "# Define Panel widgets\n",
    "confidence_slider = pn.widgets.IntSlider(name='Confidence slider', start=50, end=100, step=1, value=75)\n",
    "confidence_slider"
   ]
  },
  {
   "cell_type": "code",
   "execution_count": 4,
   "id": "ab4d26e0",
   "metadata": {},
   "outputs": [
    {
     "data": {},
     "metadata": {},
     "output_type": "display_data"
    },
    {
     "data": {
      "application/vnd.holoviews_exec.v0+json": "",
      "text/html": [
       "<div id='1005'>\n",
       "  <div class=\"bk-root\" id=\"4581845e-78c2-481e-b317-f874c40ab089\" data-root-id=\"1005\"></div>\n",
       "</div>\n",
       "<script type=\"application/javascript\">(function(root) {\n",
       "  function embed_document(root) {\n",
       "    var docs_json = {\"6673597b-1afd-4d10-a76b-9c57a79ae246\":{\"defs\":[{\"extends\":null,\"module\":null,\"name\":\"ReactiveHTML1\",\"overrides\":[],\"properties\":[]},{\"extends\":null,\"module\":null,\"name\":\"FlexBox1\",\"overrides\":[],\"properties\":[{\"default\":\"flex-start\",\"kind\":null,\"name\":\"align_content\"},{\"default\":\"flex-start\",\"kind\":null,\"name\":\"align_items\"},{\"default\":\"row\",\"kind\":null,\"name\":\"flex_direction\"},{\"default\":\"wrap\",\"kind\":null,\"name\":\"flex_wrap\"},{\"default\":\"flex-start\",\"kind\":null,\"name\":\"justify_content\"}]},{\"extends\":null,\"module\":null,\"name\":\"GridStack1\",\"overrides\":[],\"properties\":[{\"default\":\"warn\",\"kind\":null,\"name\":\"mode\"},{\"default\":null,\"kind\":null,\"name\":\"ncols\"},{\"default\":null,\"kind\":null,\"name\":\"nrows\"},{\"default\":true,\"kind\":null,\"name\":\"allow_resize\"},{\"default\":true,\"kind\":null,\"name\":\"allow_drag\"},{\"default\":[],\"kind\":null,\"name\":\"state\"}]},{\"extends\":null,\"module\":null,\"name\":\"click1\",\"overrides\":[],\"properties\":[{\"default\":\"\",\"kind\":null,\"name\":\"terminal_output\"},{\"default\":\"\",\"kind\":null,\"name\":\"debug_name\"},{\"default\":0,\"kind\":null,\"name\":\"clears\"}]},{\"extends\":null,\"module\":null,\"name\":\"NotificationAreaBase1\",\"overrides\":[],\"properties\":[{\"default\":\"bottom-right\",\"kind\":null,\"name\":\"position\"},{\"default\":0,\"kind\":null,\"name\":\"_clear\"}]},{\"extends\":null,\"module\":null,\"name\":\"NotificationArea1\",\"overrides\":[],\"properties\":[{\"default\":[],\"kind\":null,\"name\":\"notifications\"},{\"default\":\"bottom-right\",\"kind\":null,\"name\":\"position\"},{\"default\":0,\"kind\":null,\"name\":\"_clear\"},{\"default\":[{\"background\":\"#ffc107\",\"icon\":{\"className\":\"fas fa-exclamation-triangle\",\"color\":\"white\",\"tagName\":\"i\"},\"type\":\"warning\"},{\"background\":\"#007bff\",\"icon\":{\"className\":\"fas fa-info-circle\",\"color\":\"white\",\"tagName\":\"i\"},\"type\":\"info\"}],\"kind\":null,\"name\":\"types\"}]},{\"extends\":null,\"module\":null,\"name\":\"Notification\",\"overrides\":[],\"properties\":[{\"default\":null,\"kind\":null,\"name\":\"background\"},{\"default\":3000,\"kind\":null,\"name\":\"duration\"},{\"default\":null,\"kind\":null,\"name\":\"icon\"},{\"default\":\"\",\"kind\":null,\"name\":\"message\"},{\"default\":null,\"kind\":null,\"name\":\"notification_type\"},{\"default\":false,\"kind\":null,\"name\":\"_destroyed\"}]},{\"extends\":null,\"module\":null,\"name\":\"TemplateActions1\",\"overrides\":[],\"properties\":[{\"default\":0,\"kind\":null,\"name\":\"open_modal\"},{\"default\":0,\"kind\":null,\"name\":\"close_modal\"}]},{\"extends\":null,\"module\":null,\"name\":\"MaterialTemplateActions1\",\"overrides\":[],\"properties\":[{\"default\":0,\"kind\":null,\"name\":\"open_modal\"},{\"default\":0,\"kind\":null,\"name\":\"close_modal\"}]}],\"roots\":{\"references\":[{\"attributes\":{\"client_comm_id\":\"4ec27b32f3e045dd87939bd3ebb6d891\",\"comm_id\":\"7ee14044a2c34fb195718c2a338fcd40\",\"plot_id\":\"1005\"},\"id\":\"1006\",\"type\":\"panel.models.comm_manager.CommManager\"},{\"attributes\":{\"end\":100,\"margin\":[5,10,5,10],\"sizing_mode\":\"stretch_width\",\"start\":50,\"title\":\"Confidence\",\"value\":[50,100]},\"id\":\"1005\",\"type\":\"RangeSlider\"}],\"root_ids\":[\"1005\",\"1006\"]},\"title\":\"Bokeh Application\",\"version\":\"2.4.3\"}};\n",
       "    var render_items = [{\"docid\":\"6673597b-1afd-4d10-a76b-9c57a79ae246\",\"root_ids\":[\"1005\"],\"roots\":{\"1005\":\"4581845e-78c2-481e-b317-f874c40ab089\"}}];\n",
       "    root.Bokeh.embed.embed_items_notebook(docs_json, render_items);\n",
       "    for (const render_item of render_items) {\n",
       "      for (const root_id of render_item.root_ids) {\n",
       "\tconst id_el = document.getElementById(root_id)\n",
       "\tif (id_el.children.length && (id_el.children[0].className === 'bk-root')) {\n",
       "\t  const root_el = id_el.children[0]\n",
       "\t  root_el.id = root_el.id + '-rendered'\n",
       "\t}\n",
       "      }\n",
       "    }\n",
       "  }\n",
       "  if (root.Bokeh !== undefined && root.Bokeh.Panel !== undefined && ( root['Tabulator'] !== undefined)) {\n",
       "    embed_document(root);\n",
       "  } else {\n",
       "    var attempts = 0;\n",
       "    var timer = setInterval(function(root) {\n",
       "      if (root.Bokeh !== undefined && root.Bokeh.Panel !== undefined && (root['Tabulator'] !== undefined)) {\n",
       "        clearInterval(timer);\n",
       "        embed_document(root);\n",
       "      } else if (document.readyState == \"complete\") {\n",
       "        attempts++;\n",
       "        if (attempts > 200) {\n",
       "          clearInterval(timer);\n",
       "          console.log(\"Bokeh: ERROR: Unable to run BokehJS code because BokehJS library is missing\");\n",
       "        }\n",
       "      }\n",
       "    }, 25, root)\n",
       "  }\n",
       "})(window);</script>"
      ],
      "text/plain": [
       "IntRangeSlider(end=100, name='Confidence', sizing_mode='stretch_width', start=50, value=(50, 100), value_end=100, value_start=50)"
      ]
     },
     "execution_count": 4,
     "metadata": {
      "application/vnd.holoviews_exec.v0+json": {
       "id": "1005"
      }
     },
     "output_type": "execute_result"
    }
   ],
   "source": [
    "confidence_range_slider = pn.widgets.IntRangeSlider(name='Confidence',start=50, end=100, value=(50, 100), step=1)\n",
    "\n",
    "confidence_range_slider"
   ]
  },
  {
   "cell_type": "code",
   "execution_count": 5,
   "id": "a5a47906",
   "metadata": {},
   "outputs": [
    {
     "data": {
      "text/plain": [
       "50"
      ]
     },
     "execution_count": 5,
     "metadata": {},
     "output_type": "execute_result"
    }
   ],
   "source": [
    "confidence_range_slider.value[0]"
   ]
  },
  {
   "cell_type": "code",
   "execution_count": 6,
   "id": "b04d8383",
   "metadata": {},
   "outputs": [
    {
     "data": {},
     "metadata": {},
     "output_type": "display_data"
    },
    {
     "data": {
      "application/vnd.holoviews_exec.v0+json": "",
      "text/html": [
       "<div id='1007'>\n",
       "  <div class=\"bk-root\" id=\"93d156c0-db0b-4140-99b9-1b3b10c9754e\" data-root-id=\"1007\"></div>\n",
       "</div>\n",
       "<script type=\"application/javascript\">(function(root) {\n",
       "  function embed_document(root) {\n",
       "    var docs_json = {\"172299fa-25c9-4840-b522-3a070a0f14dc\":{\"defs\":[{\"extends\":null,\"module\":null,\"name\":\"ReactiveHTML1\",\"overrides\":[],\"properties\":[]},{\"extends\":null,\"module\":null,\"name\":\"FlexBox1\",\"overrides\":[],\"properties\":[{\"default\":\"flex-start\",\"kind\":null,\"name\":\"align_content\"},{\"default\":\"flex-start\",\"kind\":null,\"name\":\"align_items\"},{\"default\":\"row\",\"kind\":null,\"name\":\"flex_direction\"},{\"default\":\"wrap\",\"kind\":null,\"name\":\"flex_wrap\"},{\"default\":\"flex-start\",\"kind\":null,\"name\":\"justify_content\"}]},{\"extends\":null,\"module\":null,\"name\":\"GridStack1\",\"overrides\":[],\"properties\":[{\"default\":\"warn\",\"kind\":null,\"name\":\"mode\"},{\"default\":null,\"kind\":null,\"name\":\"ncols\"},{\"default\":null,\"kind\":null,\"name\":\"nrows\"},{\"default\":true,\"kind\":null,\"name\":\"allow_resize\"},{\"default\":true,\"kind\":null,\"name\":\"allow_drag\"},{\"default\":[],\"kind\":null,\"name\":\"state\"}]},{\"extends\":null,\"module\":null,\"name\":\"click1\",\"overrides\":[],\"properties\":[{\"default\":\"\",\"kind\":null,\"name\":\"terminal_output\"},{\"default\":\"\",\"kind\":null,\"name\":\"debug_name\"},{\"default\":0,\"kind\":null,\"name\":\"clears\"}]},{\"extends\":null,\"module\":null,\"name\":\"NotificationAreaBase1\",\"overrides\":[],\"properties\":[{\"default\":\"bottom-right\",\"kind\":null,\"name\":\"position\"},{\"default\":0,\"kind\":null,\"name\":\"_clear\"}]},{\"extends\":null,\"module\":null,\"name\":\"NotificationArea1\",\"overrides\":[],\"properties\":[{\"default\":[],\"kind\":null,\"name\":\"notifications\"},{\"default\":\"bottom-right\",\"kind\":null,\"name\":\"position\"},{\"default\":0,\"kind\":null,\"name\":\"_clear\"},{\"default\":[{\"background\":\"#ffc107\",\"icon\":{\"className\":\"fas fa-exclamation-triangle\",\"color\":\"white\",\"tagName\":\"i\"},\"type\":\"warning\"},{\"background\":\"#007bff\",\"icon\":{\"className\":\"fas fa-info-circle\",\"color\":\"white\",\"tagName\":\"i\"},\"type\":\"info\"}],\"kind\":null,\"name\":\"types\"}]},{\"extends\":null,\"module\":null,\"name\":\"Notification\",\"overrides\":[],\"properties\":[{\"default\":null,\"kind\":null,\"name\":\"background\"},{\"default\":3000,\"kind\":null,\"name\":\"duration\"},{\"default\":null,\"kind\":null,\"name\":\"icon\"},{\"default\":\"\",\"kind\":null,\"name\":\"message\"},{\"default\":null,\"kind\":null,\"name\":\"notification_type\"},{\"default\":false,\"kind\":null,\"name\":\"_destroyed\"}]},{\"extends\":null,\"module\":null,\"name\":\"TemplateActions1\",\"overrides\":[],\"properties\":[{\"default\":0,\"kind\":null,\"name\":\"open_modal\"},{\"default\":0,\"kind\":null,\"name\":\"close_modal\"}]},{\"extends\":null,\"module\":null,\"name\":\"MaterialTemplateActions1\",\"overrides\":[],\"properties\":[{\"default\":0,\"kind\":null,\"name\":\"open_modal\"},{\"default\":0,\"kind\":null,\"name\":\"close_modal\"}]}],\"roots\":{\"references\":[{\"attributes\":{\"end\":52,\"margin\":[5,10,5,10],\"sizing_mode\":\"stretch_width\",\"start\":9,\"title\":\"Week\",\"value\":[11,15]},\"id\":\"1007\",\"type\":\"RangeSlider\"},{\"attributes\":{\"client_comm_id\":\"431c925d6eae4abeafbaa4bc5537efe1\",\"comm_id\":\"72cc049e20c24d6c9f79de2511b9df91\",\"plot_id\":\"1007\"},\"id\":\"1008\",\"type\":\"panel.models.comm_manager.CommManager\"}],\"root_ids\":[\"1007\",\"1008\"]},\"title\":\"Bokeh Application\",\"version\":\"2.4.3\"}};\n",
       "    var render_items = [{\"docid\":\"172299fa-25c9-4840-b522-3a070a0f14dc\",\"root_ids\":[\"1007\"],\"roots\":{\"1007\":\"93d156c0-db0b-4140-99b9-1b3b10c9754e\"}}];\n",
       "    root.Bokeh.embed.embed_items_notebook(docs_json, render_items);\n",
       "    for (const render_item of render_items) {\n",
       "      for (const root_id of render_item.root_ids) {\n",
       "\tconst id_el = document.getElementById(root_id)\n",
       "\tif (id_el.children.length && (id_el.children[0].className === 'bk-root')) {\n",
       "\t  const root_el = id_el.children[0]\n",
       "\t  root_el.id = root_el.id + '-rendered'\n",
       "\t}\n",
       "      }\n",
       "    }\n",
       "  }\n",
       "  if (root.Bokeh !== undefined && root.Bokeh.Panel !== undefined && ( root['Tabulator'] !== undefined)) {\n",
       "    embed_document(root);\n",
       "  } else {\n",
       "    var attempts = 0;\n",
       "    var timer = setInterval(function(root) {\n",
       "      if (root.Bokeh !== undefined && root.Bokeh.Panel !== undefined && (root['Tabulator'] !== undefined)) {\n",
       "        clearInterval(timer);\n",
       "        embed_document(root);\n",
       "      } else if (document.readyState == \"complete\") {\n",
       "        attempts++;\n",
       "        if (attempts > 200) {\n",
       "          clearInterval(timer);\n",
       "          console.log(\"Bokeh: ERROR: Unable to run BokehJS code because BokehJS library is missing\");\n",
       "        }\n",
       "      }\n",
       "    }, 25, root)\n",
       "  }\n",
       "})(window);</script>"
      ],
      "text/plain": [
       "IntRangeSlider(end=52, name='Week', sizing_mode='stretch_width', start=9, value=(11, 15), value_end=15, value_start=11)"
      ]
     },
     "execution_count": 6,
     "metadata": {
      "application/vnd.holoviews_exec.v0+json": {
       "id": "1007"
      }
     },
     "output_type": "execute_result"
    }
   ],
   "source": [
    "week_range_slider = pn.widgets.IntRangeSlider(name='Week',start=9, end=52, value=(11, 15), step=1)\n",
    "\n",
    "week_range_slider"
   ]
  },
  {
   "cell_type": "code",
   "execution_count": 7,
   "id": "db25ccf0",
   "metadata": {},
   "outputs": [
    {
     "data": {
      "text/plain": [
       "15"
      ]
     },
     "execution_count": 7,
     "metadata": {},
     "output_type": "execute_result"
    }
   ],
   "source": [
    "week_range_slider.value[1]"
   ]
  },
  {
   "cell_type": "markdown",
   "id": "92e261f2",
   "metadata": {},
   "source": [
    "## (2) Reading Data"
   ]
  },
  {
   "cell_type": "code",
   "execution_count": 8,
   "id": "db0c46f8",
   "metadata": {},
   "outputs": [],
   "source": [
    "#dfm = pd.read_csv('wildfire-data/active-data/ts_active_fire_shape_24h.csv')"
   ]
  },
  {
   "cell_type": "code",
   "execution_count": 9,
   "id": "4514dd00",
   "metadata": {},
   "outputs": [],
   "source": [
    "#dfm = pd.read_csv('https://raw.githubusercontent.com/oneon/firedataset/main/ts_active_fire_shape.csv')"
   ]
  },
  {
   "cell_type": "code",
   "execution_count": 10,
   "id": "d252321f",
   "metadata": {},
   "outputs": [],
   "source": [
    "# cache data to improve dashboard performance\n",
    "if 'datamap' not in pn.state.cache.keys():\n",
    "\n",
    "    dfm = pd.read_csv('https://raw.githubusercontent.com/oneon/firedataset/main/ts_active_fire_shape.csv')\n",
    "\n",
    "    pn.state.cache['datamap'] = dfm.copy()\n",
    "\n",
    "else: \n",
    "\n",
    "    dfm = pn.state.cache['datamap']"
   ]
  },
  {
   "cell_type": "code",
   "execution_count": 11,
   "id": "8cb46bf6",
   "metadata": {},
   "outputs": [],
   "source": [
    "# cache data to improve dashboard performance\n",
    "if 'datapre' not in pn.state.cache.keys():\n",
    "\n",
    "    dfp = pd.read_csv('https://raw.githubusercontent.com/oneon/firedataset/main/ts_predict_fire_shape.csv')\n",
    "\n",
    "    pn.state.cache['datapre'] = dfp.copy()\n",
    "\n",
    "else: \n",
    "\n",
    "    dfp = pn.state.cache['datapre']"
   ]
  },
  {
   "cell_type": "code",
   "execution_count": 12,
   "id": "deec6d5b",
   "metadata": {},
   "outputs": [],
   "source": [
    "# cache data to improve dashboard performance\n",
    "if 'datahis' not in pn.state.cache.keys():\n",
    "\n",
    "    dfh = pd.read_csv('https://raw.githubusercontent.com/oneon/firedataset/main/ts_yearly_fire.csv')\n",
    "\n",
    "    pn.state.cache['datahis'] = dfh.copy()\n",
    "\n",
    "else: \n",
    "\n",
    "    dfh = pn.state.cache['datahis']"
   ]
  },
  {
   "cell_type": "code",
   "execution_count": 13,
   "id": "f294c759",
   "metadata": {},
   "outputs": [],
   "source": [
    "dfm = dfm[dfm['Dist_Name'].str.contains('Nalgonda') | dfm['Dist_Name'].str.contains('Nagarkurnool')]"
   ]
  },
  {
   "cell_type": "code",
   "execution_count": 14,
   "id": "7a2026db",
   "metadata": {},
   "outputs": [],
   "source": [
    "dfp = dfp[dfp['Dist_Name'].str.contains('Nalgonda') | dfp['Dist_Name'].str.contains('Nagarkurnool')]"
   ]
  },
  {
   "cell_type": "code",
   "execution_count": 15,
   "id": "9f01e22a",
   "metadata": {},
   "outputs": [],
   "source": [
    "#dfp"
   ]
  },
  {
   "cell_type": "code",
   "execution_count": 16,
   "id": "9ddaca9f",
   "metadata": {},
   "outputs": [
    {
     "data": {
      "text/plain": [
       "((738, 13), (373, 13))"
      ]
     },
     "execution_count": 16,
     "metadata": {},
     "output_type": "execute_result"
    }
   ],
   "source": [
    "dfm.shape, dfp.shape"
   ]
  },
  {
   "cell_type": "code",
   "execution_count": 17,
   "id": "e1bbfad7",
   "metadata": {
    "tags": []
   },
   "outputs": [],
   "source": [
    "# Make DataFrame Pipeline Interactive\n",
    "idfm = dfm.interactive()"
   ]
  },
  {
   "cell_type": "code",
   "execution_count": 18,
   "id": "0030b4fa",
   "metadata": {},
   "outputs": [
    {
     "data": {},
     "metadata": {},
     "output_type": "display_data"
    },
    {
     "data": {
      "application/vnd.holoviews_exec.v0+json": "",
      "text/html": [
       "<div id='1009'>\n",
       "  <div class=\"bk-root\" id=\"345894e5-8752-4d88-80ec-54513a5af46f\" data-root-id=\"1009\"></div>\n",
       "</div>\n",
       "<script type=\"application/javascript\">(function(root) {\n",
       "  function embed_document(root) {\n",
       "    var docs_json = {\"62925f00-f88e-437f-b85e-f9e4ad8d3661\":{\"defs\":[{\"extends\":null,\"module\":null,\"name\":\"ReactiveHTML1\",\"overrides\":[],\"properties\":[]},{\"extends\":null,\"module\":null,\"name\":\"FlexBox1\",\"overrides\":[],\"properties\":[{\"default\":\"flex-start\",\"kind\":null,\"name\":\"align_content\"},{\"default\":\"flex-start\",\"kind\":null,\"name\":\"align_items\"},{\"default\":\"row\",\"kind\":null,\"name\":\"flex_direction\"},{\"default\":\"wrap\",\"kind\":null,\"name\":\"flex_wrap\"},{\"default\":\"flex-start\",\"kind\":null,\"name\":\"justify_content\"}]},{\"extends\":null,\"module\":null,\"name\":\"GridStack1\",\"overrides\":[],\"properties\":[{\"default\":\"warn\",\"kind\":null,\"name\":\"mode\"},{\"default\":null,\"kind\":null,\"name\":\"ncols\"},{\"default\":null,\"kind\":null,\"name\":\"nrows\"},{\"default\":true,\"kind\":null,\"name\":\"allow_resize\"},{\"default\":true,\"kind\":null,\"name\":\"allow_drag\"},{\"default\":[],\"kind\":null,\"name\":\"state\"}]},{\"extends\":null,\"module\":null,\"name\":\"click1\",\"overrides\":[],\"properties\":[{\"default\":\"\",\"kind\":null,\"name\":\"terminal_output\"},{\"default\":\"\",\"kind\":null,\"name\":\"debug_name\"},{\"default\":0,\"kind\":null,\"name\":\"clears\"}]},{\"extends\":null,\"module\":null,\"name\":\"NotificationAreaBase1\",\"overrides\":[],\"properties\":[{\"default\":\"bottom-right\",\"kind\":null,\"name\":\"position\"},{\"default\":0,\"kind\":null,\"name\":\"_clear\"}]},{\"extends\":null,\"module\":null,\"name\":\"NotificationArea1\",\"overrides\":[],\"properties\":[{\"default\":[],\"kind\":null,\"name\":\"notifications\"},{\"default\":\"bottom-right\",\"kind\":null,\"name\":\"position\"},{\"default\":0,\"kind\":null,\"name\":\"_clear\"},{\"default\":[{\"background\":\"#ffc107\",\"icon\":{\"className\":\"fas fa-exclamation-triangle\",\"color\":\"white\",\"tagName\":\"i\"},\"type\":\"warning\"},{\"background\":\"#007bff\",\"icon\":{\"className\":\"fas fa-info-circle\",\"color\":\"white\",\"tagName\":\"i\"},\"type\":\"info\"}],\"kind\":null,\"name\":\"types\"}]},{\"extends\":null,\"module\":null,\"name\":\"Notification\",\"overrides\":[],\"properties\":[{\"default\":null,\"kind\":null,\"name\":\"background\"},{\"default\":3000,\"kind\":null,\"name\":\"duration\"},{\"default\":null,\"kind\":null,\"name\":\"icon\"},{\"default\":\"\",\"kind\":null,\"name\":\"message\"},{\"default\":null,\"kind\":null,\"name\":\"notification_type\"},{\"default\":false,\"kind\":null,\"name\":\"_destroyed\"}]},{\"extends\":null,\"module\":null,\"name\":\"TemplateActions1\",\"overrides\":[],\"properties\":[{\"default\":0,\"kind\":null,\"name\":\"open_modal\"},{\"default\":0,\"kind\":null,\"name\":\"close_modal\"}]},{\"extends\":null,\"module\":null,\"name\":\"MaterialTemplateActions1\",\"overrides\":[],\"properties\":[{\"default\":0,\"kind\":null,\"name\":\"open_modal\"},{\"default\":0,\"kind\":null,\"name\":\"close_modal\"}]}],\"roots\":{\"references\":[{\"attributes\":{\"children\":[{\"id\":\"1012\"},{\"id\":\"1013\"}],\"margin\":[0,0,0,0],\"name\":\"Row00880\",\"sizing_mode\":\"stretch_width\"},\"id\":\"1011\",\"type\":\"Row\"},{\"attributes\":{\"margin\":[5,5,5,5],\"name\":\"interactive00853\",\"sizing_mode\":\"stretch_width\",\"text\":\"&lt;pre&gt;(738, 13)&lt;/pre&gt;\"},\"id\":\"1017\",\"type\":\"panel.models.markup.HTML\"},{\"attributes\":{\"children\":[{\"id\":\"1015\"},{\"id\":\"1016\"}],\"margin\":[0,0,0,0],\"name\":\"Column00854\",\"sizing_mode\":\"stretch_width\"},\"id\":\"1014\",\"type\":\"Column\"},{\"attributes\":{\"margin\":[0,0,0,0],\"name\":\"Column00852\",\"sizing_mode\":\"stretch_width\"},\"id\":\"1012\",\"type\":\"Column\"},{\"attributes\":{\"children\":[{\"id\":\"1017\"}],\"margin\":[0,0,0,0],\"name\":\"Row00877\",\"sizing_mode\":\"stretch_width\"},\"id\":\"1016\",\"type\":\"Row\"},{\"attributes\":{\"margin\":[5,5,5,5],\"name\":\"HSpacer00879\",\"sizing_mode\":\"stretch_width\"},\"id\":\"1013\",\"type\":\"Spacer\"},{\"attributes\":{\"children\":[{\"id\":\"1010\"}],\"margin\":[0,0,0,0],\"name\":\"Row00882\",\"sizing_mode\":\"stretch_width\"},\"id\":\"1009\",\"type\":\"Row\"},{\"attributes\":{\"margin\":[0,0,0,0],\"name\":\"Column00878\",\"sizing_mode\":\"stretch_width\"},\"id\":\"1015\",\"type\":\"Column\"},{\"attributes\":{\"children\":[{\"id\":\"1011\"},{\"id\":\"1014\"}],\"margin\":[0,0,0,0],\"name\":\"Column00881\",\"sizing_mode\":\"stretch_width\"},\"id\":\"1010\",\"type\":\"Column\"},{\"attributes\":{\"client_comm_id\":\"4f8c4864baae4dfd8fdbea72a939a908\",\"comm_id\":\"fac809e729084bbe84d249e36bc4df4c\",\"plot_id\":\"1009\"},\"id\":\"1018\",\"type\":\"panel.models.comm_manager.CommManager\"}],\"root_ids\":[\"1009\",\"1018\"]},\"title\":\"Bokeh Application\",\"version\":\"2.4.3\"}};\n",
       "    var render_items = [{\"docid\":\"62925f00-f88e-437f-b85e-f9e4ad8d3661\",\"root_ids\":[\"1009\"],\"roots\":{\"1009\":\"345894e5-8752-4d88-80ec-54513a5af46f\"}}];\n",
       "    root.Bokeh.embed.embed_items_notebook(docs_json, render_items);\n",
       "    for (const render_item of render_items) {\n",
       "      for (const root_id of render_item.root_ids) {\n",
       "\tconst id_el = document.getElementById(root_id)\n",
       "\tif (id_el.children.length && (id_el.children[0].className === 'bk-root')) {\n",
       "\t  const root_el = id_el.children[0]\n",
       "\t  root_el.id = root_el.id + '-rendered'\n",
       "\t}\n",
       "      }\n",
       "    }\n",
       "  }\n",
       "  if (root.Bokeh !== undefined && root.Bokeh.Panel !== undefined && ( root['Tabulator'] !== undefined)) {\n",
       "    embed_document(root);\n",
       "  } else {\n",
       "    var attempts = 0;\n",
       "    var timer = setInterval(function(root) {\n",
       "      if (root.Bokeh !== undefined && root.Bokeh.Panel !== undefined && (root['Tabulator'] !== undefined)) {\n",
       "        clearInterval(timer);\n",
       "        embed_document(root);\n",
       "      } else if (document.readyState == \"complete\") {\n",
       "        attempts++;\n",
       "        if (attempts > 200) {\n",
       "          clearInterval(timer);\n",
       "          console.log(\"Bokeh: ERROR: Unable to run BokehJS code because BokehJS library is missing\");\n",
       "        }\n",
       "      }\n",
       "    }, 25, root)\n",
       "  }\n",
       "})(window);</script>"
      ],
      "text/plain": [
       "<hvplot.interactive.Interactive at 0xffff3cd3f790>"
      ]
     },
     "execution_count": 18,
     "metadata": {
      "application/vnd.holoviews_exec.v0+json": {
       "id": "1009"
      }
     },
     "output_type": "execute_result"
    }
   ],
   "source": [
    "idfm.shape"
   ]
  },
  {
   "cell_type": "code",
   "execution_count": 19,
   "id": "fbe21468",
   "metadata": {},
   "outputs": [],
   "source": [
    "yaxis_duration = pn.widgets.RadioButtonGroup(\n",
    "    name='Y axis', \n",
    "    options=['24h', '48h', '7d'], \n",
    "    button_type='success'\n",
    ")\n",
    "yaxis_duration\n",
    "\n",
    "map_data_pipeline = (\n",
    "    idfm[\n",
    "        (idfm.duration == yaxis_duration)\n",
    "    ]\n",
    "    .groupby(['latitude', 'longitude', 'acq_date', 'acq_time', 'Mandal_Nam', 'Dist_Name', 'duration', 'instrument', 'week']).confidence.max()\n",
    "    .to_frame()\n",
    "    .reset_index()  \n",
    "    .reset_index(drop=True)\n",
    ")"
   ]
  },
  {
   "cell_type": "code",
   "execution_count": 20,
   "id": "0072979b",
   "metadata": {},
   "outputs": [],
   "source": [
    "#map_data_pipeline.columns"
   ]
  },
  {
   "cell_type": "code",
   "execution_count": 21,
   "id": "4afd141e",
   "metadata": {},
   "outputs": [
    {
     "data": {
      "text/plain": [
       "'24h'"
      ]
     },
     "execution_count": 21,
     "metadata": {},
     "output_type": "execute_result"
    }
   ],
   "source": [
    "yaxis_duration.value"
   ]
  },
  {
   "cell_type": "markdown",
   "id": "23ea7809",
   "metadata": {},
   "source": [
    "## (3) Table - Firedata "
   ]
  },
  {
   "cell_type": "code",
   "execution_count": 22,
   "id": "6778d360",
   "metadata": {
    "tags": []
   },
   "outputs": [],
   "source": [
    "active_fire_table = map_data_pipeline.pipe(pn.widgets.Tabulator, pagination='remote', page_size = 20, sizing_mode='stretch_width') \n",
    "#active_fire_table"
   ]
  },
  {
   "cell_type": "code",
   "execution_count": 23,
   "id": "0c42cbcf",
   "metadata": {},
   "outputs": [],
   "source": [
    "#map_data_pipeline.sample(10)"
   ]
  },
  {
   "cell_type": "code",
   "execution_count": 24,
   "id": "5cc4cc1f",
   "metadata": {},
   "outputs": [],
   "source": [
    "def get_map(lat=16.385318, long=78.9740939, zoom_start=9):\n",
    "    return fm.Map(location=[lat,long], zoom_start=zoom_start)\n",
    "\n",
    "map = get_map()\n",
    "\n",
    "#pn.panel(map, height=400)"
   ]
  },
  {
   "cell_type": "markdown",
   "id": "021d6603",
   "metadata": {},
   "source": [
    "## (4) Data Active - Firedata "
   ]
  },
  {
   "cell_type": "code",
   "execution_count": 25,
   "id": "b9555274",
   "metadata": {},
   "outputs": [],
   "source": [
    "def get_df_aqi(confidence=50):\n",
    "    aqi = dfm[dfm['duration'] == yaxis_duration.value]\n",
    "    aqi = aqi[aqi['confidence'] >= confidence]\n",
    "    return pd.DataFrame(aqi)\n",
    "    #return aqi\n",
    "\n",
    "df_aqi = get_df_aqi()"
   ]
  },
  {
   "cell_type": "markdown",
   "id": "1e6a9983",
   "metadata": {},
   "source": [
    "## (5) Data Forecast - Firedata "
   ]
  },
  {
   "cell_type": "code",
   "execution_count": 26,
   "id": "1443d941",
   "metadata": {},
   "outputs": [],
   "source": [
    "def get_dfp_aqi(confidence=50):\n",
    "    aqi = dfp[dfp['week'] > week_range_slider.value[0]] \n",
    "    aqi = aqi[aqi['week'] < week_range_slider.value[1]]\n",
    "    aqi = aqi[aqi['confidence'] >= confidence]\n",
    "    return pd.DataFrame(aqi)\n",
    "    #return aqi\n",
    "\n",
    "df_aqii = get_dfp_aqi()"
   ]
  },
  {
   "cell_type": "code",
   "execution_count": 27,
   "id": "b1c5b6f8",
   "metadata": {},
   "outputs": [
    {
     "data": {
      "text/plain": [
       "((84, 13), (11, 13))"
      ]
     },
     "execution_count": 27,
     "metadata": {},
     "output_type": "execute_result"
    }
   ],
   "source": [
    "df_aqi.shape, df_aqii.shape"
   ]
  },
  {
   "cell_type": "code",
   "execution_count": 28,
   "id": "00a0a218",
   "metadata": {},
   "outputs": [],
   "source": [
    "def add_aqi_circles(map, df_aqi):\n",
    "    yellow_p1  = fm.map.FeatureGroup()\n",
    "    orange_p1 = fm.map.FeatureGroup()\n",
    "    red_p1    = fm.map.FeatureGroup()\n",
    "    \n",
    "    for _, row in df_aqi.iterrows():\n",
    "          \n",
    "    \n",
    "        html=f\"\"\"\n",
    "            <h4> {row.Dist_Name}</h4>\n",
    "            <p>Mandal {row.Mandal_Nam}</p>\n",
    "            <ul>\n",
    "                <li>Date {row.acq_date}</li>\n",
    "                <li>Time {row.acq_time}</li>\n",
    "                <li>Lat {row.latitude}</li>\n",
    "                <li>Long {row.longitude}</li>\n",
    "                <li>Confidence {row.confidence}</li>\n",
    "            </ul>\n",
    "            </p>\n",
    "            \"\"\"\n",
    "        iframe = fm.IFrame(html=html, width=200, height=200)\n",
    "        popup = fm.Popup(iframe, max_width=2650)\n",
    "    \n",
    "    \n",
    "        if (row.confidence >= 50) and (row.confidence < 60):\n",
    "            feature_group = yellow_p1\n",
    "            customicon = 'fire-flame-yellow.png'\n",
    "        elif (row.confidence >= 60) and (row.confidence < 80):\n",
    "            feature_group = orange_p1\n",
    "            customicon = 'fire-flame-orange.png'\n",
    "        elif (row.confidence >= 80) and (row.confidence <= 100):\n",
    "            feature_group = red_p1\n",
    "            customicon = 'fire-flame-red.png'\n",
    "        else:\n",
    "            feature_group = yellow_p1\n",
    "            customicon = 'fire-flame-yellow.png'\n",
    "            \n",
    "            \n",
    "        pushpin = fm.features.CustomIcon(customicon, icon_size=(30,30))\n",
    "        feature_group.add_child(\n",
    "            fm.Marker(\n",
    "                [row.latitude, row.longitude],\n",
    "                icon=pushpin,\n",
    "                popup=popup\n",
    "            )\n",
    "        )\n",
    "\n",
    "    map.add_child(yellow_p1)\n",
    "    map.add_child(orange_p1)\n",
    "    map.add_child(red_p1)\n",
    "\n",
    "    template = \"\"\"\n",
    "    {% macro html(this, kwargs) %}\n",
    "\n",
    "    <!doctype html>\n",
    "    <html lang=\"en\">\n",
    "    <head>\n",
    "      <meta charset=\"utf-8\">\n",
    "      <meta name=\"viewport\" content=\"width=device-width, initial-scale=1\">\n",
    "      <title>jQuery UI Draggable - Default functionality</title>\n",
    "      <link rel=\"stylesheet\" href=\"//code.jquery.com/ui/1.12.1/themes/base/jquery-ui.css\">\n",
    "\n",
    "      <script src=\"https://code.jquery.com/jquery-1.12.4.js\"></script>\n",
    "      <script src=\"https://code.jquery.com/ui/1.12.1/jquery-ui.js\"></script>\n",
    "\n",
    "      <script>\n",
    "      $( function() {\n",
    "        $( \"#maplegend\" ).draggable({\n",
    "                        start: function (event, ui) {\n",
    "                            $(this).css({\n",
    "                                right: \"auto\",\n",
    "                                top: \"auto\",\n",
    "                                bottom: \"auto\"\n",
    "                            });\n",
    "                        }\n",
    "                    });\n",
    "    });\n",
    "\n",
    "      </script>\n",
    "    </head>\n",
    "    <body>\n",
    "\n",
    "\n",
    "    <div id='maplegend' class='maplegend' \n",
    "        style='position: absolute; z-index:9999; border:2px solid grey; background-color:rgba(255, 255, 255, 0.8);\n",
    "         border-radius:6px; padding: 10px; font-size:14px; right: 20px; bottom: 20px;'>\n",
    "\n",
    "    <div class='legend-title'>Legend Confidence</div>\n",
    "    <div class='legend-scale'>\n",
    "      <ul class='legend-labels'>\n",
    "        <li><span style='background:yellow;opacity:0.7;'></span>50 to 60</li>\n",
    "        <li><span style='background:orange;opacity:0.7;'></span>60 to 80</li>\n",
    "        <li><span style='background:red;opacity:0.7;'></span>80 to 100</li>\n",
    "\n",
    "      </ul>\n",
    "    </div>\n",
    "    </div>\n",
    "\n",
    "    </body>\n",
    "    </html>\n",
    "\n",
    "    <style type='text/css'>\n",
    "      .maplegend .legend-title {\n",
    "        text-align: left;\n",
    "        margin-bottom: 5px;\n",
    "        font-weight: bold;\n",
    "        font-size: 90%;\n",
    "        }\n",
    "      .maplegend .legend-scale ul {\n",
    "        margin: 0;\n",
    "        margin-bottom: 5px;\n",
    "        padding: 0;\n",
    "        float: left;\n",
    "        list-style: none;\n",
    "        }\n",
    "      .maplegend .legend-scale ul li {\n",
    "        font-size: 80%;\n",
    "        list-style: none;\n",
    "        margin-left: 0;\n",
    "        line-height: 18px;\n",
    "        margin-bottom: 2px;\n",
    "        }\n",
    "      .maplegend ul.legend-labels li span {\n",
    "        display: block;\n",
    "        float: left;\n",
    "        height: 16px;\n",
    "        width: 30px;\n",
    "        margin-right: 5px;\n",
    "        margin-left: 0;\n",
    "        border: 1px solid #999;\n",
    "        }\n",
    "      .maplegend .legend-source {\n",
    "        font-size: 80%;\n",
    "        color: #777;\n",
    "        clear: both;\n",
    "        }\n",
    "      .maplegend a {\n",
    "        color: #777;\n",
    "        }\n",
    "    </style>\n",
    "    {% endmacro %}\"\"\"\n",
    "\n",
    "    macro = MacroElement()\n",
    "    macro._template = Template(template)\n",
    "\n",
    "    map.add_child(macro)\n",
    "    \n",
    "#add_aqi_circles(map, df_aqi)\n",
    "#.panel(map, height=400)"
   ]
  },
  {
   "cell_type": "code",
   "execution_count": 29,
   "id": "04f4e6bf",
   "metadata": {},
   "outputs": [],
   "source": [
    "def add_aqi_predict_circles(map, df_aqi):\n",
    "    orange_p1  = fm.map.FeatureGroup()\n",
    "    red_p1 = fm.map.FeatureGroup()\n",
    "    yellow_p1 = fm.map.FeatureGroup()\n",
    "\n",
    "    for _, row in df_aqi.iterrows():\n",
    "        \n",
    "    \n",
    "        html=f\"\"\"\n",
    "            <h4> {row.Dist_Name}</h4>\n",
    "            <p>Mandal {row.Mandal_Nam}</p>\n",
    "            <ul>\n",
    "                <li>Week {row.week}</li>\n",
    "                <li>Lat {row.latitude}</li>\n",
    "                <li>Long {row.longitude}</li>\n",
    "                <li>Confidence {row.confidence}</li>\n",
    "            </ul>\n",
    "            </p>\n",
    "            \"\"\"\n",
    "        iframe = fm.IFrame(html=html, width=200, height=200)\n",
    "        popup = fm.Popup(iframe, max_width=2650)\n",
    "        \n",
    "        if (row.confidence >= 50) and (row.confidence < 60):\n",
    "            feature_group = yellow_p1\n",
    "            customicon = 'fire-flame-yellow.png'\n",
    "        elif (row.confidence >= 60) and (row.confidence < 80):\n",
    "            feature_group = orange_p1\n",
    "            customicon = 'fire-flame-orange.png'\n",
    "        elif (row.confidence >= 80) and (row.confidence <= 100):\n",
    "            feature_group = red_p1\n",
    "            customicon = 'fire-flame-red.png'\n",
    "        else:\n",
    "            feature_group = yellow_p1\n",
    "            customicon = 'fire-flame-yellow.png'\n",
    "    \n",
    "        pushpin = fm.features.CustomIcon(customicon, icon_size=(30,30))\n",
    "        feature_group.add_child(\n",
    "            fm.Marker(\n",
    "                [row.latitude, row.longitude],\n",
    "                icon=pushpin,\n",
    "                popup=popup\n",
    "            )\n",
    "        )\n",
    "\n",
    "    map.add_child(orange_p1)\n",
    "    map.add_child(red_p1)\n",
    "    map.add_child(yellow_p1)\n",
    "    \n",
    "    template = \"\"\"\n",
    "    {% macro html(this, kwargs) %}\n",
    "\n",
    "    <!doctype html>\n",
    "    <html lang=\"en\">\n",
    "    <head>\n",
    "      <meta charset=\"utf-8\">\n",
    "      <meta name=\"viewport\" content=\"width=device-width, initial-scale=1\">\n",
    "      <title>jQuery UI Draggable - Default functionality</title>\n",
    "      <link rel=\"stylesheet\" href=\"//code.jquery.com/ui/1.12.1/themes/base/jquery-ui.css\">\n",
    "\n",
    "      <script src=\"https://code.jquery.com/jquery-1.12.4.js\"></script>\n",
    "      <script src=\"https://code.jquery.com/ui/1.12.1/jquery-ui.js\"></script>\n",
    "\n",
    "      <script>\n",
    "      $( function() {\n",
    "        $( \"#maplegend\" ).draggable({\n",
    "                        start: function (event, ui) {\n",
    "                            $(this).css({\n",
    "                                right: \"auto\",\n",
    "                                top: \"auto\",\n",
    "                                bottom: \"auto\"\n",
    "                            });\n",
    "                        }\n",
    "                    });\n",
    "    });\n",
    "\n",
    "      </script>\n",
    "    </head>\n",
    "    <body>\n",
    "\n",
    "\n",
    "    <div id='maplegend' class='maplegend' \n",
    "        style='position: absolute; z-index:9999; border:2px solid grey; background-color:rgba(255, 255, 255, 0.8);\n",
    "         border-radius:6px; padding: 10px; font-size:14px; right: 20px; bottom: 20px;'>\n",
    "\n",
    "    <div class='legend-title'>Legend Confidence</div>\n",
    "    <div class='legend-scale'>\n",
    "      <ul class='legend-labels'>\n",
    "        <li><span style='background:yellow;opacity:0.7;'></span>50 to 60</li>\n",
    "        <li><span style='background:orange;opacity:0.7;'></span>60 to 80</li>\n",
    "        <li><span style='background:red;opacity:0.7;'></span>80 to 100</li>\n",
    "\n",
    "      </ul>\n",
    "    </div>\n",
    "    </div>\n",
    "\n",
    "    </body>\n",
    "    </html>\n",
    "\n",
    "    <style type='text/css'>\n",
    "      .maplegend .legend-title {\n",
    "        text-align: left;\n",
    "        margin-bottom: 5px;\n",
    "        font-weight: bold;\n",
    "        font-size: 90%;\n",
    "        }\n",
    "      .maplegend .legend-scale ul {\n",
    "        margin: 0;\n",
    "        margin-bottom: 5px;\n",
    "        padding: 0;\n",
    "        float: left;\n",
    "        list-style: none;\n",
    "        }\n",
    "      .maplegend .legend-scale ul li {\n",
    "        font-size: 80%;\n",
    "        list-style: none;\n",
    "        margin-left: 0;\n",
    "        line-height: 18px;\n",
    "        margin-bottom: 2px;\n",
    "        }\n",
    "      .maplegend ul.legend-labels li span {\n",
    "        display: block;\n",
    "        float: left;\n",
    "        height: 16px;\n",
    "        width: 30px;\n",
    "        margin-right: 5px;\n",
    "        margin-left: 0;\n",
    "        border: 1px solid #999;\n",
    "        }\n",
    "      .maplegend .legend-source {\n",
    "        font-size: 80%;\n",
    "        color: #777;\n",
    "        clear: both;\n",
    "        }\n",
    "      .maplegend a {\n",
    "        color: #777;\n",
    "        }\n",
    "    </style>\n",
    "    {% endmacro %}\"\"\"\n",
    "\n",
    "    macro = MacroElement()\n",
    "    macro._template = Template(template)\n",
    "\n",
    "    map.add_child(macro)\n",
    "    \n",
    "#add_aqi_predict_circles(map, df_aqii)\n",
    "#pn.panel(map, height=400)"
   ]
  },
  {
   "cell_type": "markdown",
   "id": "a7aebb41",
   "metadata": {},
   "source": [
    "## (6) Create Map Active Fire "
   ]
  },
  {
   "cell_type": "code",
   "execution_count": 30,
   "id": "233b4933",
   "metadata": {},
   "outputs": [],
   "source": [
    "class PanelFoliumMap(param.Parameterized):\n",
    "    Confidence = param.Integer(50, bounds=(50,100))\n",
    "        \n",
    "    def __init__(self, **params):\n",
    "        super().__init__(**params)\n",
    "        self.map = get_map()\n",
    "        self.folium_pane = pn.pane.plot.Folium(sizing_mode=\"stretch_both\", min_height=500, margin=0)    \n",
    "        self.view = pn.Column(\n",
    "            self.param.Confidence,\n",
    "            self.folium_pane,\n",
    "            sizing_mode=\"stretch_both\", height=500\n",
    "        )\n",
    "        self._update_map()\n",
    "\n",
    "    @param.depends(\"Confidence\", watch=True)\n",
    "    def _update_map(self):\n",
    "        self.map = get_map()\n",
    "        df_aqi = get_df_aqi(confidence=self.Confidence)\n",
    "        add_aqi_circles(self.map, df_aqi)\n",
    "        self.folium_pane.object = self.map\n",
    "\n",
    "        \n",
    "#app = PanelFoliumMap()\n",
    "#app.view"
   ]
  },
  {
   "cell_type": "markdown",
   "id": "a82a3ac3",
   "metadata": {},
   "source": [
    "## (7) Bar chart with Forecast data"
   ]
  },
  {
   "cell_type": "code",
   "execution_count": 31,
   "id": "348ea95d",
   "metadata": {},
   "outputs": [],
   "source": [
    "#dfp"
   ]
  },
  {
   "cell_type": "code",
   "execution_count": 32,
   "id": "2cb38474",
   "metadata": {
    "tags": []
   },
   "outputs": [],
   "source": [
    "# Make DataFrame Pipeline Interactive\n",
    "idfp = dfp.interactive()"
   ]
  },
  {
   "cell_type": "code",
   "execution_count": 33,
   "id": "d28382de",
   "metadata": {},
   "outputs": [],
   "source": [
    "#dfp"
   ]
  },
  {
   "cell_type": "code",
   "execution_count": 34,
   "id": "4dd3c59e",
   "metadata": {},
   "outputs": [],
   "source": [
    "# Radio buttons for District Name\n",
    "yaxis_district = pn.widgets.RadioButtonGroup(\n",
    "    name='Y axis', \n",
    "    options=['Nagarkurnool', 'Nalgonda',],\n",
    "    button_type='success'\n",
    ")\n",
    "week_predict_bar_pipeline = (\n",
    "    idfp[\n",
    "        (idfp.Dist_Name == yaxis_district)       \n",
    "    ]\n",
    "    .groupby(['week']).size()\n",
    "    .to_frame()\n",
    "    .reset_index()\n",
    "    .reset_index(drop=True)\n",
    ")"
   ]
  },
  {
   "cell_type": "code",
   "execution_count": 35,
   "id": "9cca8371",
   "metadata": {
    "scrolled": false
   },
   "outputs": [],
   "source": [
    "#week_predict_bar_pipeline"
   ]
  },
  {
   "cell_type": "code",
   "execution_count": 36,
   "id": "714e9319",
   "metadata": {},
   "outputs": [],
   "source": [
    "week_predict_bar_pipeline.columns = ['week', 'Dist_Name', 'fire_count']"
   ]
  },
  {
   "cell_type": "code",
   "execution_count": 37,
   "id": "bdb8d555",
   "metadata": {},
   "outputs": [],
   "source": [
    "#week_predict_bar_pipeline"
   ]
  },
  {
   "cell_type": "code",
   "execution_count": 38,
   "id": "a48bb629",
   "metadata": {},
   "outputs": [],
   "source": [
    "week_predict_bar_plot = week_predict_bar_pipeline.hvplot(kind='bar', \n",
    "                                                     x='week', \n",
    "                                                     y='0', \n",
    "                                                     title='Weekly fire count forecast')\n",
    "#week_predict_bar_plot"
   ]
  },
  {
   "cell_type": "markdown",
   "id": "60dbcde2",
   "metadata": {},
   "source": [
    "## (8) Week vs Confidence scatterplot"
   ]
  },
  {
   "cell_type": "code",
   "execution_count": 39,
   "id": "95365eb7",
   "metadata": {},
   "outputs": [],
   "source": [
    "week_vs_conf_scatterplot_pipeline = (\n",
    "    idfp\n",
    "    .groupby(['latitude', 'longitude', 'week', 'Dist_Name'])['confidence'].mean()\n",
    "    .to_frame()\n",
    "    .reset_index()\n",
    "    .reset_index(drop=True)\n",
    ")"
   ]
  },
  {
   "cell_type": "code",
   "execution_count": 40,
   "id": "7d55c804",
   "metadata": {},
   "outputs": [],
   "source": [
    "week_vs_conf_scatterplot = week_vs_conf_scatterplot_pipeline.hvplot(x='week', \n",
    "                                                                y='confidence', \n",
    "                                                                by='Dist_Name', \n",
    "                                                                size=80, kind=\"scatter\", \n",
    "                                                                alpha=0.7,\n",
    "                                                                legend=False, \n",
    "                                                                height=500, \n",
    "                                                                width=500)\n",
    "#week_vs_conf_scatterplot"
   ]
  },
  {
   "cell_type": "markdown",
   "id": "21ede071",
   "metadata": {},
   "source": [
    "## (9) Table - Firedata Forecast "
   ]
  },
  {
   "cell_type": "code",
   "execution_count": 41,
   "id": "bcfbc6bc",
   "metadata": {},
   "outputs": [],
   "source": [
    "week_predict_pipeline = (\n",
    "    idfp[\n",
    "        (idfp.week == week_slider)\n",
    "    ].groupby(['latitude', 'longitude', 'week', 'Dist_Name'])['confidence'].mean()\n",
    "    .reset_index()\n",
    "    .reset_index(drop=True)\n",
    ")"
   ]
  },
  {
   "cell_type": "code",
   "execution_count": 42,
   "id": "3a7b264d",
   "metadata": {},
   "outputs": [],
   "source": [
    "#week_predict_pipeline"
   ]
  },
  {
   "cell_type": "code",
   "execution_count": 43,
   "id": "91a9d5cc",
   "metadata": {
    "tags": []
   },
   "outputs": [],
   "source": [
    "predict_table = week_predict_pipeline.pipe(pn.widgets.Tabulator, pagination='remote', page_size = 20, sizing_mode='stretch_width') \n",
    "#predict_table"
   ]
  },
  {
   "cell_type": "markdown",
   "id": "e0086749",
   "metadata": {},
   "source": [
    "## (10) Create Map Forecast "
   ]
  },
  {
   "cell_type": "code",
   "execution_count": 44,
   "id": "6e0f21fd",
   "metadata": {},
   "outputs": [],
   "source": [
    "class PanelFoliumMapForecast(param.Parameterized):\n",
    "    Confidence = param.Integer(50, bounds=(50,100))\n",
    "        \n",
    "    def __init__(self, **params):\n",
    "        super().__init__(**params)\n",
    "        self.map = get_map()\n",
    "        self.folium_pane = pn.pane.plot.Folium(sizing_mode=\"stretch_both\", min_height=500, margin=0)    \n",
    "        self.view = pn.Column(\n",
    "            self.param.Confidence,\n",
    "            self.folium_pane,\n",
    "            sizing_mode=\"stretch_both\", height=500\n",
    "        )\n",
    "        self._update_map()\n",
    "\n",
    "    @param.depends(\"Confidence\", watch=True)\n",
    "    def _update_map(self):\n",
    "        self.map = get_map()\n",
    "        df_aqi = get_dfp_aqi(confidence=self.Confidence)\n",
    "        add_aqi_predict_circles(self.map, df_aqi)\n",
    "        self.folium_pane.object = self.map\n",
    "\n",
    "        \n",
    "#app = PanelFoliumMapForecast()\n",
    "#app.view"
   ]
  },
  {
   "cell_type": "code",
   "execution_count": 45,
   "id": "94cf1387",
   "metadata": {},
   "outputs": [
    {
     "data": {},
     "metadata": {},
     "output_type": "display_data"
    },
    {
     "data": {
      "application/vnd.holoviews_exec.v0+json": "",
      "text/html": [
       "<div id='1019'>\n",
       "  <div class=\"bk-root\" id=\"8f24accd-efa2-42b2-9b3d-1996a897a764\" data-root-id=\"1019\"></div>\n",
       "</div>\n",
       "<script type=\"application/javascript\">(function(root) {\n",
       "  function embed_document(root) {\n",
       "    var docs_json = {\"abd81929-b5a8-49e0-a3f3-a006274ef487\":{\"defs\":[{\"extends\":null,\"module\":null,\"name\":\"ReactiveHTML1\",\"overrides\":[],\"properties\":[]},{\"extends\":null,\"module\":null,\"name\":\"FlexBox1\",\"overrides\":[],\"properties\":[{\"default\":\"flex-start\",\"kind\":null,\"name\":\"align_content\"},{\"default\":\"flex-start\",\"kind\":null,\"name\":\"align_items\"},{\"default\":\"row\",\"kind\":null,\"name\":\"flex_direction\"},{\"default\":\"wrap\",\"kind\":null,\"name\":\"flex_wrap\"},{\"default\":\"flex-start\",\"kind\":null,\"name\":\"justify_content\"}]},{\"extends\":null,\"module\":null,\"name\":\"GridStack1\",\"overrides\":[],\"properties\":[{\"default\":\"warn\",\"kind\":null,\"name\":\"mode\"},{\"default\":null,\"kind\":null,\"name\":\"ncols\"},{\"default\":null,\"kind\":null,\"name\":\"nrows\"},{\"default\":true,\"kind\":null,\"name\":\"allow_resize\"},{\"default\":true,\"kind\":null,\"name\":\"allow_drag\"},{\"default\":[],\"kind\":null,\"name\":\"state\"}]},{\"extends\":null,\"module\":null,\"name\":\"click1\",\"overrides\":[],\"properties\":[{\"default\":\"\",\"kind\":null,\"name\":\"terminal_output\"},{\"default\":\"\",\"kind\":null,\"name\":\"debug_name\"},{\"default\":0,\"kind\":null,\"name\":\"clears\"}]},{\"extends\":null,\"module\":null,\"name\":\"NotificationAreaBase1\",\"overrides\":[],\"properties\":[{\"default\":\"bottom-right\",\"kind\":null,\"name\":\"position\"},{\"default\":0,\"kind\":null,\"name\":\"_clear\"}]},{\"extends\":null,\"module\":null,\"name\":\"NotificationArea1\",\"overrides\":[],\"properties\":[{\"default\":[],\"kind\":null,\"name\":\"notifications\"},{\"default\":\"bottom-right\",\"kind\":null,\"name\":\"position\"},{\"default\":0,\"kind\":null,\"name\":\"_clear\"},{\"default\":[{\"background\":\"#ffc107\",\"icon\":{\"className\":\"fas fa-exclamation-triangle\",\"color\":\"white\",\"tagName\":\"i\"},\"type\":\"warning\"},{\"background\":\"#007bff\",\"icon\":{\"className\":\"fas fa-info-circle\",\"color\":\"white\",\"tagName\":\"i\"},\"type\":\"info\"}],\"kind\":null,\"name\":\"types\"}]},{\"extends\":null,\"module\":null,\"name\":\"Notification\",\"overrides\":[],\"properties\":[{\"default\":null,\"kind\":null,\"name\":\"background\"},{\"default\":3000,\"kind\":null,\"name\":\"duration\"},{\"default\":null,\"kind\":null,\"name\":\"icon\"},{\"default\":\"\",\"kind\":null,\"name\":\"message\"},{\"default\":null,\"kind\":null,\"name\":\"notification_type\"},{\"default\":false,\"kind\":null,\"name\":\"_destroyed\"}]},{\"extends\":null,\"module\":null,\"name\":\"TemplateActions1\",\"overrides\":[],\"properties\":[{\"default\":0,\"kind\":null,\"name\":\"open_modal\"},{\"default\":0,\"kind\":null,\"name\":\"close_modal\"}]},{\"extends\":null,\"module\":null,\"name\":\"MaterialTemplateActions1\",\"overrides\":[],\"properties\":[{\"default\":0,\"kind\":null,\"name\":\"open_modal\"},{\"default\":0,\"kind\":null,\"name\":\"close_modal\"}]}],\"roots\":{\"references\":[{\"attributes\":{\"client_comm_id\":\"c1bab99017364d8e9d81c523c74a34c8\",\"comm_id\":\"ead33434dea14db7800e87b229cf24e8\",\"plot_id\":\"1019\"},\"id\":\"1020\",\"type\":\"panel.models.comm_manager.CommManager\"},{\"attributes\":{\"active\":[0],\"labels\":[\"MODIS\"],\"margin\":[5,10,5,10],\"sizing_mode\":\"stretch_width\"},\"id\":\"1019\",\"type\":\"CheckboxGroup\"}],\"root_ids\":[\"1019\",\"1020\"]},\"title\":\"Bokeh Application\",\"version\":\"2.4.3\"}};\n",
       "    var render_items = [{\"docid\":\"abd81929-b5a8-49e0-a3f3-a006274ef487\",\"root_ids\":[\"1019\"],\"roots\":{\"1019\":\"8f24accd-efa2-42b2-9b3d-1996a897a764\"}}];\n",
       "    root.Bokeh.embed.embed_items_notebook(docs_json, render_items);\n",
       "    for (const render_item of render_items) {\n",
       "      for (const root_id of render_item.root_ids) {\n",
       "\tconst id_el = document.getElementById(root_id)\n",
       "\tif (id_el.children.length && (id_el.children[0].className === 'bk-root')) {\n",
       "\t  const root_el = id_el.children[0]\n",
       "\t  root_el.id = root_el.id + '-rendered'\n",
       "\t}\n",
       "      }\n",
       "    }\n",
       "  }\n",
       "  if (root.Bokeh !== undefined && root.Bokeh.Panel !== undefined && ( root['Tabulator'] !== undefined)) {\n",
       "    embed_document(root);\n",
       "  } else {\n",
       "    var attempts = 0;\n",
       "    var timer = setInterval(function(root) {\n",
       "      if (root.Bokeh !== undefined && root.Bokeh.Panel !== undefined && (root['Tabulator'] !== undefined)) {\n",
       "        clearInterval(timer);\n",
       "        embed_document(root);\n",
       "      } else if (document.readyState == \"complete\") {\n",
       "        attempts++;\n",
       "        if (attempts > 200) {\n",
       "          clearInterval(timer);\n",
       "          console.log(\"Bokeh: ERROR: Unable to run BokehJS code because BokehJS library is missing\");\n",
       "        }\n",
       "      }\n",
       "    }, 25, root)\n",
       "  }\n",
       "})(window);</script>"
      ],
      "text/plain": [
       "Checkbox(name='MODIS', sizing_mode='stretch_width', value=True)"
      ]
     },
     "execution_count": 45,
     "metadata": {
      "application/vnd.holoviews_exec.v0+json": {
       "id": "1019"
      }
     },
     "output_type": "execute_result"
    }
   ],
   "source": [
    "checkbox = pn.widgets.Checkbox(name='MODIS', value= True, disabled = False )\n",
    "checkbox"
   ]
  },
  {
   "cell_type": "code",
   "execution_count": 46,
   "id": "939f2151",
   "metadata": {},
   "outputs": [
    {
     "data": {},
     "metadata": {},
     "output_type": "display_data"
    },
    {
     "data": {
      "application/vnd.holoviews_exec.v0+json": "",
      "text/html": [
       "<div id='1021'>\n",
       "  <div class=\"bk-root\" id=\"b03f8cbf-6b78-4ad2-8939-ebab20a153c5\" data-root-id=\"1021\"></div>\n",
       "</div>\n",
       "<script type=\"application/javascript\">(function(root) {\n",
       "  function embed_document(root) {\n",
       "    var docs_json = {\"d4a80a31-668f-486c-8fb9-76191a6d081e\":{\"defs\":[{\"extends\":null,\"module\":null,\"name\":\"ReactiveHTML1\",\"overrides\":[],\"properties\":[]},{\"extends\":null,\"module\":null,\"name\":\"FlexBox1\",\"overrides\":[],\"properties\":[{\"default\":\"flex-start\",\"kind\":null,\"name\":\"align_content\"},{\"default\":\"flex-start\",\"kind\":null,\"name\":\"align_items\"},{\"default\":\"row\",\"kind\":null,\"name\":\"flex_direction\"},{\"default\":\"wrap\",\"kind\":null,\"name\":\"flex_wrap\"},{\"default\":\"flex-start\",\"kind\":null,\"name\":\"justify_content\"}]},{\"extends\":null,\"module\":null,\"name\":\"GridStack1\",\"overrides\":[],\"properties\":[{\"default\":\"warn\",\"kind\":null,\"name\":\"mode\"},{\"default\":null,\"kind\":null,\"name\":\"ncols\"},{\"default\":null,\"kind\":null,\"name\":\"nrows\"},{\"default\":true,\"kind\":null,\"name\":\"allow_resize\"},{\"default\":true,\"kind\":null,\"name\":\"allow_drag\"},{\"default\":[],\"kind\":null,\"name\":\"state\"}]},{\"extends\":null,\"module\":null,\"name\":\"click1\",\"overrides\":[],\"properties\":[{\"default\":\"\",\"kind\":null,\"name\":\"terminal_output\"},{\"default\":\"\",\"kind\":null,\"name\":\"debug_name\"},{\"default\":0,\"kind\":null,\"name\":\"clears\"}]},{\"extends\":null,\"module\":null,\"name\":\"NotificationAreaBase1\",\"overrides\":[],\"properties\":[{\"default\":\"bottom-right\",\"kind\":null,\"name\":\"position\"},{\"default\":0,\"kind\":null,\"name\":\"_clear\"}]},{\"extends\":null,\"module\":null,\"name\":\"NotificationArea1\",\"overrides\":[],\"properties\":[{\"default\":[],\"kind\":null,\"name\":\"notifications\"},{\"default\":\"bottom-right\",\"kind\":null,\"name\":\"position\"},{\"default\":0,\"kind\":null,\"name\":\"_clear\"},{\"default\":[{\"background\":\"#ffc107\",\"icon\":{\"className\":\"fas fa-exclamation-triangle\",\"color\":\"white\",\"tagName\":\"i\"},\"type\":\"warning\"},{\"background\":\"#007bff\",\"icon\":{\"className\":\"fas fa-info-circle\",\"color\":\"white\",\"tagName\":\"i\"},\"type\":\"info\"}],\"kind\":null,\"name\":\"types\"}]},{\"extends\":null,\"module\":null,\"name\":\"Notification\",\"overrides\":[],\"properties\":[{\"default\":null,\"kind\":null,\"name\":\"background\"},{\"default\":3000,\"kind\":null,\"name\":\"duration\"},{\"default\":null,\"kind\":null,\"name\":\"icon\"},{\"default\":\"\",\"kind\":null,\"name\":\"message\"},{\"default\":null,\"kind\":null,\"name\":\"notification_type\"},{\"default\":false,\"kind\":null,\"name\":\"_destroyed\"}]},{\"extends\":null,\"module\":null,\"name\":\"TemplateActions1\",\"overrides\":[],\"properties\":[{\"default\":0,\"kind\":null,\"name\":\"open_modal\"},{\"default\":0,\"kind\":null,\"name\":\"close_modal\"}]},{\"extends\":null,\"module\":null,\"name\":\"MaterialTemplateActions1\",\"overrides\":[],\"properties\":[{\"default\":0,\"kind\":null,\"name\":\"open_modal\"},{\"default\":0,\"kind\":null,\"name\":\"close_modal\"}]}],\"roots\":{\"references\":[{\"attributes\":{\"client_comm_id\":\"47da2bf536c146b090966c8ca3b62b68\",\"comm_id\":\"76d0be0544284cd6b81055e2664fc85a\",\"plot_id\":\"1021\"},\"id\":\"1022\",\"type\":\"panel.models.comm_manager.CommManager\"},{\"attributes\":{\"active\":[0],\"labels\":[\"VIIRS\"],\"margin\":[5,10,5,10],\"sizing_mode\":\"stretch_width\"},\"id\":\"1021\",\"type\":\"CheckboxGroup\"}],\"root_ids\":[\"1021\",\"1022\"]},\"title\":\"Bokeh Application\",\"version\":\"2.4.3\"}};\n",
       "    var render_items = [{\"docid\":\"d4a80a31-668f-486c-8fb9-76191a6d081e\",\"root_ids\":[\"1021\"],\"roots\":{\"1021\":\"b03f8cbf-6b78-4ad2-8939-ebab20a153c5\"}}];\n",
       "    root.Bokeh.embed.embed_items_notebook(docs_json, render_items);\n",
       "    for (const render_item of render_items) {\n",
       "      for (const root_id of render_item.root_ids) {\n",
       "\tconst id_el = document.getElementById(root_id)\n",
       "\tif (id_el.children.length && (id_el.children[0].className === 'bk-root')) {\n",
       "\t  const root_el = id_el.children[0]\n",
       "\t  root_el.id = root_el.id + '-rendered'\n",
       "\t}\n",
       "      }\n",
       "    }\n",
       "  }\n",
       "  if (root.Bokeh !== undefined && root.Bokeh.Panel !== undefined && ( root['Tabulator'] !== undefined)) {\n",
       "    embed_document(root);\n",
       "  } else {\n",
       "    var attempts = 0;\n",
       "    var timer = setInterval(function(root) {\n",
       "      if (root.Bokeh !== undefined && root.Bokeh.Panel !== undefined && (root['Tabulator'] !== undefined)) {\n",
       "        clearInterval(timer);\n",
       "        embed_document(root);\n",
       "      } else if (document.readyState == \"complete\") {\n",
       "        attempts++;\n",
       "        if (attempts > 200) {\n",
       "          clearInterval(timer);\n",
       "          console.log(\"Bokeh: ERROR: Unable to run BokehJS code because BokehJS library is missing\");\n",
       "        }\n",
       "      }\n",
       "    }, 25, root)\n",
       "  }\n",
       "})(window);</script>"
      ],
      "text/plain": [
       "Checkbox(name='VIIRS', sizing_mode='stretch_width', value=True)"
      ]
     },
     "execution_count": 46,
     "metadata": {
      "application/vnd.holoviews_exec.v0+json": {
       "id": "1021"
      }
     },
     "output_type": "execute_result"
    }
   ],
   "source": [
    "checkbox2 = pn.widgets.Checkbox(name='VIIRS', value= True, disabled = False )\n",
    "checkbox2"
   ]
  },
  {
   "cell_type": "code",
   "execution_count": 47,
   "id": "dade9cb8",
   "metadata": {},
   "outputs": [
    {
     "data": {},
     "metadata": {},
     "output_type": "display_data"
    },
    {
     "data": {
      "application/vnd.holoviews_exec.v0+json": "",
      "text/html": [
       "<div id='1023'>\n",
       "  <div class=\"bk-root\" id=\"a2250085-9fa2-4a4d-aa91-9d1a11958633\" data-root-id=\"1023\"></div>\n",
       "</div>\n",
       "<script type=\"application/javascript\">(function(root) {\n",
       "  function embed_document(root) {\n",
       "    var docs_json = {\"c7c6a8d5-617c-4df8-8ef3-6386b42014fe\":{\"defs\":[{\"extends\":null,\"module\":null,\"name\":\"ReactiveHTML1\",\"overrides\":[],\"properties\":[]},{\"extends\":null,\"module\":null,\"name\":\"FlexBox1\",\"overrides\":[],\"properties\":[{\"default\":\"flex-start\",\"kind\":null,\"name\":\"align_content\"},{\"default\":\"flex-start\",\"kind\":null,\"name\":\"align_items\"},{\"default\":\"row\",\"kind\":null,\"name\":\"flex_direction\"},{\"default\":\"wrap\",\"kind\":null,\"name\":\"flex_wrap\"},{\"default\":\"flex-start\",\"kind\":null,\"name\":\"justify_content\"}]},{\"extends\":null,\"module\":null,\"name\":\"GridStack1\",\"overrides\":[],\"properties\":[{\"default\":\"warn\",\"kind\":null,\"name\":\"mode\"},{\"default\":null,\"kind\":null,\"name\":\"ncols\"},{\"default\":null,\"kind\":null,\"name\":\"nrows\"},{\"default\":true,\"kind\":null,\"name\":\"allow_resize\"},{\"default\":true,\"kind\":null,\"name\":\"allow_drag\"},{\"default\":[],\"kind\":null,\"name\":\"state\"}]},{\"extends\":null,\"module\":null,\"name\":\"click1\",\"overrides\":[],\"properties\":[{\"default\":\"\",\"kind\":null,\"name\":\"terminal_output\"},{\"default\":\"\",\"kind\":null,\"name\":\"debug_name\"},{\"default\":0,\"kind\":null,\"name\":\"clears\"}]},{\"extends\":null,\"module\":null,\"name\":\"NotificationAreaBase1\",\"overrides\":[],\"properties\":[{\"default\":\"bottom-right\",\"kind\":null,\"name\":\"position\"},{\"default\":0,\"kind\":null,\"name\":\"_clear\"}]},{\"extends\":null,\"module\":null,\"name\":\"NotificationArea1\",\"overrides\":[],\"properties\":[{\"default\":[],\"kind\":null,\"name\":\"notifications\"},{\"default\":\"bottom-right\",\"kind\":null,\"name\":\"position\"},{\"default\":0,\"kind\":null,\"name\":\"_clear\"},{\"default\":[{\"background\":\"#ffc107\",\"icon\":{\"className\":\"fas fa-exclamation-triangle\",\"color\":\"white\",\"tagName\":\"i\"},\"type\":\"warning\"},{\"background\":\"#007bff\",\"icon\":{\"className\":\"fas fa-info-circle\",\"color\":\"white\",\"tagName\":\"i\"},\"type\":\"info\"}],\"kind\":null,\"name\":\"types\"}]},{\"extends\":null,\"module\":null,\"name\":\"Notification\",\"overrides\":[],\"properties\":[{\"default\":null,\"kind\":null,\"name\":\"background\"},{\"default\":3000,\"kind\":null,\"name\":\"duration\"},{\"default\":null,\"kind\":null,\"name\":\"icon\"},{\"default\":\"\",\"kind\":null,\"name\":\"message\"},{\"default\":null,\"kind\":null,\"name\":\"notification_type\"},{\"default\":false,\"kind\":null,\"name\":\"_destroyed\"}]},{\"extends\":null,\"module\":null,\"name\":\"TemplateActions1\",\"overrides\":[],\"properties\":[{\"default\":0,\"kind\":null,\"name\":\"open_modal\"},{\"default\":0,\"kind\":null,\"name\":\"close_modal\"}]},{\"extends\":null,\"module\":null,\"name\":\"MaterialTemplateActions1\",\"overrides\":[],\"properties\":[{\"default\":0,\"kind\":null,\"name\":\"open_modal\"},{\"default\":0,\"kind\":null,\"name\":\"close_modal\"}]}],\"roots\":{\"references\":[{\"attributes\":{\"active\":[0,1],\"inline\":true,\"labels\":[\"Aqua\",\"Tera\"],\"margin\":[5,10,5,10],\"sizing_mode\":\"stretch_width\"},\"id\":\"1023\",\"type\":\"CheckboxGroup\"},{\"attributes\":{\"client_comm_id\":\"bbabf6cc70b84d0596bfad6a8e3cebe8\",\"comm_id\":\"f64e0ef67fbc4b0699c911ac423e7f6e\",\"plot_id\":\"1023\"},\"id\":\"1024\",\"type\":\"panel.models.comm_manager.CommManager\"}],\"root_ids\":[\"1023\",\"1024\"]},\"title\":\"Bokeh Application\",\"version\":\"2.4.3\"}};\n",
       "    var render_items = [{\"docid\":\"c7c6a8d5-617c-4df8-8ef3-6386b42014fe\",\"root_ids\":[\"1023\"],\"roots\":{\"1023\":\"a2250085-9fa2-4a4d-aa91-9d1a11958633\"}}];\n",
       "    root.Bokeh.embed.embed_items_notebook(docs_json, render_items);\n",
       "    for (const render_item of render_items) {\n",
       "      for (const root_id of render_item.root_ids) {\n",
       "\tconst id_el = document.getElementById(root_id)\n",
       "\tif (id_el.children.length && (id_el.children[0].className === 'bk-root')) {\n",
       "\t  const root_el = id_el.children[0]\n",
       "\t  root_el.id = root_el.id + '-rendered'\n",
       "\t}\n",
       "      }\n",
       "    }\n",
       "  }\n",
       "  if (root.Bokeh !== undefined && root.Bokeh.Panel !== undefined && ( root['Tabulator'] !== undefined)) {\n",
       "    embed_document(root);\n",
       "  } else {\n",
       "    var attempts = 0;\n",
       "    var timer = setInterval(function(root) {\n",
       "      if (root.Bokeh !== undefined && root.Bokeh.Panel !== undefined && (root['Tabulator'] !== undefined)) {\n",
       "        clearInterval(timer);\n",
       "        embed_document(root);\n",
       "      } else if (document.readyState == \"complete\") {\n",
       "        attempts++;\n",
       "        if (attempts > 200) {\n",
       "          clearInterval(timer);\n",
       "          console.log(\"Bokeh: ERROR: Unable to run BokehJS code because BokehJS library is missing\");\n",
       "        }\n",
       "      }\n",
       "    }, 25, root)\n",
       "  }\n",
       "})(window);</script>"
      ],
      "text/plain": [
       "CheckBoxGroup(inline=True, name='Checkbox Group', options=['Aqua', 'Tera'], sizing_mode='stretch_width', value=['Aqua', 'Tera'])"
      ]
     },
     "execution_count": 47,
     "metadata": {
      "application/vnd.holoviews_exec.v0+json": {
       "id": "1023"
      }
     },
     "output_type": "execute_result"
    }
   ],
   "source": [
    "checkbox_group = pn.widgets.CheckBoxGroup(\n",
    "    name='Checkbox Group', value=['Aqua', 'Tera'], options=['Aqua', 'Tera'], disabled = False,\n",
    "    inline=True)\n",
    "\n",
    "checkbox_group"
   ]
  },
  {
   "cell_type": "code",
   "execution_count": 48,
   "id": "b1a99c0e",
   "metadata": {},
   "outputs": [
    {
     "data": {},
     "metadata": {},
     "output_type": "display_data"
    },
    {
     "data": {
      "application/vnd.holoviews_exec.v0+json": "",
      "text/html": [
       "<div id='1025'>\n",
       "  <div class=\"bk-root\" id=\"502883b0-4e93-4730-a924-9af996f8b337\" data-root-id=\"1025\"></div>\n",
       "</div>\n",
       "<script type=\"application/javascript\">(function(root) {\n",
       "  function embed_document(root) {\n",
       "    var docs_json = {\"eb1be784-9923-4dca-b1c9-decd3f616728\":{\"defs\":[{\"extends\":null,\"module\":null,\"name\":\"ReactiveHTML1\",\"overrides\":[],\"properties\":[]},{\"extends\":null,\"module\":null,\"name\":\"FlexBox1\",\"overrides\":[],\"properties\":[{\"default\":\"flex-start\",\"kind\":null,\"name\":\"align_content\"},{\"default\":\"flex-start\",\"kind\":null,\"name\":\"align_items\"},{\"default\":\"row\",\"kind\":null,\"name\":\"flex_direction\"},{\"default\":\"wrap\",\"kind\":null,\"name\":\"flex_wrap\"},{\"default\":\"flex-start\",\"kind\":null,\"name\":\"justify_content\"}]},{\"extends\":null,\"module\":null,\"name\":\"GridStack1\",\"overrides\":[],\"properties\":[{\"default\":\"warn\",\"kind\":null,\"name\":\"mode\"},{\"default\":null,\"kind\":null,\"name\":\"ncols\"},{\"default\":null,\"kind\":null,\"name\":\"nrows\"},{\"default\":true,\"kind\":null,\"name\":\"allow_resize\"},{\"default\":true,\"kind\":null,\"name\":\"allow_drag\"},{\"default\":[],\"kind\":null,\"name\":\"state\"}]},{\"extends\":null,\"module\":null,\"name\":\"click1\",\"overrides\":[],\"properties\":[{\"default\":\"\",\"kind\":null,\"name\":\"terminal_output\"},{\"default\":\"\",\"kind\":null,\"name\":\"debug_name\"},{\"default\":0,\"kind\":null,\"name\":\"clears\"}]},{\"extends\":null,\"module\":null,\"name\":\"NotificationAreaBase1\",\"overrides\":[],\"properties\":[{\"default\":\"bottom-right\",\"kind\":null,\"name\":\"position\"},{\"default\":0,\"kind\":null,\"name\":\"_clear\"}]},{\"extends\":null,\"module\":null,\"name\":\"NotificationArea1\",\"overrides\":[],\"properties\":[{\"default\":[],\"kind\":null,\"name\":\"notifications\"},{\"default\":\"bottom-right\",\"kind\":null,\"name\":\"position\"},{\"default\":0,\"kind\":null,\"name\":\"_clear\"},{\"default\":[{\"background\":\"#ffc107\",\"icon\":{\"className\":\"fas fa-exclamation-triangle\",\"color\":\"white\",\"tagName\":\"i\"},\"type\":\"warning\"},{\"background\":\"#007bff\",\"icon\":{\"className\":\"fas fa-info-circle\",\"color\":\"white\",\"tagName\":\"i\"},\"type\":\"info\"}],\"kind\":null,\"name\":\"types\"}]},{\"extends\":null,\"module\":null,\"name\":\"Notification\",\"overrides\":[],\"properties\":[{\"default\":null,\"kind\":null,\"name\":\"background\"},{\"default\":3000,\"kind\":null,\"name\":\"duration\"},{\"default\":null,\"kind\":null,\"name\":\"icon\"},{\"default\":\"\",\"kind\":null,\"name\":\"message\"},{\"default\":null,\"kind\":null,\"name\":\"notification_type\"},{\"default\":false,\"kind\":null,\"name\":\"_destroyed\"}]},{\"extends\":null,\"module\":null,\"name\":\"TemplateActions1\",\"overrides\":[],\"properties\":[{\"default\":0,\"kind\":null,\"name\":\"open_modal\"},{\"default\":0,\"kind\":null,\"name\":\"close_modal\"}]},{\"extends\":null,\"module\":null,\"name\":\"MaterialTemplateActions1\",\"overrides\":[],\"properties\":[{\"default\":0,\"kind\":null,\"name\":\"open_modal\"},{\"default\":0,\"kind\":null,\"name\":\"close_modal\"}]}],\"roots\":{\"references\":[{\"attributes\":{\"client_comm_id\":\"2954659e4d7948bab7b11e12ca29f7dc\",\"comm_id\":\"6bd9ee83aa1049b8856416a3d104c0da\",\"plot_id\":\"1025\"},\"id\":\"1026\",\"type\":\"panel.models.comm_manager.CommManager\"},{\"attributes\":{\"active\":[0,1],\"inline\":true,\"labels\":[\"S-NPP\",\"NOAA 20\"],\"margin\":[5,10,5,10],\"sizing_mode\":\"stretch_width\"},\"id\":\"1025\",\"type\":\"CheckboxGroup\"}],\"root_ids\":[\"1025\",\"1026\"]},\"title\":\"Bokeh Application\",\"version\":\"2.4.3\"}};\n",
       "    var render_items = [{\"docid\":\"eb1be784-9923-4dca-b1c9-decd3f616728\",\"root_ids\":[\"1025\"],\"roots\":{\"1025\":\"502883b0-4e93-4730-a924-9af996f8b337\"}}];\n",
       "    root.Bokeh.embed.embed_items_notebook(docs_json, render_items);\n",
       "    for (const render_item of render_items) {\n",
       "      for (const root_id of render_item.root_ids) {\n",
       "\tconst id_el = document.getElementById(root_id)\n",
       "\tif (id_el.children.length && (id_el.children[0].className === 'bk-root')) {\n",
       "\t  const root_el = id_el.children[0]\n",
       "\t  root_el.id = root_el.id + '-rendered'\n",
       "\t}\n",
       "      }\n",
       "    }\n",
       "  }\n",
       "  if (root.Bokeh !== undefined && root.Bokeh.Panel !== undefined && ( root['Tabulator'] !== undefined)) {\n",
       "    embed_document(root);\n",
       "  } else {\n",
       "    var attempts = 0;\n",
       "    var timer = setInterval(function(root) {\n",
       "      if (root.Bokeh !== undefined && root.Bokeh.Panel !== undefined && (root['Tabulator'] !== undefined)) {\n",
       "        clearInterval(timer);\n",
       "        embed_document(root);\n",
       "      } else if (document.readyState == \"complete\") {\n",
       "        attempts++;\n",
       "        if (attempts > 200) {\n",
       "          clearInterval(timer);\n",
       "          console.log(\"Bokeh: ERROR: Unable to run BokehJS code because BokehJS library is missing\");\n",
       "        }\n",
       "      }\n",
       "    }, 25, root)\n",
       "  }\n",
       "})(window);</script>"
      ],
      "text/plain": [
       "CheckBoxGroup(inline=True, name='Checkbox Group', options=['S-NPP', 'NOAA 20'], sizing_mode='stretch_width', value=['S-NPP', 'NOAA 20'])"
      ]
     },
     "execution_count": 48,
     "metadata": {
      "application/vnd.holoviews_exec.v0+json": {
       "id": "1025"
      }
     },
     "output_type": "execute_result"
    }
   ],
   "source": [
    "checkbox_group2 = pn.widgets.CheckBoxGroup(\n",
    "    name='Checkbox Group', value=['S-NPP', 'NOAA 20'], options=['S-NPP', 'NOAA 20'], disabled = False,\n",
    "    inline=True)\n",
    "\n",
    "checkbox_group2"
   ]
  },
  {
   "cell_type": "code",
   "execution_count": 49,
   "id": "af99e286",
   "metadata": {},
   "outputs": [],
   "source": [
    "fig = px.bar(dfh, x='week', y='fire_count', color='year',\n",
    "       title='Wildfire Hotspot trends in Telengana Nalgonda and Nagarkurnool district')\n",
    "#fig"
   ]
  },
  {
   "cell_type": "markdown",
   "id": "ef1d523e-0409-4024-9783-2b654b8f9d53",
   "metadata": {},
   "source": [
    "## (11) Creating Dashboard"
   ]
  },
  {
   "cell_type": "code",
   "execution_count": 50,
   "id": "1c2e45bf-37c7-48e0-a2d3-a36da8843362",
   "metadata": {},
   "outputs": [],
   "source": [
    "#Layout using Template\n",
    "template = pn.template.FastListTemplate(\n",
    "    title='Amrabad Wildfire Prediction', \n",
    "    sidebar=[pn.pane.Markdown(\"## Wildfire Prediction\"), \n",
    "             pn.pane.Markdown(\"## Wildfire Detection\"),\n",
    "             pn.pane.Markdown(\"## Wildfire Trends\"),\n",
    "             #pn.pane.Markdown(\"#### Wild fire is one of the primary reason for climate change hazard.Track wild fire realtime and forecast wildfire\"), \n",
    "             #pn.pane.PNG('fire-flame.png', sizing_mode='scale_both'),\n",
    "             pn.pane.Markdown(\"## Settings\"),\n",
    "             pn.pane.Markdown(\"#### Select Satellites & Instruments.\"),\n",
    "             pn.Row(checkbox),\n",
    "             pn.Row(checkbox_group),\n",
    "             pn.Row(checkbox2),\n",
    "             pn.Row(checkbox_group2),\n",
    "             pn.pane.Markdown(\"#### Select Week Range\"),\n",
    "             pn.Row(week_range_slider)],\n",
    "    main=[pn.pane.Markdown(\"# Wildfire Prediction\"),\n",
    "          pn.Row(pn.Column(PanelFoliumMapForecast().view),\n",
    "                 pn.Column(week_slider,predict_table.panel(width=500))),\n",
    "          pn.Row(pn.Column(week_vs_conf_scatterplot.panel(width=600), margin=(0,25)), \n",
    "                 pn.Column(yaxis_district, week_predict_bar_plot.panel(width=600))),\n",
    "          pn.pane.Markdown(\"# Wildfire Detection\", align=\"center\"),\n",
    "          pn.Row(pn.Column(yaxis_duration,\n",
    "                           PanelFoliumMap().view), \n",
    "                 active_fire_table.panel(width=500)),\n",
    "          pn.pane.Markdown(\"# Wildfire Trends\", align=\"center\"),\n",
    "          pn.Row(pn.Column(fig))],\n",
    "    accent_base_color=\"#88d8b0\",\n",
    "    header_background=\"#88d8b0\",\n",
    ")\n",
    "#template.show()\n",
    "template.servable();"
   ]
  },
  {
   "cell_type": "code",
   "execution_count": null,
   "id": "112b62be",
   "metadata": {},
   "outputs": [],
   "source": []
  }
 ],
 "metadata": {
  "kernelspec": {
   "display_name": "Python 3 (ipykernel)",
   "language": "python",
   "name": "python3"
  },
  "language_info": {
   "codemirror_mode": {
    "name": "ipython",
    "version": 3
   },
   "file_extension": ".py",
   "mimetype": "text/x-python",
   "name": "python",
   "nbconvert_exporter": "python",
   "pygments_lexer": "ipython3",
   "version": "3.10.6"
  }
 },
 "nbformat": 4,
 "nbformat_minor": 5
}
