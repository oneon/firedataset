{
 "cells": [
  {
   "cell_type": "code",
   "execution_count": 133,
   "id": "fdc9dea9-977d-47ec-a607-c4302a010733",
   "metadata": {},
   "outputs": [],
   "source": [
    "import pandas as pd\n",
    "import numpy as np\n",
    "import panel as pn\n",
    "import folium as fm\n",
    "import param\n",
    "pn.extension('tabulator')\n",
    "pn.extension(sizing_mode=\"stretch_width\")\n",
    "import hvplot.pandas"
   ]
  },
  {
   "cell_type": "markdown",
   "id": "50a73686",
   "metadata": {},
   "source": [
    "## (1) Define Panel Widgets"
   ]
  },
  {
   "cell_type": "code",
   "execution_count": 134,
   "id": "bb7efce2",
   "metadata": {},
   "outputs": [],
   "source": [
    "# Define Panel widgets\n",
    "week_slider = pn.widgets.IntSlider(name='Week slider', start=1, end=52, step=1, value=9)\n",
    "#week_slider"
   ]
  },
  {
   "cell_type": "code",
   "execution_count": 135,
   "id": "74b212d7",
   "metadata": {},
   "outputs": [
    {
     "data": {},
     "metadata": {},
     "output_type": "display_data"
    },
    {
     "data": {
      "application/vnd.holoviews_exec.v0+json": "",
      "text/html": [
       "<div id='1547'>\n",
       "  <div class=\"bk-root\" id=\"89dc3a52-af8e-492b-9be6-024311c68d62\" data-root-id=\"1547\"></div>\n",
       "</div>\n",
       "<script type=\"application/javascript\">(function(root) {\n",
       "  function embed_document(root) {\n",
       "    var docs_json = {\"aaee4dd4-a304-4a39-add0-fe851b994b81\":{\"defs\":[{\"extends\":null,\"module\":null,\"name\":\"ReactiveHTML1\",\"overrides\":[],\"properties\":[]},{\"extends\":null,\"module\":null,\"name\":\"FlexBox1\",\"overrides\":[],\"properties\":[{\"default\":\"flex-start\",\"kind\":null,\"name\":\"align_content\"},{\"default\":\"flex-start\",\"kind\":null,\"name\":\"align_items\"},{\"default\":\"row\",\"kind\":null,\"name\":\"flex_direction\"},{\"default\":\"wrap\",\"kind\":null,\"name\":\"flex_wrap\"},{\"default\":\"flex-start\",\"kind\":null,\"name\":\"justify_content\"}]},{\"extends\":null,\"module\":null,\"name\":\"GridStack1\",\"overrides\":[],\"properties\":[{\"default\":\"warn\",\"kind\":null,\"name\":\"mode\"},{\"default\":null,\"kind\":null,\"name\":\"ncols\"},{\"default\":null,\"kind\":null,\"name\":\"nrows\"},{\"default\":true,\"kind\":null,\"name\":\"allow_resize\"},{\"default\":true,\"kind\":null,\"name\":\"allow_drag\"},{\"default\":[],\"kind\":null,\"name\":\"state\"}]},{\"extends\":null,\"module\":null,\"name\":\"click1\",\"overrides\":[],\"properties\":[{\"default\":\"\",\"kind\":null,\"name\":\"terminal_output\"},{\"default\":\"\",\"kind\":null,\"name\":\"debug_name\"},{\"default\":0,\"kind\":null,\"name\":\"clears\"}]},{\"extends\":null,\"module\":null,\"name\":\"NotificationAreaBase1\",\"overrides\":[],\"properties\":[{\"default\":\"bottom-right\",\"kind\":null,\"name\":\"position\"},{\"default\":0,\"kind\":null,\"name\":\"_clear\"}]},{\"extends\":null,\"module\":null,\"name\":\"NotificationArea1\",\"overrides\":[],\"properties\":[{\"default\":[],\"kind\":null,\"name\":\"notifications\"},{\"default\":\"bottom-right\",\"kind\":null,\"name\":\"position\"},{\"default\":0,\"kind\":null,\"name\":\"_clear\"},{\"default\":[{\"background\":\"#ffc107\",\"icon\":{\"className\":\"fas fa-exclamation-triangle\",\"color\":\"white\",\"tagName\":\"i\"},\"type\":\"warning\"},{\"background\":\"#007bff\",\"icon\":{\"className\":\"fas fa-info-circle\",\"color\":\"white\",\"tagName\":\"i\"},\"type\":\"info\"}],\"kind\":null,\"name\":\"types\"}]},{\"extends\":null,\"module\":null,\"name\":\"Notification\",\"overrides\":[],\"properties\":[{\"default\":null,\"kind\":null,\"name\":\"background\"},{\"default\":3000,\"kind\":null,\"name\":\"duration\"},{\"default\":null,\"kind\":null,\"name\":\"icon\"},{\"default\":\"\",\"kind\":null,\"name\":\"message\"},{\"default\":null,\"kind\":null,\"name\":\"notification_type\"},{\"default\":false,\"kind\":null,\"name\":\"_destroyed\"}]},{\"extends\":null,\"module\":null,\"name\":\"TemplateActions1\",\"overrides\":[],\"properties\":[{\"default\":0,\"kind\":null,\"name\":\"open_modal\"},{\"default\":0,\"kind\":null,\"name\":\"close_modal\"}]},{\"extends\":null,\"module\":null,\"name\":\"MaterialTemplateActions1\",\"overrides\":[],\"properties\":[{\"default\":0,\"kind\":null,\"name\":\"open_modal\"},{\"default\":0,\"kind\":null,\"name\":\"close_modal\"}]}],\"roots\":{\"references\":[{\"attributes\":{\"client_comm_id\":\"6baae33706994708b9495c26fa23f958\",\"comm_id\":\"e89b51f9a3b04795a0f86be96cf7bb84\",\"plot_id\":\"1547\"},\"id\":\"1548\",\"type\":\"panel.models.comm_manager.CommManager\"},{\"attributes\":{\"end\":100,\"margin\":[5,10,5,10],\"sizing_mode\":\"stretch_width\",\"start\":50,\"title\":\"Confidence slider\",\"value\":75},\"id\":\"1547\",\"type\":\"Slider\"}],\"root_ids\":[\"1547\",\"1548\"]},\"title\":\"Bokeh Application\",\"version\":\"2.4.3\"}};\n",
       "    var render_items = [{\"docid\":\"aaee4dd4-a304-4a39-add0-fe851b994b81\",\"root_ids\":[\"1547\"],\"roots\":{\"1547\":\"89dc3a52-af8e-492b-9be6-024311c68d62\"}}];\n",
       "    root.Bokeh.embed.embed_items_notebook(docs_json, render_items);\n",
       "    for (const render_item of render_items) {\n",
       "      for (const root_id of render_item.root_ids) {\n",
       "\tconst id_el = document.getElementById(root_id)\n",
       "\tif (id_el.children.length && (id_el.children[0].className === 'bk-root')) {\n",
       "\t  const root_el = id_el.children[0]\n",
       "\t  root_el.id = root_el.id + '-rendered'\n",
       "\t}\n",
       "      }\n",
       "    }\n",
       "  }\n",
       "  if (root.Bokeh !== undefined && root.Bokeh.Panel !== undefined && ( root['Tabulator'] !== undefined) && ( root['Tabulator'] !== undefined) && ( root['Tabulator'] !== undefined) && ( root['Tabulator'] !== undefined)) {\n",
       "    embed_document(root);\n",
       "  } else {\n",
       "    var attempts = 0;\n",
       "    var timer = setInterval(function(root) {\n",
       "      if (root.Bokeh !== undefined && root.Bokeh.Panel !== undefined && (root['Tabulator'] !== undefined) && (root['Tabulator'] !== undefined) && (root['Tabulator'] !== undefined) && (root['Tabulator'] !== undefined)) {\n",
       "        clearInterval(timer);\n",
       "        embed_document(root);\n",
       "      } else if (document.readyState == \"complete\") {\n",
       "        attempts++;\n",
       "        if (attempts > 200) {\n",
       "          clearInterval(timer);\n",
       "          console.log(\"Bokeh: ERROR: Unable to run BokehJS code because BokehJS library is missing\");\n",
       "        }\n",
       "      }\n",
       "    }, 25, root)\n",
       "  }\n",
       "})(window);</script>"
      ],
      "text/plain": [
       "IntSlider(end=100, name='Confidence slider', sizing_mode='stretch_width', start=50, value=75)"
      ]
     },
     "execution_count": 135,
     "metadata": {
      "application/vnd.holoviews_exec.v0+json": {
       "id": "1547"
      }
     },
     "output_type": "execute_result"
    }
   ],
   "source": [
    "# Define Panel widgets\n",
    "confidence_slider = pn.widgets.IntSlider(name='Confidence slider', start=50, end=100, step=1, value=75)\n",
    "confidence_slider"
   ]
  },
  {
   "cell_type": "code",
   "execution_count": 136,
   "id": "ab4d26e0",
   "metadata": {},
   "outputs": [
    {
     "data": {},
     "metadata": {},
     "output_type": "display_data"
    },
    {
     "data": {
      "application/vnd.holoviews_exec.v0+json": "",
      "text/html": [
       "<div id='1549'>\n",
       "  <div class=\"bk-root\" id=\"451b8f39-801c-4b75-b3fb-c593a2e522de\" data-root-id=\"1549\"></div>\n",
       "</div>\n",
       "<script type=\"application/javascript\">(function(root) {\n",
       "  function embed_document(root) {\n",
       "    var docs_json = {\"6c7f9931-cf04-4893-81fb-864772b266bd\":{\"defs\":[{\"extends\":null,\"module\":null,\"name\":\"ReactiveHTML1\",\"overrides\":[],\"properties\":[]},{\"extends\":null,\"module\":null,\"name\":\"FlexBox1\",\"overrides\":[],\"properties\":[{\"default\":\"flex-start\",\"kind\":null,\"name\":\"align_content\"},{\"default\":\"flex-start\",\"kind\":null,\"name\":\"align_items\"},{\"default\":\"row\",\"kind\":null,\"name\":\"flex_direction\"},{\"default\":\"wrap\",\"kind\":null,\"name\":\"flex_wrap\"},{\"default\":\"flex-start\",\"kind\":null,\"name\":\"justify_content\"}]},{\"extends\":null,\"module\":null,\"name\":\"GridStack1\",\"overrides\":[],\"properties\":[{\"default\":\"warn\",\"kind\":null,\"name\":\"mode\"},{\"default\":null,\"kind\":null,\"name\":\"ncols\"},{\"default\":null,\"kind\":null,\"name\":\"nrows\"},{\"default\":true,\"kind\":null,\"name\":\"allow_resize\"},{\"default\":true,\"kind\":null,\"name\":\"allow_drag\"},{\"default\":[],\"kind\":null,\"name\":\"state\"}]},{\"extends\":null,\"module\":null,\"name\":\"click1\",\"overrides\":[],\"properties\":[{\"default\":\"\",\"kind\":null,\"name\":\"terminal_output\"},{\"default\":\"\",\"kind\":null,\"name\":\"debug_name\"},{\"default\":0,\"kind\":null,\"name\":\"clears\"}]},{\"extends\":null,\"module\":null,\"name\":\"NotificationAreaBase1\",\"overrides\":[],\"properties\":[{\"default\":\"bottom-right\",\"kind\":null,\"name\":\"position\"},{\"default\":0,\"kind\":null,\"name\":\"_clear\"}]},{\"extends\":null,\"module\":null,\"name\":\"NotificationArea1\",\"overrides\":[],\"properties\":[{\"default\":[],\"kind\":null,\"name\":\"notifications\"},{\"default\":\"bottom-right\",\"kind\":null,\"name\":\"position\"},{\"default\":0,\"kind\":null,\"name\":\"_clear\"},{\"default\":[{\"background\":\"#ffc107\",\"icon\":{\"className\":\"fas fa-exclamation-triangle\",\"color\":\"white\",\"tagName\":\"i\"},\"type\":\"warning\"},{\"background\":\"#007bff\",\"icon\":{\"className\":\"fas fa-info-circle\",\"color\":\"white\",\"tagName\":\"i\"},\"type\":\"info\"}],\"kind\":null,\"name\":\"types\"}]},{\"extends\":null,\"module\":null,\"name\":\"Notification\",\"overrides\":[],\"properties\":[{\"default\":null,\"kind\":null,\"name\":\"background\"},{\"default\":3000,\"kind\":null,\"name\":\"duration\"},{\"default\":null,\"kind\":null,\"name\":\"icon\"},{\"default\":\"\",\"kind\":null,\"name\":\"message\"},{\"default\":null,\"kind\":null,\"name\":\"notification_type\"},{\"default\":false,\"kind\":null,\"name\":\"_destroyed\"}]},{\"extends\":null,\"module\":null,\"name\":\"TemplateActions1\",\"overrides\":[],\"properties\":[{\"default\":0,\"kind\":null,\"name\":\"open_modal\"},{\"default\":0,\"kind\":null,\"name\":\"close_modal\"}]},{\"extends\":null,\"module\":null,\"name\":\"MaterialTemplateActions1\",\"overrides\":[],\"properties\":[{\"default\":0,\"kind\":null,\"name\":\"open_modal\"},{\"default\":0,\"kind\":null,\"name\":\"close_modal\"}]}],\"roots\":{\"references\":[{\"attributes\":{\"client_comm_id\":\"9ed43ed901ca415c8910558b3d48a4c5\",\"comm_id\":\"ceecdb4fe6594ea583fab5d23bcb33be\",\"plot_id\":\"1549\"},\"id\":\"1550\",\"type\":\"panel.models.comm_manager.CommManager\"},{\"attributes\":{\"end\":100,\"margin\":[5,10,5,10],\"sizing_mode\":\"stretch_width\",\"start\":50,\"title\":\"Confidence\",\"value\":[50,100]},\"id\":\"1549\",\"type\":\"RangeSlider\"}],\"root_ids\":[\"1549\",\"1550\"]},\"title\":\"Bokeh Application\",\"version\":\"2.4.3\"}};\n",
       "    var render_items = [{\"docid\":\"6c7f9931-cf04-4893-81fb-864772b266bd\",\"root_ids\":[\"1549\"],\"roots\":{\"1549\":\"451b8f39-801c-4b75-b3fb-c593a2e522de\"}}];\n",
       "    root.Bokeh.embed.embed_items_notebook(docs_json, render_items);\n",
       "    for (const render_item of render_items) {\n",
       "      for (const root_id of render_item.root_ids) {\n",
       "\tconst id_el = document.getElementById(root_id)\n",
       "\tif (id_el.children.length && (id_el.children[0].className === 'bk-root')) {\n",
       "\t  const root_el = id_el.children[0]\n",
       "\t  root_el.id = root_el.id + '-rendered'\n",
       "\t}\n",
       "      }\n",
       "    }\n",
       "  }\n",
       "  if (root.Bokeh !== undefined && root.Bokeh.Panel !== undefined && ( root['Tabulator'] !== undefined) && ( root['Tabulator'] !== undefined) && ( root['Tabulator'] !== undefined) && ( root['Tabulator'] !== undefined)) {\n",
       "    embed_document(root);\n",
       "  } else {\n",
       "    var attempts = 0;\n",
       "    var timer = setInterval(function(root) {\n",
       "      if (root.Bokeh !== undefined && root.Bokeh.Panel !== undefined && (root['Tabulator'] !== undefined) && (root['Tabulator'] !== undefined) && (root['Tabulator'] !== undefined) && (root['Tabulator'] !== undefined)) {\n",
       "        clearInterval(timer);\n",
       "        embed_document(root);\n",
       "      } else if (document.readyState == \"complete\") {\n",
       "        attempts++;\n",
       "        if (attempts > 200) {\n",
       "          clearInterval(timer);\n",
       "          console.log(\"Bokeh: ERROR: Unable to run BokehJS code because BokehJS library is missing\");\n",
       "        }\n",
       "      }\n",
       "    }, 25, root)\n",
       "  }\n",
       "})(window);</script>"
      ],
      "text/plain": [
       "IntRangeSlider(end=100, name='Confidence', sizing_mode='stretch_width', start=50, value=(50, 100), value_end=100, value_start=50)"
      ]
     },
     "execution_count": 136,
     "metadata": {
      "application/vnd.holoviews_exec.v0+json": {
       "id": "1549"
      }
     },
     "output_type": "execute_result"
    }
   ],
   "source": [
    "confidence_range_slider = pn.widgets.IntRangeSlider(name='Confidence',start=50, end=100, value=(50, 100), step=1)\n",
    "\n",
    "confidence_range_slider"
   ]
  },
  {
   "cell_type": "code",
   "execution_count": 137,
   "id": "a5a47906",
   "metadata": {},
   "outputs": [
    {
     "data": {
      "text/plain": [
       "50"
      ]
     },
     "execution_count": 137,
     "metadata": {},
     "output_type": "execute_result"
    }
   ],
   "source": [
    "confidence_range_slider.value[0]"
   ]
  },
  {
   "cell_type": "code",
   "execution_count": 138,
   "id": "b04d8383",
   "metadata": {},
   "outputs": [
    {
     "data": {},
     "metadata": {},
     "output_type": "display_data"
    },
    {
     "data": {
      "application/vnd.holoviews_exec.v0+json": "",
      "text/html": [
       "<div id='1551'>\n",
       "  <div class=\"bk-root\" id=\"10d624bd-ecb5-41c2-915b-57a212569368\" data-root-id=\"1551\"></div>\n",
       "</div>\n",
       "<script type=\"application/javascript\">(function(root) {\n",
       "  function embed_document(root) {\n",
       "    var docs_json = {\"9b0f99a4-8ee0-4a1f-8195-d45b9dc8a3a5\":{\"defs\":[{\"extends\":null,\"module\":null,\"name\":\"ReactiveHTML1\",\"overrides\":[],\"properties\":[]},{\"extends\":null,\"module\":null,\"name\":\"FlexBox1\",\"overrides\":[],\"properties\":[{\"default\":\"flex-start\",\"kind\":null,\"name\":\"align_content\"},{\"default\":\"flex-start\",\"kind\":null,\"name\":\"align_items\"},{\"default\":\"row\",\"kind\":null,\"name\":\"flex_direction\"},{\"default\":\"wrap\",\"kind\":null,\"name\":\"flex_wrap\"},{\"default\":\"flex-start\",\"kind\":null,\"name\":\"justify_content\"}]},{\"extends\":null,\"module\":null,\"name\":\"GridStack1\",\"overrides\":[],\"properties\":[{\"default\":\"warn\",\"kind\":null,\"name\":\"mode\"},{\"default\":null,\"kind\":null,\"name\":\"ncols\"},{\"default\":null,\"kind\":null,\"name\":\"nrows\"},{\"default\":true,\"kind\":null,\"name\":\"allow_resize\"},{\"default\":true,\"kind\":null,\"name\":\"allow_drag\"},{\"default\":[],\"kind\":null,\"name\":\"state\"}]},{\"extends\":null,\"module\":null,\"name\":\"click1\",\"overrides\":[],\"properties\":[{\"default\":\"\",\"kind\":null,\"name\":\"terminal_output\"},{\"default\":\"\",\"kind\":null,\"name\":\"debug_name\"},{\"default\":0,\"kind\":null,\"name\":\"clears\"}]},{\"extends\":null,\"module\":null,\"name\":\"NotificationAreaBase1\",\"overrides\":[],\"properties\":[{\"default\":\"bottom-right\",\"kind\":null,\"name\":\"position\"},{\"default\":0,\"kind\":null,\"name\":\"_clear\"}]},{\"extends\":null,\"module\":null,\"name\":\"NotificationArea1\",\"overrides\":[],\"properties\":[{\"default\":[],\"kind\":null,\"name\":\"notifications\"},{\"default\":\"bottom-right\",\"kind\":null,\"name\":\"position\"},{\"default\":0,\"kind\":null,\"name\":\"_clear\"},{\"default\":[{\"background\":\"#ffc107\",\"icon\":{\"className\":\"fas fa-exclamation-triangle\",\"color\":\"white\",\"tagName\":\"i\"},\"type\":\"warning\"},{\"background\":\"#007bff\",\"icon\":{\"className\":\"fas fa-info-circle\",\"color\":\"white\",\"tagName\":\"i\"},\"type\":\"info\"}],\"kind\":null,\"name\":\"types\"}]},{\"extends\":null,\"module\":null,\"name\":\"Notification\",\"overrides\":[],\"properties\":[{\"default\":null,\"kind\":null,\"name\":\"background\"},{\"default\":3000,\"kind\":null,\"name\":\"duration\"},{\"default\":null,\"kind\":null,\"name\":\"icon\"},{\"default\":\"\",\"kind\":null,\"name\":\"message\"},{\"default\":null,\"kind\":null,\"name\":\"notification_type\"},{\"default\":false,\"kind\":null,\"name\":\"_destroyed\"}]},{\"extends\":null,\"module\":null,\"name\":\"TemplateActions1\",\"overrides\":[],\"properties\":[{\"default\":0,\"kind\":null,\"name\":\"open_modal\"},{\"default\":0,\"kind\":null,\"name\":\"close_modal\"}]},{\"extends\":null,\"module\":null,\"name\":\"MaterialTemplateActions1\",\"overrides\":[],\"properties\":[{\"default\":0,\"kind\":null,\"name\":\"open_modal\"},{\"default\":0,\"kind\":null,\"name\":\"close_modal\"}]}],\"roots\":{\"references\":[{\"attributes\":{\"end\":52,\"margin\":[5,10,5,10],\"sizing_mode\":\"stretch_width\",\"start\":9,\"title\":\"Week\",\"value\":[9,52]},\"id\":\"1551\",\"type\":\"RangeSlider\"},{\"attributes\":{\"client_comm_id\":\"0d2acbbd180f4ca997530d988e27e97c\",\"comm_id\":\"486e6175022f49a7bd53fd3257f16ae0\",\"plot_id\":\"1551\"},\"id\":\"1552\",\"type\":\"panel.models.comm_manager.CommManager\"}],\"root_ids\":[\"1551\",\"1552\"]},\"title\":\"Bokeh Application\",\"version\":\"2.4.3\"}};\n",
       "    var render_items = [{\"docid\":\"9b0f99a4-8ee0-4a1f-8195-d45b9dc8a3a5\",\"root_ids\":[\"1551\"],\"roots\":{\"1551\":\"10d624bd-ecb5-41c2-915b-57a212569368\"}}];\n",
       "    root.Bokeh.embed.embed_items_notebook(docs_json, render_items);\n",
       "    for (const render_item of render_items) {\n",
       "      for (const root_id of render_item.root_ids) {\n",
       "\tconst id_el = document.getElementById(root_id)\n",
       "\tif (id_el.children.length && (id_el.children[0].className === 'bk-root')) {\n",
       "\t  const root_el = id_el.children[0]\n",
       "\t  root_el.id = root_el.id + '-rendered'\n",
       "\t}\n",
       "      }\n",
       "    }\n",
       "  }\n",
       "  if (root.Bokeh !== undefined && root.Bokeh.Panel !== undefined && ( root['Tabulator'] !== undefined) && ( root['Tabulator'] !== undefined) && ( root['Tabulator'] !== undefined) && ( root['Tabulator'] !== undefined)) {\n",
       "    embed_document(root);\n",
       "  } else {\n",
       "    var attempts = 0;\n",
       "    var timer = setInterval(function(root) {\n",
       "      if (root.Bokeh !== undefined && root.Bokeh.Panel !== undefined && (root['Tabulator'] !== undefined) && (root['Tabulator'] !== undefined) && (root['Tabulator'] !== undefined) && (root['Tabulator'] !== undefined)) {\n",
       "        clearInterval(timer);\n",
       "        embed_document(root);\n",
       "      } else if (document.readyState == \"complete\") {\n",
       "        attempts++;\n",
       "        if (attempts > 200) {\n",
       "          clearInterval(timer);\n",
       "          console.log(\"Bokeh: ERROR: Unable to run BokehJS code because BokehJS library is missing\");\n",
       "        }\n",
       "      }\n",
       "    }, 25, root)\n",
       "  }\n",
       "})(window);</script>"
      ],
      "text/plain": [
       "IntRangeSlider(end=52, name='Week', sizing_mode='stretch_width', start=9, value=(9, 52), value_end=52, value_start=9)"
      ]
     },
     "execution_count": 138,
     "metadata": {
      "application/vnd.holoviews_exec.v0+json": {
       "id": "1551"
      }
     },
     "output_type": "execute_result"
    }
   ],
   "source": [
    "week_range_slider = pn.widgets.IntRangeSlider(name='Week',start=9, end=52, value=(9, 52), step=1)\n",
    "\n",
    "week_range_slider"
   ]
  },
  {
   "cell_type": "markdown",
   "id": "92e261f2",
   "metadata": {},
   "source": [
    "## (2) Reading Data"
   ]
  },
  {
   "cell_type": "code",
   "execution_count": 139,
   "id": "db0c46f8",
   "metadata": {},
   "outputs": [],
   "source": [
    "#dfm = pd.read_csv('wildfire-data/active-data/ts_active_fire_shape_24h.csv')"
   ]
  },
  {
   "cell_type": "code",
   "execution_count": 140,
   "id": "4514dd00",
   "metadata": {},
   "outputs": [],
   "source": [
    "#dfm = pd.read_csv('https://raw.githubusercontent.com/oneon/firedataset/main/ts_active_fire_shape.csv')"
   ]
  },
  {
   "cell_type": "code",
   "execution_count": 141,
   "id": "d252321f",
   "metadata": {},
   "outputs": [],
   "source": [
    "# cache data to improve dashboard performance\n",
    "if 'datamap' not in pn.state.cache.keys():\n",
    "\n",
    "    dfm = pd.read_csv('https://raw.githubusercontent.com/oneon/firedataset/main/ts_active_fire_shape.csv')\n",
    "\n",
    "    pn.state.cache['datamap'] = dfm.copy()\n",
    "\n",
    "else: \n",
    "\n",
    "    dfm = pn.state.cache['datamap']"
   ]
  },
  {
   "cell_type": "code",
   "execution_count": 142,
   "id": "8cb46bf6",
   "metadata": {},
   "outputs": [],
   "source": [
    "# cache data to improve dashboard performance\n",
    "if 'datapre' not in pn.state.cache.keys():\n",
    "\n",
    "    dfp = pd.read_csv('https://raw.githubusercontent.com/oneon/firedataset/main/ts_predict_fire_shape.csv')\n",
    "\n",
    "    pn.state.cache['datapre'] = dfp.copy()\n",
    "\n",
    "else: \n",
    "\n",
    "    dfp = pn.state.cache['datapre']"
   ]
  },
  {
   "cell_type": "code",
   "execution_count": 143,
   "id": "f294c759",
   "metadata": {},
   "outputs": [],
   "source": [
    "dfm = dfm[dfm['Dist_Name'].str.contains('Nalgonda') | dfm['Dist_Name'].str.contains('Nagarkurnool')]"
   ]
  },
  {
   "cell_type": "code",
   "execution_count": 144,
   "id": "7a2026db",
   "metadata": {},
   "outputs": [],
   "source": [
    "dfp = dfp[dfp['Dist_Name'].str.contains('Nalgonda') | dfp['Dist_Name'].str.contains('Nagarkurnool')]"
   ]
  },
  {
   "cell_type": "code",
   "execution_count": 145,
   "id": "9f01e22a",
   "metadata": {},
   "outputs": [],
   "source": [
    "#dfp"
   ]
  },
  {
   "cell_type": "code",
   "execution_count": 146,
   "id": "9ddaca9f",
   "metadata": {},
   "outputs": [
    {
     "data": {
      "text/plain": [
       "((249, 13), (373, 13))"
      ]
     },
     "execution_count": 146,
     "metadata": {},
     "output_type": "execute_result"
    }
   ],
   "source": [
    "dfm.shape, dfp.shape"
   ]
  },
  {
   "cell_type": "code",
   "execution_count": 147,
   "id": "e1bbfad7",
   "metadata": {
    "tags": []
   },
   "outputs": [],
   "source": [
    "# Make DataFrame Pipeline Interactive\n",
    "idfm = dfm.interactive()"
   ]
  },
  {
   "cell_type": "code",
   "execution_count": 148,
   "id": "0030b4fa",
   "metadata": {},
   "outputs": [
    {
     "data": {},
     "metadata": {},
     "output_type": "display_data"
    },
    {
     "data": {
      "application/vnd.holoviews_exec.v0+json": "",
      "text/html": [
       "<div id='1553'>\n",
       "  <div class=\"bk-root\" id=\"7a001886-a95b-4513-952d-03eddf309bed\" data-root-id=\"1553\"></div>\n",
       "</div>\n",
       "<script type=\"application/javascript\">(function(root) {\n",
       "  function embed_document(root) {\n",
       "    var docs_json = {\"073e508e-f5e4-4e5d-b58e-20142e88aa21\":{\"defs\":[{\"extends\":null,\"module\":null,\"name\":\"ReactiveHTML1\",\"overrides\":[],\"properties\":[]},{\"extends\":null,\"module\":null,\"name\":\"FlexBox1\",\"overrides\":[],\"properties\":[{\"default\":\"flex-start\",\"kind\":null,\"name\":\"align_content\"},{\"default\":\"flex-start\",\"kind\":null,\"name\":\"align_items\"},{\"default\":\"row\",\"kind\":null,\"name\":\"flex_direction\"},{\"default\":\"wrap\",\"kind\":null,\"name\":\"flex_wrap\"},{\"default\":\"flex-start\",\"kind\":null,\"name\":\"justify_content\"}]},{\"extends\":null,\"module\":null,\"name\":\"GridStack1\",\"overrides\":[],\"properties\":[{\"default\":\"warn\",\"kind\":null,\"name\":\"mode\"},{\"default\":null,\"kind\":null,\"name\":\"ncols\"},{\"default\":null,\"kind\":null,\"name\":\"nrows\"},{\"default\":true,\"kind\":null,\"name\":\"allow_resize\"},{\"default\":true,\"kind\":null,\"name\":\"allow_drag\"},{\"default\":[],\"kind\":null,\"name\":\"state\"}]},{\"extends\":null,\"module\":null,\"name\":\"click1\",\"overrides\":[],\"properties\":[{\"default\":\"\",\"kind\":null,\"name\":\"terminal_output\"},{\"default\":\"\",\"kind\":null,\"name\":\"debug_name\"},{\"default\":0,\"kind\":null,\"name\":\"clears\"}]},{\"extends\":null,\"module\":null,\"name\":\"NotificationAreaBase1\",\"overrides\":[],\"properties\":[{\"default\":\"bottom-right\",\"kind\":null,\"name\":\"position\"},{\"default\":0,\"kind\":null,\"name\":\"_clear\"}]},{\"extends\":null,\"module\":null,\"name\":\"NotificationArea1\",\"overrides\":[],\"properties\":[{\"default\":[],\"kind\":null,\"name\":\"notifications\"},{\"default\":\"bottom-right\",\"kind\":null,\"name\":\"position\"},{\"default\":0,\"kind\":null,\"name\":\"_clear\"},{\"default\":[{\"background\":\"#ffc107\",\"icon\":{\"className\":\"fas fa-exclamation-triangle\",\"color\":\"white\",\"tagName\":\"i\"},\"type\":\"warning\"},{\"background\":\"#007bff\",\"icon\":{\"className\":\"fas fa-info-circle\",\"color\":\"white\",\"tagName\":\"i\"},\"type\":\"info\"}],\"kind\":null,\"name\":\"types\"}]},{\"extends\":null,\"module\":null,\"name\":\"Notification\",\"overrides\":[],\"properties\":[{\"default\":null,\"kind\":null,\"name\":\"background\"},{\"default\":3000,\"kind\":null,\"name\":\"duration\"},{\"default\":null,\"kind\":null,\"name\":\"icon\"},{\"default\":\"\",\"kind\":null,\"name\":\"message\"},{\"default\":null,\"kind\":null,\"name\":\"notification_type\"},{\"default\":false,\"kind\":null,\"name\":\"_destroyed\"}]},{\"extends\":null,\"module\":null,\"name\":\"TemplateActions1\",\"overrides\":[],\"properties\":[{\"default\":0,\"kind\":null,\"name\":\"open_modal\"},{\"default\":0,\"kind\":null,\"name\":\"close_modal\"}]},{\"extends\":null,\"module\":null,\"name\":\"MaterialTemplateActions1\",\"overrides\":[],\"properties\":[{\"default\":0,\"kind\":null,\"name\":\"open_modal\"},{\"default\":0,\"kind\":null,\"name\":\"close_modal\"}]}],\"roots\":{\"references\":[{\"attributes\":{\"children\":[{\"id\":\"1555\"},{\"id\":\"1558\"}],\"margin\":[0,0,0,0],\"name\":\"Column08667\",\"sizing_mode\":\"stretch_width\"},\"id\":\"1554\",\"type\":\"Column\"},{\"attributes\":{\"children\":[{\"id\":\"1559\"},{\"id\":\"1560\"}],\"margin\":[0,0,0,0],\"name\":\"Column08640\",\"sizing_mode\":\"stretch_width\"},\"id\":\"1558\",\"type\":\"Column\"},{\"attributes\":{\"margin\":[5,5,5,5],\"name\":\"HSpacer08665\",\"sizing_mode\":\"stretch_width\"},\"id\":\"1557\",\"type\":\"Spacer\"},{\"attributes\":{\"margin\":[0,0,0,0],\"name\":\"Column08638\",\"sizing_mode\":\"stretch_width\"},\"id\":\"1556\",\"type\":\"Column\"},{\"attributes\":{\"margin\":[0,0,0,0],\"name\":\"Column08664\",\"sizing_mode\":\"stretch_width\"},\"id\":\"1559\",\"type\":\"Column\"},{\"attributes\":{\"children\":[{\"id\":\"1561\"}],\"margin\":[0,0,0,0],\"name\":\"Row08663\",\"sizing_mode\":\"stretch_width\"},\"id\":\"1560\",\"type\":\"Row\"},{\"attributes\":{\"margin\":[5,5,5,5],\"name\":\"interactive08639\",\"sizing_mode\":\"stretch_width\",\"text\":\"&lt;pre&gt;(249, 13)&lt;/pre&gt;\"},\"id\":\"1561\",\"type\":\"panel.models.markup.HTML\"},{\"attributes\":{\"children\":[{\"id\":\"1556\"},{\"id\":\"1557\"}],\"margin\":[0,0,0,0],\"name\":\"Row08666\",\"sizing_mode\":\"stretch_width\"},\"id\":\"1555\",\"type\":\"Row\"},{\"attributes\":{\"client_comm_id\":\"b48bf3d65c76463ba143569daad9d941\",\"comm_id\":\"914fed3fd4a54cb0845446988a558ce3\",\"plot_id\":\"1553\"},\"id\":\"1562\",\"type\":\"panel.models.comm_manager.CommManager\"},{\"attributes\":{\"children\":[{\"id\":\"1554\"}],\"margin\":[0,0,0,0],\"name\":\"Row08668\",\"sizing_mode\":\"stretch_width\"},\"id\":\"1553\",\"type\":\"Row\"}],\"root_ids\":[\"1553\",\"1562\"]},\"title\":\"Bokeh Application\",\"version\":\"2.4.3\"}};\n",
       "    var render_items = [{\"docid\":\"073e508e-f5e4-4e5d-b58e-20142e88aa21\",\"root_ids\":[\"1553\"],\"roots\":{\"1553\":\"7a001886-a95b-4513-952d-03eddf309bed\"}}];\n",
       "    root.Bokeh.embed.embed_items_notebook(docs_json, render_items);\n",
       "    for (const render_item of render_items) {\n",
       "      for (const root_id of render_item.root_ids) {\n",
       "\tconst id_el = document.getElementById(root_id)\n",
       "\tif (id_el.children.length && (id_el.children[0].className === 'bk-root')) {\n",
       "\t  const root_el = id_el.children[0]\n",
       "\t  root_el.id = root_el.id + '-rendered'\n",
       "\t}\n",
       "      }\n",
       "    }\n",
       "  }\n",
       "  if (root.Bokeh !== undefined && root.Bokeh.Panel !== undefined && ( root['Tabulator'] !== undefined) && ( root['Tabulator'] !== undefined) && ( root['Tabulator'] !== undefined) && ( root['Tabulator'] !== undefined)) {\n",
       "    embed_document(root);\n",
       "  } else {\n",
       "    var attempts = 0;\n",
       "    var timer = setInterval(function(root) {\n",
       "      if (root.Bokeh !== undefined && root.Bokeh.Panel !== undefined && (root['Tabulator'] !== undefined) && (root['Tabulator'] !== undefined) && (root['Tabulator'] !== undefined) && (root['Tabulator'] !== undefined)) {\n",
       "        clearInterval(timer);\n",
       "        embed_document(root);\n",
       "      } else if (document.readyState == \"complete\") {\n",
       "        attempts++;\n",
       "        if (attempts > 200) {\n",
       "          clearInterval(timer);\n",
       "          console.log(\"Bokeh: ERROR: Unable to run BokehJS code because BokehJS library is missing\");\n",
       "        }\n",
       "      }\n",
       "    }, 25, root)\n",
       "  }\n",
       "})(window);</script>"
      ],
      "text/plain": [
       "<hvplot.interactive.Interactive at 0xffff39763250>"
      ]
     },
     "execution_count": 148,
     "metadata": {
      "application/vnd.holoviews_exec.v0+json": {
       "id": "1553"
      }
     },
     "output_type": "execute_result"
    }
   ],
   "source": [
    "idfm.shape"
   ]
  },
  {
   "cell_type": "code",
   "execution_count": 149,
   "id": "fbe21468",
   "metadata": {},
   "outputs": [],
   "source": [
    "yaxis_duration = pn.widgets.RadioButtonGroup(\n",
    "    name='Y axis', \n",
    "    options=['24h', '48h', '7d'], \n",
    "    button_type='success'\n",
    ")\n",
    "yaxis_duration\n",
    "\n",
    "map_data_pipeline = (\n",
    "    idfm[\n",
    "        (idfm.duration == yaxis_duration)\n",
    "    ]\n",
    "    .groupby(['latitude', 'longitude', 'acq_date', 'acq_time', 'Mandal_Nam', 'Dist_Name', 'duration', 'instrument', 'week']).confidence.max()\n",
    "    .to_frame()\n",
    "    .reset_index()  \n",
    "    .reset_index(drop=True)\n",
    ")"
   ]
  },
  {
   "cell_type": "code",
   "execution_count": 150,
   "id": "0072979b",
   "metadata": {},
   "outputs": [],
   "source": [
    "#map_data_pipeline.columns"
   ]
  },
  {
   "cell_type": "markdown",
   "id": "23ea7809",
   "metadata": {},
   "source": [
    "## (3) Table - Firedata "
   ]
  },
  {
   "cell_type": "code",
   "execution_count": 151,
   "id": "6778d360",
   "metadata": {
    "tags": []
   },
   "outputs": [],
   "source": [
    "active_fire_table = map_data_pipeline.pipe(pn.widgets.Tabulator, pagination='remote', page_size = 20, sizing_mode='stretch_width') \n",
    "#active_fire_table"
   ]
  },
  {
   "cell_type": "code",
   "execution_count": 152,
   "id": "0c42cbcf",
   "metadata": {},
   "outputs": [],
   "source": [
    "#map_data_pipeline.sample(10)"
   ]
  },
  {
   "cell_type": "code",
   "execution_count": 153,
   "id": "5cc4cc1f",
   "metadata": {},
   "outputs": [],
   "source": [
    "def get_map(lat=16.385318, long=78.9740939, zoom_start=9):\n",
    "    return fm.Map(location=[lat,long], zoom_start=zoom_start)\n",
    "\n",
    "map = get_map()\n",
    "\n",
    "#pn.panel(map, height=400)"
   ]
  },
  {
   "cell_type": "markdown",
   "id": "021d6603",
   "metadata": {},
   "source": [
    "## (4) Data Active - Firedata "
   ]
  },
  {
   "cell_type": "code",
   "execution_count": 154,
   "id": "b9555274",
   "metadata": {},
   "outputs": [],
   "source": [
    "def get_df_aqi():\n",
    "    aqi = dfm[dfm['duration'] == '24h'] \n",
    "    return pd.DataFrame(aqi)\n",
    "    #return aqi\n",
    "\n",
    "df_aqi = get_df_aqi()"
   ]
  },
  {
   "cell_type": "markdown",
   "id": "1e6a9983",
   "metadata": {},
   "source": [
    "## (5) Data Forecast - Firedata "
   ]
  },
  {
   "cell_type": "code",
   "execution_count": 155,
   "id": "1443d941",
   "metadata": {},
   "outputs": [],
   "source": [
    "def get_dfp_aqi(confidence=50):\n",
    "    aqi = dfp[dfp['week'] > 8] \n",
    "    aqi = aqi[aqi['week'] < 14]\n",
    "    aqi = aqi[aqi['confidence'] >= confidence]\n",
    "    return pd.DataFrame(aqi)\n",
    "    #return aqi\n",
    "\n",
    "df_aqii = get_dfp_aqi()"
   ]
  },
  {
   "cell_type": "code",
   "execution_count": 156,
   "id": "b1c5b6f8",
   "metadata": {},
   "outputs": [
    {
     "data": {
      "text/plain": [
       "((59, 13), (300, 13))"
      ]
     },
     "execution_count": 156,
     "metadata": {},
     "output_type": "execute_result"
    }
   ],
   "source": [
    "df_aqi.shape, df_aqii.shape"
   ]
  },
  {
   "cell_type": "code",
   "execution_count": 157,
   "id": "00a0a218",
   "metadata": {},
   "outputs": [],
   "source": [
    "def add_aqi_circles(map, df_aqi):\n",
    "    green_p1  = fm.map.FeatureGroup()\n",
    "    yellow_p1 = fm.map.FeatureGroup()\n",
    "    orange_p1 = fm.map.FeatureGroup()\n",
    "    red_p1    = fm.map.FeatureGroup()\n",
    "    purple_p1 = fm.map.FeatureGroup()\n",
    "    maroon_p1 = fm.map.FeatureGroup()\n",
    "\n",
    "    for _, row in df_aqi.iterrows():\n",
    "        if row.confidence<10:\n",
    "            feature_group = green_p1\n",
    "            fill_color = \"green\"\n",
    "        elif row.confidence < 30:\n",
    "            feature_group = yellow_p1\n",
    "            fill_color = \"yellow\"\n",
    "        elif row.confidence < 50:\n",
    "            feature_group = orange_p1\n",
    "            fill_color = \"orange\"\n",
    "        elif row.confidence < 70:\n",
    "            feature_group = red_p1\n",
    "            fill_color = \"red\"\n",
    "        elif row.confidence < 90:\n",
    "            feature_group = purple_p1\n",
    "            fill_color='purple'\n",
    "        else:\n",
    "            feature_group = maroon_p1\n",
    "            fill_color = \"maroon\"\n",
    "    \n",
    "    \n",
    "        html=f\"\"\"\n",
    "            <h4> {row.Dist_Name}</h4>\n",
    "            <p>Mandal {row.Mandal_Nam}</p>\n",
    "            <ul>\n",
    "                <li>Date {row.acq_date}</li>\n",
    "                <li>Time {row.acq_time}</li>\n",
    "                <li>Lat {row.latitude}</li>\n",
    "                <li>Long {row.longitude}</li>\n",
    "                <li>Confidence {row.confidence}</li>\n",
    "            </ul>\n",
    "            </p>\n",
    "            \"\"\"\n",
    "        iframe = fm.IFrame(html=html, width=200, height=200)\n",
    "        popup = fm.Popup(iframe, max_width=2650)\n",
    "        pushpin = fm.features.CustomIcon('fire-flame.png', icon_size=(30,30))\n",
    "        feature_group.add_child(\n",
    "            fm.Marker(\n",
    "                [row.latitude, row.longitude],\n",
    "                icon=pushpin,\n",
    "                popup=popup\n",
    "            )\n",
    "        )\n",
    "\n",
    "    map.add_child(green_p1)\n",
    "    map.add_child(yellow_p1)\n",
    "    map.add_child(orange_p1)\n",
    "    map.add_child(red_p1)\n",
    "    map.add_child(purple_p1)\n",
    "    \n",
    "#add_aqi_circles(map, df_aqi)\n",
    "#pn.panel(map, height=400)"
   ]
  },
  {
   "cell_type": "code",
   "execution_count": 158,
   "id": "04f4e6bf",
   "metadata": {},
   "outputs": [],
   "source": [
    "def add_aqi_predict_circles(map, df_aqi):\n",
    "    green_p1  = fm.map.FeatureGroup()\n",
    "    yellow_p1 = fm.map.FeatureGroup()\n",
    "    orange_p1 = fm.map.FeatureGroup()\n",
    "    red_p1    = fm.map.FeatureGroup()\n",
    "    purple_p1 = fm.map.FeatureGroup()\n",
    "    maroon_p1 = fm.map.FeatureGroup()\n",
    "\n",
    "    for _, row in df_aqi.iterrows():\n",
    "        if row.confidence<10:\n",
    "            feature_group = green_p1\n",
    "            fill_color = \"green\"\n",
    "        elif row.confidence < 30:\n",
    "            feature_group = yellow_p1\n",
    "            fill_color = \"yellow\"\n",
    "        elif row.confidence < 50:\n",
    "            feature_group = orange_p1\n",
    "            fill_color = \"orange\"\n",
    "        elif row.confidence < 70:\n",
    "            feature_group = red_p1\n",
    "            fill_color = \"red\"\n",
    "        elif row.confidence < 90:\n",
    "            feature_group = purple_p1\n",
    "            fill_color='purple'\n",
    "        else:\n",
    "            feature_group = maroon_p1\n",
    "            fill_color = \"maroon\"\n",
    "    \n",
    "    \n",
    "        html=f\"\"\"\n",
    "            <h4> {row.Dist_Name}</h4>\n",
    "            <p>Mandal {row.Mandal_Nam}</p>\n",
    "            <ul>\n",
    "                <li>Week {row.week}</li>\n",
    "                <li>Lat {row.latitude}</li>\n",
    "                <li>Long {row.longitude}</li>\n",
    "                <li>Confidence {row.confidence}</li>\n",
    "            </ul>\n",
    "            </p>\n",
    "            \"\"\"\n",
    "        iframe = fm.IFrame(html=html, width=200, height=200)\n",
    "        popup = fm.Popup(iframe, max_width=2650)\n",
    "        pushpin = fm.features.CustomIcon('fire-flame.png', icon_size=(30,30))\n",
    "        feature_group.add_child(\n",
    "            fm.Marker(\n",
    "                [row.latitude, row.longitude],\n",
    "                icon=pushpin,\n",
    "                popup=popup\n",
    "            )\n",
    "        )\n",
    "\n",
    "    map.add_child(green_p1)\n",
    "    map.add_child(yellow_p1)\n",
    "    map.add_child(orange_p1)\n",
    "    map.add_child(red_p1)\n",
    "    map.add_child(purple_p1)\n",
    "    \n",
    "#add_aqi_predict_circles(map, df_aqii)\n",
    "#pn.panel(map, height=400)"
   ]
  },
  {
   "cell_type": "markdown",
   "id": "a7aebb41",
   "metadata": {},
   "source": [
    "## (6) Create Map Active Fire "
   ]
  },
  {
   "cell_type": "code",
   "execution_count": 159,
   "id": "233b4933",
   "metadata": {},
   "outputs": [],
   "source": [
    "class PanelFoliumMap(param.Parameterized):\n",
    "    points_count = param.Integer(20, bounds=(10,100))\n",
    "        \n",
    "    def __init__(self, **params):\n",
    "        super().__init__(**params)\n",
    "        self.map = get_map()\n",
    "        self.folium_pane = pn.pane.plot.Folium(sizing_mode=\"stretch_both\", min_height=500, margin=0)    \n",
    "        self.view = pn.Column(\n",
    "            self.param.points_count,\n",
    "            self.folium_pane,\n",
    "            sizing_mode=\"stretch_both\", height=500\n",
    "        )\n",
    "        self._update_map()\n",
    "\n",
    "    @param.depends(\"points_count\", watch=True)\n",
    "    def _update_map(self):\n",
    "        self.map = get_map()\n",
    "        df_aqi = get_df_aqi()\n",
    "        add_aqi_circles(self.map, df_aqi)\n",
    "        self.folium_pane.object = self.map\n",
    "\n",
    "        \n",
    "#app = PanelFoliumMap()\n",
    "#app.view"
   ]
  },
  {
   "cell_type": "markdown",
   "id": "a82a3ac3",
   "metadata": {},
   "source": [
    "## (7) Bar chart with Forecast data"
   ]
  },
  {
   "cell_type": "code",
   "execution_count": 160,
   "id": "348ea95d",
   "metadata": {},
   "outputs": [
    {
     "data": {
      "text/html": [
       "<div>\n",
       "<style scoped>\n",
       "    .dataframe tbody tr th:only-of-type {\n",
       "        vertical-align: middle;\n",
       "    }\n",
       "\n",
       "    .dataframe tbody tr th {\n",
       "        vertical-align: top;\n",
       "    }\n",
       "\n",
       "    .dataframe thead th {\n",
       "        text-align: right;\n",
       "    }\n",
       "</style>\n",
       "<table border=\"1\" class=\"dataframe\">\n",
       "  <thead>\n",
       "    <tr style=\"text-align: right;\">\n",
       "      <th></th>\n",
       "      <th>latitude</th>\n",
       "      <th>longitude</th>\n",
       "      <th>year</th>\n",
       "      <th>week</th>\n",
       "      <th>fire_cnt_before</th>\n",
       "      <th>fire_before</th>\n",
       "      <th>fire_cnt_last_year</th>\n",
       "      <th>fire_last_year</th>\n",
       "      <th>fire_cnt_last_year_same_week</th>\n",
       "      <th>fire_last_year_same_week</th>\n",
       "      <th>Mandal_Nam</th>\n",
       "      <th>Dist_Name</th>\n",
       "      <th>confidence</th>\n",
       "    </tr>\n",
       "  </thead>\n",
       "  <tbody>\n",
       "    <tr>\n",
       "      <th>10</th>\n",
       "      <td>16.02</td>\n",
       "      <td>78.76</td>\n",
       "      <td>2022</td>\n",
       "      <td>8</td>\n",
       "      <td>0.058824</td>\n",
       "      <td>0.019608</td>\n",
       "      <td>0.078431</td>\n",
       "      <td>0.039216</td>\n",
       "      <td>0</td>\n",
       "      <td>0</td>\n",
       "      <td>Amrabad</td>\n",
       "      <td>Nagarkurnool</td>\n",
       "      <td>60.932167</td>\n",
       "    </tr>\n",
       "    <tr>\n",
       "      <th>11</th>\n",
       "      <td>16.03</td>\n",
       "      <td>78.71</td>\n",
       "      <td>2022</td>\n",
       "      <td>9</td>\n",
       "      <td>0.058824</td>\n",
       "      <td>0.019608</td>\n",
       "      <td>0.000000</td>\n",
       "      <td>0.000000</td>\n",
       "      <td>0</td>\n",
       "      <td>0</td>\n",
       "      <td>Amrabad</td>\n",
       "      <td>Nagarkurnool</td>\n",
       "      <td>60.932167</td>\n",
       "    </tr>\n",
       "    <tr>\n",
       "      <th>12</th>\n",
       "      <td>16.03</td>\n",
       "      <td>78.72</td>\n",
       "      <td>2022</td>\n",
       "      <td>9</td>\n",
       "      <td>0.156863</td>\n",
       "      <td>0.019608</td>\n",
       "      <td>0.000000</td>\n",
       "      <td>0.000000</td>\n",
       "      <td>0</td>\n",
       "      <td>0</td>\n",
       "      <td>Amrabad</td>\n",
       "      <td>Nagarkurnool</td>\n",
       "      <td>88.000000</td>\n",
       "    </tr>\n",
       "    <tr>\n",
       "      <th>13</th>\n",
       "      <td>16.03</td>\n",
       "      <td>78.73</td>\n",
       "      <td>2022</td>\n",
       "      <td>9</td>\n",
       "      <td>0.098039</td>\n",
       "      <td>0.019608</td>\n",
       "      <td>0.019608</td>\n",
       "      <td>0.019608</td>\n",
       "      <td>0</td>\n",
       "      <td>0</td>\n",
       "      <td>Amrabad</td>\n",
       "      <td>Nagarkurnool</td>\n",
       "      <td>85.000000</td>\n",
       "    </tr>\n",
       "    <tr>\n",
       "      <th>14</th>\n",
       "      <td>16.03</td>\n",
       "      <td>78.76</td>\n",
       "      <td>2022</td>\n",
       "      <td>8</td>\n",
       "      <td>0.078431</td>\n",
       "      <td>0.039216</td>\n",
       "      <td>0.000000</td>\n",
       "      <td>0.000000</td>\n",
       "      <td>0</td>\n",
       "      <td>0</td>\n",
       "      <td>Amrabad</td>\n",
       "      <td>Nagarkurnool</td>\n",
       "      <td>68.886373</td>\n",
       "    </tr>\n",
       "    <tr>\n",
       "      <th>...</th>\n",
       "      <td>...</td>\n",
       "      <td>...</td>\n",
       "      <td>...</td>\n",
       "      <td>...</td>\n",
       "      <td>...</td>\n",
       "      <td>...</td>\n",
       "      <td>...</td>\n",
       "      <td>...</td>\n",
       "      <td>...</td>\n",
       "      <td>...</td>\n",
       "      <td>...</td>\n",
       "      <td>...</td>\n",
       "      <td>...</td>\n",
       "    </tr>\n",
       "    <tr>\n",
       "      <th>591</th>\n",
       "      <td>17.22</td>\n",
       "      <td>79.03</td>\n",
       "      <td>2022</td>\n",
       "      <td>50</td>\n",
       "      <td>0.294118</td>\n",
       "      <td>0.235294</td>\n",
       "      <td>0.431373</td>\n",
       "      <td>0.235294</td>\n",
       "      <td>0</td>\n",
       "      <td>0</td>\n",
       "      <td>Chityal</td>\n",
       "      <td>Nalgonda</td>\n",
       "      <td>99.970766</td>\n",
       "    </tr>\n",
       "    <tr>\n",
       "      <th>592</th>\n",
       "      <td>17.22</td>\n",
       "      <td>79.03</td>\n",
       "      <td>2022</td>\n",
       "      <td>51</td>\n",
       "      <td>0.294118</td>\n",
       "      <td>0.235294</td>\n",
       "      <td>0.431373</td>\n",
       "      <td>0.235294</td>\n",
       "      <td>1</td>\n",
       "      <td>1</td>\n",
       "      <td>Chityal</td>\n",
       "      <td>Nalgonda</td>\n",
       "      <td>99.970766</td>\n",
       "    </tr>\n",
       "    <tr>\n",
       "      <th>593</th>\n",
       "      <td>17.22</td>\n",
       "      <td>79.03</td>\n",
       "      <td>2022</td>\n",
       "      <td>52</td>\n",
       "      <td>0.294118</td>\n",
       "      <td>0.235294</td>\n",
       "      <td>0.431373</td>\n",
       "      <td>0.235294</td>\n",
       "      <td>0</td>\n",
       "      <td>0</td>\n",
       "      <td>Chityal</td>\n",
       "      <td>Nalgonda</td>\n",
       "      <td>81.000000</td>\n",
       "    </tr>\n",
       "    <tr>\n",
       "      <th>594</th>\n",
       "      <td>17.22</td>\n",
       "      <td>79.05</td>\n",
       "      <td>2022</td>\n",
       "      <td>48</td>\n",
       "      <td>0.058824</td>\n",
       "      <td>0.019608</td>\n",
       "      <td>0.000000</td>\n",
       "      <td>0.000000</td>\n",
       "      <td>0</td>\n",
       "      <td>0</td>\n",
       "      <td>Chityal</td>\n",
       "      <td>Nalgonda</td>\n",
       "      <td>60.586574</td>\n",
       "    </tr>\n",
       "    <tr>\n",
       "      <th>603</th>\n",
       "      <td>17.27</td>\n",
       "      <td>79.19</td>\n",
       "      <td>2022</td>\n",
       "      <td>18</td>\n",
       "      <td>0.058824</td>\n",
       "      <td>0.019608</td>\n",
       "      <td>0.039216</td>\n",
       "      <td>0.019608</td>\n",
       "      <td>0</td>\n",
       "      <td>0</td>\n",
       "      <td>Narketpally</td>\n",
       "      <td>Nalgonda</td>\n",
       "      <td>60.932167</td>\n",
       "    </tr>\n",
       "  </tbody>\n",
       "</table>\n",
       "<p>373 rows × 13 columns</p>\n",
       "</div>"
      ],
      "text/plain": [
       "     latitude  longitude  year  week  fire_cnt_before  fire_before  \\\n",
       "10      16.02      78.76  2022     8         0.058824     0.019608   \n",
       "11      16.03      78.71  2022     9         0.058824     0.019608   \n",
       "12      16.03      78.72  2022     9         0.156863     0.019608   \n",
       "13      16.03      78.73  2022     9         0.098039     0.019608   \n",
       "14      16.03      78.76  2022     8         0.078431     0.039216   \n",
       "..        ...        ...   ...   ...              ...          ...   \n",
       "591     17.22      79.03  2022    50         0.294118     0.235294   \n",
       "592     17.22      79.03  2022    51         0.294118     0.235294   \n",
       "593     17.22      79.03  2022    52         0.294118     0.235294   \n",
       "594     17.22      79.05  2022    48         0.058824     0.019608   \n",
       "603     17.27      79.19  2022    18         0.058824     0.019608   \n",
       "\n",
       "     fire_cnt_last_year  fire_last_year  fire_cnt_last_year_same_week  \\\n",
       "10             0.078431        0.039216                             0   \n",
       "11             0.000000        0.000000                             0   \n",
       "12             0.000000        0.000000                             0   \n",
       "13             0.019608        0.019608                             0   \n",
       "14             0.000000        0.000000                             0   \n",
       "..                  ...             ...                           ...   \n",
       "591            0.431373        0.235294                             0   \n",
       "592            0.431373        0.235294                             1   \n",
       "593            0.431373        0.235294                             0   \n",
       "594            0.000000        0.000000                             0   \n",
       "603            0.039216        0.019608                             0   \n",
       "\n",
       "     fire_last_year_same_week   Mandal_Nam     Dist_Name  confidence  \n",
       "10                          0      Amrabad  Nagarkurnool   60.932167  \n",
       "11                          0      Amrabad  Nagarkurnool   60.932167  \n",
       "12                          0      Amrabad  Nagarkurnool   88.000000  \n",
       "13                          0      Amrabad  Nagarkurnool   85.000000  \n",
       "14                          0      Amrabad  Nagarkurnool   68.886373  \n",
       "..                        ...          ...           ...         ...  \n",
       "591                         0      Chityal      Nalgonda   99.970766  \n",
       "592                         1      Chityal      Nalgonda   99.970766  \n",
       "593                         0      Chityal      Nalgonda   81.000000  \n",
       "594                         0      Chityal      Nalgonda   60.586574  \n",
       "603                         0  Narketpally      Nalgonda   60.932167  \n",
       "\n",
       "[373 rows x 13 columns]"
      ]
     },
     "execution_count": 160,
     "metadata": {},
     "output_type": "execute_result"
    }
   ],
   "source": [
    "dfp"
   ]
  },
  {
   "cell_type": "code",
   "execution_count": 161,
   "id": "2cb38474",
   "metadata": {
    "tags": []
   },
   "outputs": [],
   "source": [
    "# Make DataFrame Pipeline Interactive\n",
    "idfp = dfp.interactive()"
   ]
  },
  {
   "cell_type": "code",
   "execution_count": 162,
   "id": "d28382de",
   "metadata": {},
   "outputs": [
    {
     "data": {
      "text/html": [
       "<div>\n",
       "<style scoped>\n",
       "    .dataframe tbody tr th:only-of-type {\n",
       "        vertical-align: middle;\n",
       "    }\n",
       "\n",
       "    .dataframe tbody tr th {\n",
       "        vertical-align: top;\n",
       "    }\n",
       "\n",
       "    .dataframe thead th {\n",
       "        text-align: right;\n",
       "    }\n",
       "</style>\n",
       "<table border=\"1\" class=\"dataframe\">\n",
       "  <thead>\n",
       "    <tr style=\"text-align: right;\">\n",
       "      <th></th>\n",
       "      <th>latitude</th>\n",
       "      <th>longitude</th>\n",
       "      <th>year</th>\n",
       "      <th>week</th>\n",
       "      <th>fire_cnt_before</th>\n",
       "      <th>fire_before</th>\n",
       "      <th>fire_cnt_last_year</th>\n",
       "      <th>fire_last_year</th>\n",
       "      <th>fire_cnt_last_year_same_week</th>\n",
       "      <th>fire_last_year_same_week</th>\n",
       "      <th>Mandal_Nam</th>\n",
       "      <th>Dist_Name</th>\n",
       "      <th>confidence</th>\n",
       "    </tr>\n",
       "  </thead>\n",
       "  <tbody>\n",
       "    <tr>\n",
       "      <th>10</th>\n",
       "      <td>16.02</td>\n",
       "      <td>78.76</td>\n",
       "      <td>2022</td>\n",
       "      <td>8</td>\n",
       "      <td>0.058824</td>\n",
       "      <td>0.019608</td>\n",
       "      <td>0.078431</td>\n",
       "      <td>0.039216</td>\n",
       "      <td>0</td>\n",
       "      <td>0</td>\n",
       "      <td>Amrabad</td>\n",
       "      <td>Nagarkurnool</td>\n",
       "      <td>60.932167</td>\n",
       "    </tr>\n",
       "    <tr>\n",
       "      <th>11</th>\n",
       "      <td>16.03</td>\n",
       "      <td>78.71</td>\n",
       "      <td>2022</td>\n",
       "      <td>9</td>\n",
       "      <td>0.058824</td>\n",
       "      <td>0.019608</td>\n",
       "      <td>0.000000</td>\n",
       "      <td>0.000000</td>\n",
       "      <td>0</td>\n",
       "      <td>0</td>\n",
       "      <td>Amrabad</td>\n",
       "      <td>Nagarkurnool</td>\n",
       "      <td>60.932167</td>\n",
       "    </tr>\n",
       "    <tr>\n",
       "      <th>12</th>\n",
       "      <td>16.03</td>\n",
       "      <td>78.72</td>\n",
       "      <td>2022</td>\n",
       "      <td>9</td>\n",
       "      <td>0.156863</td>\n",
       "      <td>0.019608</td>\n",
       "      <td>0.000000</td>\n",
       "      <td>0.000000</td>\n",
       "      <td>0</td>\n",
       "      <td>0</td>\n",
       "      <td>Amrabad</td>\n",
       "      <td>Nagarkurnool</td>\n",
       "      <td>88.000000</td>\n",
       "    </tr>\n",
       "    <tr>\n",
       "      <th>13</th>\n",
       "      <td>16.03</td>\n",
       "      <td>78.73</td>\n",
       "      <td>2022</td>\n",
       "      <td>9</td>\n",
       "      <td>0.098039</td>\n",
       "      <td>0.019608</td>\n",
       "      <td>0.019608</td>\n",
       "      <td>0.019608</td>\n",
       "      <td>0</td>\n",
       "      <td>0</td>\n",
       "      <td>Amrabad</td>\n",
       "      <td>Nagarkurnool</td>\n",
       "      <td>85.000000</td>\n",
       "    </tr>\n",
       "    <tr>\n",
       "      <th>14</th>\n",
       "      <td>16.03</td>\n",
       "      <td>78.76</td>\n",
       "      <td>2022</td>\n",
       "      <td>8</td>\n",
       "      <td>0.078431</td>\n",
       "      <td>0.039216</td>\n",
       "      <td>0.000000</td>\n",
       "      <td>0.000000</td>\n",
       "      <td>0</td>\n",
       "      <td>0</td>\n",
       "      <td>Amrabad</td>\n",
       "      <td>Nagarkurnool</td>\n",
       "      <td>68.886373</td>\n",
       "    </tr>\n",
       "    <tr>\n",
       "      <th>...</th>\n",
       "      <td>...</td>\n",
       "      <td>...</td>\n",
       "      <td>...</td>\n",
       "      <td>...</td>\n",
       "      <td>...</td>\n",
       "      <td>...</td>\n",
       "      <td>...</td>\n",
       "      <td>...</td>\n",
       "      <td>...</td>\n",
       "      <td>...</td>\n",
       "      <td>...</td>\n",
       "      <td>...</td>\n",
       "      <td>...</td>\n",
       "    </tr>\n",
       "    <tr>\n",
       "      <th>591</th>\n",
       "      <td>17.22</td>\n",
       "      <td>79.03</td>\n",
       "      <td>2022</td>\n",
       "      <td>50</td>\n",
       "      <td>0.294118</td>\n",
       "      <td>0.235294</td>\n",
       "      <td>0.431373</td>\n",
       "      <td>0.235294</td>\n",
       "      <td>0</td>\n",
       "      <td>0</td>\n",
       "      <td>Chityal</td>\n",
       "      <td>Nalgonda</td>\n",
       "      <td>99.970766</td>\n",
       "    </tr>\n",
       "    <tr>\n",
       "      <th>592</th>\n",
       "      <td>17.22</td>\n",
       "      <td>79.03</td>\n",
       "      <td>2022</td>\n",
       "      <td>51</td>\n",
       "      <td>0.294118</td>\n",
       "      <td>0.235294</td>\n",
       "      <td>0.431373</td>\n",
       "      <td>0.235294</td>\n",
       "      <td>1</td>\n",
       "      <td>1</td>\n",
       "      <td>Chityal</td>\n",
       "      <td>Nalgonda</td>\n",
       "      <td>99.970766</td>\n",
       "    </tr>\n",
       "    <tr>\n",
       "      <th>593</th>\n",
       "      <td>17.22</td>\n",
       "      <td>79.03</td>\n",
       "      <td>2022</td>\n",
       "      <td>52</td>\n",
       "      <td>0.294118</td>\n",
       "      <td>0.235294</td>\n",
       "      <td>0.431373</td>\n",
       "      <td>0.235294</td>\n",
       "      <td>0</td>\n",
       "      <td>0</td>\n",
       "      <td>Chityal</td>\n",
       "      <td>Nalgonda</td>\n",
       "      <td>81.000000</td>\n",
       "    </tr>\n",
       "    <tr>\n",
       "      <th>594</th>\n",
       "      <td>17.22</td>\n",
       "      <td>79.05</td>\n",
       "      <td>2022</td>\n",
       "      <td>48</td>\n",
       "      <td>0.058824</td>\n",
       "      <td>0.019608</td>\n",
       "      <td>0.000000</td>\n",
       "      <td>0.000000</td>\n",
       "      <td>0</td>\n",
       "      <td>0</td>\n",
       "      <td>Chityal</td>\n",
       "      <td>Nalgonda</td>\n",
       "      <td>60.586574</td>\n",
       "    </tr>\n",
       "    <tr>\n",
       "      <th>603</th>\n",
       "      <td>17.27</td>\n",
       "      <td>79.19</td>\n",
       "      <td>2022</td>\n",
       "      <td>18</td>\n",
       "      <td>0.058824</td>\n",
       "      <td>0.019608</td>\n",
       "      <td>0.039216</td>\n",
       "      <td>0.019608</td>\n",
       "      <td>0</td>\n",
       "      <td>0</td>\n",
       "      <td>Narketpally</td>\n",
       "      <td>Nalgonda</td>\n",
       "      <td>60.932167</td>\n",
       "    </tr>\n",
       "  </tbody>\n",
       "</table>\n",
       "<p>373 rows × 13 columns</p>\n",
       "</div>"
      ],
      "text/plain": [
       "     latitude  longitude  year  week  fire_cnt_before  fire_before  \\\n",
       "10      16.02      78.76  2022     8         0.058824     0.019608   \n",
       "11      16.03      78.71  2022     9         0.058824     0.019608   \n",
       "12      16.03      78.72  2022     9         0.156863     0.019608   \n",
       "13      16.03      78.73  2022     9         0.098039     0.019608   \n",
       "14      16.03      78.76  2022     8         0.078431     0.039216   \n",
       "..        ...        ...   ...   ...              ...          ...   \n",
       "591     17.22      79.03  2022    50         0.294118     0.235294   \n",
       "592     17.22      79.03  2022    51         0.294118     0.235294   \n",
       "593     17.22      79.03  2022    52         0.294118     0.235294   \n",
       "594     17.22      79.05  2022    48         0.058824     0.019608   \n",
       "603     17.27      79.19  2022    18         0.058824     0.019608   \n",
       "\n",
       "     fire_cnt_last_year  fire_last_year  fire_cnt_last_year_same_week  \\\n",
       "10             0.078431        0.039216                             0   \n",
       "11             0.000000        0.000000                             0   \n",
       "12             0.000000        0.000000                             0   \n",
       "13             0.019608        0.019608                             0   \n",
       "14             0.000000        0.000000                             0   \n",
       "..                  ...             ...                           ...   \n",
       "591            0.431373        0.235294                             0   \n",
       "592            0.431373        0.235294                             1   \n",
       "593            0.431373        0.235294                             0   \n",
       "594            0.000000        0.000000                             0   \n",
       "603            0.039216        0.019608                             0   \n",
       "\n",
       "     fire_last_year_same_week   Mandal_Nam     Dist_Name  confidence  \n",
       "10                          0      Amrabad  Nagarkurnool   60.932167  \n",
       "11                          0      Amrabad  Nagarkurnool   60.932167  \n",
       "12                          0      Amrabad  Nagarkurnool   88.000000  \n",
       "13                          0      Amrabad  Nagarkurnool   85.000000  \n",
       "14                          0      Amrabad  Nagarkurnool   68.886373  \n",
       "..                        ...          ...           ...         ...  \n",
       "591                         0      Chityal      Nalgonda   99.970766  \n",
       "592                         1      Chityal      Nalgonda   99.970766  \n",
       "593                         0      Chityal      Nalgonda   81.000000  \n",
       "594                         0      Chityal      Nalgonda   60.586574  \n",
       "603                         0  Narketpally      Nalgonda   60.932167  \n",
       "\n",
       "[373 rows x 13 columns]"
      ]
     },
     "execution_count": 162,
     "metadata": {},
     "output_type": "execute_result"
    }
   ],
   "source": [
    "dfp"
   ]
  },
  {
   "cell_type": "code",
   "execution_count": 163,
   "id": "4dd3c59e",
   "metadata": {},
   "outputs": [],
   "source": [
    "# Radio buttons for District Name\n",
    "yaxis_district = pn.widgets.RadioButtonGroup(\n",
    "    name='Y axis', \n",
    "    options=['Nagarkurnool', 'Nalgonda',],\n",
    "    button_type='success'\n",
    ")\n",
    "week_predict_bar_pipeline = (\n",
    "    idfp[\n",
    "        (idfp.Dist_Name == yaxis_district)       \n",
    "    ]\n",
    "    .groupby(['week']).size()\n",
    "    .to_frame()\n",
    "    .reset_index()\n",
    "    .reset_index(drop=True)\n",
    ")"
   ]
  },
  {
   "cell_type": "code",
   "execution_count": 164,
   "id": "9cca8371",
   "metadata": {
    "scrolled": false
   },
   "outputs": [],
   "source": [
    "#week_predict_bar_pipeline"
   ]
  },
  {
   "cell_type": "code",
   "execution_count": 165,
   "id": "714e9319",
   "metadata": {},
   "outputs": [],
   "source": [
    "week_predict_bar_pipeline.columns = ['week', 'Dist_Name', 'fire_count']"
   ]
  },
  {
   "cell_type": "code",
   "execution_count": 166,
   "id": "bdb8d555",
   "metadata": {},
   "outputs": [],
   "source": [
    "#week_predict_bar_pipeline"
   ]
  },
  {
   "cell_type": "code",
   "execution_count": 167,
   "id": "a48bb629",
   "metadata": {},
   "outputs": [
    {
     "data": {},
     "metadata": {},
     "output_type": "display_data"
    },
    {
     "data": {},
     "metadata": {},
     "output_type": "display_data"
    },
    {
     "data": {
      "application/vnd.holoviews_exec.v0+json": "",
      "text/html": [
       "<div id='1563'>\n",
       "  <div class=\"bk-root\" id=\"cd161965-9042-4672-9ed2-e559727c4c0c\" data-root-id=\"1563\"></div>\n",
       "</div>\n",
       "<script type=\"application/javascript\">(function(root) {\n",
       "  function embed_document(root) {\n",
       "    var docs_json = {\"cb2d3e4e-e601-4f15-affe-7e65e492e96b\":{\"defs\":[{\"extends\":null,\"module\":null,\"name\":\"ReactiveHTML1\",\"overrides\":[],\"properties\":[]},{\"extends\":null,\"module\":null,\"name\":\"FlexBox1\",\"overrides\":[],\"properties\":[{\"default\":\"flex-start\",\"kind\":null,\"name\":\"align_content\"},{\"default\":\"flex-start\",\"kind\":null,\"name\":\"align_items\"},{\"default\":\"row\",\"kind\":null,\"name\":\"flex_direction\"},{\"default\":\"wrap\",\"kind\":null,\"name\":\"flex_wrap\"},{\"default\":\"flex-start\",\"kind\":null,\"name\":\"justify_content\"}]},{\"extends\":null,\"module\":null,\"name\":\"GridStack1\",\"overrides\":[],\"properties\":[{\"default\":\"warn\",\"kind\":null,\"name\":\"mode\"},{\"default\":null,\"kind\":null,\"name\":\"ncols\"},{\"default\":null,\"kind\":null,\"name\":\"nrows\"},{\"default\":true,\"kind\":null,\"name\":\"allow_resize\"},{\"default\":true,\"kind\":null,\"name\":\"allow_drag\"},{\"default\":[],\"kind\":null,\"name\":\"state\"}]},{\"extends\":null,\"module\":null,\"name\":\"click1\",\"overrides\":[],\"properties\":[{\"default\":\"\",\"kind\":null,\"name\":\"terminal_output\"},{\"default\":\"\",\"kind\":null,\"name\":\"debug_name\"},{\"default\":0,\"kind\":null,\"name\":\"clears\"}]},{\"extends\":null,\"module\":null,\"name\":\"NotificationAreaBase1\",\"overrides\":[],\"properties\":[{\"default\":\"bottom-right\",\"kind\":null,\"name\":\"position\"},{\"default\":0,\"kind\":null,\"name\":\"_clear\"}]},{\"extends\":null,\"module\":null,\"name\":\"NotificationArea1\",\"overrides\":[],\"properties\":[{\"default\":[],\"kind\":null,\"name\":\"notifications\"},{\"default\":\"bottom-right\",\"kind\":null,\"name\":\"position\"},{\"default\":0,\"kind\":null,\"name\":\"_clear\"},{\"default\":[{\"background\":\"#ffc107\",\"icon\":{\"className\":\"fas fa-exclamation-triangle\",\"color\":\"white\",\"tagName\":\"i\"},\"type\":\"warning\"},{\"background\":\"#007bff\",\"icon\":{\"className\":\"fas fa-info-circle\",\"color\":\"white\",\"tagName\":\"i\"},\"type\":\"info\"}],\"kind\":null,\"name\":\"types\"}]},{\"extends\":null,\"module\":null,\"name\":\"Notification\",\"overrides\":[],\"properties\":[{\"default\":null,\"kind\":null,\"name\":\"background\"},{\"default\":3000,\"kind\":null,\"name\":\"duration\"},{\"default\":null,\"kind\":null,\"name\":\"icon\"},{\"default\":\"\",\"kind\":null,\"name\":\"message\"},{\"default\":null,\"kind\":null,\"name\":\"notification_type\"},{\"default\":false,\"kind\":null,\"name\":\"_destroyed\"}]},{\"extends\":null,\"module\":null,\"name\":\"TemplateActions1\",\"overrides\":[],\"properties\":[{\"default\":0,\"kind\":null,\"name\":\"open_modal\"},{\"default\":0,\"kind\":null,\"name\":\"close_modal\"}]},{\"extends\":null,\"module\":null,\"name\":\"MaterialTemplateActions1\",\"overrides\":[],\"properties\":[{\"default\":0,\"kind\":null,\"name\":\"open_modal\"},{\"default\":0,\"kind\":null,\"name\":\"close_modal\"}]}],\"roots\":{\"references\":[{\"attributes\":{\"end\":137.4,\"reset_end\":137.4,\"reset_start\":0.0,\"tags\":[[[\"0\",\"0\",null]]]},\"id\":\"1570\",\"type\":\"Range1d\"},{\"attributes\":{\"children\":[{\"id\":\"1567\"}],\"margin\":[0,0,0,0],\"name\":\"Column09679\",\"sizing_mode\":\"stretch_width\"},\"id\":\"1566\",\"type\":\"Column\"},{\"attributes\":{\"active_drag\":{\"id\":\"1589\"},\"active_scroll\":{\"id\":\"1590\"},\"tools\":[{\"id\":\"1571\"},{\"id\":\"1588\"},{\"id\":\"1589\"},{\"id\":\"1590\"},{\"id\":\"1591\"},{\"id\":\"1592\"}]},\"id\":\"1594\",\"type\":\"Toolbar\"},{\"attributes\":{\"fill_alpha\":{\"value\":0.1},\"fill_color\":{\"value\":\"#30a2da\"},\"hatch_alpha\":{\"value\":0.1},\"hatch_color\":{\"value\":\"#30a2da\"},\"line_alpha\":{\"value\":0.1},\"top\":{\"field\":\"A_0\"},\"width\":{\"value\":0.8},\"x\":{\"field\":\"week\"}},\"id\":\"1605\",\"type\":\"VBar\"},{\"attributes\":{},\"id\":\"1585\",\"type\":\"BasicTicker\"},{\"attributes\":{},\"id\":\"1592\",\"type\":\"ResetTool\"},{\"attributes\":{},\"id\":\"1614\",\"type\":\"BasicTickFormatter\"},{\"attributes\":{\"coordinates\":null,\"group\":null,\"text\":\"Weekly fire count forecast\",\"text_color\":\"black\",\"text_font_size\":\"12pt\"},\"id\":\"1573\",\"type\":\"Title\"},{\"attributes\":{},\"id\":\"1582\",\"type\":\"CategoricalTicker\"},{\"attributes\":{\"client_comm_id\":\"8fd0aa4da2b34ab8baaaca574bc0863b\",\"comm_id\":\"d554faf2cbbe47e492d54533936bec63\",\"plot_id\":\"1563\"},\"id\":\"1660\",\"type\":\"panel.models.comm_manager.CommManager\"},{\"attributes\":{},\"id\":\"1579\",\"type\":\"LinearScale\"},{\"attributes\":{\"source\":{\"id\":\"1601\"}},\"id\":\"1608\",\"type\":\"CDSView\"},{\"attributes\":{\"fill_color\":{\"value\":\"#30a2da\"},\"hatch_color\":{\"value\":\"#30a2da\"},\"top\":{\"field\":\"A_0\"},\"width\":{\"value\":0.8},\"x\":{\"field\":\"week\"}},\"id\":\"1604\",\"type\":\"VBar\"},{\"attributes\":{},\"id\":\"1602\",\"type\":\"Selection\"},{\"attributes\":{\"children\":[{\"id\":\"1566\"},{\"id\":\"1568\"}],\"margin\":[0,0,0,0],\"name\":\"Row09684\",\"sizing_mode\":\"stretch_width\"},\"id\":\"1565\",\"type\":\"Row\"},{\"attributes\":{},\"id\":\"1627\",\"type\":\"UnionRenderers\"},{\"attributes\":{\"below\":[{\"id\":\"1581\"}],\"center\":[{\"id\":\"1583\"},{\"id\":\"1587\"}],\"height\":300,\"left\":[{\"id\":\"1584\"}],\"margin\":[5,5,5,5],\"min_border_bottom\":10,\"min_border_left\":10,\"min_border_right\":10,\"min_border_top\":10,\"renderers\":[{\"id\":\"1607\"}],\"sizing_mode\":\"fixed\",\"title\":{\"id\":\"1573\"},\"toolbar\":{\"id\":\"1594\"},\"width\":700,\"x_range\":{\"id\":\"1569\"},\"x_scale\":{\"id\":\"1577\"},\"y_range\":{\"id\":\"1570\"},\"y_scale\":{\"id\":\"1579\"}},\"id\":\"1572\",\"subtype\":\"Figure\",\"type\":\"Plot\"},{\"attributes\":{\"children\":[{\"id\":\"1565\"},{\"id\":\"1572\"}],\"margin\":[0,0,0,0],\"name\":\"Column09690\",\"sizing_mode\":\"stretch_width\"},\"id\":\"1564\",\"type\":\"Column\"},{\"attributes\":{\"axis\":{\"id\":\"1581\"},\"coordinates\":null,\"grid_line_color\":null,\"group\":null,\"ticker\":null},\"id\":\"1583\",\"type\":\"Grid\"},{\"attributes\":{},\"id\":\"1589\",\"type\":\"PanTool\"},{\"attributes\":{\"bottom\":{\"value\":0},\"fill_alpha\":{\"value\":1.0},\"fill_color\":{\"value\":\"#30a2da\"},\"hatch_alpha\":{\"value\":1.0},\"hatch_color\":{\"value\":\"#30a2da\"},\"hatch_scale\":{\"value\":12.0},\"hatch_weight\":{\"value\":1.0},\"line_alpha\":{\"value\":1.0},\"line_cap\":{\"value\":\"butt\"},\"line_color\":{\"value\":\"black\"},\"line_dash\":{\"value\":[]},\"line_dash_offset\":{\"value\":0},\"line_join\":{\"value\":\"bevel\"},\"line_width\":{\"value\":1},\"top\":{\"field\":\"A_0\"},\"width\":{\"value\":0.8},\"x\":{\"field\":\"week\"}},\"id\":\"1609\",\"type\":\"VBar\"},{\"attributes\":{},\"id\":\"1612\",\"type\":\"AllLabels\"},{\"attributes\":{\"factors\":[\"8\",\"9\",\"10\",\"11\",\"12\",\"13\",\"14\",\"16\",\"17\",\"45\"],\"tags\":[[[\"week\",\"week\",null]]]},\"id\":\"1569\",\"type\":\"FactorRange\"},{\"attributes\":{\"data\":{\"A_0\":[21,65,125,91,1,1,3,2,2,1],\"week\":[\"8\",\"9\",\"10\",\"11\",\"12\",\"13\",\"14\",\"16\",\"17\",\"45\"]},\"selected\":{\"id\":\"1602\"},\"selection_policy\":{\"id\":\"1627\"}},\"id\":\"1601\",\"type\":\"ColumnDataSource\"},{\"attributes\":{\"callback\":null,\"renderers\":[{\"id\":\"1607\"}],\"tags\":[\"hv_created\"],\"tooltips\":[[\"week\",\"@{week}\"],[\"0\",\"@{A_0}\"]]},\"id\":\"1571\",\"type\":\"HoverTool\"},{\"attributes\":{\"margin\":[5,5,5,5],\"name\":\"HSpacer09683\",\"sizing_mode\":\"stretch_width\"},\"id\":\"1568\",\"type\":\"Spacer\"},{\"attributes\":{},\"id\":\"1577\",\"type\":\"CategoricalScale\"},{\"attributes\":{},\"id\":\"1588\",\"type\":\"SaveTool\"},{\"attributes\":{\"bottom_units\":\"screen\",\"coordinates\":null,\"fill_alpha\":0.5,\"fill_color\":\"lightgrey\",\"group\":null,\"left_units\":\"screen\",\"level\":\"overlay\",\"line_alpha\":1.0,\"line_color\":\"black\",\"line_dash\":[4,4],\"line_width\":2,\"right_units\":\"screen\",\"syncable\":false,\"top_units\":\"screen\"},\"id\":\"1593\",\"type\":\"BoxAnnotation\"},{\"attributes\":{},\"id\":\"1615\",\"type\":\"AllLabels\"},{\"attributes\":{\"axis\":{\"id\":\"1584\"},\"coordinates\":null,\"dimension\":1,\"grid_line_color\":null,\"group\":null,\"ticker\":null},\"id\":\"1587\",\"type\":\"Grid\"},{\"attributes\":{\"fill_alpha\":{\"value\":0.2},\"fill_color\":{\"value\":\"#30a2da\"},\"hatch_alpha\":{\"value\":0.2},\"hatch_color\":{\"value\":\"#30a2da\"},\"line_alpha\":{\"value\":0.2},\"top\":{\"field\":\"A_0\"},\"width\":{\"value\":0.8},\"x\":{\"field\":\"week\"}},\"id\":\"1606\",\"type\":\"VBar\"},{\"attributes\":{\"active\":0,\"button_type\":\"success\",\"labels\":[\"Nagarkurnool\",\"Nalgonda\"],\"margin\":[5,10,5,10],\"sizing_mode\":\"stretch_width\"},\"id\":\"1567\",\"type\":\"RadioButtonGroup\"},{\"attributes\":{\"axis_label\":\"week\",\"coordinates\":null,\"formatter\":{\"id\":\"1611\"},\"group\":null,\"major_label_policy\":{\"id\":\"1612\"},\"ticker\":{\"id\":\"1582\"}},\"id\":\"1581\",\"type\":\"CategoricalAxis\"},{\"attributes\":{},\"id\":\"1590\",\"type\":\"WheelZoomTool\"},{\"attributes\":{\"children\":[{\"id\":\"1564\"}],\"margin\":[0,0,0,0],\"name\":\"Row09691\",\"sizing_mode\":\"stretch_width\"},\"id\":\"1563\",\"type\":\"Row\"},{\"attributes\":{},\"id\":\"1611\",\"type\":\"CategoricalTickFormatter\"},{\"attributes\":{\"coordinates\":null,\"data_source\":{\"id\":\"1601\"},\"glyph\":{\"id\":\"1604\"},\"group\":null,\"hover_glyph\":null,\"muted_glyph\":{\"id\":\"1606\"},\"nonselection_glyph\":{\"id\":\"1605\"},\"selection_glyph\":{\"id\":\"1609\"},\"view\":{\"id\":\"1608\"}},\"id\":\"1607\",\"type\":\"GlyphRenderer\"},{\"attributes\":{\"overlay\":{\"id\":\"1593\"}},\"id\":\"1591\",\"type\":\"BoxZoomTool\"},{\"attributes\":{\"axis_label\":\"0\",\"coordinates\":null,\"formatter\":{\"id\":\"1614\"},\"group\":null,\"major_label_policy\":{\"id\":\"1615\"},\"ticker\":{\"id\":\"1585\"}},\"id\":\"1584\",\"type\":\"LinearAxis\"}],\"root_ids\":[\"1563\",\"1660\"]},\"title\":\"Bokeh Application\",\"version\":\"2.4.3\"}};\n",
       "    var render_items = [{\"docid\":\"cb2d3e4e-e601-4f15-affe-7e65e492e96b\",\"root_ids\":[\"1563\"],\"roots\":{\"1563\":\"cd161965-9042-4672-9ed2-e559727c4c0c\"}}];\n",
       "    root.Bokeh.embed.embed_items_notebook(docs_json, render_items);\n",
       "    for (const render_item of render_items) {\n",
       "      for (const root_id of render_item.root_ids) {\n",
       "\tconst id_el = document.getElementById(root_id)\n",
       "\tif (id_el.children.length && (id_el.children[0].className === 'bk-root')) {\n",
       "\t  const root_el = id_el.children[0]\n",
       "\t  root_el.id = root_el.id + '-rendered'\n",
       "\t}\n",
       "      }\n",
       "    }\n",
       "  }\n",
       "  if (root.Bokeh !== undefined && root.Bokeh.Panel !== undefined && ( root['Tabulator'] !== undefined) && ( root['Tabulator'] !== undefined) && ( root['Tabulator'] !== undefined) && ( root['Tabulator'] !== undefined)) {\n",
       "    embed_document(root);\n",
       "  } else {\n",
       "    var attempts = 0;\n",
       "    var timer = setInterval(function(root) {\n",
       "      if (root.Bokeh !== undefined && root.Bokeh.Panel !== undefined && (root['Tabulator'] !== undefined) && (root['Tabulator'] !== undefined) && (root['Tabulator'] !== undefined) && (root['Tabulator'] !== undefined)) {\n",
       "        clearInterval(timer);\n",
       "        embed_document(root);\n",
       "      } else if (document.readyState == \"complete\") {\n",
       "        attempts++;\n",
       "        if (attempts > 200) {\n",
       "          clearInterval(timer);\n",
       "          console.log(\"Bokeh: ERROR: Unable to run BokehJS code because BokehJS library is missing\");\n",
       "        }\n",
       "      }\n",
       "    }, 25, root)\n",
       "  }\n",
       "})(window);</script>"
      ],
      "text/plain": [
       "<hvplot.interactive.Interactive at 0xffff39cd4f40>"
      ]
     },
     "execution_count": 167,
     "metadata": {
      "application/vnd.holoviews_exec.v0+json": {
       "id": "1563"
      }
     },
     "output_type": "execute_result"
    }
   ],
   "source": [
    "week_predict_bar_plot = week_predict_bar_pipeline.hvplot(kind='bar', \n",
    "                                                     x='week', \n",
    "                                                     y='0', \n",
    "                                                     title='Weekly fire count forecast')\n",
    "week_predict_bar_plot"
   ]
  },
  {
   "cell_type": "markdown",
   "id": "60dbcde2",
   "metadata": {},
   "source": [
    "## (8) Week vs Confidence scatterplot"
   ]
  },
  {
   "cell_type": "code",
   "execution_count": 168,
   "id": "95365eb7",
   "metadata": {},
   "outputs": [],
   "source": [
    "week_vs_conf_scatterplot_pipeline = (\n",
    "    idfp\n",
    "    .groupby(['latitude', 'longitude', 'week', 'Dist_Name'])['confidence'].mean()\n",
    "    .to_frame()\n",
    "    .reset_index()\n",
    "    .reset_index(drop=True)\n",
    ")"
   ]
  },
  {
   "cell_type": "code",
   "execution_count": 169,
   "id": "7d55c804",
   "metadata": {},
   "outputs": [],
   "source": [
    "week_vs_conf_scatterplot = week_vs_conf_scatterplot_pipeline.hvplot(x='week', \n",
    "                                                                y='confidence', \n",
    "                                                                by='Dist_Name', \n",
    "                                                                size=80, kind=\"scatter\", \n",
    "                                                                alpha=0.7,\n",
    "                                                                legend=False, \n",
    "                                                                height=500, \n",
    "                                                                width=500)\n",
    "#week_vs_conf_scatterplot"
   ]
  },
  {
   "cell_type": "markdown",
   "id": "21ede071",
   "metadata": {},
   "source": [
    "## (9) Table - Firedata Forecast "
   ]
  },
  {
   "cell_type": "code",
   "execution_count": 170,
   "id": "bcfbc6bc",
   "metadata": {},
   "outputs": [],
   "source": [
    "week_predict_pipeline = (\n",
    "    idfp[\n",
    "        (idfp.week == week_slider)\n",
    "    ].groupby(['latitude', 'longitude', 'week', 'Dist_Name'])['confidence'].mean()\n",
    "    .reset_index()\n",
    "    .reset_index(drop=True)\n",
    ")"
   ]
  },
  {
   "cell_type": "code",
   "execution_count": 171,
   "id": "3a7b264d",
   "metadata": {},
   "outputs": [],
   "source": [
    "#week_predict_pipeline"
   ]
  },
  {
   "cell_type": "code",
   "execution_count": 172,
   "id": "91a9d5cc",
   "metadata": {
    "tags": []
   },
   "outputs": [],
   "source": [
    "predict_table = week_predict_pipeline.pipe(pn.widgets.Tabulator, pagination='remote', page_size = 20, sizing_mode='stretch_width') \n",
    "#predict_table"
   ]
  },
  {
   "cell_type": "markdown",
   "id": "e0086749",
   "metadata": {},
   "source": [
    "## (10) Create Map Forecast "
   ]
  },
  {
   "cell_type": "code",
   "execution_count": 173,
   "id": "6e0f21fd",
   "metadata": {},
   "outputs": [],
   "source": [
    "class PanelFoliumMapForecast(param.Parameterized):\n",
    "    Confidence = param.Integer(50, bounds=(50,100))\n",
    "        \n",
    "    def __init__(self, **params):\n",
    "        super().__init__(**params)\n",
    "        self.map = get_map()\n",
    "        self.folium_pane = pn.pane.plot.Folium(sizing_mode=\"stretch_both\", min_height=500, margin=0)    \n",
    "        self.view = pn.Column(\n",
    "            self.param.Confidence,\n",
    "            self.folium_pane,\n",
    "            sizing_mode=\"stretch_both\", height=500\n",
    "        )\n",
    "        self._update_map()\n",
    "\n",
    "    @param.depends(\"Confidence\", watch=True)\n",
    "    def _update_map(self):\n",
    "        self.map = get_map()\n",
    "        df_aqi = get_dfp_aqi(confidence=self.Confidence)\n",
    "        add_aqi_predict_circles(self.map, df_aqi)\n",
    "        self.folium_pane.object = self.map\n",
    "\n",
    "        \n",
    "#app = PanelFoliumMapForecast()\n",
    "#app.view"
   ]
  },
  {
   "cell_type": "markdown",
   "id": "ef1d523e-0409-4024-9783-2b654b8f9d53",
   "metadata": {},
   "source": [
    "## (11) Creating Dashboard"
   ]
  },
  {
   "cell_type": "code",
   "execution_count": 187,
   "id": "1c2e45bf-37c7-48e0-a2d3-a36da8843362",
   "metadata": {},
   "outputs": [],
   "source": [
    "#Layout using Template\n",
    "template = pn.template.FastListTemplate(\n",
    "    title='Amrabad Wild-Fire Forecast', \n",
    "    sidebar=[pn.pane.Markdown(\"# Forecast Wildfire\"), \n",
    "             pn.pane.Markdown(\"# Track Active Wildfire\"), \n",
    "             #pn.pane.Markdown(\"#### Wild fire is one of the primary reason for climate change hazard.Track wild fire realtime and forecast wildfire\"), \n",
    "             #pn.pane.PNG('fire-flame.png', sizing_mode='scale_both'),\n",
    "             pn.pane.Markdown(\"### Remote satellites selected for Wild-Fire prediction & detection.\"),\n",
    "             pn.pane.Markdown(\"\"\"\n",
    "                                | Satellites      |    Instruments |\n",
    "                                | ----------------| -------------- |\n",
    "                                | Aqua, Terra     |    MODIS       |\n",
    "                                | S-NPP, NOAA20   |    VIIRS       |\n",
    "\n",
    "                                \"\"\", style={'border': \"4px solid blue\"}),\n",
    "            pn.pane.PNG('fire-flame.png', sizing_mode='scale_both')],\n",
    "    main=[pn.pane.Markdown(\"# Wild-Fire Prediction\"),\n",
    "          pn.Row(pn.Column(PanelFoliumMapForecast().view),\n",
    "                 pn.Column(week_slider,predict_table.panel(width=500))),\n",
    "          pn.Row(pn.Column(week_vs_conf_scatterplot.panel(width=600), margin=(0,25)), \n",
    "                 pn.Column(yaxis_district, week_predict_bar_plot.panel(width=600))),\n",
    "          pn.pane.Markdown(\"# Wild-Fire Detection\", align=\"center\"),\n",
    "          pn.Row(pn.Column(yaxis_duration,\n",
    "                           PanelFoliumMap().view), \n",
    "                 active_fire_table.panel(width=500)),\n",
    "          ],\n",
    "    accent_base_color=\"#88d8b0\", \n",
    ")\n",
    "#template.show()\n",
    "template.servable();"
   ]
  },
  {
   "cell_type": "code",
   "execution_count": null,
   "id": "56bc6c30",
   "metadata": {},
   "outputs": [],
   "source": []
  }
 ],
 "metadata": {
  "kernelspec": {
   "display_name": "Python 3 (ipykernel)",
   "language": "python",
   "name": "python3"
  },
  "language_info": {
   "codemirror_mode": {
    "name": "ipython",
    "version": 3
   },
   "file_extension": ".py",
   "mimetype": "text/x-python",
   "name": "python",
   "nbconvert_exporter": "python",
   "pygments_lexer": "ipython3",
   "version": "3.10.6"
  }
 },
 "nbformat": 4,
 "nbformat_minor": 5
}
