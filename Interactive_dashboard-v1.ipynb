{
 "cells": [
  {
   "cell_type": "code",
   "execution_count": 402,
   "id": "fdc9dea9-977d-47ec-a607-c4302a010733",
   "metadata": {},
   "outputs": [],
   "source": [
    "import pandas as pd\n",
    "import numpy as np\n",
    "import panel as pn\n",
    "import folium as fm\n",
    "import param\n",
    "from branca.element import Template, MacroElement\n",
    "pn.extension('tabulator')\n",
    "pn.extension()\n",
    "pn.extension(sizing_mode=\"stretch_width\")\n",
    "import hvplot.pandas\n",
    "import plotly.express as px"
   ]
  },
  {
   "cell_type": "markdown",
   "id": "50a73686",
   "metadata": {},
   "source": [
    "## (1) Define Panel Widgets"
   ]
  },
  {
   "cell_type": "code",
   "execution_count": 403,
   "id": "bb7efce2",
   "metadata": {},
   "outputs": [],
   "source": [
    "# Define Panel widgets\n",
    "month_slider = pn.widgets.IntSlider(name='Month slider', start=1, end=12, step=1, value=4)\n",
    "#month_slider"
   ]
  },
  {
   "cell_type": "code",
   "execution_count": 404,
   "id": "74b212d7",
   "metadata": {},
   "outputs": [],
   "source": [
    "# Define Panel widgets\n",
    "confidence_slider = pn.widgets.IntSlider(name='Confidence slider', start=50, end=100, step=1, value=75)\n",
    "#confidence_slider"
   ]
  },
  {
   "cell_type": "code",
   "execution_count": 405,
   "id": "ab4d26e0",
   "metadata": {},
   "outputs": [],
   "source": [
    "confidence_range_slider = pn.widgets.IntRangeSlider(name='Confidence',start=50, end=100, value=(50, 100), step=1)\n",
    "\n",
    "#confidence_range_slider"
   ]
  },
  {
   "cell_type": "code",
   "execution_count": 406,
   "id": "a5a47906",
   "metadata": {},
   "outputs": [
    {
     "data": {
      "text/plain": [
       "50"
      ]
     },
     "execution_count": 406,
     "metadata": {},
     "output_type": "execute_result"
    }
   ],
   "source": [
    "confidence_range_slider.value[0]"
   ]
  },
  {
   "cell_type": "code",
   "execution_count": 407,
   "id": "b04d8383",
   "metadata": {},
   "outputs": [],
   "source": [
    "month_range_slider = pn.widgets.IntRangeSlider(name='Month',start=1, end=12, value=(4, 6), step=1)\n",
    "\n",
    "#month_range_slider"
   ]
  },
  {
   "cell_type": "code",
   "execution_count": 408,
   "id": "db25ccf0",
   "metadata": {},
   "outputs": [
    {
     "data": {
      "text/plain": [
       "6"
      ]
     },
     "execution_count": 408,
     "metadata": {},
     "output_type": "execute_result"
    }
   ],
   "source": [
    "month_range_slider.value[1]"
   ]
  },
  {
   "cell_type": "markdown",
   "id": "92e261f2",
   "metadata": {},
   "source": [
    "## (2) Reading Data"
   ]
  },
  {
   "cell_type": "code",
   "execution_count": 409,
   "id": "db0c46f8",
   "metadata": {},
   "outputs": [],
   "source": [
    "#dfm = pd.read_csv('/home/oneon/wildfire/wildfire-data/active-data/ethiopia/eth_active_fire_shape.csv')"
   ]
  },
  {
   "cell_type": "code",
   "execution_count": 410,
   "id": "a70743ca",
   "metadata": {},
   "outputs": [],
   "source": [
    "#dfp = pd.read_csv('/home/oneon/wildfire/wildfire-data/eth_fire_prediction_shape.csv')"
   ]
  },
  {
   "cell_type": "code",
   "execution_count": 411,
   "id": "d3f67f3f",
   "metadata": {},
   "outputs": [],
   "source": [
    "#dfh = pd.read_csv('/home/oneon/wildfire/wildfire-data/eth_yearly_fire.csv')"
   ]
  },
  {
   "cell_type": "code",
   "execution_count": 412,
   "id": "4514dd00",
   "metadata": {},
   "outputs": [],
   "source": [
    "#dfm = pd.read_csv('https://raw.githubusercontent.com/oneon/firedataset/main/ts_active_fire_shape.csv')"
   ]
  },
  {
   "cell_type": "code",
   "execution_count": 413,
   "id": "d252321f",
   "metadata": {},
   "outputs": [],
   "source": [
    "# cache data to improve dashboard performance\n",
    "if 'datamap' not in pn.state.cache.keys():\n",
    "\n",
    "    dfm = pd.read_csv('https://raw.githubusercontent.com/oneon/firedataset/main/eth_active_fire_shape.csv')\n",
    "\n",
    "    pn.state.cache['datamap'] = dfm.copy()\n",
    "\n",
    "else: \n",
    "\n",
    "    dfm = pn.state.cache['datamap']"
   ]
  },
  {
   "cell_type": "code",
   "execution_count": 414,
   "id": "8cb46bf6",
   "metadata": {},
   "outputs": [],
   "source": [
    "# cache data to improve dashboard performance\n",
    "if 'datapre' not in pn.state.cache.keys():\n",
    "\n",
    "    dfp = pd.read_csv('https://raw.githubusercontent.com/oneon/firedataset/main/eth_fire_prediction_shape.csv')\n",
    "\n",
    "    pn.state.cache['datapre'] = dfp.copy()\n",
    "\n",
    "else: \n",
    "\n",
    "    dfp = pn.state.cache['datapre']"
   ]
  },
  {
   "cell_type": "code",
   "execution_count": 415,
   "id": "deec6d5b",
   "metadata": {},
   "outputs": [],
   "source": [
    "# cache data to improve dashboard performance\n",
    "if 'datahis' not in pn.state.cache.keys():\n",
    "\n",
    "    dfh = pd.read_csv('https://raw.githubusercontent.com/oneon/firedataset/main/eth_yearly_fire.csv')\n",
    "\n",
    "    pn.state.cache['datahis'] = dfh.copy()\n",
    "\n",
    "else: \n",
    "\n",
    "    dfh = pn.state.cache['datahis']"
   ]
  },
  {
   "cell_type": "code",
   "execution_count": 416,
   "id": "f294c759",
   "metadata": {},
   "outputs": [],
   "source": [
    "dfm = dfm[dfm['REGIONNAME'].str.contains('Oromia') | dfm['REGIONNAME'].str.contains('Tigray')]"
   ]
  },
  {
   "cell_type": "code",
   "execution_count": 417,
   "id": "7a2026db",
   "metadata": {},
   "outputs": [],
   "source": [
    "dfp = dfp[dfp['REGIONNAME'].str.contains('Oromia') | dfp['REGIONNAME'].str.contains('Tigray')]"
   ]
  },
  {
   "cell_type": "code",
   "execution_count": 418,
   "id": "9f01e22a",
   "metadata": {},
   "outputs": [],
   "source": [
    "#dfp"
   ]
  },
  {
   "cell_type": "code",
   "execution_count": 419,
   "id": "9ddaca9f",
   "metadata": {},
   "outputs": [
    {
     "data": {
      "text/plain": [
       "((7257, 13), (17024, 15))"
      ]
     },
     "execution_count": 419,
     "metadata": {},
     "output_type": "execute_result"
    }
   ],
   "source": [
    "dfm.shape, dfp.shape"
   ]
  },
  {
   "cell_type": "code",
   "execution_count": 420,
   "id": "e1bbfad7",
   "metadata": {
    "tags": []
   },
   "outputs": [],
   "source": [
    "# Make DataFrame Pipeline Interactive\n",
    "idfm = dfm.interactive()"
   ]
  },
  {
   "cell_type": "code",
   "execution_count": 421,
   "id": "0030b4fa",
   "metadata": {},
   "outputs": [
    {
     "data": {},
     "metadata": {},
     "output_type": "display_data"
    },
    {
     "data": {
      "application/vnd.holoviews_exec.v0+json": "",
      "text/html": [
       "<div id='1875'>\n",
       "  <div class=\"bk-root\" id=\"d394a83b-58e2-45a0-a125-ec342eba142d\" data-root-id=\"1875\"></div>\n",
       "</div>\n",
       "<script type=\"application/javascript\">(function(root) {\n",
       "  function embed_document(root) {\n",
       "    var docs_json = {\"9cb04224-c3f4-4f7e-a8c0-bf20a8d383ea\":{\"defs\":[{\"extends\":null,\"module\":null,\"name\":\"ReactiveHTML1\",\"overrides\":[],\"properties\":[]},{\"extends\":null,\"module\":null,\"name\":\"FlexBox1\",\"overrides\":[],\"properties\":[{\"default\":\"flex-start\",\"kind\":null,\"name\":\"align_content\"},{\"default\":\"flex-start\",\"kind\":null,\"name\":\"align_items\"},{\"default\":\"row\",\"kind\":null,\"name\":\"flex_direction\"},{\"default\":\"wrap\",\"kind\":null,\"name\":\"flex_wrap\"},{\"default\":\"flex-start\",\"kind\":null,\"name\":\"justify_content\"}]},{\"extends\":null,\"module\":null,\"name\":\"GridStack1\",\"overrides\":[],\"properties\":[{\"default\":\"warn\",\"kind\":null,\"name\":\"mode\"},{\"default\":null,\"kind\":null,\"name\":\"ncols\"},{\"default\":null,\"kind\":null,\"name\":\"nrows\"},{\"default\":true,\"kind\":null,\"name\":\"allow_resize\"},{\"default\":true,\"kind\":null,\"name\":\"allow_drag\"},{\"default\":[],\"kind\":null,\"name\":\"state\"}]},{\"extends\":null,\"module\":null,\"name\":\"click1\",\"overrides\":[],\"properties\":[{\"default\":\"\",\"kind\":null,\"name\":\"terminal_output\"},{\"default\":\"\",\"kind\":null,\"name\":\"debug_name\"},{\"default\":0,\"kind\":null,\"name\":\"clears\"}]},{\"extends\":null,\"module\":null,\"name\":\"NotificationAreaBase1\",\"overrides\":[],\"properties\":[{\"default\":\"bottom-right\",\"kind\":null,\"name\":\"position\"},{\"default\":0,\"kind\":null,\"name\":\"_clear\"}]},{\"extends\":null,\"module\":null,\"name\":\"NotificationArea1\",\"overrides\":[],\"properties\":[{\"default\":[],\"kind\":null,\"name\":\"notifications\"},{\"default\":\"bottom-right\",\"kind\":null,\"name\":\"position\"},{\"default\":0,\"kind\":null,\"name\":\"_clear\"},{\"default\":[{\"background\":\"#ffc107\",\"icon\":{\"className\":\"fas fa-exclamation-triangle\",\"color\":\"white\",\"tagName\":\"i\"},\"type\":\"warning\"},{\"background\":\"#007bff\",\"icon\":{\"className\":\"fas fa-info-circle\",\"color\":\"white\",\"tagName\":\"i\"},\"type\":\"info\"}],\"kind\":null,\"name\":\"types\"}]},{\"extends\":null,\"module\":null,\"name\":\"Notification\",\"overrides\":[],\"properties\":[{\"default\":null,\"kind\":null,\"name\":\"background\"},{\"default\":3000,\"kind\":null,\"name\":\"duration\"},{\"default\":null,\"kind\":null,\"name\":\"icon\"},{\"default\":\"\",\"kind\":null,\"name\":\"message\"},{\"default\":null,\"kind\":null,\"name\":\"notification_type\"},{\"default\":false,\"kind\":null,\"name\":\"_destroyed\"}]},{\"extends\":null,\"module\":null,\"name\":\"TemplateActions1\",\"overrides\":[],\"properties\":[{\"default\":0,\"kind\":null,\"name\":\"open_modal\"},{\"default\":0,\"kind\":null,\"name\":\"close_modal\"}]},{\"extends\":null,\"module\":null,\"name\":\"MaterialTemplateActions1\",\"overrides\":[],\"properties\":[{\"default\":0,\"kind\":null,\"name\":\"open_modal\"},{\"default\":0,\"kind\":null,\"name\":\"close_modal\"}]}],\"roots\":{\"references\":[{\"attributes\":{\"children\":[{\"id\":\"1877\"},{\"id\":\"1880\"}],\"margin\":[0,0,0,0],\"name\":\"Column22167\",\"sizing_mode\":\"stretch_width\"},\"id\":\"1876\",\"type\":\"Column\"},{\"attributes\":{\"children\":[{\"id\":\"1878\"},{\"id\":\"1879\"}],\"margin\":[0,0,0,0],\"name\":\"Row22166\",\"sizing_mode\":\"stretch_width\"},\"id\":\"1877\",\"type\":\"Row\"},{\"attributes\":{\"margin\":[5,5,5,5],\"name\":\"interactive22139\",\"sizing_mode\":\"stretch_width\",\"text\":\"&lt;pre&gt;(7257, 13)&lt;/pre&gt;\"},\"id\":\"1883\",\"type\":\"panel.models.markup.HTML\"},{\"attributes\":{\"children\":[{\"id\":\"1881\"},{\"id\":\"1882\"}],\"margin\":[0,0,0,0],\"name\":\"Column22140\",\"sizing_mode\":\"stretch_width\"},\"id\":\"1880\",\"type\":\"Column\"},{\"attributes\":{\"margin\":[0,0,0,0],\"name\":\"Column22138\",\"sizing_mode\":\"stretch_width\"},\"id\":\"1878\",\"type\":\"Column\"},{\"attributes\":{\"children\":[{\"id\":\"1883\"}],\"margin\":[0,0,0,0],\"name\":\"Row22163\",\"sizing_mode\":\"stretch_width\"},\"id\":\"1882\",\"type\":\"Row\"},{\"attributes\":{\"client_comm_id\":\"e056338792c84b3593cecd610152a2b7\",\"comm_id\":\"798b083c3923413eb7cdf1cf19b475e1\",\"plot_id\":\"1875\"},\"id\":\"1884\",\"type\":\"panel.models.comm_manager.CommManager\"},{\"attributes\":{\"children\":[{\"id\":\"1876\"}],\"margin\":[0,0,0,0],\"name\":\"Row22168\",\"sizing_mode\":\"stretch_width\"},\"id\":\"1875\",\"type\":\"Row\"},{\"attributes\":{\"margin\":[5,5,5,5],\"name\":\"HSpacer22165\",\"sizing_mode\":\"stretch_width\"},\"id\":\"1879\",\"type\":\"Spacer\"},{\"attributes\":{\"margin\":[0,0,0,0],\"name\":\"Column22164\",\"sizing_mode\":\"stretch_width\"},\"id\":\"1881\",\"type\":\"Column\"}],\"root_ids\":[\"1875\",\"1884\"]},\"title\":\"Bokeh Application\",\"version\":\"2.4.3\"}};\n",
       "    var render_items = [{\"docid\":\"9cb04224-c3f4-4f7e-a8c0-bf20a8d383ea\",\"root_ids\":[\"1875\"],\"roots\":{\"1875\":\"d394a83b-58e2-45a0-a125-ec342eba142d\"}}];\n",
       "    root.Bokeh.embed.embed_items_notebook(docs_json, render_items);\n",
       "    for (const render_item of render_items) {\n",
       "      for (const root_id of render_item.root_ids) {\n",
       "\tconst id_el = document.getElementById(root_id)\n",
       "\tif (id_el.children.length && (id_el.children[0].className === 'bk-root')) {\n",
       "\t  const root_el = id_el.children[0]\n",
       "\t  root_el.id = root_el.id + '-rendered'\n",
       "\t}\n",
       "      }\n",
       "    }\n",
       "  }\n",
       "  if (root.Bokeh !== undefined && root.Bokeh.Panel !== undefined && ( root['Tabulator'] !== undefined) && ( root['Tabulator'] !== undefined) && ( root['Tabulator'] !== undefined) && ( root['Tabulator'] !== undefined) && ( root['Tabulator'] !== undefined) && ( root['Tabulator'] !== undefined) && ( root['Tabulator'] !== undefined) && ( root['Tabulator'] !== undefined)) {\n",
       "    embed_document(root);\n",
       "  } else {\n",
       "    var attempts = 0;\n",
       "    var timer = setInterval(function(root) {\n",
       "      if (root.Bokeh !== undefined && root.Bokeh.Panel !== undefined && (root['Tabulator'] !== undefined) && (root['Tabulator'] !== undefined) && (root['Tabulator'] !== undefined) && (root['Tabulator'] !== undefined) && (root['Tabulator'] !== undefined) && (root['Tabulator'] !== undefined) && (root['Tabulator'] !== undefined) && (root['Tabulator'] !== undefined)) {\n",
       "        clearInterval(timer);\n",
       "        embed_document(root);\n",
       "      } else if (document.readyState == \"complete\") {\n",
       "        attempts++;\n",
       "        if (attempts > 200) {\n",
       "          clearInterval(timer);\n",
       "          console.log(\"Bokeh: ERROR: Unable to run BokehJS code because BokehJS library is missing\");\n",
       "        }\n",
       "      }\n",
       "    }, 25, root)\n",
       "  }\n",
       "})(window);</script>"
      ],
      "text/plain": [
       "<hvplot.interactive.Interactive at 0xffff57ba0190>"
      ]
     },
     "execution_count": 421,
     "metadata": {
      "application/vnd.holoviews_exec.v0+json": {
       "id": "1875"
      }
     },
     "output_type": "execute_result"
    }
   ],
   "source": [
    "idfm.shape"
   ]
  },
  {
   "cell_type": "code",
   "execution_count": 422,
   "id": "fbe21468",
   "metadata": {},
   "outputs": [],
   "source": [
    "yaxis_duration = pn.widgets.RadioButtonGroup(\n",
    "    name='Y axis', \n",
    "    options=['24h', '48h', '7d'], \n",
    "    button_type='success'\n",
    ")\n",
    "yaxis_duration\n",
    "\n",
    "map_data_pipeline = (\n",
    "    idfm[\n",
    "        (idfm.duration == yaxis_duration)\n",
    "    ]\n",
    "    .groupby(['latitude', 'longitude', 'acq_date', 'acq_time', 'REGIONNAME', 'HRname', 'duration', 'instrument', 'week']).confidence.max()\n",
    "    .to_frame()\n",
    "    .reset_index()  \n",
    "    .reset_index(drop=True)\n",
    ")"
   ]
  },
  {
   "cell_type": "code",
   "execution_count": 423,
   "id": "0072979b",
   "metadata": {},
   "outputs": [],
   "source": [
    "#map_data_pipeline.columns"
   ]
  },
  {
   "cell_type": "code",
   "execution_count": 424,
   "id": "4afd141e",
   "metadata": {},
   "outputs": [
    {
     "data": {
      "text/plain": [
       "'24h'"
      ]
     },
     "execution_count": 424,
     "metadata": {},
     "output_type": "execute_result"
    }
   ],
   "source": [
    "yaxis_duration.value"
   ]
  },
  {
   "cell_type": "markdown",
   "id": "23ea7809",
   "metadata": {},
   "source": [
    "## (3) Table - Firedata "
   ]
  },
  {
   "cell_type": "code",
   "execution_count": 425,
   "id": "6778d360",
   "metadata": {
    "tags": []
   },
   "outputs": [],
   "source": [
    "active_fire_table = map_data_pipeline.pipe(pn.widgets.Tabulator, pagination='remote', page_size = 20, sizing_mode='stretch_width') \n",
    "#active_fire_table"
   ]
  },
  {
   "cell_type": "code",
   "execution_count": 426,
   "id": "0c42cbcf",
   "metadata": {},
   "outputs": [],
   "source": [
    "#map_data_pipeline.sample(10)"
   ]
  },
  {
   "cell_type": "code",
   "execution_count": 427,
   "id": "5cc4cc1f",
   "metadata": {},
   "outputs": [],
   "source": [
    "def get_map(lat=10.7450, long=37.4897, zoom_start=7):\n",
    "    return fm.Map(location=[lat,long], zoom_start=zoom_start)\n",
    "\n",
    "map = get_map()\n",
    "\n",
    "#pn.panel(map, height=400)"
   ]
  },
  {
   "cell_type": "markdown",
   "id": "021d6603",
   "metadata": {},
   "source": [
    "## (4) Data Active - Firedata "
   ]
  },
  {
   "cell_type": "code",
   "execution_count": 428,
   "id": "b9555274",
   "metadata": {},
   "outputs": [],
   "source": [
    "def get_df_aqi(confidence=50):\n",
    "    aqi = dfm[dfm['duration'] == yaxis_duration.value]\n",
    "    aqi = aqi[aqi['confidence'] >= confidence]\n",
    "    return pd.DataFrame(aqi)\n",
    "    #return aqi\n",
    "\n",
    "df_aqi = get_df_aqi()"
   ]
  },
  {
   "cell_type": "markdown",
   "id": "1e6a9983",
   "metadata": {},
   "source": [
    "## (5) Data Forecast - Firedata "
   ]
  },
  {
   "cell_type": "code",
   "execution_count": 429,
   "id": "1443d941",
   "metadata": {},
   "outputs": [],
   "source": [
    "def get_dfp_aqi(confidence=50):\n",
    "    aqi = dfp[dfp['month'] >= month_range_slider.value[0]] \n",
    "    aqi = aqi[aqi['month'] <= month_range_slider.value[1]]\n",
    "    aqi = aqi[aqi['confidence'] >= confidence]\n",
    "    return pd.DataFrame(aqi)\n",
    "    #return aqi\n",
    "\n",
    "df_aqii = get_dfp_aqi()"
   ]
  },
  {
   "cell_type": "code",
   "execution_count": 430,
   "id": "b1c5b6f8",
   "metadata": {},
   "outputs": [
    {
     "data": {
      "text/plain": [
       "((878, 13), (496, 15))"
      ]
     },
     "execution_count": 430,
     "metadata": {},
     "output_type": "execute_result"
    }
   ],
   "source": [
    "df_aqi.shape, df_aqii.shape"
   ]
  },
  {
   "cell_type": "code",
   "execution_count": 431,
   "id": "00a0a218",
   "metadata": {},
   "outputs": [],
   "source": [
    "def add_aqi_circles(map, df_aqi):\n",
    "    yellow_p1  = fm.map.FeatureGroup()\n",
    "    orange_p1 = fm.map.FeatureGroup()\n",
    "    red_p1    = fm.map.FeatureGroup()\n",
    "    \n",
    "    for _, row in df_aqi.iterrows():\n",
    "          \n",
    "        #time = str(row.acq_time)[:-2] + \":\" + str(row.acq_time)[-2:]\n",
    "        html=f\"\"\"\n",
    "            <h4> {row.REGIONNAME}</h4>\n",
    "            <p>HRName {row.HRname}</p>\n",
    "            <ul>\n",
    "                <li>Date {row.acq_date}</li>\n",
    "                <li>Time {row.acq_time}</li>\n",
    "                <li>Lat {row.latitude}</li>\n",
    "                <li>Long {row.longitude}</li>\n",
    "                <li>Confidence {row.confidence}</li>\n",
    "            </ul>\n",
    "            </p>\n",
    "            \"\"\"\n",
    "        iframe = fm.IFrame(html=html, width=200, height=200)\n",
    "        popup = fm.Popup(iframe, max_width=2650)\n",
    "    \n",
    "    \n",
    "        if (row.confidence >= 50) and (row.confidence < 60):\n",
    "            feature_group = yellow_p1\n",
    "            customicon = 'fire-flame-yellow.png'\n",
    "        elif (row.confidence >= 60) and (row.confidence < 80):\n",
    "            feature_group = orange_p1\n",
    "            customicon = 'fire-flame-orange.png'\n",
    "        elif (row.confidence >= 80) and (row.confidence <= 100):\n",
    "            feature_group = red_p1\n",
    "            customicon = 'fire-flame-red.png'\n",
    "        else:\n",
    "            feature_group = yellow_p1\n",
    "            customicon = 'fire-flame-yellow.png'\n",
    "            \n",
    "            \n",
    "        pushpin = fm.features.CustomIcon(customicon, icon_size=(30,30))\n",
    "        feature_group.add_child(\n",
    "            fm.Marker(\n",
    "                [row.latitude, row.longitude],\n",
    "                icon=pushpin,\n",
    "                popup=popup\n",
    "            )\n",
    "        )\n",
    "\n",
    "    map.add_child(yellow_p1)\n",
    "    map.add_child(orange_p1)\n",
    "    map.add_child(red_p1)\n",
    "\n",
    "    template = \"\"\"\n",
    "    {% macro html(this, kwargs) %}\n",
    "\n",
    "    <!doctype html>\n",
    "    <html lang=\"en\">\n",
    "    <head>\n",
    "      <meta charset=\"utf-8\">\n",
    "      <meta name=\"viewport\" content=\"width=device-width, initial-scale=1\">\n",
    "      <title>jQuery UI Draggable - Default functionality</title>\n",
    "      <link rel=\"stylesheet\" href=\"//code.jquery.com/ui/1.12.1/themes/base/jquery-ui.css\">\n",
    "\n",
    "      <script src=\"https://code.jquery.com/jquery-1.12.4.js\"></script>\n",
    "      <script src=\"https://code.jquery.com/ui/1.12.1/jquery-ui.js\"></script>\n",
    "\n",
    "      <script>\n",
    "      $( function() {\n",
    "        $( \"#maplegend\" ).draggable({\n",
    "                        start: function (event, ui) {\n",
    "                            $(this).css({\n",
    "                                right: \"auto\",\n",
    "                                top: \"auto\",\n",
    "                                bottom: \"auto\"\n",
    "                            });\n",
    "                        }\n",
    "                    });\n",
    "    });\n",
    "\n",
    "      </script>\n",
    "    </head>\n",
    "    <body>\n",
    "\n",
    "\n",
    "    <div id='maplegend' class='maplegend' \n",
    "        style='position: absolute; z-index:9999; border:2px solid grey; background-color:rgba(255, 255, 255, 0.8);\n",
    "         border-radius:6px; padding: 10px; font-size:14px; right: 20px; bottom: 20px;'>\n",
    "\n",
    "    <div class='legend-title'>Legend Confidence</div>\n",
    "    <div class='legend-scale'>\n",
    "      <ul class='legend-labels'>\n",
    "        <li><span style='background:yellow;opacity:0.7;'></span>50 to 60</li>\n",
    "        <li><span style='background:orange;opacity:0.7;'></span>60 to 80</li>\n",
    "        <li><span style='background:red;opacity:0.7;'></span>80 to 100</li>\n",
    "\n",
    "      </ul>\n",
    "    </div>\n",
    "    </div>\n",
    "\n",
    "    </body>\n",
    "    </html>\n",
    "\n",
    "    <style type='text/css'>\n",
    "      .maplegend .legend-title {\n",
    "        text-align: left;\n",
    "        margin-bottom: 5px;\n",
    "        font-weight: bold;\n",
    "        font-size: 90%;\n",
    "        }\n",
    "      .maplegend .legend-scale ul {\n",
    "        margin: 0;\n",
    "        margin-bottom: 5px;\n",
    "        padding: 0;\n",
    "        float: left;\n",
    "        list-style: none;\n",
    "        }\n",
    "      .maplegend .legend-scale ul li {\n",
    "        font-size: 80%;\n",
    "        list-style: none;\n",
    "        margin-left: 0;\n",
    "        line-height: 18px;\n",
    "        margin-bottom: 2px;\n",
    "        }\n",
    "      .maplegend ul.legend-labels li span {\n",
    "        display: block;\n",
    "        float: left;\n",
    "        height: 16px;\n",
    "        width: 30px;\n",
    "        margin-right: 5px;\n",
    "        margin-left: 0;\n",
    "        border: 1px solid #999;\n",
    "        }\n",
    "      .maplegend .legend-source {\n",
    "        font-size: 80%;\n",
    "        color: #777;\n",
    "        clear: both;\n",
    "        }\n",
    "      .maplegend a {\n",
    "        color: #777;\n",
    "        }\n",
    "    </style>\n",
    "    {% endmacro %}\"\"\"\n",
    "\n",
    "    macro = MacroElement()\n",
    "    macro._template = Template(template)\n",
    "\n",
    "    map.add_child(macro)\n",
    "    \n",
    "#add_aqi_circles(map, df_aqi)\n",
    "#pn.panel(map, height=400)"
   ]
  },
  {
   "cell_type": "code",
   "execution_count": 432,
   "id": "04f4e6bf",
   "metadata": {},
   "outputs": [],
   "source": [
    "def add_aqi_predict_circles(map, df_aqi):\n",
    "    orange_p1  = fm.map.FeatureGroup()\n",
    "    red_p1 = fm.map.FeatureGroup()\n",
    "    yellow_p1 = fm.map.FeatureGroup()\n",
    "    week = \"\"\n",
    "\n",
    "    for _, row in df_aqi.iterrows():\n",
    "        #if (row.weekname != \"1\"):\n",
    "            #week = row.weekname\n",
    "        #if (row.weekname == \"1\"):\n",
    "            #week = row.week\n",
    "    \n",
    "        html=f\"\"\"\n",
    "            <h4> {row.REGIONNAME}</h4>\n",
    "            <p>Mandal {row.HRname}</p>\n",
    "            <ul>\n",
    "                <li>Month {row.month}</li>\n",
    "                <li>Lat {row.latitude}</li>\n",
    "                <li>Long {row.longitude}</li>\n",
    "                <li>Confidence {row.confidence}</li>\n",
    "            </ul>\n",
    "            </p>\n",
    "            \"\"\"\n",
    "        iframe = fm.IFrame(html=html, width=200, height=200)\n",
    "        popup = fm.Popup(iframe, max_width=2650)\n",
    "        \n",
    "        if (row.confidence >= 50) and (row.confidence < 60):\n",
    "            feature_group = yellow_p1\n",
    "            customicon = 'fire-flame-yellow.png'\n",
    "        elif (row.confidence >= 60) and (row.confidence < 80):\n",
    "            feature_group = orange_p1\n",
    "            customicon = 'fire-flame-orange.png'\n",
    "        elif (row.confidence >= 80) and (row.confidence <= 100):\n",
    "            feature_group = red_p1\n",
    "            customicon = 'fire-flame-red.png'\n",
    "        else:\n",
    "            feature_group = yellow_p1\n",
    "            customicon = 'fire-flame-yellow.png'\n",
    "    \n",
    "        pushpin = fm.features.CustomIcon(customicon, icon_size=(30,30))\n",
    "        feature_group.add_child(\n",
    "            fm.Marker(\n",
    "                [row.latitude, row.longitude],\n",
    "                icon=pushpin,\n",
    "                popup=popup\n",
    "            )\n",
    "        )\n",
    "\n",
    "    map.add_child(orange_p1)\n",
    "    map.add_child(red_p1)\n",
    "    map.add_child(yellow_p1)\n",
    "    \n",
    "    template = \"\"\"\n",
    "    {% macro html(this, kwargs) %}\n",
    "\n",
    "    <!doctype html>\n",
    "    <html lang=\"en\">\n",
    "    <head>\n",
    "      <meta charset=\"utf-8\">\n",
    "      <meta name=\"viewport\" content=\"width=device-width, initial-scale=1\">\n",
    "      <title>jQuery UI Draggable - Default functionality</title>\n",
    "      <link rel=\"stylesheet\" href=\"//code.jquery.com/ui/1.12.1/themes/base/jquery-ui.css\">\n",
    "\n",
    "      <script src=\"https://code.jquery.com/jquery-1.12.4.js\"></script>\n",
    "      <script src=\"https://code.jquery.com/ui/1.12.1/jquery-ui.js\"></script>\n",
    "\n",
    "      <script>\n",
    "      $( function() {\n",
    "        $( \"#maplegend\" ).draggable({\n",
    "                        start: function (event, ui) {\n",
    "                            $(this).css({\n",
    "                                right: \"auto\",\n",
    "                                top: \"auto\",\n",
    "                                bottom: \"auto\"\n",
    "                            });\n",
    "                        }\n",
    "                    });\n",
    "    });\n",
    "\n",
    "      </script>\n",
    "    </head>\n",
    "    <body>\n",
    "\n",
    "\n",
    "    <div id='maplegend' class='maplegend' \n",
    "        style='position: absolute; z-index:9999; border:2px solid grey; background-color:rgba(255, 255, 255, 0.8);\n",
    "         border-radius:6px; padding: 10px; font-size:14px; right: 20px; bottom: 20px;'>\n",
    "\n",
    "    <div class='legend-title'>Legend Confidence</div>\n",
    "    <div class='legend-scale'>\n",
    "      <ul class='legend-labels'>\n",
    "        <li><span style='background:yellow;opacity:0.7;'></span>50 to 60</li>\n",
    "        <li><span style='background:orange;opacity:0.7;'></span>60 to 80</li>\n",
    "        <li><span style='background:red;opacity:0.7;'></span>80 to 100</li>\n",
    "\n",
    "      </ul>\n",
    "    </div>\n",
    "    </div>\n",
    "\n",
    "    </body>\n",
    "    </html>\n",
    "\n",
    "    <style type='text/css'>\n",
    "      .maplegend .legend-title {\n",
    "        text-align: left;\n",
    "        margin-bottom: 5px;\n",
    "        font-weight: bold;\n",
    "        font-size: 90%;\n",
    "        }\n",
    "      .maplegend .legend-scale ul {\n",
    "        margin: 0;\n",
    "        margin-bottom: 5px;\n",
    "        padding: 0;\n",
    "        float: left;\n",
    "        list-style: none;\n",
    "        }\n",
    "      .maplegend .legend-scale ul li {\n",
    "        font-size: 80%;\n",
    "        list-style: none;\n",
    "        margin-left: 0;\n",
    "        line-height: 18px;\n",
    "        margin-bottom: 2px;\n",
    "        }\n",
    "      .maplegend ul.legend-labels li span {\n",
    "        display: block;\n",
    "        float: left;\n",
    "        height: 16px;\n",
    "        width: 30px;\n",
    "        margin-right: 5px;\n",
    "        margin-left: 0;\n",
    "        border: 1px solid #999;\n",
    "        }\n",
    "      .maplegend .legend-source {\n",
    "        font-size: 80%;\n",
    "        color: #777;\n",
    "        clear: both;\n",
    "        }\n",
    "      .maplegend a {\n",
    "        color: #777;\n",
    "        }\n",
    "    </style>\n",
    "    {% endmacro %}\"\"\"\n",
    "\n",
    "    macro = MacroElement()\n",
    "    macro._template = Template(template)\n",
    "\n",
    "    map.add_child(macro)\n",
    "    \n",
    "#add_aqi_predict_circles(map, df_aqii)\n",
    "#pn.panel(map, height=400)"
   ]
  },
  {
   "cell_type": "markdown",
   "id": "a7aebb41",
   "metadata": {},
   "source": [
    "## (6) Create Map Active Fire "
   ]
  },
  {
   "cell_type": "code",
   "execution_count": 433,
   "id": "233b4933",
   "metadata": {},
   "outputs": [],
   "source": [
    "class PanelFoliumMap(param.Parameterized):\n",
    "    Confidence = param.Integer(55, bounds=(50,100))\n",
    "        \n",
    "    def __init__(self, **params):\n",
    "        super().__init__(**params)\n",
    "        self.map = get_map()\n",
    "        self.folium_pane = pn.pane.plot.Folium(sizing_mode=\"stretch_both\", min_height=500, margin=0)    \n",
    "        self.view = pn.Column(\n",
    "            self.param.Confidence,\n",
    "            self.folium_pane,\n",
    "            sizing_mode=\"stretch_both\", height=500\n",
    "        )\n",
    "        self._update_map()\n",
    "\n",
    "    @param.depends(\"Confidence\", watch=True)\n",
    "    def _update_map(self):\n",
    "        self.map = get_map()\n",
    "        df_aqi = get_df_aqi(confidence=self.Confidence)\n",
    "        add_aqi_circles(self.map, df_aqi)\n",
    "        self.folium_pane.object = self.map\n",
    "\n",
    "        \n",
    "#app = PanelFoliumMap()\n",
    "#app.view"
   ]
  },
  {
   "cell_type": "markdown",
   "id": "a82a3ac3",
   "metadata": {},
   "source": [
    "## (7) Bar chart with Forecast data"
   ]
  },
  {
   "cell_type": "code",
   "execution_count": 434,
   "id": "348ea95d",
   "metadata": {},
   "outputs": [],
   "source": [
    "#dfp"
   ]
  },
  {
   "cell_type": "code",
   "execution_count": 435,
   "id": "2cb38474",
   "metadata": {
    "tags": []
   },
   "outputs": [],
   "source": [
    "# Make DataFrame Pipeline Interactive\n",
    "idfp = get_dfp_aqi().interactive()"
   ]
  },
  {
   "cell_type": "code",
   "execution_count": 436,
   "id": "d28382de",
   "metadata": {},
   "outputs": [],
   "source": [
    "#dfp"
   ]
  },
  {
   "cell_type": "code",
   "execution_count": 437,
   "id": "893bca4a",
   "metadata": {},
   "outputs": [],
   "source": [
    "#dfm = dfm[dfm['REGIONNAME'].str.contains('Oromia') | dfm['REGIONNAME'].str.contains('Tigray')]"
   ]
  },
  {
   "cell_type": "code",
   "execution_count": 438,
   "id": "4dd3c59e",
   "metadata": {},
   "outputs": [],
   "source": [
    "# Radio buttons for District Name\n",
    "yaxis_district = pn.widgets.RadioButtonGroup(\n",
    "    name='Y axis', \n",
    "    options=['Oromia', 'Tigray',],\n",
    "    button_type='success'\n",
    ")\n",
    "month_predict_bar_pipeline = (\n",
    "    idfp[\n",
    "        (idfp.REGIONNAME == yaxis_district)       \n",
    "    ]\n",
    "    .groupby(['month']).size()\n",
    "    .to_frame()\n",
    "    .reset_index()\n",
    "    .reset_index(drop=True)\n",
    ")"
   ]
  },
  {
   "cell_type": "code",
   "execution_count": 439,
   "id": "9cca8371",
   "metadata": {
    "scrolled": false
   },
   "outputs": [],
   "source": [
    "#month_predict_bar_pipeline"
   ]
  },
  {
   "cell_type": "code",
   "execution_count": 440,
   "id": "714e9319",
   "metadata": {},
   "outputs": [],
   "source": [
    "month_predict_bar_pipeline.columns = ['month', 'REGIONNAME', 'fire_count']"
   ]
  },
  {
   "cell_type": "code",
   "execution_count": 441,
   "id": "bdb8d555",
   "metadata": {},
   "outputs": [],
   "source": [
    "#month_predict_bar_pipeline"
   ]
  },
  {
   "cell_type": "code",
   "execution_count": 442,
   "id": "a48bb629",
   "metadata": {},
   "outputs": [],
   "source": [
    "month_predict_bar_plot = month_predict_bar_pipeline.hvplot(kind='bar', \n",
    "                                                     x='month', \n",
    "                                                     y='0', \n",
    "                                                     title='Monthly fire count forecast')\n",
    "#month_predict_bar_plot"
   ]
  },
  {
   "cell_type": "markdown",
   "id": "60dbcde2",
   "metadata": {},
   "source": [
    "## (8) Month vs Confidence scatterplot"
   ]
  },
  {
   "cell_type": "code",
   "execution_count": 443,
   "id": "95365eb7",
   "metadata": {},
   "outputs": [],
   "source": [
    "month_vs_conf_scatterplot_pipeline = (\n",
    "    idfp\n",
    "    .groupby(['latitude', 'longitude', 'month', 'REGIONNAME'])['confidence'].mean()\n",
    "    .to_frame()\n",
    "    .reset_index()\n",
    "    .reset_index(drop=True)\n",
    ")"
   ]
  },
  {
   "cell_type": "code",
   "execution_count": 444,
   "id": "7d55c804",
   "metadata": {},
   "outputs": [],
   "source": [
    "month_vs_conf_scatterplot = month_vs_conf_scatterplot_pipeline.hvplot(x='month', \n",
    "                                                                y='confidence', \n",
    "                                                                by='REGIONNAME', \n",
    "                                                                size=80, kind=\"scatter\", \n",
    "                                                                alpha=0.7,\n",
    "                                                                legend=False, \n",
    "                                                                height=500, \n",
    "                                                                width=500)\n",
    "#month_vs_conf_scatterplot"
   ]
  },
  {
   "cell_type": "markdown",
   "id": "21ede071",
   "metadata": {},
   "source": [
    "## (9) Table - Firedata Forecast "
   ]
  },
  {
   "cell_type": "code",
   "execution_count": 445,
   "id": "bcfbc6bc",
   "metadata": {},
   "outputs": [],
   "source": [
    "month_predict_pipeline = (\n",
    "    idfp[\n",
    "        (idfp.month == month_slider)\n",
    "    ].groupby(['latitude', 'longitude', 'month', 'REGIONNAME'])['confidence'].mean()\n",
    "    .reset_index()\n",
    "    .reset_index(drop=True)\n",
    ")"
   ]
  },
  {
   "cell_type": "code",
   "execution_count": 446,
   "id": "3a7b264d",
   "metadata": {},
   "outputs": [],
   "source": [
    "#month_predict_pipeline"
   ]
  },
  {
   "cell_type": "code",
   "execution_count": 447,
   "id": "91a9d5cc",
   "metadata": {
    "tags": []
   },
   "outputs": [],
   "source": [
    "predict_table = month_predict_pipeline.pipe(pn.widgets.Tabulator, pagination='remote', page_size = 20, sizing_mode='stretch_width') \n",
    "#predict_table"
   ]
  },
  {
   "cell_type": "markdown",
   "id": "e0086749",
   "metadata": {},
   "source": [
    "## (10) Create Map Forecast "
   ]
  },
  {
   "cell_type": "code",
   "execution_count": 448,
   "id": "6e0f21fd",
   "metadata": {},
   "outputs": [],
   "source": [
    "class PanelFoliumMapForecast(param.Parameterized):\n",
    "    Confidence = param.Integer(90, bounds=(50,100))\n",
    "        \n",
    "    def __init__(self, **params):\n",
    "        super().__init__(**params)\n",
    "        self.map = get_map()\n",
    "        self.folium_pane = pn.pane.plot.Folium(sizing_mode=\"stretch_both\", min_height=500, margin=0)    \n",
    "        self.view = pn.Column(\n",
    "            self.param.Confidence,\n",
    "            self.folium_pane,\n",
    "            sizing_mode=\"stretch_both\", height=500\n",
    "        )\n",
    "        self._update_map()\n",
    "\n",
    "    @param.depends(\"Confidence\", watch=True)\n",
    "    def _update_map(self):\n",
    "        self.map = get_map()\n",
    "        df_aqi = get_dfp_aqi(confidence=self.Confidence)\n",
    "        add_aqi_predict_circles(self.map, df_aqi)\n",
    "        self.folium_pane.object = self.map\n",
    "\n",
    "        \n",
    "#app = PanelFoliumMapForecast()\n",
    "#app.view"
   ]
  },
  {
   "cell_type": "code",
   "execution_count": 449,
   "id": "94cf1387",
   "metadata": {},
   "outputs": [
    {
     "data": {},
     "metadata": {},
     "output_type": "display_data"
    },
    {
     "data": {
      "application/vnd.holoviews_exec.v0+json": "",
      "text/html": [
       "<div id='1885'>\n",
       "  <div class=\"bk-root\" id=\"dedb6260-b623-4238-8bd5-1ed4683426d7\" data-root-id=\"1885\"></div>\n",
       "</div>\n",
       "<script type=\"application/javascript\">(function(root) {\n",
       "  function embed_document(root) {\n",
       "    var docs_json = {\"2921235c-f596-4482-bc95-750afa5f1d62\":{\"defs\":[{\"extends\":null,\"module\":null,\"name\":\"ReactiveHTML1\",\"overrides\":[],\"properties\":[]},{\"extends\":null,\"module\":null,\"name\":\"FlexBox1\",\"overrides\":[],\"properties\":[{\"default\":\"flex-start\",\"kind\":null,\"name\":\"align_content\"},{\"default\":\"flex-start\",\"kind\":null,\"name\":\"align_items\"},{\"default\":\"row\",\"kind\":null,\"name\":\"flex_direction\"},{\"default\":\"wrap\",\"kind\":null,\"name\":\"flex_wrap\"},{\"default\":\"flex-start\",\"kind\":null,\"name\":\"justify_content\"}]},{\"extends\":null,\"module\":null,\"name\":\"GridStack1\",\"overrides\":[],\"properties\":[{\"default\":\"warn\",\"kind\":null,\"name\":\"mode\"},{\"default\":null,\"kind\":null,\"name\":\"ncols\"},{\"default\":null,\"kind\":null,\"name\":\"nrows\"},{\"default\":true,\"kind\":null,\"name\":\"allow_resize\"},{\"default\":true,\"kind\":null,\"name\":\"allow_drag\"},{\"default\":[],\"kind\":null,\"name\":\"state\"}]},{\"extends\":null,\"module\":null,\"name\":\"click1\",\"overrides\":[],\"properties\":[{\"default\":\"\",\"kind\":null,\"name\":\"terminal_output\"},{\"default\":\"\",\"kind\":null,\"name\":\"debug_name\"},{\"default\":0,\"kind\":null,\"name\":\"clears\"}]},{\"extends\":null,\"module\":null,\"name\":\"NotificationAreaBase1\",\"overrides\":[],\"properties\":[{\"default\":\"bottom-right\",\"kind\":null,\"name\":\"position\"},{\"default\":0,\"kind\":null,\"name\":\"_clear\"}]},{\"extends\":null,\"module\":null,\"name\":\"NotificationArea1\",\"overrides\":[],\"properties\":[{\"default\":[],\"kind\":null,\"name\":\"notifications\"},{\"default\":\"bottom-right\",\"kind\":null,\"name\":\"position\"},{\"default\":0,\"kind\":null,\"name\":\"_clear\"},{\"default\":[{\"background\":\"#ffc107\",\"icon\":{\"className\":\"fas fa-exclamation-triangle\",\"color\":\"white\",\"tagName\":\"i\"},\"type\":\"warning\"},{\"background\":\"#007bff\",\"icon\":{\"className\":\"fas fa-info-circle\",\"color\":\"white\",\"tagName\":\"i\"},\"type\":\"info\"}],\"kind\":null,\"name\":\"types\"}]},{\"extends\":null,\"module\":null,\"name\":\"Notification\",\"overrides\":[],\"properties\":[{\"default\":null,\"kind\":null,\"name\":\"background\"},{\"default\":3000,\"kind\":null,\"name\":\"duration\"},{\"default\":null,\"kind\":null,\"name\":\"icon\"},{\"default\":\"\",\"kind\":null,\"name\":\"message\"},{\"default\":null,\"kind\":null,\"name\":\"notification_type\"},{\"default\":false,\"kind\":null,\"name\":\"_destroyed\"}]},{\"extends\":null,\"module\":null,\"name\":\"TemplateActions1\",\"overrides\":[],\"properties\":[{\"default\":0,\"kind\":null,\"name\":\"open_modal\"},{\"default\":0,\"kind\":null,\"name\":\"close_modal\"}]},{\"extends\":null,\"module\":null,\"name\":\"MaterialTemplateActions1\",\"overrides\":[],\"properties\":[{\"default\":0,\"kind\":null,\"name\":\"open_modal\"},{\"default\":0,\"kind\":null,\"name\":\"close_modal\"}]}],\"roots\":{\"references\":[{\"attributes\":{\"client_comm_id\":\"e87e3505ea1f424ba89ba9b93af6f9fc\",\"comm_id\":\"80fb2b70ce7a465d8d04ad795d579b02\",\"plot_id\":\"1885\"},\"id\":\"1886\",\"type\":\"panel.models.comm_manager.CommManager\"},{\"attributes\":{\"active\":[0],\"labels\":[\"MODIS\"],\"margin\":[5,10,5,10],\"sizing_mode\":\"stretch_width\"},\"id\":\"1885\",\"type\":\"CheckboxGroup\"}],\"root_ids\":[\"1885\",\"1886\"]},\"title\":\"Bokeh Application\",\"version\":\"2.4.3\"}};\n",
       "    var render_items = [{\"docid\":\"2921235c-f596-4482-bc95-750afa5f1d62\",\"root_ids\":[\"1885\"],\"roots\":{\"1885\":\"dedb6260-b623-4238-8bd5-1ed4683426d7\"}}];\n",
       "    root.Bokeh.embed.embed_items_notebook(docs_json, render_items);\n",
       "    for (const render_item of render_items) {\n",
       "      for (const root_id of render_item.root_ids) {\n",
       "\tconst id_el = document.getElementById(root_id)\n",
       "\tif (id_el.children.length && (id_el.children[0].className === 'bk-root')) {\n",
       "\t  const root_el = id_el.children[0]\n",
       "\t  root_el.id = root_el.id + '-rendered'\n",
       "\t}\n",
       "      }\n",
       "    }\n",
       "  }\n",
       "  if (root.Bokeh !== undefined && root.Bokeh.Panel !== undefined && ( root['Tabulator'] !== undefined) && ( root['Tabulator'] !== undefined) && ( root['Tabulator'] !== undefined) && ( root['Tabulator'] !== undefined) && ( root['Tabulator'] !== undefined) && ( root['Tabulator'] !== undefined) && ( root['Tabulator'] !== undefined) && ( root['Tabulator'] !== undefined)) {\n",
       "    embed_document(root);\n",
       "  } else {\n",
       "    var attempts = 0;\n",
       "    var timer = setInterval(function(root) {\n",
       "      if (root.Bokeh !== undefined && root.Bokeh.Panel !== undefined && (root['Tabulator'] !== undefined) && (root['Tabulator'] !== undefined) && (root['Tabulator'] !== undefined) && (root['Tabulator'] !== undefined) && (root['Tabulator'] !== undefined) && (root['Tabulator'] !== undefined) && (root['Tabulator'] !== undefined) && (root['Tabulator'] !== undefined)) {\n",
       "        clearInterval(timer);\n",
       "        embed_document(root);\n",
       "      } else if (document.readyState == \"complete\") {\n",
       "        attempts++;\n",
       "        if (attempts > 200) {\n",
       "          clearInterval(timer);\n",
       "          console.log(\"Bokeh: ERROR: Unable to run BokehJS code because BokehJS library is missing\");\n",
       "        }\n",
       "      }\n",
       "    }, 25, root)\n",
       "  }\n",
       "})(window);</script>"
      ],
      "text/plain": [
       "Checkbox(name='MODIS', sizing_mode='stretch_width', value=True)"
      ]
     },
     "execution_count": 449,
     "metadata": {
      "application/vnd.holoviews_exec.v0+json": {
       "id": "1885"
      }
     },
     "output_type": "execute_result"
    }
   ],
   "source": [
    "checkbox = pn.widgets.Checkbox(name='MODIS', value= True, disabled = False )\n",
    "checkbox"
   ]
  },
  {
   "cell_type": "code",
   "execution_count": 450,
   "id": "939f2151",
   "metadata": {},
   "outputs": [
    {
     "data": {},
     "metadata": {},
     "output_type": "display_data"
    },
    {
     "data": {
      "application/vnd.holoviews_exec.v0+json": "",
      "text/html": [
       "<div id='1887'>\n",
       "  <div class=\"bk-root\" id=\"3b1d0dbd-e461-4e20-81d5-8e3bb82c6a4e\" data-root-id=\"1887\"></div>\n",
       "</div>\n",
       "<script type=\"application/javascript\">(function(root) {\n",
       "  function embed_document(root) {\n",
       "    var docs_json = {\"488ade01-4882-4114-a409-ab7bf8ebb442\":{\"defs\":[{\"extends\":null,\"module\":null,\"name\":\"ReactiveHTML1\",\"overrides\":[],\"properties\":[]},{\"extends\":null,\"module\":null,\"name\":\"FlexBox1\",\"overrides\":[],\"properties\":[{\"default\":\"flex-start\",\"kind\":null,\"name\":\"align_content\"},{\"default\":\"flex-start\",\"kind\":null,\"name\":\"align_items\"},{\"default\":\"row\",\"kind\":null,\"name\":\"flex_direction\"},{\"default\":\"wrap\",\"kind\":null,\"name\":\"flex_wrap\"},{\"default\":\"flex-start\",\"kind\":null,\"name\":\"justify_content\"}]},{\"extends\":null,\"module\":null,\"name\":\"GridStack1\",\"overrides\":[],\"properties\":[{\"default\":\"warn\",\"kind\":null,\"name\":\"mode\"},{\"default\":null,\"kind\":null,\"name\":\"ncols\"},{\"default\":null,\"kind\":null,\"name\":\"nrows\"},{\"default\":true,\"kind\":null,\"name\":\"allow_resize\"},{\"default\":true,\"kind\":null,\"name\":\"allow_drag\"},{\"default\":[],\"kind\":null,\"name\":\"state\"}]},{\"extends\":null,\"module\":null,\"name\":\"click1\",\"overrides\":[],\"properties\":[{\"default\":\"\",\"kind\":null,\"name\":\"terminal_output\"},{\"default\":\"\",\"kind\":null,\"name\":\"debug_name\"},{\"default\":0,\"kind\":null,\"name\":\"clears\"}]},{\"extends\":null,\"module\":null,\"name\":\"NotificationAreaBase1\",\"overrides\":[],\"properties\":[{\"default\":\"bottom-right\",\"kind\":null,\"name\":\"position\"},{\"default\":0,\"kind\":null,\"name\":\"_clear\"}]},{\"extends\":null,\"module\":null,\"name\":\"NotificationArea1\",\"overrides\":[],\"properties\":[{\"default\":[],\"kind\":null,\"name\":\"notifications\"},{\"default\":\"bottom-right\",\"kind\":null,\"name\":\"position\"},{\"default\":0,\"kind\":null,\"name\":\"_clear\"},{\"default\":[{\"background\":\"#ffc107\",\"icon\":{\"className\":\"fas fa-exclamation-triangle\",\"color\":\"white\",\"tagName\":\"i\"},\"type\":\"warning\"},{\"background\":\"#007bff\",\"icon\":{\"className\":\"fas fa-info-circle\",\"color\":\"white\",\"tagName\":\"i\"},\"type\":\"info\"}],\"kind\":null,\"name\":\"types\"}]},{\"extends\":null,\"module\":null,\"name\":\"Notification\",\"overrides\":[],\"properties\":[{\"default\":null,\"kind\":null,\"name\":\"background\"},{\"default\":3000,\"kind\":null,\"name\":\"duration\"},{\"default\":null,\"kind\":null,\"name\":\"icon\"},{\"default\":\"\",\"kind\":null,\"name\":\"message\"},{\"default\":null,\"kind\":null,\"name\":\"notification_type\"},{\"default\":false,\"kind\":null,\"name\":\"_destroyed\"}]},{\"extends\":null,\"module\":null,\"name\":\"TemplateActions1\",\"overrides\":[],\"properties\":[{\"default\":0,\"kind\":null,\"name\":\"open_modal\"},{\"default\":0,\"kind\":null,\"name\":\"close_modal\"}]},{\"extends\":null,\"module\":null,\"name\":\"MaterialTemplateActions1\",\"overrides\":[],\"properties\":[{\"default\":0,\"kind\":null,\"name\":\"open_modal\"},{\"default\":0,\"kind\":null,\"name\":\"close_modal\"}]}],\"roots\":{\"references\":[{\"attributes\":{\"active\":[0],\"labels\":[\"VIIRS\"],\"margin\":[5,10,5,10],\"sizing_mode\":\"stretch_width\"},\"id\":\"1887\",\"type\":\"CheckboxGroup\"},{\"attributes\":{\"client_comm_id\":\"db507b80088846e6a7bd529b4fa0c4ea\",\"comm_id\":\"140ba0e541c143f689b6c35f9bd72a5e\",\"plot_id\":\"1887\"},\"id\":\"1888\",\"type\":\"panel.models.comm_manager.CommManager\"}],\"root_ids\":[\"1887\",\"1888\"]},\"title\":\"Bokeh Application\",\"version\":\"2.4.3\"}};\n",
       "    var render_items = [{\"docid\":\"488ade01-4882-4114-a409-ab7bf8ebb442\",\"root_ids\":[\"1887\"],\"roots\":{\"1887\":\"3b1d0dbd-e461-4e20-81d5-8e3bb82c6a4e\"}}];\n",
       "    root.Bokeh.embed.embed_items_notebook(docs_json, render_items);\n",
       "    for (const render_item of render_items) {\n",
       "      for (const root_id of render_item.root_ids) {\n",
       "\tconst id_el = document.getElementById(root_id)\n",
       "\tif (id_el.children.length && (id_el.children[0].className === 'bk-root')) {\n",
       "\t  const root_el = id_el.children[0]\n",
       "\t  root_el.id = root_el.id + '-rendered'\n",
       "\t}\n",
       "      }\n",
       "    }\n",
       "  }\n",
       "  if (root.Bokeh !== undefined && root.Bokeh.Panel !== undefined && ( root['Tabulator'] !== undefined) && ( root['Tabulator'] !== undefined) && ( root['Tabulator'] !== undefined) && ( root['Tabulator'] !== undefined) && ( root['Tabulator'] !== undefined) && ( root['Tabulator'] !== undefined) && ( root['Tabulator'] !== undefined) && ( root['Tabulator'] !== undefined)) {\n",
       "    embed_document(root);\n",
       "  } else {\n",
       "    var attempts = 0;\n",
       "    var timer = setInterval(function(root) {\n",
       "      if (root.Bokeh !== undefined && root.Bokeh.Panel !== undefined && (root['Tabulator'] !== undefined) && (root['Tabulator'] !== undefined) && (root['Tabulator'] !== undefined) && (root['Tabulator'] !== undefined) && (root['Tabulator'] !== undefined) && (root['Tabulator'] !== undefined) && (root['Tabulator'] !== undefined) && (root['Tabulator'] !== undefined)) {\n",
       "        clearInterval(timer);\n",
       "        embed_document(root);\n",
       "      } else if (document.readyState == \"complete\") {\n",
       "        attempts++;\n",
       "        if (attempts > 200) {\n",
       "          clearInterval(timer);\n",
       "          console.log(\"Bokeh: ERROR: Unable to run BokehJS code because BokehJS library is missing\");\n",
       "        }\n",
       "      }\n",
       "    }, 25, root)\n",
       "  }\n",
       "})(window);</script>"
      ],
      "text/plain": [
       "Checkbox(name='VIIRS', sizing_mode='stretch_width', value=True)"
      ]
     },
     "execution_count": 450,
     "metadata": {
      "application/vnd.holoviews_exec.v0+json": {
       "id": "1887"
      }
     },
     "output_type": "execute_result"
    }
   ],
   "source": [
    "checkbox2 = pn.widgets.Checkbox(name='VIIRS', value= True, disabled = False )\n",
    "checkbox2"
   ]
  },
  {
   "cell_type": "code",
   "execution_count": 451,
   "id": "dade9cb8",
   "metadata": {},
   "outputs": [
    {
     "data": {},
     "metadata": {},
     "output_type": "display_data"
    },
    {
     "data": {
      "application/vnd.holoviews_exec.v0+json": "",
      "text/html": [
       "<div id='1889'>\n",
       "  <div class=\"bk-root\" id=\"26323d64-9bdb-40e5-94e8-f567603b7dcc\" data-root-id=\"1889\"></div>\n",
       "</div>\n",
       "<script type=\"application/javascript\">(function(root) {\n",
       "  function embed_document(root) {\n",
       "    var docs_json = {\"ae9eb057-4ca6-4634-9c42-c4bcd0143915\":{\"defs\":[{\"extends\":null,\"module\":null,\"name\":\"ReactiveHTML1\",\"overrides\":[],\"properties\":[]},{\"extends\":null,\"module\":null,\"name\":\"FlexBox1\",\"overrides\":[],\"properties\":[{\"default\":\"flex-start\",\"kind\":null,\"name\":\"align_content\"},{\"default\":\"flex-start\",\"kind\":null,\"name\":\"align_items\"},{\"default\":\"row\",\"kind\":null,\"name\":\"flex_direction\"},{\"default\":\"wrap\",\"kind\":null,\"name\":\"flex_wrap\"},{\"default\":\"flex-start\",\"kind\":null,\"name\":\"justify_content\"}]},{\"extends\":null,\"module\":null,\"name\":\"GridStack1\",\"overrides\":[],\"properties\":[{\"default\":\"warn\",\"kind\":null,\"name\":\"mode\"},{\"default\":null,\"kind\":null,\"name\":\"ncols\"},{\"default\":null,\"kind\":null,\"name\":\"nrows\"},{\"default\":true,\"kind\":null,\"name\":\"allow_resize\"},{\"default\":true,\"kind\":null,\"name\":\"allow_drag\"},{\"default\":[],\"kind\":null,\"name\":\"state\"}]},{\"extends\":null,\"module\":null,\"name\":\"click1\",\"overrides\":[],\"properties\":[{\"default\":\"\",\"kind\":null,\"name\":\"terminal_output\"},{\"default\":\"\",\"kind\":null,\"name\":\"debug_name\"},{\"default\":0,\"kind\":null,\"name\":\"clears\"}]},{\"extends\":null,\"module\":null,\"name\":\"NotificationAreaBase1\",\"overrides\":[],\"properties\":[{\"default\":\"bottom-right\",\"kind\":null,\"name\":\"position\"},{\"default\":0,\"kind\":null,\"name\":\"_clear\"}]},{\"extends\":null,\"module\":null,\"name\":\"NotificationArea1\",\"overrides\":[],\"properties\":[{\"default\":[],\"kind\":null,\"name\":\"notifications\"},{\"default\":\"bottom-right\",\"kind\":null,\"name\":\"position\"},{\"default\":0,\"kind\":null,\"name\":\"_clear\"},{\"default\":[{\"background\":\"#ffc107\",\"icon\":{\"className\":\"fas fa-exclamation-triangle\",\"color\":\"white\",\"tagName\":\"i\"},\"type\":\"warning\"},{\"background\":\"#007bff\",\"icon\":{\"className\":\"fas fa-info-circle\",\"color\":\"white\",\"tagName\":\"i\"},\"type\":\"info\"}],\"kind\":null,\"name\":\"types\"}]},{\"extends\":null,\"module\":null,\"name\":\"Notification\",\"overrides\":[],\"properties\":[{\"default\":null,\"kind\":null,\"name\":\"background\"},{\"default\":3000,\"kind\":null,\"name\":\"duration\"},{\"default\":null,\"kind\":null,\"name\":\"icon\"},{\"default\":\"\",\"kind\":null,\"name\":\"message\"},{\"default\":null,\"kind\":null,\"name\":\"notification_type\"},{\"default\":false,\"kind\":null,\"name\":\"_destroyed\"}]},{\"extends\":null,\"module\":null,\"name\":\"TemplateActions1\",\"overrides\":[],\"properties\":[{\"default\":0,\"kind\":null,\"name\":\"open_modal\"},{\"default\":0,\"kind\":null,\"name\":\"close_modal\"}]},{\"extends\":null,\"module\":null,\"name\":\"MaterialTemplateActions1\",\"overrides\":[],\"properties\":[{\"default\":0,\"kind\":null,\"name\":\"open_modal\"},{\"default\":0,\"kind\":null,\"name\":\"close_modal\"}]}],\"roots\":{\"references\":[{\"attributes\":{\"client_comm_id\":\"edcdf7e9fb0b417c8c774fe830b567c1\",\"comm_id\":\"181e1789daba4831ae84b815c0c47d9d\",\"plot_id\":\"1889\"},\"id\":\"1890\",\"type\":\"panel.models.comm_manager.CommManager\"},{\"attributes\":{\"active\":[0,1],\"inline\":true,\"labels\":[\"Aqua\",\"Tera\"],\"margin\":[5,10,5,10],\"sizing_mode\":\"stretch_width\"},\"id\":\"1889\",\"type\":\"CheckboxGroup\"}],\"root_ids\":[\"1889\",\"1890\"]},\"title\":\"Bokeh Application\",\"version\":\"2.4.3\"}};\n",
       "    var render_items = [{\"docid\":\"ae9eb057-4ca6-4634-9c42-c4bcd0143915\",\"root_ids\":[\"1889\"],\"roots\":{\"1889\":\"26323d64-9bdb-40e5-94e8-f567603b7dcc\"}}];\n",
       "    root.Bokeh.embed.embed_items_notebook(docs_json, render_items);\n",
       "    for (const render_item of render_items) {\n",
       "      for (const root_id of render_item.root_ids) {\n",
       "\tconst id_el = document.getElementById(root_id)\n",
       "\tif (id_el.children.length && (id_el.children[0].className === 'bk-root')) {\n",
       "\t  const root_el = id_el.children[0]\n",
       "\t  root_el.id = root_el.id + '-rendered'\n",
       "\t}\n",
       "      }\n",
       "    }\n",
       "  }\n",
       "  if (root.Bokeh !== undefined && root.Bokeh.Panel !== undefined && ( root['Tabulator'] !== undefined) && ( root['Tabulator'] !== undefined) && ( root['Tabulator'] !== undefined) && ( root['Tabulator'] !== undefined) && ( root['Tabulator'] !== undefined) && ( root['Tabulator'] !== undefined) && ( root['Tabulator'] !== undefined) && ( root['Tabulator'] !== undefined)) {\n",
       "    embed_document(root);\n",
       "  } else {\n",
       "    var attempts = 0;\n",
       "    var timer = setInterval(function(root) {\n",
       "      if (root.Bokeh !== undefined && root.Bokeh.Panel !== undefined && (root['Tabulator'] !== undefined) && (root['Tabulator'] !== undefined) && (root['Tabulator'] !== undefined) && (root['Tabulator'] !== undefined) && (root['Tabulator'] !== undefined) && (root['Tabulator'] !== undefined) && (root['Tabulator'] !== undefined) && (root['Tabulator'] !== undefined)) {\n",
       "        clearInterval(timer);\n",
       "        embed_document(root);\n",
       "      } else if (document.readyState == \"complete\") {\n",
       "        attempts++;\n",
       "        if (attempts > 200) {\n",
       "          clearInterval(timer);\n",
       "          console.log(\"Bokeh: ERROR: Unable to run BokehJS code because BokehJS library is missing\");\n",
       "        }\n",
       "      }\n",
       "    }, 25, root)\n",
       "  }\n",
       "})(window);</script>"
      ],
      "text/plain": [
       "CheckBoxGroup(inline=True, name='Checkbox Group', options=['Aqua', 'Tera'], sizing_mode='stretch_width', value=['Aqua', 'Tera'])"
      ]
     },
     "execution_count": 451,
     "metadata": {
      "application/vnd.holoviews_exec.v0+json": {
       "id": "1889"
      }
     },
     "output_type": "execute_result"
    }
   ],
   "source": [
    "checkbox_group = pn.widgets.CheckBoxGroup(\n",
    "    name='Checkbox Group', value=['Aqua', 'Tera'], options=['Aqua', 'Tera'], disabled = False,\n",
    "    inline=True)\n",
    "\n",
    "checkbox_group"
   ]
  },
  {
   "cell_type": "code",
   "execution_count": 452,
   "id": "b1a99c0e",
   "metadata": {},
   "outputs": [
    {
     "data": {},
     "metadata": {},
     "output_type": "display_data"
    },
    {
     "data": {
      "application/vnd.holoviews_exec.v0+json": "",
      "text/html": [
       "<div id='1891'>\n",
       "  <div class=\"bk-root\" id=\"6cad42da-d2e7-4860-a79e-d0272cf8085d\" data-root-id=\"1891\"></div>\n",
       "</div>\n",
       "<script type=\"application/javascript\">(function(root) {\n",
       "  function embed_document(root) {\n",
       "    var docs_json = {\"67b70ce3-b219-43ed-9168-b4d222dd95cb\":{\"defs\":[{\"extends\":null,\"module\":null,\"name\":\"ReactiveHTML1\",\"overrides\":[],\"properties\":[]},{\"extends\":null,\"module\":null,\"name\":\"FlexBox1\",\"overrides\":[],\"properties\":[{\"default\":\"flex-start\",\"kind\":null,\"name\":\"align_content\"},{\"default\":\"flex-start\",\"kind\":null,\"name\":\"align_items\"},{\"default\":\"row\",\"kind\":null,\"name\":\"flex_direction\"},{\"default\":\"wrap\",\"kind\":null,\"name\":\"flex_wrap\"},{\"default\":\"flex-start\",\"kind\":null,\"name\":\"justify_content\"}]},{\"extends\":null,\"module\":null,\"name\":\"GridStack1\",\"overrides\":[],\"properties\":[{\"default\":\"warn\",\"kind\":null,\"name\":\"mode\"},{\"default\":null,\"kind\":null,\"name\":\"ncols\"},{\"default\":null,\"kind\":null,\"name\":\"nrows\"},{\"default\":true,\"kind\":null,\"name\":\"allow_resize\"},{\"default\":true,\"kind\":null,\"name\":\"allow_drag\"},{\"default\":[],\"kind\":null,\"name\":\"state\"}]},{\"extends\":null,\"module\":null,\"name\":\"click1\",\"overrides\":[],\"properties\":[{\"default\":\"\",\"kind\":null,\"name\":\"terminal_output\"},{\"default\":\"\",\"kind\":null,\"name\":\"debug_name\"},{\"default\":0,\"kind\":null,\"name\":\"clears\"}]},{\"extends\":null,\"module\":null,\"name\":\"NotificationAreaBase1\",\"overrides\":[],\"properties\":[{\"default\":\"bottom-right\",\"kind\":null,\"name\":\"position\"},{\"default\":0,\"kind\":null,\"name\":\"_clear\"}]},{\"extends\":null,\"module\":null,\"name\":\"NotificationArea1\",\"overrides\":[],\"properties\":[{\"default\":[],\"kind\":null,\"name\":\"notifications\"},{\"default\":\"bottom-right\",\"kind\":null,\"name\":\"position\"},{\"default\":0,\"kind\":null,\"name\":\"_clear\"},{\"default\":[{\"background\":\"#ffc107\",\"icon\":{\"className\":\"fas fa-exclamation-triangle\",\"color\":\"white\",\"tagName\":\"i\"},\"type\":\"warning\"},{\"background\":\"#007bff\",\"icon\":{\"className\":\"fas fa-info-circle\",\"color\":\"white\",\"tagName\":\"i\"},\"type\":\"info\"}],\"kind\":null,\"name\":\"types\"}]},{\"extends\":null,\"module\":null,\"name\":\"Notification\",\"overrides\":[],\"properties\":[{\"default\":null,\"kind\":null,\"name\":\"background\"},{\"default\":3000,\"kind\":null,\"name\":\"duration\"},{\"default\":null,\"kind\":null,\"name\":\"icon\"},{\"default\":\"\",\"kind\":null,\"name\":\"message\"},{\"default\":null,\"kind\":null,\"name\":\"notification_type\"},{\"default\":false,\"kind\":null,\"name\":\"_destroyed\"}]},{\"extends\":null,\"module\":null,\"name\":\"TemplateActions1\",\"overrides\":[],\"properties\":[{\"default\":0,\"kind\":null,\"name\":\"open_modal\"},{\"default\":0,\"kind\":null,\"name\":\"close_modal\"}]},{\"extends\":null,\"module\":null,\"name\":\"MaterialTemplateActions1\",\"overrides\":[],\"properties\":[{\"default\":0,\"kind\":null,\"name\":\"open_modal\"},{\"default\":0,\"kind\":null,\"name\":\"close_modal\"}]}],\"roots\":{\"references\":[{\"attributes\":{\"client_comm_id\":\"d101b25ba77846f29edc3e98a5bea92a\",\"comm_id\":\"11c8eb4f916943d893f3da5e0beddd75\",\"plot_id\":\"1891\"},\"id\":\"1892\",\"type\":\"panel.models.comm_manager.CommManager\"},{\"attributes\":{\"active\":[0,1],\"inline\":true,\"labels\":[\"S-NPP\",\"NOAA 20\"],\"margin\":[5,10,5,10],\"sizing_mode\":\"stretch_width\"},\"id\":\"1891\",\"type\":\"CheckboxGroup\"}],\"root_ids\":[\"1891\",\"1892\"]},\"title\":\"Bokeh Application\",\"version\":\"2.4.3\"}};\n",
       "    var render_items = [{\"docid\":\"67b70ce3-b219-43ed-9168-b4d222dd95cb\",\"root_ids\":[\"1891\"],\"roots\":{\"1891\":\"6cad42da-d2e7-4860-a79e-d0272cf8085d\"}}];\n",
       "    root.Bokeh.embed.embed_items_notebook(docs_json, render_items);\n",
       "    for (const render_item of render_items) {\n",
       "      for (const root_id of render_item.root_ids) {\n",
       "\tconst id_el = document.getElementById(root_id)\n",
       "\tif (id_el.children.length && (id_el.children[0].className === 'bk-root')) {\n",
       "\t  const root_el = id_el.children[0]\n",
       "\t  root_el.id = root_el.id + '-rendered'\n",
       "\t}\n",
       "      }\n",
       "    }\n",
       "  }\n",
       "  if (root.Bokeh !== undefined && root.Bokeh.Panel !== undefined && ( root['Tabulator'] !== undefined) && ( root['Tabulator'] !== undefined) && ( root['Tabulator'] !== undefined) && ( root['Tabulator'] !== undefined) && ( root['Tabulator'] !== undefined) && ( root['Tabulator'] !== undefined) && ( root['Tabulator'] !== undefined) && ( root['Tabulator'] !== undefined)) {\n",
       "    embed_document(root);\n",
       "  } else {\n",
       "    var attempts = 0;\n",
       "    var timer = setInterval(function(root) {\n",
       "      if (root.Bokeh !== undefined && root.Bokeh.Panel !== undefined && (root['Tabulator'] !== undefined) && (root['Tabulator'] !== undefined) && (root['Tabulator'] !== undefined) && (root['Tabulator'] !== undefined) && (root['Tabulator'] !== undefined) && (root['Tabulator'] !== undefined) && (root['Tabulator'] !== undefined) && (root['Tabulator'] !== undefined)) {\n",
       "        clearInterval(timer);\n",
       "        embed_document(root);\n",
       "      } else if (document.readyState == \"complete\") {\n",
       "        attempts++;\n",
       "        if (attempts > 200) {\n",
       "          clearInterval(timer);\n",
       "          console.log(\"Bokeh: ERROR: Unable to run BokehJS code because BokehJS library is missing\");\n",
       "        }\n",
       "      }\n",
       "    }, 25, root)\n",
       "  }\n",
       "})(window);</script>"
      ],
      "text/plain": [
       "CheckBoxGroup(inline=True, name='Checkbox Group', options=['S-NPP', 'NOAA 20'], sizing_mode='stretch_width', value=['S-NPP', 'NOAA 20'])"
      ]
     },
     "execution_count": 452,
     "metadata": {
      "application/vnd.holoviews_exec.v0+json": {
       "id": "1891"
      }
     },
     "output_type": "execute_result"
    }
   ],
   "source": [
    "checkbox_group2 = pn.widgets.CheckBoxGroup(\n",
    "    name='Checkbox Group', value=['S-NPP', 'NOAA 20'], options=['S-NPP', 'NOAA 20'], disabled = False,\n",
    "    inline=True)\n",
    "\n",
    "checkbox_group2"
   ]
  },
  {
   "cell_type": "code",
   "execution_count": 453,
   "id": "af99e286",
   "metadata": {},
   "outputs": [],
   "source": [
    "fig = px.bar(dfh, x='month', y='fire_count', color='year',\n",
    "       title='Wildfire Hotspot trends in Ethiopia')\n",
    "#fig"
   ]
  },
  {
   "cell_type": "code",
   "execution_count": 454,
   "id": "6896ca65",
   "metadata": {},
   "outputs": [],
   "source": [
    "#pn.pane.Alert('## Alert\\nThis is a warning!')"
   ]
  },
  {
   "cell_type": "markdown",
   "id": "ef1d523e-0409-4024-9783-2b654b8f9d53",
   "metadata": {},
   "source": [
    "## (11) Creating Dashboard"
   ]
  },
  {
   "cell_type": "code",
   "execution_count": 455,
   "id": "1c2e45bf-37c7-48e0-a2d3-a36da8843362",
   "metadata": {},
   "outputs": [],
   "source": [
    "#Layout using Template\n",
    "template = pn.template.FastListTemplate(\n",
    "    site=\"Wildfire\",\n",
    "    #logo=\"https://panel.holoviz.org/_images/logo_stacked.png\",\n",
    "    title='Ethiopia Wildfire',\n",
    "    sidebar=[pn.pane.Markdown(\"## Wildfire Prediction\"), \n",
    "             pn.pane.Markdown(\"## Wildfire Detection\"),\n",
    "             pn.pane.Markdown(\"## Wildfire Trends\"),\n",
    "             #pn.pane.Markdown(\"#### Wild fire is one of the primary reason for climate change hazard.Track wild fire realtime and forecast wildfire\"), \n",
    "             #pn.pane.PNG('fire-flame.png', sizing_mode='scale_both'),\n",
    "             pn.pane.Markdown(\"## Settings\"),\n",
    "             pn.pane.Markdown(\"#### Select Satellites & Instruments.\"),\n",
    "             pn.Row(checkbox),\n",
    "             pn.Row(checkbox_group),\n",
    "             pn.Row(checkbox2),\n",
    "             pn.Row(checkbox_group2),\n",
    "             pn.pane.Markdown(\"#### Select Month Range\"),\n",
    "             pn.Row(month_range_slider)],\n",
    "    main=[pn.pane.Alert('## Alert\\nThere is a Fire Detection Warning!', alert_type=\"danger\"),\n",
    "          pn.pane.Markdown(\"# Wildfire Prediction\"),\n",
    "          pn.Row(pn.Column(PanelFoliumMapForecast().view),\n",
    "                 pn.Column(month_slider,predict_table.panel(width=500))),\n",
    "          pn.Row(pn.Column(month_vs_conf_scatterplot.panel(width=600), margin=(0,25)), \n",
    "                 pn.Column(yaxis_district, month_predict_bar_plot.panel(width=600))),\n",
    "          pn.pane.Markdown(\"# Wildfire Detection\", align=\"center\"),\n",
    "          pn.Row(pn.Column(yaxis_duration,\n",
    "                           PanelFoliumMap().view), \n",
    "                 active_fire_table.panel(width=500)),\n",
    "          pn.pane.Markdown(\"# Wildfire Trends\", align=\"center\"),\n",
    "          pn.Row(pn.Column(fig))],\n",
    "    accent_base_color=\"#88d8b0\",\n",
    "    header_background=\"#88d8b0\",\n",
    "    main_layout=\"\",\n",
    ")\n",
    "#template.show()\n",
    "template.servable();"
   ]
  },
  {
   "cell_type": "code",
   "execution_count": null,
   "id": "67d0af42",
   "metadata": {},
   "outputs": [],
   "source": []
  }
 ],
 "metadata": {
  "kernelspec": {
   "display_name": "Python 3 (ipykernel)",
   "language": "python",
   "name": "python3"
  },
  "language_info": {
   "codemirror_mode": {
    "name": "ipython",
    "version": 3
   },
   "file_extension": ".py",
   "mimetype": "text/x-python",
   "name": "python",
   "nbconvert_exporter": "python",
   "pygments_lexer": "ipython3",
   "version": "3.10.6"
  }
 },
 "nbformat": 4,
 "nbformat_minor": 5
}
